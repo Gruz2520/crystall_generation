{
 "cells": [
  {
   "cell_type": "code",
   "execution_count": 2,
   "metadata": {},
   "outputs": [
    {
     "name": "stderr",
     "output_type": "stream",
     "text": [
      "Device set to use cpu\n"
     ]
    },
    {
     "name": "stdout",
     "output_type": "stream",
     "text": [
      "Требуется сгенерировать кристалл с высокими оптическими свойствами o 3 7 o o 5 2 Ru 13 o - H o o o o H o o o S - Ga\n",
      "Требуется сгенерировать кристалл с высокими оптическими свойствами o - 2 1 N 3 C o   o 10 H 2l 3 W 4 Ru 9 0\n",
      "Требуется сгенерировать кристалл с высокими оптическими свойствами 0 S 2 N o 5 o + + o 2 C o o + 6 o 7 Cl 3 N o o o o o 4 F\n",
      "Требуется сгенерировать кристалл с высокими оптическими свойствами o o o o 4 H 2 As  o o o o 5 P o 12 0 0 1 H Ga + 6 o\n",
      "Требуется сгенерировать кристалл с высокими оптическими свойствами o o 2 H o 5 0 0 B F o o - N o 14 H P o o o o\n"
     ]
    }
   ],
   "source": [
    "# Text generation\n",
    "input_text = \"Требуется сгенерировать кристалл с высокими оптическими свойствами\"\n",
    "from transformers import pipeline\n",
    "\n",
    "# Load the fine-tuned model\n",
    "nlp = pipeline(\"text-generation\", model=\"../models/fine_tuned_gpt2_on_alex_full/\")\n",
    "\n",
    "# Generate text with custom parameters\n",
    "result = nlp(\n",
    "    input_text,\n",
    "    max_length=100,\n",
    "    truncation=False,         # Disable truncation\n",
    "    do_sample=True,           # Enable sampling for diverse outputs\n",
    "    num_beams=1,\n",
    "    num_return_sequences=5,    # Number of sequences to generate,\n",
    "    temperature=1.0\n",
    ")\n",
    "\n",
    "for i in result:\n",
    "    print(i['generated_text'])"
   ]
  },
  {
   "cell_type": "code",
   "execution_count": null,
   "metadata": {},
   "outputs": [],
   "source": []
  }
 ],
 "metadata": {
  "kernelspec": {
   "display_name": ".venv",
   "language": "python",
   "name": "python3"
  },
  "language_info": {
   "codemirror_mode": {
    "name": "ipython",
    "version": 3
   },
   "file_extension": ".py",
   "mimetype": "text/x-python",
   "name": "python",
   "nbconvert_exporter": "python",
   "pygments_lexer": "ipython3",
   "version": "3.11.7"
  }
 },
 "nbformat": 4,
 "nbformat_minor": 2
}
