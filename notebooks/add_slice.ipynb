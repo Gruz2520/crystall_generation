{
 "cells": [
  {
   "cell_type": "code",
   "execution_count": null,
   "metadata": {},
   "outputs": [
    {
     "name": "stdout",
     "output_type": "stream",
     "text": [
      "WARNING:tensorflow:From d:\\Projects\\projects_python\\crystall_generation\\.venv\\Lib\\site-packages\\keras\\src\\losses.py:2976: The name tf.losses.sparse_softmax_cross_entropy is deprecated. Please use tf.compat.v1.losses.sparse_softmax_cross_entropy instead.\n",
      "\n",
      "WARNING:tensorflow:From d:\\Projects\\projects_python\\crystall_generation\\.venv\\Lib\\site-packages\\tensorflow\\python\\util\\deprecation.py:588: calling function (from tensorflow.python.eager.polymorphic_function.polymorphic_function) with experimental_relax_shapes is deprecated and will be removed in a future version.\n",
      "Instructions for updating:\n",
      "experimental_relax_shapes is deprecated, use reduce_retracing instead\n"
     ]
    }
   ],
   "source": [
    "from scr.invcryrep.invcryrep import InvCryRep\n",
    "from pymatgen.core.structure import Structure"
   ]
  },
  {
   "cell_type": "code",
   "execution_count": 8,
   "metadata": {},
   "outputs": [],
   "source": [
    "import pandas as pd\n",
    "data = pd.read_csv(\"../data/genCry_columns.csv\")"
   ]
  },
  {
   "cell_type": "code",
   "execution_count": 3,
   "metadata": {},
   "outputs": [
    {
     "data": {
      "text/plain": [
       "\"# generated using pymatgen\\ndata_Al4IrRu3\\n_symmetry_space_group_name_H-M   'P 1'\\n_cell_length_a   6.72763205\\n_cell_length_b   6.72763205\\n_cell_length_c   6.72763205\\n_cell_angle_alpha   143.20236153\\n_cell_angle_beta   143.20236153\\n_cell_angle_gamma   53.02172781\\n_symmetry_Int_Tables_number   1\\n_chemical_formula_structural   Al4IrRu3\\n_chemical_formula_sum   'Al4 Ir1 Ru3'\\n_cell_volume   108.58052229\\n_cell_formula_units_Z   1\\nloop_\\n _symmetry_equiv_pos_site_id\\n _symmetry_equiv_pos_as_xyz\\n  1  'x, y, z'\\nloop_\\n _atom_site_type_symbol\\n _atom_site_label\\n _atom_site_symmetry_multiplicity\\n _atom_site_fract_x\\n _atom_site_fract_y\\n _atom_site_fract_z\\n _atom_site_occupancy\\n  Al  Al0  1  2.12343902  0.00000000  4.51137524  1\\n  Al  Al1  1  0.00000000  2.12343902  1.50884456  1\\n  Al  Al2  1  2.12343902  0.00000000  1.50884456  1\\n  Al  Al3  1  0.00000000  2.12343902  4.51137524  1\\n  Ir  Ir4  1  0.00000000  0.00000000  6.02021980  1\\n  Ru  Ru5  1  0.00000000  0.00000000  0.00000000  1\\n  Ru  Ru6  1  -0.00000000  0.00000000  9.04250728  1\\n  Ru  Ru7  1  0.00000000  -0.00000000  2.99793232  1\\n\""
      ]
     },
     "execution_count": 3,
     "metadata": {},
     "output_type": "execute_result"
    }
   ],
   "source": [
    "test_cif = data.iloc[0]['cif']\n",
    "test_cif"
   ]
  },
  {
   "cell_type": "code",
   "execution_count": 5,
   "metadata": {},
   "outputs": [
    {
     "name": "stdout",
     "output_type": "stream",
     "text": [
      "Al Al Al Al Ir Ru Ru Ru 0 2 o o o 1 3 o o o 4 7 o + + 4 5 o + + 4 6 o o o 5 7 o o o \n",
      "i u y 1s 1s 1s v p y 1s 1s 1s\n",
      "Al Al Al Al Ir Ru Ru Ru 0 2 o o o 1 3 o o o 4 7 o + + 4 5 o + + 4 6 o o o 5 7 o o o i u y 1s 1s 1s v p y 1s 1s 1s\n"
     ]
    }
   ],
   "source": [
    "backend=InvCryRep()\n",
    "slice_part1, slice_part2, final_slice = backend.concatenate_slices(test_cif)\n",
    "print(slice_part1)\n",
    "print(slice_part2)\n",
    "print(final_slice)"
   ]
  },
  {
   "cell_type": "code",
   "execution_count": null,
   "metadata": {},
   "outputs": [],
   "source": [
    "from scr.invcryrep.invcryrep import InvCryRep\n",
    "from pymatgen.core.structure import Structure\n",
    "import pandas as pd\n",
    "from tqdm import tqdm  # For progress bar\n",
    "from typing import Optional\n",
    "\n",
    "def calculate_slices_for_dataset(\n",
    "    dataset: pd.DataFrame,\n",
    "    cif_column: str = \"cif\",\n",
    "    output_file: Optional[str] = None\n",
    ") -> pd.DataFrame:\n",
    "    \"\"\"\n",
    "    Calculates SLICES for each CIF file in the dataset and adds the results to the DataFrame.\n",
    "    Optionally saves the resulting DataFrame to a specified path.\n",
    "\n",
    "    :param dataset: Input DataFrame containing CIF strings.\n",
    "    :param cif_column: Name of the column in the DataFrame that contains the CIF strings. Default is \"cif\".\n",
    "    :param output_file: Path to save the resulting DataFrame as a CSV file. If None, the file is not saved.\n",
    "    :return: A DataFrame with added columns for SLICES (slice_part1, slice_part2, final_slice).\n",
    "    \"\"\"\n",
    "    backend = InvCryRep()\n",
    "\n",
    "    # Add new columns for SLICES\n",
    "    dataset['SLICE'] = None\n",
    "    dataset['SLICE PLUS'] = None\n",
    "\n",
    "    for index, row in tqdm(dataset.iterrows(), total=len(dataset), desc=\"Converting CIF to SLICE\"):\n",
    "        cif = row[cif_column]\n",
    "        try:\n",
    "            # Calculate SLICES for the current CIF file\n",
    "            slice_part1, _, final_slice = backend.concatenate_slices(cif)\n",
    "            \n",
    "            dataset.at[index, 'SLICE'] = slice_part1\n",
    "            dataset.at[index, 'SLICE PLUS'] = final_slice\n",
    "        except Exception as e:\n",
    "            print(f\"Error processing CIF file at row {index}: {e}\")\n",
    "            dataset.at[index, 'SLICE'] = None\n",
    "            dataset.at[index, 'SLICE PLUS'] = None\n",
    "\n",
    "    # Save the result to a file if a path is provided\n",
    "    if output_file:\n",
    "        dataset.to_csv(output_file, index=False)\n",
    "        print(f\"Results saved to {output_file}\")\n",
    "\n",
    "    return dataset"
   ]
  },
  {
   "cell_type": "code",
   "execution_count": 9,
   "metadata": {},
   "outputs": [
    {
     "name": "stderr",
     "output_type": "stream",
     "text": [
      "Processing CIF files:   0%|          | 167/315397 [00:09<7:10:15, 12.21it/s] "
     ]
    },
    {
     "name": "stdout",
     "output_type": "stream",
     "text": [
      "Error processing CIF file at row 162: Symmetry detection failed for structure with formula Cs1 Tl1 P2 Pt4. Try setting symprec=0.01 to a different value.\n"
     ]
    },
    {
     "name": "stderr",
     "output_type": "stream",
     "text": [
      "Processing CIF files:   0%|          | 344/315397 [00:16<2:30:47, 34.82it/s]"
     ]
    },
    {
     "name": "stdout",
     "output_type": "stream",
     "text": [
      "Error processing CIF file at row 339: Symmetry detection failed for structure with formula Ce3 Y1 S4. Try setting symprec=0.01 to a different value.\n"
     ]
    },
    {
     "name": "stderr",
     "output_type": "stream",
     "text": [
      "Processing CIF files:   0%|          | 771/315397 [00:40<2:57:22, 29.56it/s] "
     ]
    },
    {
     "name": "stdout",
     "output_type": "stream",
     "text": [
      "Error processing CIF file at row 764: Symmetry detection failed for structure with formula Hf3 Mn1 Pd12. Try setting symprec=0.01 to a different value.\n"
     ]
    },
    {
     "name": "stderr",
     "output_type": "stream",
     "text": [
      "Processing CIF files:   0%|          | 1215/315397 [01:03<2:53:47, 30.13it/s] "
     ]
    },
    {
     "name": "stdout",
     "output_type": "stream",
     "text": [
      "Error processing CIF file at row 1215: Symmetry detection failed for structure with formula Ta1 Cu3 Te4. Try setting symprec=0.01 to a different value.\n"
     ]
    },
    {
     "name": "stderr",
     "output_type": "stream",
     "text": [
      "Processing CIF files:   0%|          | 1406/315397 [01:21<5:13:33, 16.69it/s] "
     ]
    },
    {
     "name": "stdout",
     "output_type": "stream",
     "text": [
      "Error processing CIF file at row 1400: Symmetry detection failed for structure with formula Ce2 Nd1 Cd6. Try setting symprec=0.01 to a different value.\n"
     ]
    },
    {
     "name": "stderr",
     "output_type": "stream",
     "text": [
      "Processing CIF files:   0%|          | 1435/315397 [01:22<4:59:55, 17.45it/s]\n"
     ]
    },
    {
     "ename": "KeyboardInterrupt",
     "evalue": "",
     "output_type": "error",
     "traceback": [
      "\u001b[1;31m---------------------------------------------------------------------------\u001b[0m",
      "\u001b[1;31mKeyboardInterrupt\u001b[0m                         Traceback (most recent call last)",
      "Cell \u001b[1;32mIn[9], line 1\u001b[0m\n\u001b[1;32m----> 1\u001b[0m \u001b[43mcalculate_slices_for_dataset\u001b[49m\u001b[43m(\u001b[49m\u001b[43mdata\u001b[49m\u001b[43m,\u001b[49m\u001b[43m \u001b[49m\u001b[38;5;124;43m\"\u001b[39;49m\u001b[38;5;124;43mcif\u001b[39;49m\u001b[38;5;124;43m\"\u001b[39;49m\u001b[43m,\u001b[49m\u001b[43m \u001b[49m\u001b[38;5;124;43m\"\u001b[39;49m\u001b[38;5;124;43m../data/genCry_columns.csv\u001b[39;49m\u001b[38;5;124;43m\"\u001b[39;49m\u001b[43m)\u001b[49m\n",
      "Cell \u001b[1;32mIn[7], line 31\u001b[0m, in \u001b[0;36mcalculate_slices_for_dataset\u001b[1;34m(dataset, cif_column, output_file)\u001b[0m\n\u001b[0;32m     28\u001b[0m cif \u001b[38;5;241m=\u001b[39m row[cif_column]\n\u001b[0;32m     29\u001b[0m \u001b[38;5;28;01mtry\u001b[39;00m:\n\u001b[0;32m     30\u001b[0m     \u001b[38;5;66;03m# Calculate SLICES for the current CIF file\u001b[39;00m\n\u001b[1;32m---> 31\u001b[0m     slice_part1, _, final_slice \u001b[38;5;241m=\u001b[39m \u001b[43mbackend\u001b[49m\u001b[38;5;241;43m.\u001b[39;49m\u001b[43mconcatenate_slices\u001b[49m\u001b[43m(\u001b[49m\u001b[43mcif\u001b[49m\u001b[43m)\u001b[49m\n\u001b[0;32m     33\u001b[0m     dataset\u001b[38;5;241m.\u001b[39mat[index, \u001b[38;5;124m'\u001b[39m\u001b[38;5;124mSLICE\u001b[39m\u001b[38;5;124m'\u001b[39m] \u001b[38;5;241m=\u001b[39m slice_part1\n\u001b[0;32m     34\u001b[0m     dataset\u001b[38;5;241m.\u001b[39mat[index, \u001b[38;5;124m'\u001b[39m\u001b[38;5;124mSLICE PLUS\u001b[39m\u001b[38;5;124m'\u001b[39m] \u001b[38;5;241m=\u001b[39m final_slice\n",
      "File \u001b[1;32md:\\Projects\\projects_python\\crystall_generation\\notebooks\\scr\\invcryrep\\invcryrep.py:751\u001b[0m, in \u001b[0;36mInvCryRep.concatenate_slices\u001b[1;34m(self, cif_string, strategy)\u001b[0m\n\u001b[0;32m    748\u001b[0m parser \u001b[38;5;241m=\u001b[39m CifParser(cif_file_like)\n\u001b[0;32m    749\u001b[0m structure \u001b[38;5;241m=\u001b[39m parser\u001b[38;5;241m.\u001b[39mget_structures()[\u001b[38;5;241m0\u001b[39m]\n\u001b[1;32m--> 751\u001b[0m slices_part1 \u001b[38;5;241m=\u001b[39m \u001b[38;5;28;43mself\u001b[39;49m\u001b[38;5;241;43m.\u001b[39;49m\u001b[43mstructure2SLICES\u001b[49m\u001b[43m(\u001b[49m\u001b[43mstructure\u001b[49m\u001b[43m,\u001b[49m\u001b[43m \u001b[49m\u001b[43mstrategy\u001b[49m\u001b[43m)\u001b[49m\n\u001b[0;32m    752\u001b[0m slices_part2 \u001b[38;5;241m=\u001b[39m \u001b[38;5;28mself\u001b[39m\u001b[38;5;241m.\u001b[39mstructure2SLICES2(structure)\n\u001b[0;32m    753\u001b[0m full_slices \u001b[38;5;241m=\u001b[39m slices_part1 \u001b[38;5;241m+\u001b[39m \u001b[38;5;124m'\u001b[39m\u001b[38;5;124m'\u001b[39m \u001b[38;5;241m+\u001b[39m slices_part2\n",
      "File \u001b[1;32md:\\Projects\\projects_python\\crystall_generation\\notebooks\\scr\\invcryrep\\invcryrep.py:641\u001b[0m, in \u001b[0;36mInvCryRep.structure2SLICES\u001b[1;34m(self, structure, strategy)\u001b[0m\n\u001b[0;32m    630\u001b[0m \u001b[38;5;28;01mdef\u001b[39;00m\u001b[38;5;250m \u001b[39m\u001b[38;5;21mstructure2SLICES\u001b[39m(\u001b[38;5;28mself\u001b[39m,structure,strategy\u001b[38;5;241m=\u001b[39m\u001b[38;5;241m3\u001b[39m):\n\u001b[0;32m    631\u001b[0m \u001b[38;5;250m    \u001b[39m\u001b[38;5;124;03m\"\"\"Extract edge_indices, to_jimages and atom_types from a pymatgen structure object\u001b[39;00m\n\u001b[0;32m    632\u001b[0m \u001b[38;5;124;03m     then encode them into a SLICES string.\u001b[39;00m\n\u001b[0;32m    633\u001b[0m \n\u001b[1;32m   (...)\u001b[0m\n\u001b[0;32m    639\u001b[0m \u001b[38;5;124;03m        str: A SLICES string.\u001b[39;00m\n\u001b[0;32m    640\u001b[0m \u001b[38;5;124;03m    \"\"\"\u001b[39;00m \n\u001b[1;32m--> 641\u001b[0m     structure_graph\u001b[38;5;241m=\u001b[39m\u001b[38;5;28;43mself\u001b[39;49m\u001b[38;5;241;43m.\u001b[39;49m\u001b[43mstructure2structure_graph\u001b[49m\u001b[43m(\u001b[49m\u001b[43mstructure\u001b[49m\u001b[43m)\u001b[49m\n\u001b[0;32m    642\u001b[0m     atom_types \u001b[38;5;241m=\u001b[39m np\u001b[38;5;241m.\u001b[39marray(structure\u001b[38;5;241m.\u001b[39matomic_numbers)\n\u001b[0;32m    643\u001b[0m     atom_symbols \u001b[38;5;241m=\u001b[39m [\u001b[38;5;28mstr\u001b[39m(ElementBase\u001b[38;5;241m.\u001b[39mfrom_Z(i)) \u001b[38;5;28;01mfor\u001b[39;00m i \u001b[38;5;129;01min\u001b[39;00m atom_types]\n",
      "File \u001b[1;32md:\\Projects\\projects_python\\crystall_generation\\notebooks\\scr\\invcryrep\\invcryrep.py:171\u001b[0m, in \u001b[0;36mInvCryRep.structure2structure_graph\u001b[1;34m(self, structure)\u001b[0m\n\u001b[0;32m    168\u001b[0m     structure_graph \u001b[38;5;241m=\u001b[39m StructureGraph\u001b[38;5;241m.\u001b[39mwith_local_env_strategy(\n\u001b[0;32m    169\u001b[0m         structure, BrunnerNN_reciprocal())\n\u001b[0;32m    170\u001b[0m \u001b[38;5;28;01melif\u001b[39;00m \u001b[38;5;28mself\u001b[39m\u001b[38;5;241m.\u001b[39mgraph_method \u001b[38;5;241m==\u001b[39m \u001b[38;5;124m'\u001b[39m\u001b[38;5;124meconnn\u001b[39m\u001b[38;5;124m'\u001b[39m:\n\u001b[1;32m--> 171\u001b[0m     structure_graph \u001b[38;5;241m=\u001b[39m \u001b[43mStructureGraph\u001b[49m\u001b[38;5;241;43m.\u001b[39;49m\u001b[43mwith_local_env_strategy\u001b[49m\u001b[43m(\u001b[49m\n\u001b[0;32m    172\u001b[0m \u001b[43m        \u001b[49m\u001b[43mstructure\u001b[49m\u001b[43m,\u001b[49m\u001b[43m \u001b[49m\u001b[43mEconNN\u001b[49m\u001b[43m(\u001b[49m\u001b[43m)\u001b[49m\u001b[43m)\u001b[49m\n\u001b[0;32m    173\u001b[0m \u001b[38;5;28;01melif\u001b[39;00m \u001b[38;5;28mself\u001b[39m\u001b[38;5;241m.\u001b[39mgraph_method \u001b[38;5;241m==\u001b[39m \u001b[38;5;124m'\u001b[39m\u001b[38;5;124mmininn\u001b[39m\u001b[38;5;124m'\u001b[39m:\n\u001b[0;32m    174\u001b[0m     structure_graph \u001b[38;5;241m=\u001b[39m StructureGraph\u001b[38;5;241m.\u001b[39mwith_local_env_strategy(\n\u001b[0;32m    175\u001b[0m         structure, MinimumDistanceNN())\n",
      "File \u001b[1;32md:\\Projects\\projects_python\\crystall_generation\\.venv\\Lib\\site-packages\\pymatgen\\analysis\\graphs.py:260\u001b[0m, in \u001b[0;36mStructureGraph.with_local_env_strategy\u001b[1;34m(structure, strategy, weights, edge_properties)\u001b[0m\n\u001b[0;32m    256\u001b[0m     \u001b[38;5;28;01mraise\u001b[39;00m \u001b[38;5;167;01mValueError\u001b[39;00m(\u001b[38;5;124m\"\u001b[39m\u001b[38;5;124mChosen strategy is not designed for use with structures! Please choose another strategy.\u001b[39m\u001b[38;5;124m\"\u001b[39m)\n\u001b[0;32m    258\u001b[0m sg \u001b[38;5;241m=\u001b[39m StructureGraph\u001b[38;5;241m.\u001b[39mwith_empty_graph(structure, name\u001b[38;5;241m=\u001b[39m\u001b[38;5;124m\"\u001b[39m\u001b[38;5;124mbonds\u001b[39m\u001b[38;5;124m\"\u001b[39m)\n\u001b[1;32m--> 260\u001b[0m \u001b[38;5;28;01mfor\u001b[39;00m idx, neighbors \u001b[38;5;129;01min\u001b[39;00m \u001b[38;5;28menumerate\u001b[39m(\u001b[43mstrategy\u001b[49m\u001b[38;5;241;43m.\u001b[39;49m\u001b[43mget_all_nn_info\u001b[49m\u001b[43m(\u001b[49m\u001b[43mstructure\u001b[49m\u001b[43m)\u001b[49m):\n\u001b[0;32m    261\u001b[0m     \u001b[38;5;28;01mfor\u001b[39;00m neighbor \u001b[38;5;129;01min\u001b[39;00m neighbors:\n\u001b[0;32m    262\u001b[0m         \u001b[38;5;66;03m# local_env will always try to add two edges\u001b[39;00m\n\u001b[0;32m    263\u001b[0m         \u001b[38;5;66;03m# for any one bond, one from site u to site v\u001b[39;00m\n\u001b[0;32m    264\u001b[0m         \u001b[38;5;66;03m# and another form site v to site u: this is\u001b[39;00m\n\u001b[0;32m    265\u001b[0m         \u001b[38;5;66;03m# harmless, so warn_duplicates=False\u001b[39;00m\n\u001b[0;32m    266\u001b[0m         sg\u001b[38;5;241m.\u001b[39madd_edge(\n\u001b[0;32m    267\u001b[0m             from_index\u001b[38;5;241m=\u001b[39midx,\n\u001b[0;32m    268\u001b[0m             from_jimage\u001b[38;5;241m=\u001b[39m(\u001b[38;5;241m0\u001b[39m, \u001b[38;5;241m0\u001b[39m, \u001b[38;5;241m0\u001b[39m),\n\u001b[1;32m   (...)\u001b[0m\n\u001b[0;32m    273\u001b[0m             warn_duplicates\u001b[38;5;241m=\u001b[39m\u001b[38;5;28;01mFalse\u001b[39;00m,\n\u001b[0;32m    274\u001b[0m         )\n",
      "File \u001b[1;32md:\\Projects\\projects_python\\crystall_generation\\.venv\\Lib\\site-packages\\pymatgen\\analysis\\local_env.py:414\u001b[0m, in \u001b[0;36mNearNeighbors.get_all_nn_info\u001b[1;34m(self, structure)\u001b[0m\n\u001b[0;32m    405\u001b[0m \u001b[38;5;28;01mdef\u001b[39;00m\u001b[38;5;250m \u001b[39m\u001b[38;5;21mget_all_nn_info\u001b[39m(\u001b[38;5;28mself\u001b[39m, structure: Structure):\n\u001b[0;32m    406\u001b[0m \u001b[38;5;250m    \u001b[39m\u001b[38;5;124;03m\"\"\"Get a listing of all neighbors for all sites in a structure.\u001b[39;00m\n\u001b[0;32m    407\u001b[0m \n\u001b[0;32m    408\u001b[0m \u001b[38;5;124;03m    Args:\u001b[39;00m\n\u001b[1;32m   (...)\u001b[0m\n\u001b[0;32m    412\u001b[0m \u001b[38;5;124;03m            entry has the same format as `get_nn_info`\u001b[39;00m\n\u001b[0;32m    413\u001b[0m \u001b[38;5;124;03m    \"\"\"\u001b[39;00m\n\u001b[1;32m--> 414\u001b[0m     \u001b[38;5;28;01mreturn\u001b[39;00m \u001b[43m[\u001b[49m\u001b[38;5;28;43mself\u001b[39;49m\u001b[38;5;241;43m.\u001b[39;49m\u001b[43mget_nn_info\u001b[49m\u001b[43m(\u001b[49m\u001b[43mstructure\u001b[49m\u001b[43m,\u001b[49m\u001b[43m \u001b[49m\u001b[43mn\u001b[49m\u001b[43m)\u001b[49m\u001b[43m \u001b[49m\u001b[38;5;28;43;01mfor\u001b[39;49;00m\u001b[43m \u001b[49m\u001b[43mn\u001b[49m\u001b[43m \u001b[49m\u001b[38;5;129;43;01min\u001b[39;49;00m\u001b[43m \u001b[49m\u001b[38;5;28;43mrange\u001b[39;49m\u001b[43m(\u001b[49m\u001b[38;5;28;43mlen\u001b[39;49m\u001b[43m(\u001b[49m\u001b[43mstructure\u001b[49m\u001b[43m)\u001b[49m\u001b[43m)\u001b[49m\u001b[43m]\u001b[49m\n",
      "File \u001b[1;32md:\\Projects\\projects_python\\crystall_generation\\.venv\\Lib\\site-packages\\pymatgen\\analysis\\local_env.py:414\u001b[0m, in \u001b[0;36m<listcomp>\u001b[1;34m(.0)\u001b[0m\n\u001b[0;32m    405\u001b[0m \u001b[38;5;28;01mdef\u001b[39;00m\u001b[38;5;250m \u001b[39m\u001b[38;5;21mget_all_nn_info\u001b[39m(\u001b[38;5;28mself\u001b[39m, structure: Structure):\n\u001b[0;32m    406\u001b[0m \u001b[38;5;250m    \u001b[39m\u001b[38;5;124;03m\"\"\"Get a listing of all neighbors for all sites in a structure.\u001b[39;00m\n\u001b[0;32m    407\u001b[0m \n\u001b[0;32m    408\u001b[0m \u001b[38;5;124;03m    Args:\u001b[39;00m\n\u001b[1;32m   (...)\u001b[0m\n\u001b[0;32m    412\u001b[0m \u001b[38;5;124;03m            entry has the same format as `get_nn_info`\u001b[39;00m\n\u001b[0;32m    413\u001b[0m \u001b[38;5;124;03m    \"\"\"\u001b[39;00m\n\u001b[1;32m--> 414\u001b[0m     \u001b[38;5;28;01mreturn\u001b[39;00m [\u001b[38;5;28;43mself\u001b[39;49m\u001b[38;5;241;43m.\u001b[39;49m\u001b[43mget_nn_info\u001b[49m\u001b[43m(\u001b[49m\u001b[43mstructure\u001b[49m\u001b[43m,\u001b[49m\u001b[43m \u001b[49m\u001b[43mn\u001b[49m\u001b[43m)\u001b[49m \u001b[38;5;28;01mfor\u001b[39;00m n \u001b[38;5;129;01min\u001b[39;00m \u001b[38;5;28mrange\u001b[39m(\u001b[38;5;28mlen\u001b[39m(structure))]\n",
      "File \u001b[1;32md:\\Projects\\projects_python\\crystall_generation\\.venv\\Lib\\site-packages\\pymatgen\\analysis\\local_env.py:3643\u001b[0m, in \u001b[0;36mEconNN.get_nn_info\u001b[1;34m(self, structure, n)\u001b[0m\n\u001b[0;32m   3629\u001b[0m \u001b[38;5;250m\u001b[39m\u001b[38;5;124;03m\"\"\"\u001b[39;00m\n\u001b[0;32m   3630\u001b[0m \u001b[38;5;124;03mGet all near-neighbor sites as well as the associated image locations\u001b[39;00m\n\u001b[0;32m   3631\u001b[0m \u001b[38;5;124;03mand weights of the site with index n in structure.\u001b[39;00m\n\u001b[1;32m   (...)\u001b[0m\n\u001b[0;32m   3640\u001b[0m \u001b[38;5;124;03m        and its weight.\u001b[39;00m\n\u001b[0;32m   3641\u001b[0m \u001b[38;5;124;03m\"\"\"\u001b[39;00m\n\u001b[0;32m   3642\u001b[0m site \u001b[38;5;241m=\u001b[39m structure[n]\n\u001b[1;32m-> 3643\u001b[0m neighbors \u001b[38;5;241m=\u001b[39m \u001b[43mstructure\u001b[49m\u001b[38;5;241;43m.\u001b[39;49m\u001b[43mget_neighbors\u001b[49m\u001b[43m(\u001b[49m\u001b[43msite\u001b[49m\u001b[43m,\u001b[49m\u001b[43m \u001b[49m\u001b[38;5;28;43mself\u001b[39;49m\u001b[38;5;241;43m.\u001b[39;49m\u001b[43mcutoff\u001b[49m\u001b[43m)\u001b[49m\n\u001b[0;32m   3645\u001b[0m oxi_state \u001b[38;5;241m=\u001b[39m \u001b[38;5;28mgetattr\u001b[39m(site\u001b[38;5;241m.\u001b[39mspecie, \u001b[38;5;124m\"\u001b[39m\u001b[38;5;124moxi_state\u001b[39m\u001b[38;5;124m\"\u001b[39m, \u001b[38;5;28;01mNone\u001b[39;00m)\n\u001b[0;32m   3646\u001b[0m \u001b[38;5;28;01mif\u001b[39;00m \u001b[38;5;28mself\u001b[39m\u001b[38;5;241m.\u001b[39mcation_anion \u001b[38;5;129;01mand\u001b[39;00m oxi_state \u001b[38;5;129;01mis\u001b[39;00m \u001b[38;5;129;01mnot\u001b[39;00m \u001b[38;5;28;01mNone\u001b[39;00m:\n\u001b[0;32m   3647\u001b[0m     \u001b[38;5;66;03m# filter out neighbor of like charge (except for neutral sites)\u001b[39;00m\n",
      "File \u001b[1;32md:\\Projects\\projects_python\\crystall_generation\\.venv\\Lib\\site-packages\\pymatgen\\core\\structure.py:1486\u001b[0m, in \u001b[0;36mIStructure.get_neighbors\u001b[1;34m(self, site, r, include_index, include_image)\u001b[0m\n\u001b[0;32m   1465\u001b[0m \u001b[38;5;28;01mdef\u001b[39;00m\u001b[38;5;250m \u001b[39m\u001b[38;5;21mget_neighbors\u001b[39m(\n\u001b[0;32m   1466\u001b[0m     \u001b[38;5;28mself\u001b[39m,\n\u001b[0;32m   1467\u001b[0m     site: PeriodicSite,\n\u001b[1;32m   (...)\u001b[0m\n\u001b[0;32m   1470\u001b[0m     include_image: \u001b[38;5;28mbool\u001b[39m \u001b[38;5;241m=\u001b[39m \u001b[38;5;28;01mFalse\u001b[39;00m,\n\u001b[0;32m   1471\u001b[0m ) \u001b[38;5;241m-\u001b[39m\u001b[38;5;241m>\u001b[39m \u001b[38;5;28mlist\u001b[39m[PeriodicNeighbor]:\n\u001b[0;32m   1472\u001b[0m \u001b[38;5;250m    \u001b[39m\u001b[38;5;124;03m\"\"\"Get all neighbors to a site within a sphere of radius r. Excludes the\u001b[39;00m\n\u001b[0;32m   1473\u001b[0m \u001b[38;5;124;03m    site itself.\u001b[39;00m\n\u001b[0;32m   1474\u001b[0m \n\u001b[1;32m   (...)\u001b[0m\n\u001b[0;32m   1484\u001b[0m \u001b[38;5;124;03m        PeriodicNeighbor\u001b[39;00m\n\u001b[0;32m   1485\u001b[0m \u001b[38;5;124;03m    \"\"\"\u001b[39;00m\n\u001b[1;32m-> 1486\u001b[0m     \u001b[38;5;28;01mreturn\u001b[39;00m \u001b[38;5;28;43mself\u001b[39;49m\u001b[38;5;241;43m.\u001b[39;49m\u001b[43mget_all_neighbors\u001b[49m\u001b[43m(\u001b[49m\u001b[43mr\u001b[49m\u001b[43m,\u001b[49m\u001b[43m \u001b[49m\u001b[43minclude_index\u001b[49m\u001b[38;5;241;43m=\u001b[39;49m\u001b[43minclude_index\u001b[49m\u001b[43m,\u001b[49m\u001b[43m \u001b[49m\u001b[43minclude_image\u001b[49m\u001b[38;5;241;43m=\u001b[39;49m\u001b[43minclude_image\u001b[49m\u001b[43m,\u001b[49m\u001b[43m \u001b[49m\u001b[43msites\u001b[49m\u001b[38;5;241;43m=\u001b[39;49m\u001b[43m[\u001b[49m\u001b[43msite\u001b[49m\u001b[43m]\u001b[49m\u001b[43m)\u001b[49m[\u001b[38;5;241m0\u001b[39m]\n",
      "File \u001b[1;32md:\\Projects\\projects_python\\crystall_generation\\.venv\\Lib\\site-packages\\pymatgen\\core\\structure.py:1820\u001b[0m, in \u001b[0;36mIStructure.get_all_neighbors\u001b[1;34m(self, r, include_index, include_image, sites, numerical_tol)\u001b[0m\n\u001b[0;32m   1818\u001b[0m     \u001b[38;5;28;01mreturn\u001b[39;00m [[]] \u001b[38;5;241m*\u001b[39m \u001b[38;5;28mlen\u001b[39m(sites)\n\u001b[0;32m   1819\u001b[0m f_coords \u001b[38;5;241m=\u001b[39m \u001b[38;5;28mself\u001b[39m\u001b[38;5;241m.\u001b[39mfrac_coords[points_indices] \u001b[38;5;241m+\u001b[39m images\n\u001b[1;32m-> 1820\u001b[0m neighbor_dict: \u001b[38;5;28mdict\u001b[39m[\u001b[38;5;28mint\u001b[39m, \u001b[38;5;28mlist\u001b[39m] \u001b[38;5;241m=\u001b[39m \u001b[43mcollections\u001b[49m\u001b[38;5;241;43m.\u001b[39;49m\u001b[43mdefaultdict\u001b[49m\u001b[43m(\u001b[49m\u001b[38;5;28;43mlist\u001b[39;49m\u001b[43m)\u001b[49m\n\u001b[0;32m   1821\u001b[0m lattice \u001b[38;5;241m=\u001b[39m \u001b[38;5;28mself\u001b[39m\u001b[38;5;241m.\u001b[39mlattice\n\u001b[0;32m   1822\u001b[0m atol \u001b[38;5;241m=\u001b[39m Site\u001b[38;5;241m.\u001b[39mposition_atol\n",
      "\u001b[1;31mKeyboardInterrupt\u001b[0m: "
     ]
    }
   ],
   "source": [
    "calculate_slices_for_dataset(data, \"cif\", \"../data/genCry_columns.csv\")"
   ]
  },
  {
   "cell_type": "markdown",
   "metadata": {},
   "source": [
    "TODO: Надо изучить каким образом в библиотеке происходит релаксация кристалла и определить как можно ее переписать и заставить работать"
   ]
  },
  {
   "cell_type": "code",
   "execution_count": 6,
   "metadata": {},
   "outputs": [
    {
     "name": "stderr",
     "output_type": "stream",
     "text": [
      "ERROR:root:Could not obtain the lattice basis from the cycle vectors!\n"
     ]
    },
    {
     "name": "stdout",
     "output_type": "stream",
     "text": [
      "ERROR - could not find a linearly independent cocycle basis!\n"
     ]
    },
    {
     "ename": "FileNotFoundError",
     "evalue": "[WinError 3] Системе не удается найти указанный путь: '/dev/shm\\\\tmprdnrn0nk'",
     "output_type": "error",
     "traceback": [
      "\u001b[1;31m---------------------------------------------------------------------------\u001b[0m",
      "\u001b[1;31mFileNotFoundError\u001b[0m                         Traceback (most recent call last)",
      "Cell \u001b[1;32mIn[6], line 1\u001b[0m\n\u001b[1;32m----> 1\u001b[0m reconstructed_structure,final_energy_per_atom_IAP \u001b[38;5;241m=\u001b[39m \u001b[43mbackend\u001b[49m\u001b[38;5;241;43m.\u001b[39;49m\u001b[43mSLICES2structure\u001b[49m\u001b[43m(\u001b[49m\u001b[43mfinal_slice\u001b[49m\u001b[43m)\u001b[49m\n",
      "File \u001b[1;32md:\\Projects\\projects_python\\crystall_generation\\notebooks\\scr\\invcryrep\\invcryrep.py:1971\u001b[0m, in \u001b[0;36mInvCryRep.SLICES2structure\u001b[1;34m(self, SLICES, strategy, fix_duplicate_edge)\u001b[0m\n\u001b[0;32m   1961\u001b[0m \u001b[38;5;250m\u001b[39m\u001b[38;5;124;03m\"\"\"Convert a SLICES string back to its original crystal structure.\u001b[39;00m\n\u001b[0;32m   1962\u001b[0m \n\u001b[0;32m   1963\u001b[0m \u001b[38;5;124;03mArgs:\u001b[39;00m\n\u001b[1;32m   (...)\u001b[0m\n\u001b[0;32m   1968\u001b[0m \u001b[38;5;124;03m    float: Energy per atom predicted with M3GNet.\u001b[39;00m\n\u001b[0;32m   1969\u001b[0m \u001b[38;5;124;03m\"\"\"\u001b[39;00m\n\u001b[0;32m   1970\u001b[0m \u001b[38;5;28mself\u001b[39m\u001b[38;5;241m.\u001b[39mfrom_SLICES(SLICES,strategy,fix_duplicate_edge)\n\u001b[1;32m-> 1971\u001b[0m structures,final_energy_per_atom \u001b[38;5;241m=\u001b[39m \u001b[38;5;28;43mself\u001b[39;49m\u001b[38;5;241;43m.\u001b[39;49m\u001b[43mto_structures\u001b[49m\u001b[43m(\u001b[49m\u001b[43m)\u001b[49m\n\u001b[0;32m   1972\u001b[0m \u001b[38;5;28;01mreturn\u001b[39;00m structures[\u001b[38;5;241m-\u001b[39m\u001b[38;5;241m1\u001b[39m],final_energy_per_atom\n",
      "File \u001b[1;32md:\\Projects\\projects_python\\crystall_generation\\notebooks\\scr\\invcryrep\\invcryrep.py:1867\u001b[0m, in \u001b[0;36mInvCryRep.to_structures\u001b[1;34m(self, bond_scaling, delta_theta, delta_x, lattice_shrink, lattice_expand, angle_weight, vbond_param_ave_covered, vbond_param_ave, repul)\u001b[0m\n\u001b[0;32m   1865\u001b[0m     inner_p_target, colattice_inds, colattice_weights \u001b[38;5;241m=\u001b[39m \u001b[38;5;28mself\u001b[39m\u001b[38;5;241m.\u001b[39mget_inner_p_target_debug(bond_scaling)\n\u001b[0;32m   1866\u001b[0m \u001b[38;5;28;01melse\u001b[39;00m:\n\u001b[1;32m-> 1867\u001b[0m     inner_p_target, colattice_inds, colattice_weights \u001b[38;5;241m=\u001b[39m \u001b[38;5;28;43mself\u001b[39;49m\u001b[38;5;241;43m.\u001b[39;49m\u001b[43mget_inner_p_target\u001b[49m\u001b[43m(\u001b[49m\u001b[43mbond_scaling\u001b[49m\u001b[43m)\u001b[49m\n\u001b[0;32m   1868\u001b[0m uncovered_pair \u001b[38;5;241m=\u001b[39m \u001b[38;5;28mself\u001b[39m\u001b[38;5;241m.\u001b[39mget_uncovered_pair(net\u001b[38;5;241m.\u001b[39mgraph)\n\u001b[0;32m   1869\u001b[0m uncovered_pair_lj \u001b[38;5;241m=\u001b[39m \u001b[38;5;28mself\u001b[39m\u001b[38;5;241m.\u001b[39mget_uncovered_pair_lj(uncovered_pair)\n",
      "File \u001b[1;32md:\\Projects\\projects_python\\crystall_generation\\notebooks\\scr\\invcryrep\\invcryrep.py:1285\u001b[0m, in \u001b[0;36mInvCryRep.get_inner_p_target\u001b[1;34m(self, bond_scaling)\u001b[0m\n\u001b[0;32m   1270\u001b[0m \u001b[38;5;250m\u001b[39m\u001b[38;5;124;03m\"\"\" Get inner product matrix, colattice indices, colattice weights.\u001b[39;00m\n\u001b[0;32m   1271\u001b[0m \n\u001b[0;32m   1272\u001b[0m \u001b[38;5;124;03m(1) Get inner_p_target(inner_p matrix obtained by gfnff).\u001b[39;00m\n\u001b[1;32m   (...)\u001b[0m\n\u001b[0;32m   1282\u001b[0m \u001b[38;5;124;03m    list: Colattice weights.\u001b[39;00m\n\u001b[0;32m   1283\u001b[0m \u001b[38;5;124;03m\"\"\"\u001b[39;00m\n\u001b[0;32m   1284\u001b[0m nbf, blist \u001b[38;5;241m=\u001b[39m \u001b[38;5;28mself\u001b[39m\u001b[38;5;241m.\u001b[39mget_nbf_blist()\n\u001b[1;32m-> 1285\u001b[0m temp_dir \u001b[38;5;241m=\u001b[39m \u001b[43mtempfile\u001b[49m\u001b[38;5;241;43m.\u001b[39;49m\u001b[43mTemporaryDirectory\u001b[49m\u001b[43m(\u001b[49m\u001b[38;5;28;43mdir\u001b[39;49m\u001b[38;5;241;43m=\u001b[39;49m\u001b[38;5;124;43m\"\u001b[39;49m\u001b[38;5;124;43m/dev/shm\u001b[39;49m\u001b[38;5;124;43m\"\u001b[39;49m\u001b[43m)\u001b[49m\n\u001b[0;32m   1286\u001b[0m \u001b[38;5;28;01mtry\u001b[39;00m:\n\u001b[0;32m   1287\u001b[0m     \u001b[38;5;28;01mwith\u001b[39;00m \u001b[38;5;28mopen\u001b[39m(temp_dir\u001b[38;5;241m.\u001b[39mname\u001b[38;5;241m+\u001b[39m\u001b[38;5;124m'\u001b[39m\u001b[38;5;124m/testBonds_cut.top\u001b[39m\u001b[38;5;124m'\u001b[39m,\u001b[38;5;124m'\u001b[39m\u001b[38;5;124mw\u001b[39m\u001b[38;5;124m'\u001b[39m) \u001b[38;5;28;01mas\u001b[39;00m f:\n",
      "File \u001b[1;32mC:\\Program Files\\Python311\\Lib\\tempfile.py:854\u001b[0m, in \u001b[0;36mTemporaryDirectory.__init__\u001b[1;34m(self, suffix, prefix, dir, ignore_cleanup_errors)\u001b[0m\n\u001b[0;32m    852\u001b[0m \u001b[38;5;28;01mdef\u001b[39;00m\u001b[38;5;250m \u001b[39m\u001b[38;5;21m__init__\u001b[39m(\u001b[38;5;28mself\u001b[39m, suffix\u001b[38;5;241m=\u001b[39m\u001b[38;5;28;01mNone\u001b[39;00m, prefix\u001b[38;5;241m=\u001b[39m\u001b[38;5;28;01mNone\u001b[39;00m, \u001b[38;5;28mdir\u001b[39m\u001b[38;5;241m=\u001b[39m\u001b[38;5;28;01mNone\u001b[39;00m,\n\u001b[0;32m    853\u001b[0m              ignore_cleanup_errors\u001b[38;5;241m=\u001b[39m\u001b[38;5;28;01mFalse\u001b[39;00m):\n\u001b[1;32m--> 854\u001b[0m     \u001b[38;5;28mself\u001b[39m\u001b[38;5;241m.\u001b[39mname \u001b[38;5;241m=\u001b[39m \u001b[43mmkdtemp\u001b[49m\u001b[43m(\u001b[49m\u001b[43msuffix\u001b[49m\u001b[43m,\u001b[49m\u001b[43m \u001b[49m\u001b[43mprefix\u001b[49m\u001b[43m,\u001b[49m\u001b[43m \u001b[49m\u001b[38;5;28;43mdir\u001b[39;49m\u001b[43m)\u001b[49m\n\u001b[0;32m    855\u001b[0m     \u001b[38;5;28mself\u001b[39m\u001b[38;5;241m.\u001b[39m_ignore_cleanup_errors \u001b[38;5;241m=\u001b[39m ignore_cleanup_errors\n\u001b[0;32m    856\u001b[0m     \u001b[38;5;28mself\u001b[39m\u001b[38;5;241m.\u001b[39m_finalizer \u001b[38;5;241m=\u001b[39m _weakref\u001b[38;5;241m.\u001b[39mfinalize(\n\u001b[0;32m    857\u001b[0m         \u001b[38;5;28mself\u001b[39m, \u001b[38;5;28mself\u001b[39m\u001b[38;5;241m.\u001b[39m_cleanup, \u001b[38;5;28mself\u001b[39m\u001b[38;5;241m.\u001b[39mname,\n\u001b[0;32m    858\u001b[0m         warn_message\u001b[38;5;241m=\u001b[39m\u001b[38;5;124m\"\u001b[39m\u001b[38;5;124mImplicitly cleaning up \u001b[39m\u001b[38;5;132;01m{!r}\u001b[39;00m\u001b[38;5;124m\"\u001b[39m\u001b[38;5;241m.\u001b[39mformat(\u001b[38;5;28mself\u001b[39m),\n\u001b[0;32m    859\u001b[0m         ignore_errors\u001b[38;5;241m=\u001b[39m\u001b[38;5;28mself\u001b[39m\u001b[38;5;241m.\u001b[39m_ignore_cleanup_errors)\n",
      "File \u001b[1;32mC:\\Program Files\\Python311\\Lib\\tempfile.py:368\u001b[0m, in \u001b[0;36mmkdtemp\u001b[1;34m(suffix, prefix, dir)\u001b[0m\n\u001b[0;32m    366\u001b[0m _sys\u001b[38;5;241m.\u001b[39maudit(\u001b[38;5;124m\"\u001b[39m\u001b[38;5;124mtempfile.mkdtemp\u001b[39m\u001b[38;5;124m\"\u001b[39m, file)\n\u001b[0;32m    367\u001b[0m \u001b[38;5;28;01mtry\u001b[39;00m:\n\u001b[1;32m--> 368\u001b[0m     \u001b[43m_os\u001b[49m\u001b[38;5;241;43m.\u001b[39;49m\u001b[43mmkdir\u001b[49m\u001b[43m(\u001b[49m\u001b[43mfile\u001b[49m\u001b[43m,\u001b[49m\u001b[43m \u001b[49m\u001b[38;5;241;43m0o700\u001b[39;49m\u001b[43m)\u001b[49m\n\u001b[0;32m    369\u001b[0m \u001b[38;5;28;01mexcept\u001b[39;00m \u001b[38;5;167;01mFileExistsError\u001b[39;00m:\n\u001b[0;32m    370\u001b[0m     \u001b[38;5;28;01mcontinue\u001b[39;00m    \u001b[38;5;66;03m# try again\u001b[39;00m\n",
      "\u001b[1;31mFileNotFoundError\u001b[0m: [WinError 3] Системе не удается найти указанный путь: '/dev/shm\\\\tmprdnrn0nk'"
     ]
    }
   ],
   "source": [
    "reconstructed_structure,final_energy_per_atom_IAP = backend.SLICES2structure(final_slice)"
   ]
  }
 ],
 "metadata": {
  "kernelspec": {
   "display_name": ".venv",
   "language": "python",
   "name": "python3"
  },
  "language_info": {
   "codemirror_mode": {
    "name": "ipython",
    "version": 3
   },
   "file_extension": ".py",
   "mimetype": "text/x-python",
   "name": "python",
   "nbconvert_exporter": "python",
   "pygments_lexer": "ipython3",
   "version": "3.11.7"
  }
 },
 "nbformat": 4,
 "nbformat_minor": 2
}
