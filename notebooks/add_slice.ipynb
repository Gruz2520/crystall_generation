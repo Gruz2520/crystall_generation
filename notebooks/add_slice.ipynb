{
 "cells": [
  {
   "cell_type": "code",
   "execution_count": null,
   "metadata": {},
   "outputs": [
    {
     "name": "stdout",
     "output_type": "stream",
     "text": [
      "WARNING:tensorflow:From d:\\Projects\\projects_python\\crystall_generation\\.venv\\Lib\\site-packages\\keras\\src\\losses.py:2976: The name tf.losses.sparse_softmax_cross_entropy is deprecated. Please use tf.compat.v1.losses.sparse_softmax_cross_entropy instead.\n",
      "\n",
      "WARNING:tensorflow:From d:\\Projects\\projects_python\\crystall_generation\\.venv\\Lib\\site-packages\\tensorflow\\python\\util\\deprecation.py:588: calling function (from tensorflow.python.eager.polymorphic_function.polymorphic_function) with experimental_relax_shapes is deprecated and will be removed in a future version.\n",
      "Instructions for updating:\n",
      "experimental_relax_shapes is deprecated, use reduce_retracing instead\n"
     ]
    }
   ],
   "source": [
    "from scr.invcryrep.invcryrep import InvCryRep\n",
    "from pymatgen.core.structure import Structure"
   ]
  },
  {
   "cell_type": "code",
   "execution_count": null,
   "metadata": {},
   "outputs": [],
   "source": [
    "original_structure = Structure.from_file(filename='output.cif')\n",
    "backend = SLICES(relax_model=\"chgnet\", graph_method='econnn')"
   ]
  },
  {
   "cell_type": "code",
   "execution_count": 2,
   "metadata": {},
   "outputs": [],
   "source": [
    "import pandas as pd\n",
    "data = pd.read_csv(\"../data/genCry_columns.csv\")"
   ]
  },
  {
   "cell_type": "code",
   "execution_count": 3,
   "metadata": {},
   "outputs": [
    {
     "data": {
      "text/plain": [
       "\"# generated using pymatgen\\ndata_Al4IrRu3\\n_symmetry_space_group_name_H-M   'P 1'\\n_cell_length_a   6.72763205\\n_cell_length_b   6.72763205\\n_cell_length_c   6.72763205\\n_cell_angle_alpha   143.20236153\\n_cell_angle_beta   143.20236153\\n_cell_angle_gamma   53.02172781\\n_symmetry_Int_Tables_number   1\\n_chemical_formula_structural   Al4IrRu3\\n_chemical_formula_sum   'Al4 Ir1 Ru3'\\n_cell_volume   108.58052229\\n_cell_formula_units_Z   1\\nloop_\\n _symmetry_equiv_pos_site_id\\n _symmetry_equiv_pos_as_xyz\\n  1  'x, y, z'\\nloop_\\n _atom_site_type_symbol\\n _atom_site_label\\n _atom_site_symmetry_multiplicity\\n _atom_site_fract_x\\n _atom_site_fract_y\\n _atom_site_fract_z\\n _atom_site_occupancy\\n  Al  Al0  1  2.12343902  0.00000000  4.51137524  1\\n  Al  Al1  1  0.00000000  2.12343902  1.50884456  1\\n  Al  Al2  1  2.12343902  0.00000000  1.50884456  1\\n  Al  Al3  1  0.00000000  2.12343902  4.51137524  1\\n  Ir  Ir4  1  0.00000000  0.00000000  6.02021980  1\\n  Ru  Ru5  1  0.00000000  0.00000000  0.00000000  1\\n  Ru  Ru6  1  -0.00000000  0.00000000  9.04250728  1\\n  Ru  Ru7  1  0.00000000  -0.00000000  2.99793232  1\\n\""
      ]
     },
     "execution_count": 3,
     "metadata": {},
     "output_type": "execute_result"
    }
   ],
   "source": [
    "test_cif = data.iloc[0]['cif']\n",
    "test_cif"
   ]
  },
  {
   "cell_type": "code",
   "execution_count": 5,
   "metadata": {},
   "outputs": [
    {
     "name": "stdout",
     "output_type": "stream",
     "text": [
      "Al Al Al Al Ir Ru Ru Ru 0 2 o o o 1 3 o o o 4 7 o + + 4 5 o + + 4 6 o o o 5 7 o o o \n",
      "i u y 1s 1s 1s v p y 1s 1s 1s\n",
      "Al Al Al Al Ir Ru Ru Ru 0 2 o o o 1 3 o o o 4 7 o + + 4 5 o + + 4 6 o o o 5 7 o o o i u y 1s 1s 1s v p y 1s 1s 1s\n"
     ]
    }
   ],
   "source": [
    "backend=InvCryRep()\n",
    "slice_part1, slice_part2, final_slice = backend.concatenate_slices(test_cif)\n",
    "print(slice_part1)\n",
    "print(slice_part2)\n",
    "print(final_slice)"
   ]
  },
  {
   "cell_type": "code",
   "execution_count": null,
   "metadata": {},
   "outputs": [],
   "source": [
    "original_structure = Structure.from_file(filename='output.cif')\n",
    "backend=InvCryRep()\n",
    "# converting a crystal structure to its SLICES string\n",
    "slices_NdSiRu=backend.concatenate_slices(original_structure,'output.cif')\n",
    "slices_NdSiRu"
   ]
  }
 ],
 "metadata": {
  "kernelspec": {
   "display_name": ".venv",
   "language": "python",
   "name": "python3"
  },
  "language_info": {
   "codemirror_mode": {
    "name": "ipython",
    "version": 3
   },
   "file_extension": ".py",
   "mimetype": "text/x-python",
   "name": "python",
   "nbconvert_exporter": "python",
   "pygments_lexer": "ipython3",
   "version": "3.11.7"
  }
 },
 "nbformat": 4,
 "nbformat_minor": 2
}
