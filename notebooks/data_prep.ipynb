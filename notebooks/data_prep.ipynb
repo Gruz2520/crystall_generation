{
 "cells": [
  {
   "cell_type": "code",
   "execution_count": 1,
   "metadata": {},
   "outputs": [],
   "source": [
    "from pymatgen.core import Structure, Lattice\n",
    "from pymatgen.entries.computed_entries import ComputedStructureEntry\n",
    "import json \n",
    "import pandas as pd\n",
    "from tqdm import tqdm\n",
    "import os"
   ]
  },
  {
   "cell_type": "markdown",
   "metadata": {},
   "source": [
    "## Alexandria"
   ]
  },
  {
   "cell_type": "markdown",
   "metadata": {},
   "source": [
    "---"
   ]
  },
  {
   "cell_type": "code",
   "execution_count": null,
   "metadata": {},
   "outputs": [
    {
     "name": "stdout",
     "output_type": "stream",
     "text": [
      "Перемещен файл: alexandria\\1\\alexandria_006.json\\alexandria_006.json -> alexandria\\alexandria_006.json\n",
      "Перемещен файл: alexandria\\1\\alexandria_007.json\\alexandria_007.json -> alexandria\\alexandria_007.json\n",
      "Перемещен файл: alexandria\\1\\alexandria_008.json\\alexandria_008.json -> alexandria\\alexandria_008.json\n",
      "Перемещен файл: alexandria\\1\\alexandria_009.json\\alexandria_009.json -> alexandria\\alexandria_009.json\n",
      "Перемещен файл: alexandria\\1\\alexandria_010.json\\alexandria_010.json -> alexandria\\alexandria_010.json\n",
      "Перемещен файл: alexandria\\1\\alexandria_011.json\\alexandria_011.json -> alexandria\\alexandria_011.json\n",
      "Перемещен файл: alexandria\\1\\alexandria_012.json\\alexandria_012.json -> alexandria\\alexandria_012.json\n",
      "Перемещен файл: alexandria\\1\\alexandria_013.json\\alexandria_013.json -> alexandria\\alexandria_013.json\n",
      "Перемещен файл: alexandria\\1\\alexandria_014.json\\alexandria_014.json -> alexandria\\alexandria_014.json\n",
      "Перемещен файл: alexandria\\1\\alexandria_015.json\\alexandria_015.json -> alexandria\\alexandria_015.json\n",
      "Перемещен файл: alexandria\\1\\alexandria_016.json\\alexandria_016.json -> alexandria\\alexandria_016.json\n",
      "Перемещен файл: alexandria\\1\\alexandria_017.json\\alexandria_017.json -> alexandria\\alexandria_017.json\n",
      "Перемещен файл: alexandria\\1\\alexandria_018.json\\alexandria_018.json -> alexandria\\alexandria_018.json\n",
      "Перемещен файл: alexandria\\1\\alexandria_019.json\\alexandria_019.json -> alexandria\\alexandria_019.json\n",
      "Перемещен файл: alexandria\\1\\alexandria_020.json\\alexandria_020.json -> alexandria\\alexandria_020.json\n",
      "Перемещен файл: alexandria\\1\\alexandria_021.json\\alexandria_021.json -> alexandria\\alexandria_021.json\n",
      "Перемещен файл: alexandria\\1\\alexandria_022.json\\alexandria_022.json -> alexandria\\alexandria_022.json\n",
      "Перемещен файл: alexandria\\1\\alexandria_023.json\\alexandria_023.json -> alexandria\\alexandria_023.json\n",
      "Перемещен файл: alexandria\\1\\alexandria_024.json\\alexandria_024.json -> alexandria\\alexandria_024.json\n",
      "Перемещен файл: alexandria\\1\\alexandria_025.json\\alexandria_025.json -> alexandria\\alexandria_025.json\n",
      "Перемещен файл: alexandria\\1\\alexandria_026.json\\alexandria_026.json -> alexandria\\alexandria_026.json\n",
      "Перемещен файл: alexandria\\1\\alexandria_027.json\\alexandria_027.json -> alexandria\\alexandria_027.json\n",
      "Перемещен файл: alexandria\\1\\alexandria_028.json\\alexandria_028.json -> alexandria\\alexandria_028.json\n",
      "Перемещен файл: alexandria\\1\\alexandria_029.json\\alexandria_029.json -> alexandria\\alexandria_029.json\n",
      "Перемещен файл: alexandria\\1\\alexandria_030.json\\alexandria_030.json -> alexandria\\alexandria_030.json\n",
      "Перемещен файл: alexandria\\1\\alexandria_031.json\\alexandria_031.json -> alexandria\\alexandria_031.json\n",
      "Перемещен файл: alexandria\\1\\alexandria_032.json\\alexandria_032.json -> alexandria\\alexandria_032.json\n",
      "Перемещен файл: alexandria\\1\\alexandria_033.json\\alexandria_033.json -> alexandria\\alexandria_033.json\n",
      "Перемещен файл: alexandria\\1\\alexandria_034.json\\alexandria_034.json -> alexandria\\alexandria_034.json\n",
      "Перемещен файл: alexandria\\1\\alexandria_035.json\\alexandria_035.json -> alexandria\\alexandria_035.json\n",
      "Перемещен файл: alexandria\\1\\alexandria_036.json\\alexandria_036.json -> alexandria\\alexandria_036.json\n",
      "Перемещен файл: alexandria\\1\\alexandria_037.json\\alexandria_037.json -> alexandria\\alexandria_037.json\n",
      "Перемещен файл: alexandria\\1\\alexandria_038.json\\alexandria_038.json -> alexandria\\alexandria_038.json\n",
      "Перемещен файл: alexandria\\1\\alexandria_039.json\\alexandria_039.json -> alexandria\\alexandria_039.json\n",
      "Перемещен файл: alexandria\\1\\alexandria_040.json\\alexandria_040.json -> alexandria\\alexandria_040.json\n",
      "Перемещен файл: alexandria\\1\\alexandria_041.json\\alexandria_041.json -> alexandria\\alexandria_041.json\n",
      "Перемещен файл: alexandria\\1\\alexandria_042.json\\alexandria_042.json -> alexandria\\alexandria_042.json\n",
      "Перемещен файл: alexandria\\1\\alexandria_043.json\\alexandria_043.json -> alexandria\\alexandria_043.json\n",
      "Перемещен файл: alexandria\\1\\alexandria_044.json\\alexandria_044.json -> alexandria\\alexandria_044.json\n",
      "Перемещен файл: alexandria\\1\\alexandria_045.json\\alexandria_045.json -> alexandria\\alexandria_045.json\n",
      "Перемещен файл: alexandria\\1\\alexandria_046.json\\alexandria_046.json -> alexandria\\alexandria_046.json\n",
      "Перемещен файл: alexandria\\1\\alexandria_047.json\\alexandria_047.json -> alexandria\\alexandria_047.json\n",
      "Перемещен файл: alexandria\\1\\alexandria_048.json\\alexandria_048.json -> alexandria\\alexandria_048.json\n",
      "Перемещен файл: alexandria\\1\\alexandria_049.json\\alexandria_049.json -> alexandria\\alexandria_049.json\n",
      "Перемещен файл: alexandria\\1\\alexandria_050.json\\alexandria_050.json -> alexandria\\alexandria_050.json\n",
      "Перемещен файл: alexandria\\1\\convex_hull_pbe.json\\convex_hull_pbe.json -> alexandria\\convex_hull_pbe.json\n",
      "Перемещен файл: alexandria\\1\\prototypes.tar\\prototypes.tar -> alexandria\\prototypes.tar\n"
     ]
    }
   ],
   "source": [
    "import os\n",
    "import shutil\n",
    "\n",
    "def move_files(source_directory, destination_directory):\n",
    "    os.makedirs(destination_directory, exist_ok=True)\n",
    "\n",
    "    for root, dirs, files in os.walk(source_directory):\n",
    "        for file in files:\n",
    "            source_file_path = os.path.join(root, file)\n",
    "            destination_file_path = os.path.join(destination_directory, file)\n",
    "\n",
    "            shutil.move(source_file_path, destination_file_path)\n",
    "            print(f\"Перемещен файл: {source_file_path} -> {destination_file_path}\")\n",
    "\n",
    "source_directory = 'alexandria\\\\1'\n",
    "destination_directory = 'alexandria\\\\'\n",
    "\n",
    "move_files(source_directory, destination_directory)\n"
   ]
  },
  {
   "cell_type": "code",
   "execution_count": 2,
   "metadata": {},
   "outputs": [],
   "source": [
    "def open_json(path: str):\n",
    "    with open(path) as file:\n",
    "        data = json.load(file)\n",
    "    return data['entries']"
   ]
  },
  {
   "cell_type": "code",
   "execution_count": 3,
   "metadata": {},
   "outputs": [],
   "source": [
    "def from_entry_to_cif_energy(data): \n",
    "    lattice = Lattice(data['structure']['lattice']['matrix'])\n",
    "\n",
    "    species = []\n",
    "    coords = []\n",
    "    for site in data['structure']['sites']:\n",
    "        for specie in site['species']:\n",
    "            species.append(specie['element'])\n",
    "            coords.append(site['xyz'])\n",
    "\n",
    "    structure = Structure(lattice, species, coords)\n",
    "\n",
    "    entry = ComputedStructureEntry(\n",
    "        structure=structure,\n",
    "        energy=data['energy'],\n",
    "        correction=data['correction'],\n",
    "        entry_id=data['entry_id'],\n",
    "        parameters=data['parameters'],\n",
    "        composition=data['composition'],\n",
    "        data=data['data']\n",
    "    )\n",
    "    cif_string = structure.to(fmt='cif')\n",
    "    \n",
    "    return cif_string, entry.data"
   ]
  },
  {
   "cell_type": "code",
   "execution_count": 4,
   "metadata": {},
   "outputs": [],
   "source": [
    "def create_dataframe(files: list, path_to_callback: str):\n",
    "    cifs_for_dataframe = []\n",
    "    data_for_dataframe = []\n",
    "    for file in tqdm(files):\n",
    "        entrys = open_json(file)\n",
    "        cifs_for_callback = []\n",
    "        data_for_callback = []\n",
    "        \n",
    "        for entry in entrys:\n",
    "            cif, entry_data = from_entry_to_cif_energy(entry)\n",
    "            cifs_for_callback.append(cif)\n",
    "            data_for_callback.append(entry_data)\n",
    "        \n",
    "        callback_df = pd.concat([pd.DataFrame(data_for_callback), pd.DataFrame({\"cif\": cifs_for_callback})], axis=1)\n",
    "        callback_df.to_csv(path_to_callback + os.path.basename(file)[:-5] + \".csv\")\n",
    "        \n",
    "        data_for_dataframe += data_for_callback\n",
    "        cifs_for_dataframe += cifs_for_callback\n",
    "            \n",
    "    df_entry_data = pd.DataFrame(data_for_dataframe)\n",
    "    df_cif = pd.DataFrame({\"cif\": cifs_for_dataframe})\n",
    "    \n",
    "    final_df = pd.concat([df_entry_data, df_cif], axis=1)\n",
    "    \n",
    "    return final_df            \n",
    "        "
   ]
  },
  {
   "cell_type": "code",
   "execution_count": null,
   "metadata": {},
   "outputs": [],
   "source": [
    "directory_path = 'alexandria\\\\jsons\\\\'\n",
    "\n",
    "files = [os.path.join(directory_path, f) for f in os.listdir(directory_path) if os.path.isfile(os.path.join(directory_path, f))]"
   ]
  },
  {
   "cell_type": "code",
   "execution_count": 6,
   "metadata": {},
   "outputs": [
    {
     "name": "stderr",
     "output_type": "stream",
     "text": [
      "  0%|          | 0/1 [00:00<?, ?it/s]d:\\Projects\\projects_python\\genCry\\.venv\\Lib\\site-packages\\pymatgen\\core\\composition.py:1337: UserWarning: No Pauling electronegativity for Ar. Setting to NaN. This has no physical meaning, and is mainly done to avoid errors caused by the code expecting a float.\n",
      "  syms = sorted(sym_amt, key=lambda x: [get_el_sp(x).X, x])\n",
      "d:\\Projects\\projects_python\\genCry\\.venv\\Lib\\site-packages\\pymatgen\\core\\composition.py:366: UserWarning: No Pauling electronegativity for Ar. Setting to NaN. This has no physical meaning, and is mainly done to avoid errors caused by the code expecting a float.\n",
      "  syms = sorted(sym_amt, key=lambda sym: get_el_sp(sym).X)\n",
      "d:\\Projects\\projects_python\\genCry\\.venv\\Lib\\site-packages\\pymatgen\\core\\composition.py:1337: UserWarning: No Pauling electronegativity for Ne. Setting to NaN. This has no physical meaning, and is mainly done to avoid errors caused by the code expecting a float.\n",
      "  syms = sorted(sym_amt, key=lambda x: [get_el_sp(x).X, x])\n",
      "d:\\Projects\\projects_python\\genCry\\.venv\\Lib\\site-packages\\pymatgen\\core\\composition.py:366: UserWarning: No Pauling electronegativity for Ne. Setting to NaN. This has no physical meaning, and is mainly done to avoid errors caused by the code expecting a float.\n",
      "  syms = sorted(sym_amt, key=lambda sym: get_el_sp(sym).X)\n",
      "d:\\Projects\\projects_python\\genCry\\.venv\\Lib\\site-packages\\pymatgen\\core\\composition.py:1337: UserWarning: No Pauling electronegativity for He. Setting to NaN. This has no physical meaning, and is mainly done to avoid errors caused by the code expecting a float.\n",
      "  syms = sorted(sym_amt, key=lambda x: [get_el_sp(x).X, x])\n",
      "d:\\Projects\\projects_python\\genCry\\.venv\\Lib\\site-packages\\pymatgen\\core\\composition.py:366: UserWarning: No Pauling electronegativity for He. Setting to NaN. This has no physical meaning, and is mainly done to avoid errors caused by the code expecting a float.\n",
      "  syms = sorted(sym_amt, key=lambda sym: get_el_sp(sym).X)\n",
      "100%|██████████| 1/1 [03:06<00:00, 186.68s/it]\n"
     ]
    }
   ],
   "source": [
    "alexandria_dataframe = create_dataframe([\"D:\\Projects\\projects_python\\genCry\\\\alexandria\\convex_hull_pbe.json\"], \"alexandria\\\\callbacks\\\\\")"
   ]
  },
  {
   "cell_type": "code",
   "execution_count": null,
   "metadata": {},
   "outputs": [
    {
     "name": "stdout",
     "output_type": "stream",
     "text": [
      "Все файлы объединены в: alexandria\\alexandria_full.csv\n"
     ]
    }
   ],
   "source": [
    "directory_path = 'alexandria\\callbacks'\n",
    "output_file_path = 'alexandria\\\\alexandria_full.csv'\n",
    "\n",
    "csv_files = [f for f in os.listdir(directory_path) if f.endswith('.csv')]\n",
    "\n",
    "dataframes = []\n",
    "\n",
    "for csv_file in csv_files:\n",
    "    file_path = os.path.join(directory_path, csv_file)  \n",
    "    df = pd.read_csv(file_path)\n",
    "    dataframes.append(df)  \n",
    "\n",
    "combined_df = pd.concat(dataframes, ignore_index=True)\n",
    "\n",
    "combined_df.to_csv(output_file_path, index=False)\n",
    "\n",
    "print(f\"Все файлы объединены в: {output_file_path}\")"
   ]
  },
  {
   "cell_type": "code",
   "execution_count": 65,
   "metadata": {},
   "outputs": [],
   "source": [
    "data = pd.read_csv(\"alexandria\\\\alexandria_full.csv\")"
   ]
  },
  {
   "cell_type": "code",
   "execution_count": 66,
   "metadata": {},
   "outputs": [
    {
     "data": {
      "text/plain": [
       "2959302"
      ]
     },
     "execution_count": 66,
     "metadata": {},
     "output_type": "execute_result"
    }
   ],
   "source": [
    "len(data.formula.unique())"
   ]
  },
  {
   "cell_type": "code",
   "execution_count": 56,
   "metadata": {},
   "outputs": [],
   "source": [
    "alex_pbe = pd.read_csv(\"alexandria/convex_hull_pbe.csv\")"
   ]
  },
  {
   "cell_type": "code",
   "execution_count": 62,
   "metadata": {},
   "outputs": [
    {
     "data": {
      "text/plain": [
       "144651"
      ]
     },
     "execution_count": 62,
     "metadata": {},
     "output_type": "execute_result"
    }
   ],
   "source": [
    "len(alex_pbe.formula.unique())"
   ]
  },
  {
   "cell_type": "code",
   "execution_count": 63,
   "metadata": {},
   "outputs": [
    {
     "data": {
      "text/plain": [
       "Index(['Unnamed: 0', 'mat_id', 'prototype_id', 'location', 'formula',\n",
       "       'elements', 'spg', 'nsites', 'stress', 'energy_total', 'total_mag',\n",
       "       'band_gap_ind', 'band_gap_dir', 'dos_ef', 'energy_corrected',\n",
       "       'e_above_hull', 'e_form', 'e_phase_separation', 'decomposition',\n",
       "       'in_nomad', 'cif'],\n",
       "      dtype='object')"
      ]
     },
     "execution_count": 63,
     "metadata": {},
     "output_type": "execute_result"
    }
   ],
   "source": [
    "alex_pbe.columns"
   ]
  },
  {
   "cell_type": "markdown",
   "metadata": {},
   "source": [
    "## Alchemy"
   ]
  },
  {
   "cell_type": "markdown",
   "metadata": {},
   "source": [
    "чет как-то не пон как правильно сделать конвертацию из sdf в cif. Не понимаю откуда взять Lattice и переодичность"
   ]
  },
  {
   "cell_type": "code",
   "execution_count": 1,
   "metadata": {},
   "outputs": [],
   "source": [
    "from pymatgen.core import Structure, Lattice\n",
    "from pymatgen.entries.computed_entries import ComputedStructureEntry\n",
    "import json \n",
    "import pandas as pd\n",
    "from tqdm import tqdm\n",
    "import os"
   ]
  },
  {
   "cell_type": "code",
   "execution_count": 2,
   "metadata": {},
   "outputs": [
    {
     "data": {
      "text/html": [
       "<div>\n",
       "<style scoped>\n",
       "    .dataframe tbody tr th:only-of-type {\n",
       "        vertical-align: middle;\n",
       "    }\n",
       "\n",
       "    .dataframe tbody tr th {\n",
       "        vertical-align: top;\n",
       "    }\n",
       "\n",
       "    .dataframe thead th {\n",
       "        text-align: right;\n",
       "    }\n",
       "</style>\n",
       "<table border=\"1\" class=\"dataframe\">\n",
       "  <thead>\n",
       "    <tr style=\"text-align: right;\">\n",
       "      <th></th>\n",
       "      <th>gdb_idx</th>\n",
       "      <th>atom number</th>\n",
       "      <th>zpve\\n(Ha, zero point vibrational energy)</th>\n",
       "      <th>Cv\\n(cal/molK, heat capacity at 298.15 K)</th>\n",
       "      <th>gap\\n(Ha, LUMO-HOMO)</th>\n",
       "      <th>G\\n(Ha, Free energy at 298.15 K)</th>\n",
       "      <th>HOMO\\n(Ha, energy of HOMO)</th>\n",
       "      <th>U\\n(Ha, internal energy at 298.15 K)</th>\n",
       "      <th>alpha\\n(a_0^3, Isotropic polarizability)</th>\n",
       "      <th>U0\\n(Ha, internal energy at 0 K)</th>\n",
       "      <th>H\\n(Ha, enthalpy at 298.15 K)</th>\n",
       "      <th>LUMO\\n(Ha, energy of LUMO)</th>\n",
       "      <th>mu\\n(D, dipole moment)</th>\n",
       "      <th>R2\\n(a_0^2, electronic spatial extent)</th>\n",
       "    </tr>\n",
       "  </thead>\n",
       "  <tbody>\n",
       "    <tr>\n",
       "      <th>0</th>\n",
       "      <td>2859833</td>\n",
       "      <td>9</td>\n",
       "      <td>0.226164</td>\n",
       "      <td>0.000067</td>\n",
       "      <td>0.300531</td>\n",
       "      <td>-352.128828</td>\n",
       "      <td>-0.236722</td>\n",
       "      <td>-352.076085</td>\n",
       "      <td>99.201621</td>\n",
       "      <td>-352.088194</td>\n",
       "      <td>-352.075141</td>\n",
       "      <td>0.063809</td>\n",
       "      <td>0.180558</td>\n",
       "      <td>1919.249225</td>\n",
       "    </tr>\n",
       "    <tr>\n",
       "      <th>1</th>\n",
       "      <td>3148292</td>\n",
       "      <td>9</td>\n",
       "      <td>0.180782</td>\n",
       "      <td>0.000058</td>\n",
       "      <td>0.293098</td>\n",
       "      <td>-386.820766</td>\n",
       "      <td>-0.241536</td>\n",
       "      <td>-386.774917</td>\n",
       "      <td>84.670738</td>\n",
       "      <td>-386.784878</td>\n",
       "      <td>-386.773973</td>\n",
       "      <td>0.051562</td>\n",
       "      <td>1.302656</td>\n",
       "      <td>1420.242859</td>\n",
       "    </tr>\n",
       "    <tr>\n",
       "      <th>2</th>\n",
       "      <td>3607838</td>\n",
       "      <td>9</td>\n",
       "      <td>0.205922</td>\n",
       "      <td>0.000057</td>\n",
       "      <td>0.307544</td>\n",
       "      <td>-388.062328</td>\n",
       "      <td>-0.224965</td>\n",
       "      <td>-388.018758</td>\n",
       "      <td>86.198178</td>\n",
       "      <td>-388.028208</td>\n",
       "      <td>-388.017814</td>\n",
       "      <td>0.082579</td>\n",
       "      <td>1.284923</td>\n",
       "      <td>1257.238492</td>\n",
       "    </tr>\n",
       "    <tr>\n",
       "      <th>3</th>\n",
       "      <td>9540153</td>\n",
       "      <td>11</td>\n",
       "      <td>0.160845</td>\n",
       "      <td>0.000056</td>\n",
       "      <td>0.195923</td>\n",
       "      <td>-515.046508</td>\n",
       "      <td>-0.203538</td>\n",
       "      <td>-515.001198</td>\n",
       "      <td>95.801267</td>\n",
       "      <td>-515.010568</td>\n",
       "      <td>-515.000254</td>\n",
       "      <td>-0.007615</td>\n",
       "      <td>4.074910</td>\n",
       "      <td>1600.220066</td>\n",
       "    </tr>\n",
       "    <tr>\n",
       "      <th>4</th>\n",
       "      <td>340363</td>\n",
       "      <td>10</td>\n",
       "      <td>0.177712</td>\n",
       "      <td>0.000057</td>\n",
       "      <td>0.254495</td>\n",
       "      <td>-403.843164</td>\n",
       "      <td>-0.248943</td>\n",
       "      <td>-403.800346</td>\n",
       "      <td>95.147725</td>\n",
       "      <td>-403.809426</td>\n",
       "      <td>-403.799402</td>\n",
       "      <td>0.005552</td>\n",
       "      <td>4.111533</td>\n",
       "      <td>1442.171110</td>\n",
       "    </tr>\n",
       "    <tr>\n",
       "      <th>...</th>\n",
       "      <td>...</td>\n",
       "      <td>...</td>\n",
       "      <td>...</td>\n",
       "      <td>...</td>\n",
       "      <td>...</td>\n",
       "      <td>...</td>\n",
       "      <td>...</td>\n",
       "      <td>...</td>\n",
       "      <td>...</td>\n",
       "      <td>...</td>\n",
       "      <td>...</td>\n",
       "      <td>...</td>\n",
       "      <td>...</td>\n",
       "      <td>...</td>\n",
       "    </tr>\n",
       "    <tr>\n",
       "      <th>202574</th>\n",
       "      <td>9581016</td>\n",
       "      <td>10</td>\n",
       "      <td>0.120222</td>\n",
       "      <td>0.000051</td>\n",
       "      <td>0.179768</td>\n",
       "      <td>-450.915828</td>\n",
       "      <td>-0.244325</td>\n",
       "      <td>-450.872449</td>\n",
       "      <td>88.581216</td>\n",
       "      <td>-450.881390</td>\n",
       "      <td>-450.871505</td>\n",
       "      <td>-0.064557</td>\n",
       "      <td>6.434535</td>\n",
       "      <td>1541.115465</td>\n",
       "    </tr>\n",
       "    <tr>\n",
       "      <th>202575</th>\n",
       "      <td>9706527</td>\n",
       "      <td>10</td>\n",
       "      <td>0.130179</td>\n",
       "      <td>0.000053</td>\n",
       "      <td>0.189401</td>\n",
       "      <td>-438.632624</td>\n",
       "      <td>-0.231340</td>\n",
       "      <td>-438.589755</td>\n",
       "      <td>96.102362</td>\n",
       "      <td>-438.598674</td>\n",
       "      <td>-438.588811</td>\n",
       "      <td>-0.041938</td>\n",
       "      <td>0.338522</td>\n",
       "      <td>1628.839361</td>\n",
       "    </tr>\n",
       "    <tr>\n",
       "      <th>202576</th>\n",
       "      <td>9760179</td>\n",
       "      <td>10</td>\n",
       "      <td>0.119919</td>\n",
       "      <td>0.000051</td>\n",
       "      <td>0.163827</td>\n",
       "      <td>-450.920199</td>\n",
       "      <td>-0.232783</td>\n",
       "      <td>-450.875248</td>\n",
       "      <td>89.074794</td>\n",
       "      <td>-450.884399</td>\n",
       "      <td>-450.874304</td>\n",
       "      <td>-0.068956</td>\n",
       "      <td>4.337358</td>\n",
       "      <td>1497.024559</td>\n",
       "    </tr>\n",
       "    <tr>\n",
       "      <th>202577</th>\n",
       "      <td>9845175</td>\n",
       "      <td>10</td>\n",
       "      <td>0.119740</td>\n",
       "      <td>0.000050</td>\n",
       "      <td>0.191354</td>\n",
       "      <td>-454.722866</td>\n",
       "      <td>-0.251374</td>\n",
       "      <td>-454.680504</td>\n",
       "      <td>89.026059</td>\n",
       "      <td>-454.689065</td>\n",
       "      <td>-454.679560</td>\n",
       "      <td>-0.060020</td>\n",
       "      <td>5.263580</td>\n",
       "      <td>1611.219983</td>\n",
       "    </tr>\n",
       "    <tr>\n",
       "      <th>202578</th>\n",
       "      <td>9880714</td>\n",
       "      <td>10</td>\n",
       "      <td>0.142321</td>\n",
       "      <td>0.000056</td>\n",
       "      <td>0.174621</td>\n",
       "      <td>-418.749178</td>\n",
       "      <td>-0.205386</td>\n",
       "      <td>-418.705718</td>\n",
       "      <td>102.047139</td>\n",
       "      <td>-418.714996</td>\n",
       "      <td>-418.704773</td>\n",
       "      <td>-0.030765</td>\n",
       "      <td>3.512302</td>\n",
       "      <td>1685.001141</td>\n",
       "    </tr>\n",
       "  </tbody>\n",
       "</table>\n",
       "<p>202579 rows × 14 columns</p>\n",
       "</div>"
      ],
      "text/plain": [
       "        gdb_idx  atom number  zpve\\n(Ha, zero point vibrational energy)  \\\n",
       "0       2859833            9                                   0.226164   \n",
       "1       3148292            9                                   0.180782   \n",
       "2       3607838            9                                   0.205922   \n",
       "3       9540153           11                                   0.160845   \n",
       "4        340363           10                                   0.177712   \n",
       "...         ...          ...                                        ...   \n",
       "202574  9581016           10                                   0.120222   \n",
       "202575  9706527           10                                   0.130179   \n",
       "202576  9760179           10                                   0.119919   \n",
       "202577  9845175           10                                   0.119740   \n",
       "202578  9880714           10                                   0.142321   \n",
       "\n",
       "        Cv\\n(cal/molK, heat capacity at 298.15 K)  gap\\n(Ha, LUMO-HOMO)  \\\n",
       "0                                        0.000067              0.300531   \n",
       "1                                        0.000058              0.293098   \n",
       "2                                        0.000057              0.307544   \n",
       "3                                        0.000056              0.195923   \n",
       "4                                        0.000057              0.254495   \n",
       "...                                           ...                   ...   \n",
       "202574                                   0.000051              0.179768   \n",
       "202575                                   0.000053              0.189401   \n",
       "202576                                   0.000051              0.163827   \n",
       "202577                                   0.000050              0.191354   \n",
       "202578                                   0.000056              0.174621   \n",
       "\n",
       "        G\\n(Ha, Free energy at 298.15 K)  HOMO\\n(Ha, energy of HOMO)  \\\n",
       "0                            -352.128828                   -0.236722   \n",
       "1                            -386.820766                   -0.241536   \n",
       "2                            -388.062328                   -0.224965   \n",
       "3                            -515.046508                   -0.203538   \n",
       "4                            -403.843164                   -0.248943   \n",
       "...                                  ...                         ...   \n",
       "202574                       -450.915828                   -0.244325   \n",
       "202575                       -438.632624                   -0.231340   \n",
       "202576                       -450.920199                   -0.232783   \n",
       "202577                       -454.722866                   -0.251374   \n",
       "202578                       -418.749178                   -0.205386   \n",
       "\n",
       "        U\\n(Ha, internal energy at 298.15 K)  \\\n",
       "0                                -352.076085   \n",
       "1                                -386.774917   \n",
       "2                                -388.018758   \n",
       "3                                -515.001198   \n",
       "4                                -403.800346   \n",
       "...                                      ...   \n",
       "202574                           -450.872449   \n",
       "202575                           -438.589755   \n",
       "202576                           -450.875248   \n",
       "202577                           -454.680504   \n",
       "202578                           -418.705718   \n",
       "\n",
       "        alpha\\n(a_0^3, Isotropic polarizability)  \\\n",
       "0                                      99.201621   \n",
       "1                                      84.670738   \n",
       "2                                      86.198178   \n",
       "3                                      95.801267   \n",
       "4                                      95.147725   \n",
       "...                                          ...   \n",
       "202574                                 88.581216   \n",
       "202575                                 96.102362   \n",
       "202576                                 89.074794   \n",
       "202577                                 89.026059   \n",
       "202578                                102.047139   \n",
       "\n",
       "        U0\\n(Ha, internal energy at 0 K)  H\\n(Ha, enthalpy at 298.15 K)  \\\n",
       "0                            -352.088194                    -352.075141   \n",
       "1                            -386.784878                    -386.773973   \n",
       "2                            -388.028208                    -388.017814   \n",
       "3                            -515.010568                    -515.000254   \n",
       "4                            -403.809426                    -403.799402   \n",
       "...                                  ...                            ...   \n",
       "202574                       -450.881390                    -450.871505   \n",
       "202575                       -438.598674                    -438.588811   \n",
       "202576                       -450.884399                    -450.874304   \n",
       "202577                       -454.689065                    -454.679560   \n",
       "202578                       -418.714996                    -418.704773   \n",
       "\n",
       "        LUMO\\n(Ha, energy of LUMO)  mu\\n(D, dipole moment)  \\\n",
       "0                         0.063809                0.180558   \n",
       "1                         0.051562                1.302656   \n",
       "2                         0.082579                1.284923   \n",
       "3                        -0.007615                4.074910   \n",
       "4                         0.005552                4.111533   \n",
       "...                            ...                     ...   \n",
       "202574                   -0.064557                6.434535   \n",
       "202575                   -0.041938                0.338522   \n",
       "202576                   -0.068956                4.337358   \n",
       "202577                   -0.060020                5.263580   \n",
       "202578                   -0.030765                3.512302   \n",
       "\n",
       "        R2\\n(a_0^2, electronic spatial extent)  \n",
       "0                                  1919.249225  \n",
       "1                                  1420.242859  \n",
       "2                                  1257.238492  \n",
       "3                                  1600.220066  \n",
       "4                                  1442.171110  \n",
       "...                                        ...  \n",
       "202574                             1541.115465  \n",
       "202575                             1628.839361  \n",
       "202576                             1497.024559  \n",
       "202577                             1611.219983  \n",
       "202578                             1685.001141  \n",
       "\n",
       "[202579 rows x 14 columns]"
      ]
     },
     "execution_count": 2,
     "metadata": {},
     "output_type": "execute_result"
    }
   ],
   "source": [
    "pd.read_csv(\"alchemy-v20191129//final_version.csv\")"
   ]
  },
  {
   "cell_type": "code",
   "execution_count": 4,
   "metadata": {},
   "outputs": [],
   "source": [
    "from rdkit import Chem\n",
    "\n",
    "# Укажите путь к вашему .sdf файлу\n",
    "sdf_file = 'D:\\Projects\\projects_python\\genCry\\\\alchemy-v20191129\\\\atom_9\\\\2859833.sdf'\n",
    "cif_file = 'file.cif'\n",
    "\n",
    "# Считываем молекулы из .sdf файла\n",
    "suppl = Chem.SDMolSupplier(sdf_file)\n",
    "\n",
    "# Обрабатываем каждую молекулу и сохраняем в .cif файл\n",
    "with open(cif_file, 'w') as f:\n",
    "    for mol in suppl:\n",
    "        if mol is not None:  # если молекула была загружена успешно\n",
    "            # Преобразуем молекулу в CIF формат\n",
    "            cif_data = Chem.MolToMolBlock(mol)\n",
    "            f.write(cif_data + '\\n')\n"
   ]
  },
  {
   "cell_type": "code",
   "execution_count": 8,
   "metadata": {},
   "outputs": [
    {
     "ename": "ValueError",
     "evalue": "cannot reshape array of size 1 into shape (3,3)",
     "output_type": "error",
     "traceback": [
      "\u001b[1;31m---------------------------------------------------------------------------\u001b[0m",
      "\u001b[1;31mValueError\u001b[0m                                Traceback (most recent call last)",
      "Cell \u001b[1;32mIn[8], line 18\u001b[0m\n\u001b[0;32m     15\u001b[0m coords \u001b[38;5;241m=\u001b[39m mol\u001b[38;5;241m.\u001b[39mGetConformer()\u001b[38;5;241m.\u001b[39mGetPositions()\n\u001b[0;32m     17\u001b[0m \u001b[38;5;66;03m# Создаем структуру pymatgen\u001b[39;00m\n\u001b[1;32m---> 18\u001b[0m structure \u001b[38;5;241m=\u001b[39m \u001b[43mStructure\u001b[49m\u001b[43m(\u001b[49m\u001b[43mlattice\u001b[49m\u001b[38;5;241;43m=\u001b[39;49m\u001b[38;5;28;43;01mNone\u001b[39;49;00m\u001b[43m,\u001b[49m\u001b[43m \u001b[49m\u001b[43mspecies\u001b[49m\u001b[38;5;241;43m=\u001b[39;49m\u001b[43matomic_numbers\u001b[49m\u001b[43m,\u001b[49m\u001b[43m \u001b[49m\u001b[43mcoords\u001b[49m\u001b[38;5;241;43m=\u001b[39;49m\u001b[43mcoords\u001b[49m\u001b[43m)\u001b[49m\n\u001b[0;32m     20\u001b[0m \u001b[38;5;66;03m# Выводим информацию о структуре\u001b[39;00m\n\u001b[0;32m     21\u001b[0m \u001b[38;5;28mprint\u001b[39m(structure)\n",
      "File \u001b[1;32md:\\Projects\\projects_python\\genCry\\.venv\\Lib\\site-packages\\pymatgen\\core\\structure.py:4098\u001b[0m, in \u001b[0;36mStructure.__init__\u001b[1;34m(self, lattice, species, coords, charge, validate_proximity, to_unit_cell, coords_are_cartesian, site_properties, labels, properties)\u001b[0m\n\u001b[0;32m   4045\u001b[0m \u001b[38;5;28;01mdef\u001b[39;00m\u001b[38;5;250m \u001b[39m\u001b[38;5;21m__init__\u001b[39m(\n\u001b[0;32m   4046\u001b[0m     \u001b[38;5;28mself\u001b[39m,\n\u001b[0;32m   4047\u001b[0m     lattice: ArrayLike \u001b[38;5;241m|\u001b[39m Lattice,\n\u001b[1;32m   (...)\u001b[0m\n\u001b[0;32m   4056\u001b[0m     properties: \u001b[38;5;28mdict\u001b[39m \u001b[38;5;241m|\u001b[39m \u001b[38;5;28;01mNone\u001b[39;00m \u001b[38;5;241m=\u001b[39m \u001b[38;5;28;01mNone\u001b[39;00m,\n\u001b[0;32m   4057\u001b[0m ) \u001b[38;5;241m-\u001b[39m\u001b[38;5;241m>\u001b[39m \u001b[38;5;28;01mNone\u001b[39;00m:\n\u001b[0;32m   4058\u001b[0m \u001b[38;5;250m    \u001b[39m\u001b[38;5;124;03m\"\"\"Create a periodic structure.\u001b[39;00m\n\u001b[0;32m   4059\u001b[0m \n\u001b[0;32m   4060\u001b[0m \u001b[38;5;124;03m    Args:\u001b[39;00m\n\u001b[1;32m   (...)\u001b[0m\n\u001b[0;32m   4096\u001b[0m \u001b[38;5;124;03m            lost when converting to other formats.\u001b[39;00m\n\u001b[0;32m   4097\u001b[0m \u001b[38;5;124;03m    \"\"\"\u001b[39;00m\n\u001b[1;32m-> 4098\u001b[0m     \u001b[38;5;28;43msuper\u001b[39;49m\u001b[43m(\u001b[49m\u001b[43m)\u001b[49m\u001b[38;5;241;43m.\u001b[39;49m\u001b[38;5;21;43m__init__\u001b[39;49m\u001b[43m(\u001b[49m\n\u001b[0;32m   4099\u001b[0m \u001b[43m        \u001b[49m\u001b[43mlattice\u001b[49m\u001b[43m,\u001b[49m\n\u001b[0;32m   4100\u001b[0m \u001b[43m        \u001b[49m\u001b[43mspecies\u001b[49m\u001b[43m,\u001b[49m\n\u001b[0;32m   4101\u001b[0m \u001b[43m        \u001b[49m\u001b[43mcoords\u001b[49m\u001b[43m,\u001b[49m\n\u001b[0;32m   4102\u001b[0m \u001b[43m        \u001b[49m\u001b[43mcharge\u001b[49m\u001b[38;5;241;43m=\u001b[39;49m\u001b[43mcharge\u001b[49m\u001b[43m,\u001b[49m\n\u001b[0;32m   4103\u001b[0m \u001b[43m        \u001b[49m\u001b[43mvalidate_proximity\u001b[49m\u001b[38;5;241;43m=\u001b[39;49m\u001b[43mvalidate_proximity\u001b[49m\u001b[43m,\u001b[49m\n\u001b[0;32m   4104\u001b[0m \u001b[43m        \u001b[49m\u001b[43mto_unit_cell\u001b[49m\u001b[38;5;241;43m=\u001b[39;49m\u001b[43mto_unit_cell\u001b[49m\u001b[43m,\u001b[49m\n\u001b[0;32m   4105\u001b[0m \u001b[43m        \u001b[49m\u001b[43mcoords_are_cartesian\u001b[49m\u001b[38;5;241;43m=\u001b[39;49m\u001b[43mcoords_are_cartesian\u001b[49m\u001b[43m,\u001b[49m\n\u001b[0;32m   4106\u001b[0m \u001b[43m        \u001b[49m\u001b[43msite_properties\u001b[49m\u001b[38;5;241;43m=\u001b[39;49m\u001b[43msite_properties\u001b[49m\u001b[43m,\u001b[49m\n\u001b[0;32m   4107\u001b[0m \u001b[43m        \u001b[49m\u001b[43mlabels\u001b[49m\u001b[38;5;241;43m=\u001b[39;49m\u001b[43mlabels\u001b[49m\u001b[43m,\u001b[49m\n\u001b[0;32m   4108\u001b[0m \u001b[43m        \u001b[49m\u001b[43mproperties\u001b[49m\u001b[38;5;241;43m=\u001b[39;49m\u001b[43mproperties\u001b[49m\u001b[43m,\u001b[49m\n\u001b[0;32m   4109\u001b[0m \u001b[43m    \u001b[49m\u001b[43m)\u001b[49m\n\u001b[0;32m   4111\u001b[0m     \u001b[38;5;28mself\u001b[39m\u001b[38;5;241m.\u001b[39m_sites: \u001b[38;5;28mlist\u001b[39m[PeriodicSite] \u001b[38;5;241m=\u001b[39m \u001b[38;5;28mlist\u001b[39m(\u001b[38;5;28mself\u001b[39m\u001b[38;5;241m.\u001b[39m_sites)\n",
      "File \u001b[1;32md:\\Projects\\projects_python\\genCry\\.venv\\Lib\\site-packages\\pymatgen\\core\\structure.py:1076\u001b[0m, in \u001b[0;36mIStructure.__init__\u001b[1;34m(self, lattice, species, coords, charge, validate_proximity, to_unit_cell, coords_are_cartesian, site_properties, labels, properties)\u001b[0m\n\u001b[0;32m   1073\u001b[0m \u001b[38;5;28;01mif\u001b[39;00m \u001b[38;5;28mlen\u001b[39m(species) \u001b[38;5;241m!=\u001b[39m \u001b[38;5;28mlen\u001b[39m(coords):\n\u001b[0;32m   1074\u001b[0m     \u001b[38;5;28;01mraise\u001b[39;00m StructureError(\u001b[38;5;124mf\u001b[39m\u001b[38;5;124m\"\u001b[39m\u001b[38;5;132;01m{\u001b[39;00m\u001b[38;5;28mlen\u001b[39m(species)\u001b[38;5;132;01m=}\u001b[39;00m\u001b[38;5;124m != \u001b[39m\u001b[38;5;132;01m{\u001b[39;00m\u001b[38;5;28mlen\u001b[39m(coords)\u001b[38;5;132;01m=}\u001b[39;00m\u001b[38;5;124m\"\u001b[39m)\n\u001b[1;32m-> 1076\u001b[0m \u001b[38;5;28mself\u001b[39m\u001b[38;5;241m.\u001b[39m_lattice \u001b[38;5;241m=\u001b[39m lattice \u001b[38;5;28;01mif\u001b[39;00m \u001b[38;5;28misinstance\u001b[39m(lattice, Lattice) \u001b[38;5;28;01melse\u001b[39;00m \u001b[43mLattice\u001b[49m\u001b[43m(\u001b[49m\u001b[43mlattice\u001b[49m\u001b[43m)\u001b[49m\n\u001b[0;32m   1078\u001b[0m sites \u001b[38;5;241m=\u001b[39m []\n\u001b[0;32m   1079\u001b[0m \u001b[38;5;28;01mfor\u001b[39;00m idx, specie \u001b[38;5;129;01min\u001b[39;00m \u001b[38;5;28menumerate\u001b[39m(species):\n",
      "File \u001b[1;32md:\\Projects\\projects_python\\genCry\\.venv\\Lib\\site-packages\\pymatgen\\core\\lattice.py:69\u001b[0m, in \u001b[0;36mLattice.__init__\u001b[1;34m(self, matrix, pbc)\u001b[0m\n\u001b[0;32m     47\u001b[0m \u001b[38;5;28;01mdef\u001b[39;00m\u001b[38;5;250m \u001b[39m\u001b[38;5;21m__init__\u001b[39m(\n\u001b[0;32m     48\u001b[0m     \u001b[38;5;28mself\u001b[39m,\n\u001b[0;32m     49\u001b[0m     matrix: ArrayLike,\n\u001b[0;32m     50\u001b[0m     pbc: PbcLike \u001b[38;5;241m=\u001b[39m (\u001b[38;5;28;01mTrue\u001b[39;00m, \u001b[38;5;28;01mTrue\u001b[39;00m, \u001b[38;5;28;01mTrue\u001b[39;00m),\n\u001b[0;32m     51\u001b[0m ) \u001b[38;5;241m-\u001b[39m\u001b[38;5;241m>\u001b[39m \u001b[38;5;28;01mNone\u001b[39;00m:\n\u001b[0;32m     52\u001b[0m \u001b[38;5;250m    \u001b[39m\u001b[38;5;124;03m\"\"\"Create a lattice from any sequence of 9 numbers. Note that the sequence\u001b[39;00m\n\u001b[0;32m     53\u001b[0m \u001b[38;5;124;03m    is assumed to be read one row at a time. Each row represents one\u001b[39;00m\n\u001b[0;32m     54\u001b[0m \u001b[38;5;124;03m    lattice vector.\u001b[39;00m\n\u001b[1;32m   (...)\u001b[0m\n\u001b[0;32m     67\u001b[0m \u001b[38;5;124;03m            axis of the lattice.\u001b[39;00m\n\u001b[0;32m     68\u001b[0m \u001b[38;5;124;03m    \"\"\"\u001b[39;00m\n\u001b[1;32m---> 69\u001b[0m     mat \u001b[38;5;241m=\u001b[39m \u001b[43mnp\u001b[49m\u001b[38;5;241;43m.\u001b[39;49m\u001b[43marray\u001b[49m\u001b[43m(\u001b[49m\u001b[43mmatrix\u001b[49m\u001b[43m,\u001b[49m\u001b[43m \u001b[49m\u001b[43mdtype\u001b[49m\u001b[38;5;241;43m=\u001b[39;49m\u001b[43mnp\u001b[49m\u001b[38;5;241;43m.\u001b[39;49m\u001b[43mfloat64\u001b[49m\u001b[43m)\u001b[49m\u001b[38;5;241;43m.\u001b[39;49m\u001b[43mreshape\u001b[49m\u001b[43m(\u001b[49m\u001b[43m(\u001b[49m\u001b[38;5;241;43m3\u001b[39;49m\u001b[43m,\u001b[49m\u001b[43m \u001b[49m\u001b[38;5;241;43m3\u001b[39;49m\u001b[43m)\u001b[49m\u001b[43m)\u001b[49m\n\u001b[0;32m     70\u001b[0m     mat\u001b[38;5;241m.\u001b[39msetflags(write\u001b[38;5;241m=\u001b[39m\u001b[38;5;28;01mFalse\u001b[39;00m)\n\u001b[0;32m     71\u001b[0m     \u001b[38;5;28mself\u001b[39m\u001b[38;5;241m.\u001b[39m_matrix: np\u001b[38;5;241m.\u001b[39mndarray \u001b[38;5;241m=\u001b[39m mat\n",
      "\u001b[1;31mValueError\u001b[0m: cannot reshape array of size 1 into shape (3,3)"
     ]
    }
   ],
   "source": [
    "from rdkit import Chem\n",
    "from pymatgen.core import Structure\n",
    "\n",
    "# Укажите путь к вашему .sdf файлу\n",
    "sdf_file_path = 'D:\\Projects\\projects_python\\genCry\\\\alchemy-v20191129\\\\atom_9\\\\2859833.sdf'\n",
    "\n",
    "# Считываем молекулы из .sdf файла\n",
    "suppl = Chem.SDMolSupplier(sdf_file_path)\n",
    "\n",
    "# Обрабатываем каждую молекулу\n",
    "for mol in suppl:\n",
    "    if mol is not None:  # Если молекула была загружена успешно\n",
    "        # Получаем атомы и координаты\n",
    "        atomic_numbers = [atom.GetAtomicNum() for atom in mol.GetAtoms()]\n",
    "        coords = mol.GetConformer().GetPositions()\n",
    "\n",
    "        # Создаем структуру pymatgen\n",
    "        structure = Structure(lattice=None, species=atomic_numbers, coords=coords)\n",
    "\n",
    "        # Выводим информацию о структуре\n",
    "        print(structure)\n"
   ]
  },
  {
   "cell_type": "code",
   "execution_count": 9,
   "metadata": {},
   "outputs": [
    {
     "name": "stdout",
     "output_type": "stream",
     "text": [
      "Collecting openbabel\n",
      "  Using cached openbabel-3.1.1.1.tar.gz (82 kB)\n",
      "  Installing build dependencies: started\n",
      "  Installing build dependencies: finished with status 'done'\n",
      "  Getting requirements to build wheel: started\n",
      "  Getting requirements to build wheel: finished with status 'done'\n",
      "  Preparing metadata (pyproject.toml): started\n",
      "  Preparing metadata (pyproject.toml): finished with status 'done'\n",
      "Building wheels for collected packages: openbabel\n",
      "  Building wheel for openbabel (pyproject.toml): started\n",
      "  Building wheel for openbabel (pyproject.toml): finished with status 'error'\n",
      "Failed to build openbabel\n",
      "Note: you may need to restart the kernel to use updated packages.\n"
     ]
    },
    {
     "name": "stderr",
     "output_type": "stream",
     "text": [
      "  error: subprocess-exited-with-error\n",
      "  \n",
      "  × Building wheel for openbabel (pyproject.toml) did not run successfully.\n",
      "  │ exit code: 1\n",
      "  ╰─> [15 lines of output]\n",
      "      running bdist_wheel\n",
      "      running build\n",
      "      running build_ext\n",
      "      Warning: invalid version number '3.1.1.1'.\n",
      "      Guessing Open Babel location:\n",
      "      - include_dirs: ['d:\\\\Projects\\\\projects_python\\\\genCry\\\\.venv\\\\include', 'C:\\\\Program Files\\\\Python311\\\\include', 'C:\\\\Program Files\\\\Python311\\\\Include', '/usr/local/include/openbabel3']\n",
      "      - library_dirs: ['d:\\\\Projects\\\\projects_python\\\\genCry\\\\.venv\\\\libs', 'C:\\\\Program Files\\\\Python311\\\\libs', 'C:\\\\Program Files\\\\Python311', 'd:\\\\Projects\\\\projects_python\\\\genCry\\\\.venv\\\\PCbuild\\\\amd64', '/usr/local/lib']\n",
      "      building 'openbabel._openbabel' extension\n",
      "      swigging openbabel\\openbabel-python.i to openbabel\\openbabel-python_wrap.cpp\n",
      "      swig.exe -python -c++ -small -O -templatereduce -naturalvar -Id:\\Projects\\projects_python\\genCry\\.venv\\include \"-IC:\\Program Files\\Python311\\include\" \"-IC:\\Program Files\\Python311\\Include\" -I/usr/local/include/openbabel3 -o openbabel\\openbabel-python_wrap.cpp openbabel\\openbabel-python.i\n",
      "      \n",
      "      Error: SWIG failed. Is Open Babel installed?\n",
      "      You may need to manually specify the location of Open Babel include and library directories. For example:\n",
      "        python setup.py build_ext -I/usr/local/include/openbabel3 -L/usr/local/lib\n",
      "        python setup.py install\n",
      "      [end of output]\n",
      "  \n",
      "  note: This error originates from a subprocess, and is likely not a problem with pip.\n",
      "  ERROR: Failed building wheel for openbabel\n",
      "ERROR: ERROR: Failed to build installable wheels for some pyproject.toml based projects (openbabel)\n"
     ]
    }
   ],
   "source": [
    "pip install openbabel"
   ]
  },
  {
   "cell_type": "markdown",
   "metadata": {},
   "source": [
    "## Jarvis"
   ]
  },
  {
   "cell_type": "code",
   "execution_count": 18,
   "metadata": {},
   "outputs": [
    {
     "name": "stdout",
     "output_type": "stream",
     "text": [
      "Obtaining 3D dataset 76k ...\n",
      "Reference:https://www.nature.com/articles/s41524-020-00440-1\n",
      "Other versions:https://doi.org/10.6084/m9.figshare.6815699\n"
     ]
    },
    {
     "name": "stderr",
     "output_type": "stream",
     "text": [
      "100%|██████████| 40.8M/40.8M [00:09<00:00, 4.42MiB/s]  \n"
     ]
    },
    {
     "name": "stdout",
     "output_type": "stream",
     "text": [
      "Loading the zipfile...\n",
      "Loading completed.\n"
     ]
    }
   ],
   "source": [
    "from jarvis.db.figshare import data\n",
    "\n",
    "dft_3d = data('dft_3d')"
   ]
  },
  {
   "cell_type": "code",
   "execution_count": 19,
   "metadata": {},
   "outputs": [],
   "source": [
    "df = pd.DataFrame(dft_3d)"
   ]
  },
  {
   "cell_type": "code",
   "execution_count": 24,
   "metadata": {},
   "outputs": [],
   "source": [
    "def create_structure_from_data(data):\n",
    "    \"\"\"\n",
    "    Создает объект Structure из предоставленных данных.\n",
    "\n",
    "    :param data: dict, содержащий данные для создания структуры\n",
    "    :return: pymatgen Structure\n",
    "    \"\"\"\n",
    "    lattice_mat = data['lattice_mat']\n",
    "    coords = data['coords']\n",
    "    elements = data['elements']\n",
    "\n",
    "    lattice = Lattice(lattice_mat)\n",
    "\n",
    "    structure = Structure(lattice=lattice, species=elements, coords=coords)\n",
    "\n",
    "    return structure"
   ]
  },
  {
   "cell_type": "code",
   "execution_count": 30,
   "metadata": {},
   "outputs": [
    {
     "name": "stderr",
     "output_type": "stream",
     "text": [
      "  1%|          | 669/75993 [00:00<00:58, 1289.74it/s]d:\\Projects\\projects_python\\genCry\\.venv\\Lib\\site-packages\\pymatgen\\core\\composition.py:1337: UserWarning: No Pauling electronegativity for He. Setting to NaN. This has no physical meaning, and is mainly done to avoid errors caused by the code expecting a float.\n",
      "  syms = sorted(sym_amt, key=lambda x: [get_el_sp(x).X, x])\n",
      "d:\\Projects\\projects_python\\genCry\\.venv\\Lib\\site-packages\\pymatgen\\core\\composition.py:366: UserWarning: No Pauling electronegativity for He. Setting to NaN. This has no physical meaning, and is mainly done to avoid errors caused by the code expecting a float.\n",
      "  syms = sorted(sym_amt, key=lambda sym: get_el_sp(sym).X)\n",
      "d:\\Projects\\projects_python\\genCry\\.venv\\Lib\\site-packages\\pymatgen\\core\\periodic_table.py:278: UserWarning: No Pauling electronegativity for He. Setting to NaN. This has no physical meaning, and is mainly done to avoid errors caused by the code expecting a float.\n",
      "  if not hasattr(other, \"X\") or not hasattr(other, \"symbol\"):\n",
      "d:\\Projects\\projects_python\\genCry\\.venv\\Lib\\site-packages\\pymatgen\\core\\periodic_table.py:281: UserWarning: No Pauling electronegativity for He. Setting to NaN. This has no physical meaning, and is mainly done to avoid errors caused by the code expecting a float.\n",
      "  x2 = float(\"inf\") if other.X != other.X else other.X\n",
      " 45%|████▍     | 33877/75993 [00:22<00:27, 1539.34it/s]d:\\Projects\\projects_python\\genCry\\.venv\\Lib\\site-packages\\pymatgen\\core\\composition.py:1337: UserWarning: No Pauling electronegativity for Ar. Setting to NaN. This has no physical meaning, and is mainly done to avoid errors caused by the code expecting a float.\n",
      "  syms = sorted(sym_amt, key=lambda x: [get_el_sp(x).X, x])\n",
      "d:\\Projects\\projects_python\\genCry\\.venv\\Lib\\site-packages\\pymatgen\\core\\composition.py:366: UserWarning: No Pauling electronegativity for Ar. Setting to NaN. This has no physical meaning, and is mainly done to avoid errors caused by the code expecting a float.\n",
      "  syms = sorted(sym_amt, key=lambda sym: get_el_sp(sym).X)\n",
      " 61%|██████    | 46072/75993 [00:31<00:23, 1290.57it/s]d:\\Projects\\projects_python\\genCry\\.venv\\Lib\\site-packages\\pymatgen\\core\\composition.py:1337: UserWarning: No Pauling electronegativity for Ne. Setting to NaN. This has no physical meaning, and is mainly done to avoid errors caused by the code expecting a float.\n",
      "  syms = sorted(sym_amt, key=lambda x: [get_el_sp(x).X, x])\n",
      "d:\\Projects\\projects_python\\genCry\\.venv\\Lib\\site-packages\\pymatgen\\core\\composition.py:366: UserWarning: No Pauling electronegativity for Ne. Setting to NaN. This has no physical meaning, and is mainly done to avoid errors caused by the code expecting a float.\n",
      "  syms = sorted(sym_amt, key=lambda sym: get_el_sp(sym).X)\n",
      " 72%|███████▏  | 54816/75993 [00:37<00:12, 1643.30it/s]d:\\Projects\\projects_python\\genCry\\.venv\\Lib\\site-packages\\pymatgen\\core\\periodic_table.py:278: UserWarning: No Pauling electronegativity for Ar. Setting to NaN. This has no physical meaning, and is mainly done to avoid errors caused by the code expecting a float.\n",
      "  if not hasattr(other, \"X\") or not hasattr(other, \"symbol\"):\n",
      "d:\\Projects\\projects_python\\genCry\\.venv\\Lib\\site-packages\\pymatgen\\core\\periodic_table.py:281: UserWarning: No Pauling electronegativity for Ar. Setting to NaN. This has no physical meaning, and is mainly done to avoid errors caused by the code expecting a float.\n",
      "  x2 = float(\"inf\") if other.X != other.X else other.X\n",
      " 73%|███████▎  | 55146/75993 [00:37<00:13, 1603.57it/s]d:\\Projects\\projects_python\\genCry\\.venv\\Lib\\site-packages\\pymatgen\\core\\periodic_table.py:278: UserWarning: No Pauling electronegativity for Ne. Setting to NaN. This has no physical meaning, and is mainly done to avoid errors caused by the code expecting a float.\n",
      "  if not hasattr(other, \"X\") or not hasattr(other, \"symbol\"):\n",
      "d:\\Projects\\projects_python\\genCry\\.venv\\Lib\\site-packages\\pymatgen\\core\\periodic_table.py:281: UserWarning: No Pauling electronegativity for Ne. Setting to NaN. This has no physical meaning, and is mainly done to avoid errors caused by the code expecting a float.\n",
      "  x2 = float(\"inf\") if other.X != other.X else other.X\n",
      " 77%|███████▋  | 58723/75993 [00:40<00:08, 2108.12it/s]d:\\Projects\\projects_python\\genCry\\.venv\\Lib\\site-packages\\pymatgen\\core\\periodic_table.py:280: UserWarning: No Pauling electronegativity for Ar. Setting to NaN. This has no physical meaning, and is mainly done to avoid errors caused by the code expecting a float.\n",
      "  x1 = float(\"inf\") if self.X != self.X else self.X\n",
      "100%|██████████| 75993/75993 [00:52<00:00, 1441.46it/s]\n"
     ]
    }
   ],
   "source": [
    "atoms = df['atoms']\n",
    "cifs_for_dataset = []\n",
    "for atom in tqdm(atoms):\n",
    "    cifs_for_dataset.append(create_structure_from_data(atom).to_file(fmt='cif'))"
   ]
  },
  {
   "cell_type": "code",
   "execution_count": null,
   "metadata": {},
   "outputs": [],
   "source": [
    "df_cif = pd.DataFrame({\"cif\": cifs_for_dataset})\n",
    "final_df = pd.concat([df, df_cif], axis=1)\n",
    "final_df.to_csv('Jarvis/jarvis.csv')"
   ]
  },
  {
   "cell_type": "code",
   "execution_count": 9,
   "metadata": {},
   "outputs": [
    {
     "name": "stderr",
     "output_type": "stream",
     "text": [
      "C:\\Users\\user\\AppData\\Local\\Temp\\ipykernel_18248\\2014893053.py:1: DtypeWarning: Columns (14,17,26,30) have mixed types. Specify dtype option on import or set low_memory=False.\n",
      "  jarvis = pd.read_csv(\"Jarvis\\\\jarvis.csv\")\n"
     ]
    }
   ],
   "source": [
    "jarvis = pd.read_csv(\"Jarvis\\\\jarvis.csv\")"
   ]
  },
  {
   "cell_type": "code",
   "execution_count": 10,
   "metadata": {},
   "outputs": [
    {
     "data": {
      "text/html": [
       "<div>\n",
       "<style scoped>\n",
       "    .dataframe tbody tr th:only-of-type {\n",
       "        vertical-align: middle;\n",
       "    }\n",
       "\n",
       "    .dataframe tbody tr th {\n",
       "        vertical-align: top;\n",
       "    }\n",
       "\n",
       "    .dataframe thead th {\n",
       "        text-align: right;\n",
       "    }\n",
       "</style>\n",
       "<table border=\"1\" class=\"dataframe\">\n",
       "  <thead>\n",
       "    <tr style=\"text-align: right;\">\n",
       "      <th></th>\n",
       "      <th>Unnamed: 0</th>\n",
       "      <th>jid</th>\n",
       "      <th>spg_number</th>\n",
       "      <th>spg_symbol</th>\n",
       "      <th>formula</th>\n",
       "      <th>formation_energy_peratom</th>\n",
       "      <th>func</th>\n",
       "      <th>optb88vdw_bandgap</th>\n",
       "      <th>atoms</th>\n",
       "      <th>slme</th>\n",
       "      <th>...</th>\n",
       "      <th>poisson</th>\n",
       "      <th>raw_files</th>\n",
       "      <th>nat</th>\n",
       "      <th>bulk_modulus_kv</th>\n",
       "      <th>shear_modulus_gv</th>\n",
       "      <th>mbj_bandgap</th>\n",
       "      <th>hse_gap</th>\n",
       "      <th>reference</th>\n",
       "      <th>search</th>\n",
       "      <th>cif</th>\n",
       "    </tr>\n",
       "  </thead>\n",
       "  <tbody>\n",
       "    <tr>\n",
       "      <th>0</th>\n",
       "      <td>0</td>\n",
       "      <td>JVASP-90856</td>\n",
       "      <td>129</td>\n",
       "      <td>P4/nmm</td>\n",
       "      <td>TiCuSiAs</td>\n",
       "      <td>-0.42762</td>\n",
       "      <td>OptB88vdW</td>\n",
       "      <td>0.000</td>\n",
       "      <td>{'lattice_mat': [[3.566933224304235, 0.0, -0.0...</td>\n",
       "      <td>na</td>\n",
       "      <td>...</td>\n",
       "      <td>na</td>\n",
       "      <td>[]</td>\n",
       "      <td>8</td>\n",
       "      <td>na</td>\n",
       "      <td>na</td>\n",
       "      <td>na</td>\n",
       "      <td>na</td>\n",
       "      <td>mp-1080455</td>\n",
       "      <td>-As-Cu-Si-Ti</td>\n",
       "      <td># generated using pymatgen\\ndata_TiCuSiAs\\n_sy...</td>\n",
       "    </tr>\n",
       "    <tr>\n",
       "      <th>1</th>\n",
       "      <td>1</td>\n",
       "      <td>JVASP-86097</td>\n",
       "      <td>221</td>\n",
       "      <td>Pm-3m</td>\n",
       "      <td>DyB6</td>\n",
       "      <td>-0.41596</td>\n",
       "      <td>OptB88vdW</td>\n",
       "      <td>0.000</td>\n",
       "      <td>{'lattice_mat': [[4.089078911208881, 0.0, 0.0]...</td>\n",
       "      <td>na</td>\n",
       "      <td>...</td>\n",
       "      <td>na</td>\n",
       "      <td>['OPT-LOPTICS,JVASP-86097.zip,https://ndownloa...</td>\n",
       "      <td>7</td>\n",
       "      <td>na</td>\n",
       "      <td>na</td>\n",
       "      <td>na</td>\n",
       "      <td>na</td>\n",
       "      <td>mp-568319</td>\n",
       "      <td>-B-Dy</td>\n",
       "      <td># generated using pymatgen\\ndata_DyB6\\n_symmet...</td>\n",
       "    </tr>\n",
       "    <tr>\n",
       "      <th>2</th>\n",
       "      <td>2</td>\n",
       "      <td>JVASP-64906</td>\n",
       "      <td>119</td>\n",
       "      <td>I-4m2</td>\n",
       "      <td>Be2OsRu</td>\n",
       "      <td>0.04847</td>\n",
       "      <td>OptB88vdW</td>\n",
       "      <td>0.000</td>\n",
       "      <td>{'lattice_mat': [[-1.833590720595598, 1.833590...</td>\n",
       "      <td>na</td>\n",
       "      <td>...</td>\n",
       "      <td>na</td>\n",
       "      <td>['OPT-LOPTICS,JVASP-64906.zip,https://ndownloa...</td>\n",
       "      <td>4</td>\n",
       "      <td>na</td>\n",
       "      <td>na</td>\n",
       "      <td>na</td>\n",
       "      <td>na</td>\n",
       "      <td>auid-3eaf68dd483bf4f4</td>\n",
       "      <td>-Be-Os-Ru</td>\n",
       "      <td># generated using pymatgen\\ndata_Be2OsRu\\n_sym...</td>\n",
       "    </tr>\n",
       "    <tr>\n",
       "      <th>3</th>\n",
       "      <td>3</td>\n",
       "      <td>JVASP-98225</td>\n",
       "      <td>14</td>\n",
       "      <td>P2_1/c</td>\n",
       "      <td>KBi</td>\n",
       "      <td>-0.44140</td>\n",
       "      <td>OptB88vdW</td>\n",
       "      <td>0.472</td>\n",
       "      <td>{'lattice_mat': [[7.2963518353359165, 0.0, 0.0...</td>\n",
       "      <td>na</td>\n",
       "      <td>...</td>\n",
       "      <td>na</td>\n",
       "      <td>[]</td>\n",
       "      <td>32</td>\n",
       "      <td>na</td>\n",
       "      <td>na</td>\n",
       "      <td>na</td>\n",
       "      <td>na</td>\n",
       "      <td>mp-31104</td>\n",
       "      <td>-Bi-K</td>\n",
       "      <td># generated using pymatgen\\ndata_KBi\\n_symmetr...</td>\n",
       "    </tr>\n",
       "    <tr>\n",
       "      <th>4</th>\n",
       "      <td>4</td>\n",
       "      <td>JVASP-10</td>\n",
       "      <td>164</td>\n",
       "      <td>P-3m1</td>\n",
       "      <td>VSe2</td>\n",
       "      <td>-0.71026</td>\n",
       "      <td>OptB88vdW</td>\n",
       "      <td>0.000</td>\n",
       "      <td>{'lattice_mat': [[1.6777483798834445, -2.90594...</td>\n",
       "      <td>na</td>\n",
       "      <td>...</td>\n",
       "      <td>0.23</td>\n",
       "      <td>['FD-ELAST,JVASP-10.zip,https://ndownloader.fi...</td>\n",
       "      <td>3</td>\n",
       "      <td>48.79</td>\n",
       "      <td>33.05</td>\n",
       "      <td>0.0</td>\n",
       "      <td>na</td>\n",
       "      <td>mp-694</td>\n",
       "      <td>-Se-V</td>\n",
       "      <td># generated using pymatgen\\ndata_VSe2\\n_symmet...</td>\n",
       "    </tr>\n",
       "    <tr>\n",
       "      <th>...</th>\n",
       "      <td>...</td>\n",
       "      <td>...</td>\n",
       "      <td>...</td>\n",
       "      <td>...</td>\n",
       "      <td>...</td>\n",
       "      <td>...</td>\n",
       "      <td>...</td>\n",
       "      <td>...</td>\n",
       "      <td>...</td>\n",
       "      <td>...</td>\n",
       "      <td>...</td>\n",
       "      <td>...</td>\n",
       "      <td>...</td>\n",
       "      <td>...</td>\n",
       "      <td>...</td>\n",
       "      <td>...</td>\n",
       "      <td>...</td>\n",
       "      <td>...</td>\n",
       "      <td>...</td>\n",
       "      <td>...</td>\n",
       "      <td>...</td>\n",
       "    </tr>\n",
       "    <tr>\n",
       "      <th>75988</th>\n",
       "      <td>75988</td>\n",
       "      <td>JVASP-156020</td>\n",
       "      <td>139</td>\n",
       "      <td>I4/mmm</td>\n",
       "      <td>AcRh2Pb2</td>\n",
       "      <td>-0.30652</td>\n",
       "      <td>OptB88vdW</td>\n",
       "      <td>0.000</td>\n",
       "      <td>{'lattice_mat': [[-2.374509402119681, 2.374509...</td>\n",
       "      <td>na</td>\n",
       "      <td>...</td>\n",
       "      <td>na</td>\n",
       "      <td>[]</td>\n",
       "      <td>5</td>\n",
       "      <td>na</td>\n",
       "      <td>na</td>\n",
       "      <td>na</td>\n",
       "      <td>na</td>\n",
       "      <td>1206834</td>\n",
       "      <td>-Ac-Pb-Rh</td>\n",
       "      <td># generated using pymatgen\\ndata_Ac(RhPb)2\\n_s...</td>\n",
       "    </tr>\n",
       "    <tr>\n",
       "      <th>75989</th>\n",
       "      <td>75989</td>\n",
       "      <td>JVASP-156398</td>\n",
       "      <td>216</td>\n",
       "      <td>F-43m</td>\n",
       "      <td>PrTlZn</td>\n",
       "      <td>-0.34112</td>\n",
       "      <td>OptB88vdW</td>\n",
       "      <td>0.000</td>\n",
       "      <td>{'lattice_mat': [[-0.0, 3.4210598347774503, 3....</td>\n",
       "      <td>na</td>\n",
       "      <td>...</td>\n",
       "      <td>na</td>\n",
       "      <td>[]</td>\n",
       "      <td>3</td>\n",
       "      <td>na</td>\n",
       "      <td>na</td>\n",
       "      <td>na</td>\n",
       "      <td>na</td>\n",
       "      <td>915022</td>\n",
       "      <td>-Pr-Tl-Zn</td>\n",
       "      <td># generated using pymatgen\\ndata_PrTlZn\\n_symm...</td>\n",
       "    </tr>\n",
       "    <tr>\n",
       "      <th>75990</th>\n",
       "      <td>75990</td>\n",
       "      <td>JVASP-156099</td>\n",
       "      <td>139</td>\n",
       "      <td>I4/mmm</td>\n",
       "      <td>BaIn2Bi2</td>\n",
       "      <td>-0.39352</td>\n",
       "      <td>OptB88vdW</td>\n",
       "      <td>0.000</td>\n",
       "      <td>{'lattice_mat': [[4.082347574975881, -4.076131...</td>\n",
       "      <td>na</td>\n",
       "      <td>...</td>\n",
       "      <td>0.67</td>\n",
       "      <td>[]</td>\n",
       "      <td>5</td>\n",
       "      <td>30.67</td>\n",
       "      <td>-11.44</td>\n",
       "      <td>na</td>\n",
       "      <td>na</td>\n",
       "      <td>1214095</td>\n",
       "      <td>-Ba-Bi-In</td>\n",
       "      <td># generated using pymatgen\\ndata_Ba(InBi)2\\n_s...</td>\n",
       "    </tr>\n",
       "    <tr>\n",
       "      <th>75991</th>\n",
       "      <td>75991</td>\n",
       "      <td>JVASP-156007</td>\n",
       "      <td>139</td>\n",
       "      <td>I4/mmm</td>\n",
       "      <td>TmSi2Tc2</td>\n",
       "      <td>-0.54853</td>\n",
       "      <td>OptB88vdW</td>\n",
       "      <td>0.000</td>\n",
       "      <td>{'lattice_mat': [[2.90400678672412, -2.9037689...</td>\n",
       "      <td>na</td>\n",
       "      <td>...</td>\n",
       "      <td>na</td>\n",
       "      <td>[]</td>\n",
       "      <td>5</td>\n",
       "      <td>na</td>\n",
       "      <td>na</td>\n",
       "      <td>na</td>\n",
       "      <td>na</td>\n",
       "      <td>1206745</td>\n",
       "      <td>-Si-Tc-Tm</td>\n",
       "      <td># generated using pymatgen\\ndata_Tm(SiTc)2\\n_s...</td>\n",
       "    </tr>\n",
       "    <tr>\n",
       "      <th>75992</th>\n",
       "      <td>75992</td>\n",
       "      <td>JVASP-156008</td>\n",
       "      <td>139</td>\n",
       "      <td>I4/mmm</td>\n",
       "      <td>ThSn2Ru2</td>\n",
       "      <td>-0.28045</td>\n",
       "      <td>OptB88vdW</td>\n",
       "      <td>0.000</td>\n",
       "      <td>{'lattice_mat': [[-2.272566257257212, 2.272566...</td>\n",
       "      <td>na</td>\n",
       "      <td>...</td>\n",
       "      <td>na</td>\n",
       "      <td>[]</td>\n",
       "      <td>5</td>\n",
       "      <td>na</td>\n",
       "      <td>na</td>\n",
       "      <td>na</td>\n",
       "      <td>na</td>\n",
       "      <td>1206746</td>\n",
       "      <td>-Ru-Sn-Th</td>\n",
       "      <td># generated using pymatgen\\ndata_Th(SnRu)2\\n_s...</td>\n",
       "    </tr>\n",
       "  </tbody>\n",
       "</table>\n",
       "<p>75993 rows × 66 columns</p>\n",
       "</div>"
      ],
      "text/plain": [
       "       Unnamed: 0           jid  spg_number spg_symbol   formula  \\\n",
       "0               0   JVASP-90856         129     P4/nmm  TiCuSiAs   \n",
       "1               1   JVASP-86097         221      Pm-3m      DyB6   \n",
       "2               2   JVASP-64906         119      I-4m2   Be2OsRu   \n",
       "3               3   JVASP-98225          14     P2_1/c       KBi   \n",
       "4               4      JVASP-10         164      P-3m1      VSe2   \n",
       "...           ...           ...         ...        ...       ...   \n",
       "75988       75988  JVASP-156020         139     I4/mmm  AcRh2Pb2   \n",
       "75989       75989  JVASP-156398         216      F-43m    PrTlZn   \n",
       "75990       75990  JVASP-156099         139     I4/mmm  BaIn2Bi2   \n",
       "75991       75991  JVASP-156007         139     I4/mmm  TmSi2Tc2   \n",
       "75992       75992  JVASP-156008         139     I4/mmm  ThSn2Ru2   \n",
       "\n",
       "       formation_energy_peratom       func  optb88vdw_bandgap  \\\n",
       "0                      -0.42762  OptB88vdW              0.000   \n",
       "1                      -0.41596  OptB88vdW              0.000   \n",
       "2                       0.04847  OptB88vdW              0.000   \n",
       "3                      -0.44140  OptB88vdW              0.472   \n",
       "4                      -0.71026  OptB88vdW              0.000   \n",
       "...                         ...        ...                ...   \n",
       "75988                  -0.30652  OptB88vdW              0.000   \n",
       "75989                  -0.34112  OptB88vdW              0.000   \n",
       "75990                  -0.39352  OptB88vdW              0.000   \n",
       "75991                  -0.54853  OptB88vdW              0.000   \n",
       "75992                  -0.28045  OptB88vdW              0.000   \n",
       "\n",
       "                                                   atoms slme  ... poisson  \\\n",
       "0      {'lattice_mat': [[3.566933224304235, 0.0, -0.0...   na  ...      na   \n",
       "1      {'lattice_mat': [[4.089078911208881, 0.0, 0.0]...   na  ...      na   \n",
       "2      {'lattice_mat': [[-1.833590720595598, 1.833590...   na  ...      na   \n",
       "3      {'lattice_mat': [[7.2963518353359165, 0.0, 0.0...   na  ...      na   \n",
       "4      {'lattice_mat': [[1.6777483798834445, -2.90594...   na  ...    0.23   \n",
       "...                                                  ...  ...  ...     ...   \n",
       "75988  {'lattice_mat': [[-2.374509402119681, 2.374509...   na  ...      na   \n",
       "75989  {'lattice_mat': [[-0.0, 3.4210598347774503, 3....   na  ...      na   \n",
       "75990  {'lattice_mat': [[4.082347574975881, -4.076131...   na  ...    0.67   \n",
       "75991  {'lattice_mat': [[2.90400678672412, -2.9037689...   na  ...      na   \n",
       "75992  {'lattice_mat': [[-2.272566257257212, 2.272566...   na  ...      na   \n",
       "\n",
       "                                               raw_files nat bulk_modulus_kv  \\\n",
       "0                                                     []   8              na   \n",
       "1      ['OPT-LOPTICS,JVASP-86097.zip,https://ndownloa...   7              na   \n",
       "2      ['OPT-LOPTICS,JVASP-64906.zip,https://ndownloa...   4              na   \n",
       "3                                                     []  32              na   \n",
       "4      ['FD-ELAST,JVASP-10.zip,https://ndownloader.fi...   3           48.79   \n",
       "...                                                  ...  ..             ...   \n",
       "75988                                                 []   5              na   \n",
       "75989                                                 []   3              na   \n",
       "75990                                                 []   5           30.67   \n",
       "75991                                                 []   5              na   \n",
       "75992                                                 []   5              na   \n",
       "\n",
       "      shear_modulus_gv mbj_bandgap hse_gap              reference  \\\n",
       "0                   na          na      na             mp-1080455   \n",
       "1                   na          na      na              mp-568319   \n",
       "2                   na          na      na  auid-3eaf68dd483bf4f4   \n",
       "3                   na          na      na               mp-31104   \n",
       "4                33.05         0.0      na                 mp-694   \n",
       "...                ...         ...     ...                    ...   \n",
       "75988               na          na      na                1206834   \n",
       "75989               na          na      na                 915022   \n",
       "75990           -11.44          na      na                1214095   \n",
       "75991               na          na      na                1206745   \n",
       "75992               na          na      na                1206746   \n",
       "\n",
       "             search                                                cif  \n",
       "0      -As-Cu-Si-Ti  # generated using pymatgen\\ndata_TiCuSiAs\\n_sy...  \n",
       "1             -B-Dy  # generated using pymatgen\\ndata_DyB6\\n_symmet...  \n",
       "2         -Be-Os-Ru  # generated using pymatgen\\ndata_Be2OsRu\\n_sym...  \n",
       "3             -Bi-K  # generated using pymatgen\\ndata_KBi\\n_symmetr...  \n",
       "4             -Se-V  # generated using pymatgen\\ndata_VSe2\\n_symmet...  \n",
       "...             ...                                                ...  \n",
       "75988     -Ac-Pb-Rh  # generated using pymatgen\\ndata_Ac(RhPb)2\\n_s...  \n",
       "75989     -Pr-Tl-Zn  # generated using pymatgen\\ndata_PrTlZn\\n_symm...  \n",
       "75990     -Ba-Bi-In  # generated using pymatgen\\ndata_Ba(InBi)2\\n_s...  \n",
       "75991     -Si-Tc-Tm  # generated using pymatgen\\ndata_Tm(SiTc)2\\n_s...  \n",
       "75992     -Ru-Sn-Th  # generated using pymatgen\\ndata_Th(SnRu)2\\n_s...  \n",
       "\n",
       "[75993 rows x 66 columns]"
      ]
     },
     "execution_count": 10,
     "metadata": {},
     "output_type": "execute_result"
    }
   ],
   "source": [
    "jarvis"
   ]
  },
  {
   "cell_type": "code",
   "execution_count": 11,
   "metadata": {},
   "outputs": [
    {
     "data": {
      "text/plain": [
       "Index(['Unnamed: 0', 'jid', 'spg_number', 'spg_symbol', 'formula',\n",
       "       'formation_energy_peratom', 'func', 'optb88vdw_bandgap', 'atoms',\n",
       "       'slme', 'magmom_oszicar', 'spillage', 'elastic_tensor',\n",
       "       'effective_masses_300K', 'kpoint_length_unit', 'maxdiff_mesh',\n",
       "       'maxdiff_bz', 'encut', 'optb88vdw_total_energy', 'epsx', 'epsy', 'epsz',\n",
       "       'mepsx', 'mepsy', 'mepsz', 'modes', 'magmom_outcar', 'max_efg',\n",
       "       'avg_elec_mass', 'avg_hole_mass', 'icsd', 'dfpt_piezo_max_eij',\n",
       "       'dfpt_piezo_max_dij', 'dfpt_piezo_max_dielectric',\n",
       "       'dfpt_piezo_max_dielectric_electronic',\n",
       "       'dfpt_piezo_max_dielectric_ionic', 'max_ir_mode', 'min_ir_mode',\n",
       "       'n-Seebeck', 'p-Seebeck', 'n-powerfact', 'p-powerfact', 'ncond',\n",
       "       'pcond', 'nkappa', 'pkappa', 'ehull', 'Tc_supercon', 'dimensionality',\n",
       "       'efg', 'xml_data_link', 'typ', 'exfoliation_energy', 'spg', 'crys',\n",
       "       'density', 'poisson', 'raw_files', 'nat', 'bulk_modulus_kv',\n",
       "       'shear_modulus_gv', 'mbj_bandgap', 'hse_gap', 'reference', 'search',\n",
       "       'cif'],\n",
       "      dtype='object')"
      ]
     },
     "execution_count": 11,
     "metadata": {},
     "output_type": "execute_result"
    }
   ],
   "source": [
    "jarvis.columns"
   ]
  },
  {
   "cell_type": "markdown",
   "metadata": {},
   "source": [
    "## AFlow"
   ]
  },
  {
   "cell_type": "code",
   "execution_count": 18,
   "metadata": {},
   "outputs": [
    {
     "name": "stdout",
     "output_type": "stream",
     "text": [
      "[{'compound': 'Ag2Al1As1', 'auid': 'aflow:01422465d644e394', 'aurl': 'aflowlib.duke.edu:AFLOWDATA/LIB3_RAW/AgAlAs/TFCC011.ABC', 'spacegroup_relax': 12, 'Pearson_symbol_relax': 'mS8', 'species': ['Ag', 'Al', 'As']}, {'compound': 'Ag1Al2As1', 'auid': 'aflow:02a47840537cd60d', 'aurl': 'aflowlib.duke.edu:AFLOWDATA/LIB3_RAW/AgAlAs/TFCC015.BCA', 'spacegroup_relax': 65, 'Pearson_symbol_relax': 'oS8', 'species': ['Ag', 'Al', 'As']}, {'compound': 'Ag1Al1As2', 'auid': 'aflow:05ee886b34da7910', 'aurl': 'aflowlib.duke.edu:AFLOWDATA/LIB3_RAW/AgAlAs/TFCC014.CAB', 'spacegroup_relax': 10, 'Pearson_symbol_relax': 'mP4', 'species': ['Ag', 'Al', 'As']}, {'compound': 'Ag1Al2As1', 'auid': 'aflow:05e0175334714afb', 'aurl': 'aflowlib.duke.edu:AFLOWDATA/LIB3_RAW/AgAlAs/TBCC011.BCA', 'spacegroup_relax': 123, 'Pearson_symbol_relax': 'tP4', 'species': ['Ag', 'Al', 'As']}, {'compound': 'Ag2Al1As1', 'auid': 'aflow:06134d799be7badf', 'aurl': 'aflowlib.duke.edu:AFLOWDATA/LIB3_RAW/AgAlAs/TFCC009.ABC', 'spacegroup_relax': 166, 'Pearson_symbol_relax': 'hR4', 'species': ['Ag', 'Al', 'As']}, {'compound': 'Ag2Al1As1', 'auid': 'aflow:07d5a793177cdd48', 'aurl': 'aflowlib.duke.edu:AFLOWDATA/LIB3_RAW/AgAlAs/TFCC015.ABC', 'spacegroup_relax': 65, 'Pearson_symbol_relax': 'oS8', 'species': ['Ag', 'Al', 'As']}, {'compound': 'Ag2Al1As1', 'auid': 'aflow:07da9ffceacfe9fb', 'aurl': 'aflowlib.duke.edu:AFLOWDATA/LIB3_RAW/AgAlAs/TBCC004.ABC', 'spacegroup_relax': 35, 'Pearson_symbol_relax': 'oS8', 'species': ['Ag', 'Al', 'As']}, {'compound': 'Ag1Al2As1', 'auid': 'aflow:09b3865e1744fb36', 'aurl': 'aflowlib.duke.edu:AFLOWDATA/LIB3_RAW/AgAlAs/T0001.AB2C:LDAU2', 'spacegroup_relax': 225, 'Pearson_symbol_relax': 'cF16', 'species': ['Ag', 'Al', 'As']}, {'compound': 'Ag2Al1As1', 'auid': 'aflow:0a95f0f5008e4762', 'aurl': 'aflowlib.duke.edu:AFLOWDATA/LIB3_RAW/AgAlAs/TFCC016.ABC', 'spacegroup_relax': 123, 'Pearson_symbol_relax': 'tP4', 'species': ['Ag', 'Al', 'As']}, {'compound': 'Ag1Al1As1', 'auid': 'aflow:0bee96633c9cd200', 'aurl': 'aflowlib.duke.edu:AFLOWDATA/LIB3_RAW/AgAlAs/TBCC001.ABC', 'spacegroup_relax': 42, 'Pearson_symbol_relax': 'oF12', 'species': ['Ag', 'Al', 'As']}, {'compound': 'Ag1Al2As1', 'auid': 'aflow:0cae969f80000efd', 'aurl': 'aflowlib.duke.edu:AFLOWDATA/LIB3_RAW/AgAlAs/TFCC016.BCA', 'spacegroup_relax': 123, 'Pearson_symbol_relax': 'tP4', 'species': ['Ag', 'Al', 'As']}, {'compound': 'Ag1Al2As1', 'auid': 'aflow:0d07f5e7c31a003c', 'aurl': 'aflowlib.duke.edu:AFLOWDATA/LIB3_RAW/AgAlAs/TBCC016.BCA', 'spacegroup_relax': 123, 'Pearson_symbol_relax': 'tP4', 'species': ['Ag', 'Al', 'As']}, {'compound': 'Ag1Al2As1', 'auid': 'aflow:0e77d6eddb5b392c', 'aurl': 'aflowlib.duke.edu:AFLOWDATA/LIB3_RAW/AgAlAs/TFCC010.BCA', 'spacegroup_relax': 47, 'Pearson_symbol_relax': 'oP4', 'species': ['Ag', 'Al', 'As']}, {'compound': 'Ag1Al1As2', 'auid': 'aflow:10f92650184f9e79', 'aurl': 'aflowlib.duke.edu:AFLOWDATA/LIB3_RAW/AgAlAs/T0002.ABC2', 'spacegroup_relax': 216, 'Pearson_symbol_relax': 'cF16', 'species': ['Ag', 'Al', 'As']}, {'compound': 'Ag1Al1As2', 'auid': 'aflow:1603b5ea61de0caf', 'aurl': 'aflowlib.duke.edu:AFLOWDATA/LIB3_RAW/AgAlAs/TBCC005.CAB', 'spacegroup_relax': 6, 'Pearson_symbol_relax': 'mP4', 'species': ['Ag', 'Al', 'As']}, {'compound': 'Ag2Al1As1', 'auid': 'aflow:172e1d01f292aba7', 'aurl': 'aflowlib.duke.edu:AFLOWDATA/LIB3_RAW/AgAlAs/TFCC010.ABC', 'spacegroup_relax': 47, 'Pearson_symbol_relax': 'oP4', 'species': ['Ag', 'Al', 'As']}, {'compound': 'Ag1Al2As1', 'auid': 'aflow:1abfeb600fb4db5f', 'aurl': 'aflowlib.duke.edu:AFLOWDATA/LIB3_RAW/AgAlAs/TFCC012.BCA', 'spacegroup_relax': 123, 'Pearson_symbol_relax': 'tP4', 'species': ['Ag', 'Al', 'As']}, {'compound': 'Ag2Al1As1', 'auid': 'aflow:1c92059dc2b93b10', 'aurl': 'aflowlib.duke.edu:AFLOWDATA/LIB3_RAW/AgAlAs/T0001.A2BC', 'spacegroup_relax': 225, 'Pearson_symbol_relax': 'cF16', 'species': ['Ag', 'Al', 'As']}, {'compound': 'Ag1Al1As1', 'auid': 'aflow:2053541f37f5da23', 'aurl': 'aflowlib.duke.edu:AFLOWDATA/LIB3_RAW/AgAlAs/T0003.ABC:LDAU2', 'spacegroup_relax': 216, 'Pearson_symbol_relax': 'cF12', 'species': ['Ag', 'Al', 'As']}, {'compound': 'Ag1Al2As1', 'auid': 'aflow:20fbb067049db10a', 'aurl': 'aflowlib.duke.edu:AFLOWDATA/LIB3_RAW/AgAlAs/TFCC014.BCA', 'spacegroup_relax': 10, 'Pearson_symbol_relax': 'mP4', 'species': ['Ag', 'Al', 'As']}, {'compound': 'Ag2Al1As1', 'auid': 'aflow:21e533d1a9b7d000', 'aurl': 'aflowlib.duke.edu:AFLOWDATA/LIB3_RAW/AgAlAs/TBCC010.ABC', 'spacegroup_relax': 10, 'Pearson_symbol_relax': 'mP4', 'species': ['Ag', 'Al', 'As']}, {'compound': 'Ag1Al1As1', 'auid': 'aflow:a7d866fe125630d5', 'aurl': 'aflowlib.duke.edu:AFLOWDATA/LIB3_RAW/AgAlAs/T0003.CAB:LDAU2', 'spacegroup_relax': 216, 'Pearson_symbol_relax': 'cF12', 'species': ['Ag', 'Al', 'As']}, {'compound': 'Ag1Al1As2', 'auid': 'aflow:236b4e1e59914b5e', 'aurl': 'aflowlib.duke.edu:AFLOWDATA/LIB3_RAW/AgAlAs/T0002.ABC2:LDAU2', 'spacegroup_relax': 216, 'Pearson_symbol_relax': 'cF16', 'species': ['Ag', 'Al', 'As']}, {'compound': 'Ag1Al1As2', 'auid': 'aflow:82ac6b7f2764c566', 'aurl': 'aflowlib.duke.edu:AFLOWDATA/LIB3_RAW/AgAlAs/T0001.ABC2:LDAU2', 'spacegroup_relax': 225, 'Pearson_symbol_relax': 'cF16', 'species': ['Ag', 'Al', 'As']}, {'compound': 'Ag1Al2As1', 'auid': 'aflow:2406862911d2c06e', 'aurl': 'aflowlib.duke.edu:AFLOWDATA/LIB3_RAW/AgAlAs/TFCC007.BCA', 'spacegroup_relax': 99, 'Pearson_symbol_relax': 'tP4', 'species': ['Ag', 'Al', 'As']}, {'compound': 'Ag1Al1As2', 'auid': 'aflow:25535609c3b664b0', 'aurl': 'aflowlib.duke.edu:AFLOWDATA/LIB3_RAW/AgAlAs/TFCC006.CAB', 'spacegroup_relax': 8, 'Pearson_symbol_relax': 'mS8', 'species': ['Ag', 'Al', 'As']}, {'compound': 'Ag1Al1As1', 'auid': 'aflow:263800d350e4cb59', 'aurl': 'aflowlib.duke.edu:AFLOWDATA/LIB3_RAW/AgAlAs/T0003.BCA', 'spacegroup_relax': 216, 'Pearson_symbol_relax': 'cF12', 'species': ['Ag', 'Al', 'As']}, {'compound': 'Ag1Al2As1', 'auid': 'aflow:26be762b4ce24c61', 'aurl': 'aflowlib.duke.edu:AFLOWDATA/LIB3_RAW/AgAlAs/TFCC013.BCA', 'spacegroup_relax': 139, 'Pearson_symbol_relax': 'tI8', 'species': ['Ag', 'Al', 'As']}, {'compound': 'Ag1Al1As2', 'auid': 'aflow:27866a1c0d33a1f8', 'aurl': 'aflowlib.duke.edu:AFLOWDATA/LIB3_RAW/AgAlAs/TFCC011.CAB', 'spacegroup_relax': 12, 'Pearson_symbol_relax': 'mS8', 'species': ['Ag', 'Al', 'As']}, {'compound': 'Ag1Al1As2', 'auid': 'aflow:2b4d248147e5d32b', 'aurl': 'aflowlib.duke.edu:AFLOWDATA/LIB3_RAW/AgAlAs/TBCC004.CAB', 'spacegroup_relax': 35, 'Pearson_symbol_relax': 'oS8', 'species': ['Ag', 'Al', 'As']}, {'compound': 'Ag2Al1As2', 'auid': 'aflow:2e7fdaec53e70e86', 'aurl': 'aflowlib.duke.edu:AFLOWDATA/LIB3_RAW/AgAlAs/T0011.ABC', 'spacegroup_relax': 139, 'Pearson_symbol_relax': 'tI10', 'species': ['Ag', 'Al', 'As']}, {'compound': 'Ag2Al2As1', 'auid': 'aflow:36bae3a66897f542', 'aurl': 'aflowlib.duke.edu:AFLOWDATA/LIB3_RAW/AgAlAs/T0011.BCA', 'spacegroup_relax': 139, 'Pearson_symbol_relax': 'tI10', 'species': ['Ag', 'Al', 'As']}, {'compound': 'Ag1Al1As1', 'auid': 'aflow:39122c832e531557', 'aurl': 'aflowlib.duke.edu:AFLOWDATA/LIB3_RAW/AgAlAs/TFCC003.ABC', 'spacegroup_relax': 107, 'Pearson_symbol_relax': 'tI6', 'species': ['Ag', 'Al', 'As']}, {'compound': 'Ag1Al1As1', 'auid': 'aflow:ea63c0f4f72caa44', 'aurl': 'aflowlib.duke.edu:AFLOWDATA/LIB3_RAW/AgAlAs/T0003.BCA:LDAU2', 'spacegroup_relax': 216, 'Pearson_symbol_relax': 'cF12', 'species': ['Ag', 'Al', 'As']}, {'compound': 'Ag2Al2As1', 'auid': 'aflow:3bcd874bffc5343f', 'aurl': 'aflowlib.duke.edu:AFLOWDATA/LIB3_RAW/AgAlAs/T0011.ACB', 'spacegroup_relax': 139, 'Pearson_symbol_relax': 'tI10', 'species': ['Ag', 'Al', 'As']}, {'compound': 'Ag1Al2As1', 'auid': 'aflow:3c90103b8bc51727', 'aurl': 'aflowlib.duke.edu:AFLOWDATA/LIB3_RAW/AgAlAs/T0002.AB2C', 'spacegroup_relax': 216, 'Pearson_symbol_relax': 'cF16', 'species': ['Ag', 'Al', 'As']}, {'compound': 'Ag2Al1As1', 'auid': 'aflow:fe2028d3caf820aa', 'aurl': 'aflowlib.duke.edu:AFLOWDATA/LIB3_RAW/AgAlAs/T0001.A2BC:LDAU2', 'spacegroup_relax': 225, 'Pearson_symbol_relax': 'cF16', 'species': ['Ag', 'Al', 'As']}, {'compound': 'Ag1Al2As1', 'auid': 'aflow:3ee6f1e782e006b3', 'aurl': 'aflowlib.duke.edu:AFLOWDATA/LIB3_RAW/AgAlAs/TBCC006.BCA', 'spacegroup_relax': 99, 'Pearson_symbol_relax': 'tP4', 'species': ['Ag', 'Al', 'As']}, {'compound': 'Ag2Al1As1', 'auid': 'aflow:3f337562d2af871f', 'aurl': 'aflowlib.duke.edu:AFLOWDATA/LIB3_RAW/AgAlAs/TFCC012.ABC', 'spacegroup_relax': 123, 'Pearson_symbol_relax': 'tP4', 'species': ['Ag', 'Al', 'As']}, {'compound': 'Ag1Al2As1', 'auid': 'aflow:407aff912609e135', 'aurl': 'aflowlib.duke.edu:AFLOWDATA/LIB3_RAW/AgAlAs/TBCC009.BCA', 'spacegroup_relax': 65, 'Pearson_symbol_relax': 'oS8', 'species': ['Ag', 'Al', 'As']}, {'compound': 'Ag1Al1As2', 'auid': 'aflow:419600df66ab2ca7', 'aurl': 'aflowlib.duke.edu:AFLOWDATA/LIB3_RAW/AgAlAs/TBCC009.CAB', 'spacegroup_relax': 65, 'Pearson_symbol_relax': 'oS8', 'species': ['Ag', 'Al', 'As']}, {'compound': 'Ag1Al2As1', 'auid': 'aflow:42d06c9e36c7ebd1', 'aurl': 'aflowlib.duke.edu:AFLOWDATA/LIB3_RAW/AgAlAs/TFCC005.BCA', 'spacegroup_relax': 25, 'Pearson_symbol_relax': 'oP4', 'species': ['Ag', 'Al', 'As']}, {'compound': 'Ag1Al2As1', 'auid': 'aflow:f967544cbf2235a1', 'aurl': 'aflowlib.duke.edu:AFLOWDATA/LIB3_RAW/AgAlAs/T0002.AB2C:LDAU2', 'spacegroup_relax': 216, 'Pearson_symbol_relax': 'cF16', 'species': ['Ag', 'Al', 'As']}, {'compound': 'Ag1Al1As2', 'auid': 'aflow:457c78aabae1b090', 'aurl': 'aflowlib.duke.edu:AFLOWDATA/LIB3_RAW/AgAlAs/TBCC016.CAB', 'spacegroup_relax': 123, 'Pearson_symbol_relax': 'tP4', 'species': ['Ag', 'Al', 'As']}, {'compound': 'Ag1Al2As1', 'auid': 'aflow:482816cd1cf110dc', 'aurl': 'aflowlib.duke.edu:AFLOWDATA/LIB3_RAW/AgAlAs/TBCC012.BCA', 'spacegroup_relax': 71, 'Pearson_symbol_relax': 'oI8', 'species': ['Ag', 'Al', 'As']}, {'compound': 'Ag2Al1As1', 'auid': 'aflow:48ce3c17d43a528c', 'aurl': 'aflowlib.duke.edu:AFLOWDATA/LIB3_RAW/AgAlAs/TBCC007.ABC', 'spacegroup_relax': 44, 'Pearson_symbol_relax': 'oI8', 'species': ['Ag', 'Al', 'As']}, {'compound': 'Ag1Al1As2', 'auid': 'aflow:49e9e4b314eb853a', 'aurl': 'aflowlib.duke.edu:AFLOWDATA/LIB3_RAW/AgAlAs/TFCC010.CAB', 'spacegroup_relax': 47, 'Pearson_symbol_relax': 'oP4', 'species': ['Ag', 'Al', 'As']}, {'compound': 'Ag1Al2As1', 'auid': 'aflow:4b0627cbb26c7b6b', 'aurl': 'aflowlib.duke.edu:AFLOWDATA/LIB3_RAW/AgAlAs/TFCC009.BCA', 'spacegroup_relax': 166, 'Pearson_symbol_relax': 'hR4', 'species': ['Ag', 'Al', 'As']}, {'compound': 'Ag1Al1As1', 'auid': 'aflow:4c695fbcade7b01f', 'aurl': 'aflowlib.duke.edu:AFLOWDATA/LIB3_RAW/AgAlAs/T0003.CAB', 'spacegroup_relax': 216, 'Pearson_symbol_relax': 'cF12', 'species': ['Ag', 'Al', 'As']}, {'compound': 'Ag2Al1As1', 'auid': 'aflow:4da99d30b70b3988', 'aurl': 'aflowlib.duke.edu:AFLOWDATA/LIB3_RAW/AgAlAs/TFCC013.ABC', 'spacegroup_relax': 139, 'Pearson_symbol_relax': 'tI8', 'species': ['Ag', 'Al', 'As']}, {'compound': 'Ag2Al1As1', 'auid': 'aflow:512a8fec079aeb04', 'aurl': 'aflowlib.duke.edu:AFLOWDATA/LIB3_RAW/AgAlAs/TFCC006.ABC', 'spacegroup_relax': 8, 'Pearson_symbol_relax': 'mS8', 'species': ['Ag', 'Al', 'As']}, {'compound': 'Ag1Al1As2', 'auid': 'aflow:236b4e1e59914b5e', 'aurl': 'aflowlib.duke.edu:AFLOWDATA/LIB3_RAW/AgAlAs/T0002.ABC2:LDAU2', 'spacegroup_relax': 216, 'Pearson_symbol_relax': 'cF16', 'species': ['Ag', 'Al', 'As']}, {'compound': 'Ag1Al1As2', 'auid': 'aflow:6340d1afcdb0c329', 'aurl': 'aflowlib.duke.edu:AFLOWDATA/LIB3_RAW/AgAlAs/TFCC005.CAB', 'spacegroup_relax': 25, 'Pearson_symbol_relax': 'oP4', 'species': ['Ag', 'Al', 'As']}, {'compound': 'Ag1Al2As1', 'auid': 'aflow:683e741e669f3ea4', 'aurl': 'aflowlib.duke.edu:AFLOWDATA/LIB3_RAW/AgAlAs/TBCC007.BCA', 'spacegroup_relax': 44, 'Pearson_symbol_relax': 'oI8', 'species': ['Ag', 'Al', 'As']}, {'compound': 'Ag1Al2As1', 'auid': 'aflow:998a7139815b52e3', 'aurl': 'aflowlib.duke.edu:AFLOWDATA/LIB3_RAW/AgAlAs/T0001.AB2C', 'spacegroup_relax': 225, 'Pearson_symbol_relax': 'cF16', 'species': ['Ag', 'Al', 'As']}, {'compound': 'Ag2Al1As1', 'auid': 'aflow:6abcf8b59efb6bd0', 'aurl': 'aflowlib.duke.edu:AFLOWDATA/LIB3_RAW/AgAlAs/TBCC016.ABC', 'spacegroup_relax': 123, 'Pearson_symbol_relax': 'tP4', 'species': ['Ag', 'Al', 'As']}, {'compound': 'Ag2Al1As1', 'auid': 'aflow:6aeb146ee90f6ef2', 'aurl': 'aflowlib.duke.edu:AFLOWDATA/LIB3_RAW/AgAlAs/TBCC011.ABC', 'spacegroup_relax': 123, 'Pearson_symbol_relax': 'tP4', 'species': ['Ag', 'Al', 'As']}, {'compound': 'Ag1Al1As2', 'auid': 'aflow:6c50c275fe34de6f', 'aurl': 'aflowlib.duke.edu:AFLOWDATA/LIB3_RAW/AgAlAs/TBCC012.CAB', 'spacegroup_relax': 71, 'Pearson_symbol_relax': 'oI8', 'species': ['Ag', 'Al', 'As']}, {'compound': 'Ag1Al1As1', 'auid': 'aflow:6feefab6b85be62a', 'aurl': 'aflowlib.duke.edu:AFLOWDATA/LIB3_RAW/AgAlAs/TBCC003.ABC', 'spacegroup_relax': 107, 'Pearson_symbol_relax': 'tI6', 'species': ['Ag', 'Al', 'As']}, {'compound': 'Ag1Al1As2', 'auid': 'aflow:7413e224a3eaba7a', 'aurl': 'aflowlib.duke.edu:AFLOWDATA/LIB3_RAW/AgAlAs/TFCC008.CAB', 'spacegroup_relax': 119, 'Pearson_symbol_relax': 'tI8', 'species': ['Ag', 'Al', 'As']}, {'compound': 'Ag1Al1As2', 'auid': 'aflow:78378912020b3d09', 'aurl': 'aflowlib.duke.edu:AFLOWDATA/LIB3_RAW/AgAlAs/TBCC015.CAB', 'spacegroup_relax': 47, 'Pearson_symbol_relax': 'oP4', 'species': ['Ag', 'Al', 'As']}, {'compound': 'Ag1Al2As1', 'auid': 'aflow:09b3865e1744fb36', 'aurl': 'aflowlib.duke.edu:AFLOWDATA/LIB3_RAW/AgAlAs/T0001.AB2C:LDAU2', 'spacegroup_relax': 225, 'Pearson_symbol_relax': 'cF16', 'species': ['Ag', 'Al', 'As']}, {'compound': 'Ag2Al1As1', 'auid': 'aflow:7a0d6c3e68055590', 'aurl': 'aflowlib.duke.edu:AFLOWDATA/LIB3_RAW/AgAlAs/TFCC014.ABC', 'spacegroup_relax': 10, 'Pearson_symbol_relax': 'mP4', 'species': ['Ag', 'Al', 'As']}, {'compound': 'Ag2Al1As1', 'auid': 'aflow:7e02d126c6afcfc6', 'aurl': 'aflowlib.duke.edu:AFLOWDATA/LIB3_RAW/AgAlAs/T0002.A2BC', 'spacegroup_relax': 216, 'Pearson_symbol_relax': 'cF16', 'species': ['Ag', 'Al', 'As']}]\n"
     ]
    }
   ],
   "source": [
    "import json\n",
    "from urllib.request import urlopen\n",
    "from urllib.error import URLError, HTTPError\n",
    "\n",
    "API = 'http://aflow.org/API/aflux/'\n",
    "MATCHBOOK = 'species(Metals)'\n",
    "DIRECTIVE = '$paging(1)'\n",
    "REQUEST = API + '?' + MATCHBOOK + ',' + DIRECTIVE\n",
    "\n",
    "try:\n",
    "    with urlopen(REQUEST) as response:\n",
    "        data = response.read().decode('utf-8')\n",
    "        if data:\n",
    "            response_json = json.loads(data)\n",
    "            print(response_json)\n",
    "        else:\n",
    "            print(\"Пустой ответ от сервера\")\n",
    "except HTTPError as e:\n",
    "    print(f\"HTTP ошибка: {e.code} - {e.reason}\")\n",
    "except URLError as e:\n",
    "    print(f\"Ошибка URL: {e.reason}\")\n",
    "except json.JSONDecodeError as e:\n",
    "    print(f\"Ошибка декодирования JSON: {e}\")"
   ]
  },
  {
   "cell_type": "code",
   "execution_count": 19,
   "metadata": {},
   "outputs": [
    {
     "data": {
      "text/plain": [
       "[{'compound': 'Ag2Al1As1',\n",
       "  'auid': 'aflow:01422465d644e394',\n",
       "  'aurl': 'aflowlib.duke.edu:AFLOWDATA/LIB3_RAW/AgAlAs/TFCC011.ABC',\n",
       "  'spacegroup_relax': 12,\n",
       "  'Pearson_symbol_relax': 'mS8',\n",
       "  'species': ['Ag', 'Al', 'As']},\n",
       " {'compound': 'Ag1Al2As1',\n",
       "  'auid': 'aflow:02a47840537cd60d',\n",
       "  'aurl': 'aflowlib.duke.edu:AFLOWDATA/LIB3_RAW/AgAlAs/TFCC015.BCA',\n",
       "  'spacegroup_relax': 65,\n",
       "  'Pearson_symbol_relax': 'oS8',\n",
       "  'species': ['Ag', 'Al', 'As']},\n",
       " {'compound': 'Ag1Al1As2',\n",
       "  'auid': 'aflow:05ee886b34da7910',\n",
       "  'aurl': 'aflowlib.duke.edu:AFLOWDATA/LIB3_RAW/AgAlAs/TFCC014.CAB',\n",
       "  'spacegroup_relax': 10,\n",
       "  'Pearson_symbol_relax': 'mP4',\n",
       "  'species': ['Ag', 'Al', 'As']},\n",
       " {'compound': 'Ag1Al2As1',\n",
       "  'auid': 'aflow:05e0175334714afb',\n",
       "  'aurl': 'aflowlib.duke.edu:AFLOWDATA/LIB3_RAW/AgAlAs/TBCC011.BCA',\n",
       "  'spacegroup_relax': 123,\n",
       "  'Pearson_symbol_relax': 'tP4',\n",
       "  'species': ['Ag', 'Al', 'As']},\n",
       " {'compound': 'Ag2Al1As1',\n",
       "  'auid': 'aflow:06134d799be7badf',\n",
       "  'aurl': 'aflowlib.duke.edu:AFLOWDATA/LIB3_RAW/AgAlAs/TFCC009.ABC',\n",
       "  'spacegroup_relax': 166,\n",
       "  'Pearson_symbol_relax': 'hR4',\n",
       "  'species': ['Ag', 'Al', 'As']},\n",
       " {'compound': 'Ag2Al1As1',\n",
       "  'auid': 'aflow:07d5a793177cdd48',\n",
       "  'aurl': 'aflowlib.duke.edu:AFLOWDATA/LIB3_RAW/AgAlAs/TFCC015.ABC',\n",
       "  'spacegroup_relax': 65,\n",
       "  'Pearson_symbol_relax': 'oS8',\n",
       "  'species': ['Ag', 'Al', 'As']},\n",
       " {'compound': 'Ag2Al1As1',\n",
       "  'auid': 'aflow:07da9ffceacfe9fb',\n",
       "  'aurl': 'aflowlib.duke.edu:AFLOWDATA/LIB3_RAW/AgAlAs/TBCC004.ABC',\n",
       "  'spacegroup_relax': 35,\n",
       "  'Pearson_symbol_relax': 'oS8',\n",
       "  'species': ['Ag', 'Al', 'As']},\n",
       " {'compound': 'Ag1Al2As1',\n",
       "  'auid': 'aflow:09b3865e1744fb36',\n",
       "  'aurl': 'aflowlib.duke.edu:AFLOWDATA/LIB3_RAW/AgAlAs/T0001.AB2C:LDAU2',\n",
       "  'spacegroup_relax': 225,\n",
       "  'Pearson_symbol_relax': 'cF16',\n",
       "  'species': ['Ag', 'Al', 'As']},\n",
       " {'compound': 'Ag2Al1As1',\n",
       "  'auid': 'aflow:0a95f0f5008e4762',\n",
       "  'aurl': 'aflowlib.duke.edu:AFLOWDATA/LIB3_RAW/AgAlAs/TFCC016.ABC',\n",
       "  'spacegroup_relax': 123,\n",
       "  'Pearson_symbol_relax': 'tP4',\n",
       "  'species': ['Ag', 'Al', 'As']},\n",
       " {'compound': 'Ag1Al1As1',\n",
       "  'auid': 'aflow:0bee96633c9cd200',\n",
       "  'aurl': 'aflowlib.duke.edu:AFLOWDATA/LIB3_RAW/AgAlAs/TBCC001.ABC',\n",
       "  'spacegroup_relax': 42,\n",
       "  'Pearson_symbol_relax': 'oF12',\n",
       "  'species': ['Ag', 'Al', 'As']},\n",
       " {'compound': 'Ag1Al2As1',\n",
       "  'auid': 'aflow:0cae969f80000efd',\n",
       "  'aurl': 'aflowlib.duke.edu:AFLOWDATA/LIB3_RAW/AgAlAs/TFCC016.BCA',\n",
       "  'spacegroup_relax': 123,\n",
       "  'Pearson_symbol_relax': 'tP4',\n",
       "  'species': ['Ag', 'Al', 'As']},\n",
       " {'compound': 'Ag1Al2As1',\n",
       "  'auid': 'aflow:0d07f5e7c31a003c',\n",
       "  'aurl': 'aflowlib.duke.edu:AFLOWDATA/LIB3_RAW/AgAlAs/TBCC016.BCA',\n",
       "  'spacegroup_relax': 123,\n",
       "  'Pearson_symbol_relax': 'tP4',\n",
       "  'species': ['Ag', 'Al', 'As']},\n",
       " {'compound': 'Ag1Al2As1',\n",
       "  'auid': 'aflow:0e77d6eddb5b392c',\n",
       "  'aurl': 'aflowlib.duke.edu:AFLOWDATA/LIB3_RAW/AgAlAs/TFCC010.BCA',\n",
       "  'spacegroup_relax': 47,\n",
       "  'Pearson_symbol_relax': 'oP4',\n",
       "  'species': ['Ag', 'Al', 'As']},\n",
       " {'compound': 'Ag1Al1As2',\n",
       "  'auid': 'aflow:10f92650184f9e79',\n",
       "  'aurl': 'aflowlib.duke.edu:AFLOWDATA/LIB3_RAW/AgAlAs/T0002.ABC2',\n",
       "  'spacegroup_relax': 216,\n",
       "  'Pearson_symbol_relax': 'cF16',\n",
       "  'species': ['Ag', 'Al', 'As']},\n",
       " {'compound': 'Ag1Al1As2',\n",
       "  'auid': 'aflow:1603b5ea61de0caf',\n",
       "  'aurl': 'aflowlib.duke.edu:AFLOWDATA/LIB3_RAW/AgAlAs/TBCC005.CAB',\n",
       "  'spacegroup_relax': 6,\n",
       "  'Pearson_symbol_relax': 'mP4',\n",
       "  'species': ['Ag', 'Al', 'As']},\n",
       " {'compound': 'Ag2Al1As1',\n",
       "  'auid': 'aflow:172e1d01f292aba7',\n",
       "  'aurl': 'aflowlib.duke.edu:AFLOWDATA/LIB3_RAW/AgAlAs/TFCC010.ABC',\n",
       "  'spacegroup_relax': 47,\n",
       "  'Pearson_symbol_relax': 'oP4',\n",
       "  'species': ['Ag', 'Al', 'As']},\n",
       " {'compound': 'Ag1Al2As1',\n",
       "  'auid': 'aflow:1abfeb600fb4db5f',\n",
       "  'aurl': 'aflowlib.duke.edu:AFLOWDATA/LIB3_RAW/AgAlAs/TFCC012.BCA',\n",
       "  'spacegroup_relax': 123,\n",
       "  'Pearson_symbol_relax': 'tP4',\n",
       "  'species': ['Ag', 'Al', 'As']},\n",
       " {'compound': 'Ag2Al1As1',\n",
       "  'auid': 'aflow:1c92059dc2b93b10',\n",
       "  'aurl': 'aflowlib.duke.edu:AFLOWDATA/LIB3_RAW/AgAlAs/T0001.A2BC',\n",
       "  'spacegroup_relax': 225,\n",
       "  'Pearson_symbol_relax': 'cF16',\n",
       "  'species': ['Ag', 'Al', 'As']},\n",
       " {'compound': 'Ag1Al1As1',\n",
       "  'auid': 'aflow:2053541f37f5da23',\n",
       "  'aurl': 'aflowlib.duke.edu:AFLOWDATA/LIB3_RAW/AgAlAs/T0003.ABC:LDAU2',\n",
       "  'spacegroup_relax': 216,\n",
       "  'Pearson_symbol_relax': 'cF12',\n",
       "  'species': ['Ag', 'Al', 'As']},\n",
       " {'compound': 'Ag1Al2As1',\n",
       "  'auid': 'aflow:20fbb067049db10a',\n",
       "  'aurl': 'aflowlib.duke.edu:AFLOWDATA/LIB3_RAW/AgAlAs/TFCC014.BCA',\n",
       "  'spacegroup_relax': 10,\n",
       "  'Pearson_symbol_relax': 'mP4',\n",
       "  'species': ['Ag', 'Al', 'As']},\n",
       " {'compound': 'Ag2Al1As1',\n",
       "  'auid': 'aflow:21e533d1a9b7d000',\n",
       "  'aurl': 'aflowlib.duke.edu:AFLOWDATA/LIB3_RAW/AgAlAs/TBCC010.ABC',\n",
       "  'spacegroup_relax': 10,\n",
       "  'Pearson_symbol_relax': 'mP4',\n",
       "  'species': ['Ag', 'Al', 'As']},\n",
       " {'compound': 'Ag1Al1As1',\n",
       "  'auid': 'aflow:a7d866fe125630d5',\n",
       "  'aurl': 'aflowlib.duke.edu:AFLOWDATA/LIB3_RAW/AgAlAs/T0003.CAB:LDAU2',\n",
       "  'spacegroup_relax': 216,\n",
       "  'Pearson_symbol_relax': 'cF12',\n",
       "  'species': ['Ag', 'Al', 'As']},\n",
       " {'compound': 'Ag1Al1As2',\n",
       "  'auid': 'aflow:236b4e1e59914b5e',\n",
       "  'aurl': 'aflowlib.duke.edu:AFLOWDATA/LIB3_RAW/AgAlAs/T0002.ABC2:LDAU2',\n",
       "  'spacegroup_relax': 216,\n",
       "  'Pearson_symbol_relax': 'cF16',\n",
       "  'species': ['Ag', 'Al', 'As']},\n",
       " {'compound': 'Ag1Al1As2',\n",
       "  'auid': 'aflow:82ac6b7f2764c566',\n",
       "  'aurl': 'aflowlib.duke.edu:AFLOWDATA/LIB3_RAW/AgAlAs/T0001.ABC2:LDAU2',\n",
       "  'spacegroup_relax': 225,\n",
       "  'Pearson_symbol_relax': 'cF16',\n",
       "  'species': ['Ag', 'Al', 'As']},\n",
       " {'compound': 'Ag1Al2As1',\n",
       "  'auid': 'aflow:2406862911d2c06e',\n",
       "  'aurl': 'aflowlib.duke.edu:AFLOWDATA/LIB3_RAW/AgAlAs/TFCC007.BCA',\n",
       "  'spacegroup_relax': 99,\n",
       "  'Pearson_symbol_relax': 'tP4',\n",
       "  'species': ['Ag', 'Al', 'As']},\n",
       " {'compound': 'Ag1Al1As2',\n",
       "  'auid': 'aflow:25535609c3b664b0',\n",
       "  'aurl': 'aflowlib.duke.edu:AFLOWDATA/LIB3_RAW/AgAlAs/TFCC006.CAB',\n",
       "  'spacegroup_relax': 8,\n",
       "  'Pearson_symbol_relax': 'mS8',\n",
       "  'species': ['Ag', 'Al', 'As']},\n",
       " {'compound': 'Ag1Al1As1',\n",
       "  'auid': 'aflow:263800d350e4cb59',\n",
       "  'aurl': 'aflowlib.duke.edu:AFLOWDATA/LIB3_RAW/AgAlAs/T0003.BCA',\n",
       "  'spacegroup_relax': 216,\n",
       "  'Pearson_symbol_relax': 'cF12',\n",
       "  'species': ['Ag', 'Al', 'As']},\n",
       " {'compound': 'Ag1Al2As1',\n",
       "  'auid': 'aflow:26be762b4ce24c61',\n",
       "  'aurl': 'aflowlib.duke.edu:AFLOWDATA/LIB3_RAW/AgAlAs/TFCC013.BCA',\n",
       "  'spacegroup_relax': 139,\n",
       "  'Pearson_symbol_relax': 'tI8',\n",
       "  'species': ['Ag', 'Al', 'As']},\n",
       " {'compound': 'Ag1Al1As2',\n",
       "  'auid': 'aflow:27866a1c0d33a1f8',\n",
       "  'aurl': 'aflowlib.duke.edu:AFLOWDATA/LIB3_RAW/AgAlAs/TFCC011.CAB',\n",
       "  'spacegroup_relax': 12,\n",
       "  'Pearson_symbol_relax': 'mS8',\n",
       "  'species': ['Ag', 'Al', 'As']},\n",
       " {'compound': 'Ag1Al1As2',\n",
       "  'auid': 'aflow:2b4d248147e5d32b',\n",
       "  'aurl': 'aflowlib.duke.edu:AFLOWDATA/LIB3_RAW/AgAlAs/TBCC004.CAB',\n",
       "  'spacegroup_relax': 35,\n",
       "  'Pearson_symbol_relax': 'oS8',\n",
       "  'species': ['Ag', 'Al', 'As']},\n",
       " {'compound': 'Ag2Al1As2',\n",
       "  'auid': 'aflow:2e7fdaec53e70e86',\n",
       "  'aurl': 'aflowlib.duke.edu:AFLOWDATA/LIB3_RAW/AgAlAs/T0011.ABC',\n",
       "  'spacegroup_relax': 139,\n",
       "  'Pearson_symbol_relax': 'tI10',\n",
       "  'species': ['Ag', 'Al', 'As']},\n",
       " {'compound': 'Ag2Al2As1',\n",
       "  'auid': 'aflow:36bae3a66897f542',\n",
       "  'aurl': 'aflowlib.duke.edu:AFLOWDATA/LIB3_RAW/AgAlAs/T0011.BCA',\n",
       "  'spacegroup_relax': 139,\n",
       "  'Pearson_symbol_relax': 'tI10',\n",
       "  'species': ['Ag', 'Al', 'As']},\n",
       " {'compound': 'Ag1Al1As1',\n",
       "  'auid': 'aflow:39122c832e531557',\n",
       "  'aurl': 'aflowlib.duke.edu:AFLOWDATA/LIB3_RAW/AgAlAs/TFCC003.ABC',\n",
       "  'spacegroup_relax': 107,\n",
       "  'Pearson_symbol_relax': 'tI6',\n",
       "  'species': ['Ag', 'Al', 'As']},\n",
       " {'compound': 'Ag1Al1As1',\n",
       "  'auid': 'aflow:ea63c0f4f72caa44',\n",
       "  'aurl': 'aflowlib.duke.edu:AFLOWDATA/LIB3_RAW/AgAlAs/T0003.BCA:LDAU2',\n",
       "  'spacegroup_relax': 216,\n",
       "  'Pearson_symbol_relax': 'cF12',\n",
       "  'species': ['Ag', 'Al', 'As']},\n",
       " {'compound': 'Ag2Al2As1',\n",
       "  'auid': 'aflow:3bcd874bffc5343f',\n",
       "  'aurl': 'aflowlib.duke.edu:AFLOWDATA/LIB3_RAW/AgAlAs/T0011.ACB',\n",
       "  'spacegroup_relax': 139,\n",
       "  'Pearson_symbol_relax': 'tI10',\n",
       "  'species': ['Ag', 'Al', 'As']},\n",
       " {'compound': 'Ag1Al2As1',\n",
       "  'auid': 'aflow:3c90103b8bc51727',\n",
       "  'aurl': 'aflowlib.duke.edu:AFLOWDATA/LIB3_RAW/AgAlAs/T0002.AB2C',\n",
       "  'spacegroup_relax': 216,\n",
       "  'Pearson_symbol_relax': 'cF16',\n",
       "  'species': ['Ag', 'Al', 'As']},\n",
       " {'compound': 'Ag2Al1As1',\n",
       "  'auid': 'aflow:fe2028d3caf820aa',\n",
       "  'aurl': 'aflowlib.duke.edu:AFLOWDATA/LIB3_RAW/AgAlAs/T0001.A2BC:LDAU2',\n",
       "  'spacegroup_relax': 225,\n",
       "  'Pearson_symbol_relax': 'cF16',\n",
       "  'species': ['Ag', 'Al', 'As']},\n",
       " {'compound': 'Ag1Al2As1',\n",
       "  'auid': 'aflow:3ee6f1e782e006b3',\n",
       "  'aurl': 'aflowlib.duke.edu:AFLOWDATA/LIB3_RAW/AgAlAs/TBCC006.BCA',\n",
       "  'spacegroup_relax': 99,\n",
       "  'Pearson_symbol_relax': 'tP4',\n",
       "  'species': ['Ag', 'Al', 'As']},\n",
       " {'compound': 'Ag2Al1As1',\n",
       "  'auid': 'aflow:3f337562d2af871f',\n",
       "  'aurl': 'aflowlib.duke.edu:AFLOWDATA/LIB3_RAW/AgAlAs/TFCC012.ABC',\n",
       "  'spacegroup_relax': 123,\n",
       "  'Pearson_symbol_relax': 'tP4',\n",
       "  'species': ['Ag', 'Al', 'As']},\n",
       " {'compound': 'Ag1Al2As1',\n",
       "  'auid': 'aflow:407aff912609e135',\n",
       "  'aurl': 'aflowlib.duke.edu:AFLOWDATA/LIB3_RAW/AgAlAs/TBCC009.BCA',\n",
       "  'spacegroup_relax': 65,\n",
       "  'Pearson_symbol_relax': 'oS8',\n",
       "  'species': ['Ag', 'Al', 'As']},\n",
       " {'compound': 'Ag1Al1As2',\n",
       "  'auid': 'aflow:419600df66ab2ca7',\n",
       "  'aurl': 'aflowlib.duke.edu:AFLOWDATA/LIB3_RAW/AgAlAs/TBCC009.CAB',\n",
       "  'spacegroup_relax': 65,\n",
       "  'Pearson_symbol_relax': 'oS8',\n",
       "  'species': ['Ag', 'Al', 'As']},\n",
       " {'compound': 'Ag1Al2As1',\n",
       "  'auid': 'aflow:42d06c9e36c7ebd1',\n",
       "  'aurl': 'aflowlib.duke.edu:AFLOWDATA/LIB3_RAW/AgAlAs/TFCC005.BCA',\n",
       "  'spacegroup_relax': 25,\n",
       "  'Pearson_symbol_relax': 'oP4',\n",
       "  'species': ['Ag', 'Al', 'As']},\n",
       " {'compound': 'Ag1Al2As1',\n",
       "  'auid': 'aflow:f967544cbf2235a1',\n",
       "  'aurl': 'aflowlib.duke.edu:AFLOWDATA/LIB3_RAW/AgAlAs/T0002.AB2C:LDAU2',\n",
       "  'spacegroup_relax': 216,\n",
       "  'Pearson_symbol_relax': 'cF16',\n",
       "  'species': ['Ag', 'Al', 'As']},\n",
       " {'compound': 'Ag1Al1As2',\n",
       "  'auid': 'aflow:457c78aabae1b090',\n",
       "  'aurl': 'aflowlib.duke.edu:AFLOWDATA/LIB3_RAW/AgAlAs/TBCC016.CAB',\n",
       "  'spacegroup_relax': 123,\n",
       "  'Pearson_symbol_relax': 'tP4',\n",
       "  'species': ['Ag', 'Al', 'As']},\n",
       " {'compound': 'Ag1Al2As1',\n",
       "  'auid': 'aflow:482816cd1cf110dc',\n",
       "  'aurl': 'aflowlib.duke.edu:AFLOWDATA/LIB3_RAW/AgAlAs/TBCC012.BCA',\n",
       "  'spacegroup_relax': 71,\n",
       "  'Pearson_symbol_relax': 'oI8',\n",
       "  'species': ['Ag', 'Al', 'As']},\n",
       " {'compound': 'Ag2Al1As1',\n",
       "  'auid': 'aflow:48ce3c17d43a528c',\n",
       "  'aurl': 'aflowlib.duke.edu:AFLOWDATA/LIB3_RAW/AgAlAs/TBCC007.ABC',\n",
       "  'spacegroup_relax': 44,\n",
       "  'Pearson_symbol_relax': 'oI8',\n",
       "  'species': ['Ag', 'Al', 'As']},\n",
       " {'compound': 'Ag1Al1As2',\n",
       "  'auid': 'aflow:49e9e4b314eb853a',\n",
       "  'aurl': 'aflowlib.duke.edu:AFLOWDATA/LIB3_RAW/AgAlAs/TFCC010.CAB',\n",
       "  'spacegroup_relax': 47,\n",
       "  'Pearson_symbol_relax': 'oP4',\n",
       "  'species': ['Ag', 'Al', 'As']},\n",
       " {'compound': 'Ag1Al2As1',\n",
       "  'auid': 'aflow:4b0627cbb26c7b6b',\n",
       "  'aurl': 'aflowlib.duke.edu:AFLOWDATA/LIB3_RAW/AgAlAs/TFCC009.BCA',\n",
       "  'spacegroup_relax': 166,\n",
       "  'Pearson_symbol_relax': 'hR4',\n",
       "  'species': ['Ag', 'Al', 'As']},\n",
       " {'compound': 'Ag1Al1As1',\n",
       "  'auid': 'aflow:4c695fbcade7b01f',\n",
       "  'aurl': 'aflowlib.duke.edu:AFLOWDATA/LIB3_RAW/AgAlAs/T0003.CAB',\n",
       "  'spacegroup_relax': 216,\n",
       "  'Pearson_symbol_relax': 'cF12',\n",
       "  'species': ['Ag', 'Al', 'As']},\n",
       " {'compound': 'Ag2Al1As1',\n",
       "  'auid': 'aflow:4da99d30b70b3988',\n",
       "  'aurl': 'aflowlib.duke.edu:AFLOWDATA/LIB3_RAW/AgAlAs/TFCC013.ABC',\n",
       "  'spacegroup_relax': 139,\n",
       "  'Pearson_symbol_relax': 'tI8',\n",
       "  'species': ['Ag', 'Al', 'As']},\n",
       " {'compound': 'Ag2Al1As1',\n",
       "  'auid': 'aflow:512a8fec079aeb04',\n",
       "  'aurl': 'aflowlib.duke.edu:AFLOWDATA/LIB3_RAW/AgAlAs/TFCC006.ABC',\n",
       "  'spacegroup_relax': 8,\n",
       "  'Pearson_symbol_relax': 'mS8',\n",
       "  'species': ['Ag', 'Al', 'As']},\n",
       " {'compound': 'Ag1Al1As2',\n",
       "  'auid': 'aflow:236b4e1e59914b5e',\n",
       "  'aurl': 'aflowlib.duke.edu:AFLOWDATA/LIB3_RAW/AgAlAs/T0002.ABC2:LDAU2',\n",
       "  'spacegroup_relax': 216,\n",
       "  'Pearson_symbol_relax': 'cF16',\n",
       "  'species': ['Ag', 'Al', 'As']},\n",
       " {'compound': 'Ag1Al1As2',\n",
       "  'auid': 'aflow:6340d1afcdb0c329',\n",
       "  'aurl': 'aflowlib.duke.edu:AFLOWDATA/LIB3_RAW/AgAlAs/TFCC005.CAB',\n",
       "  'spacegroup_relax': 25,\n",
       "  'Pearson_symbol_relax': 'oP4',\n",
       "  'species': ['Ag', 'Al', 'As']},\n",
       " {'compound': 'Ag1Al2As1',\n",
       "  'auid': 'aflow:683e741e669f3ea4',\n",
       "  'aurl': 'aflowlib.duke.edu:AFLOWDATA/LIB3_RAW/AgAlAs/TBCC007.BCA',\n",
       "  'spacegroup_relax': 44,\n",
       "  'Pearson_symbol_relax': 'oI8',\n",
       "  'species': ['Ag', 'Al', 'As']},\n",
       " {'compound': 'Ag1Al2As1',\n",
       "  'auid': 'aflow:998a7139815b52e3',\n",
       "  'aurl': 'aflowlib.duke.edu:AFLOWDATA/LIB3_RAW/AgAlAs/T0001.AB2C',\n",
       "  'spacegroup_relax': 225,\n",
       "  'Pearson_symbol_relax': 'cF16',\n",
       "  'species': ['Ag', 'Al', 'As']},\n",
       " {'compound': 'Ag2Al1As1',\n",
       "  'auid': 'aflow:6abcf8b59efb6bd0',\n",
       "  'aurl': 'aflowlib.duke.edu:AFLOWDATA/LIB3_RAW/AgAlAs/TBCC016.ABC',\n",
       "  'spacegroup_relax': 123,\n",
       "  'Pearson_symbol_relax': 'tP4',\n",
       "  'species': ['Ag', 'Al', 'As']},\n",
       " {'compound': 'Ag2Al1As1',\n",
       "  'auid': 'aflow:6aeb146ee90f6ef2',\n",
       "  'aurl': 'aflowlib.duke.edu:AFLOWDATA/LIB3_RAW/AgAlAs/TBCC011.ABC',\n",
       "  'spacegroup_relax': 123,\n",
       "  'Pearson_symbol_relax': 'tP4',\n",
       "  'species': ['Ag', 'Al', 'As']},\n",
       " {'compound': 'Ag1Al1As2',\n",
       "  'auid': 'aflow:6c50c275fe34de6f',\n",
       "  'aurl': 'aflowlib.duke.edu:AFLOWDATA/LIB3_RAW/AgAlAs/TBCC012.CAB',\n",
       "  'spacegroup_relax': 71,\n",
       "  'Pearson_symbol_relax': 'oI8',\n",
       "  'species': ['Ag', 'Al', 'As']},\n",
       " {'compound': 'Ag1Al1As1',\n",
       "  'auid': 'aflow:6feefab6b85be62a',\n",
       "  'aurl': 'aflowlib.duke.edu:AFLOWDATA/LIB3_RAW/AgAlAs/TBCC003.ABC',\n",
       "  'spacegroup_relax': 107,\n",
       "  'Pearson_symbol_relax': 'tI6',\n",
       "  'species': ['Ag', 'Al', 'As']},\n",
       " {'compound': 'Ag1Al1As2',\n",
       "  'auid': 'aflow:7413e224a3eaba7a',\n",
       "  'aurl': 'aflowlib.duke.edu:AFLOWDATA/LIB3_RAW/AgAlAs/TFCC008.CAB',\n",
       "  'spacegroup_relax': 119,\n",
       "  'Pearson_symbol_relax': 'tI8',\n",
       "  'species': ['Ag', 'Al', 'As']},\n",
       " {'compound': 'Ag1Al1As2',\n",
       "  'auid': 'aflow:78378912020b3d09',\n",
       "  'aurl': 'aflowlib.duke.edu:AFLOWDATA/LIB3_RAW/AgAlAs/TBCC015.CAB',\n",
       "  'spacegroup_relax': 47,\n",
       "  'Pearson_symbol_relax': 'oP4',\n",
       "  'species': ['Ag', 'Al', 'As']},\n",
       " {'compound': 'Ag1Al2As1',\n",
       "  'auid': 'aflow:09b3865e1744fb36',\n",
       "  'aurl': 'aflowlib.duke.edu:AFLOWDATA/LIB3_RAW/AgAlAs/T0001.AB2C:LDAU2',\n",
       "  'spacegroup_relax': 225,\n",
       "  'Pearson_symbol_relax': 'cF16',\n",
       "  'species': ['Ag', 'Al', 'As']},\n",
       " {'compound': 'Ag2Al1As1',\n",
       "  'auid': 'aflow:7a0d6c3e68055590',\n",
       "  'aurl': 'aflowlib.duke.edu:AFLOWDATA/LIB3_RAW/AgAlAs/TFCC014.ABC',\n",
       "  'spacegroup_relax': 10,\n",
       "  'Pearson_symbol_relax': 'mP4',\n",
       "  'species': ['Ag', 'Al', 'As']},\n",
       " {'compound': 'Ag2Al1As1',\n",
       "  'auid': 'aflow:7e02d126c6afcfc6',\n",
       "  'aurl': 'aflowlib.duke.edu:AFLOWDATA/LIB3_RAW/AgAlAs/T0002.A2BC',\n",
       "  'spacegroup_relax': 216,\n",
       "  'Pearson_symbol_relax': 'cF16',\n",
       "  'species': ['Ag', 'Al', 'As']}]"
      ]
     },
     "execution_count": 19,
     "metadata": {},
     "output_type": "execute_result"
    }
   ],
   "source": [
    "response_json"
   ]
  },
  {
   "cell_type": "code",
   "execution_count": 20,
   "metadata": {},
   "outputs": [
    {
     "data": {
      "text/plain": [
       "64"
      ]
     },
     "execution_count": 20,
     "metadata": {},
     "output_type": "execute_result"
    }
   ],
   "source": [
    "len(response_json)"
   ]
  },
  {
   "cell_type": "code",
   "execution_count": 22,
   "metadata": {},
   "outputs": [
    {
     "name": "stdout",
     "output_type": "stream",
     "text": [
      "6.8531\n",
      "8.183\n",
      "7.4494\n",
      "7.6056\n",
      "7.0887\n",
      "7.7111\n",
      "8.0374\n",
      "7.0234\n",
      "7.4209\n",
      "6.61\n",
      "6.464\n",
      "8.7442\n",
      "6.5707\n",
      "6.6252\n",
      "6.8283\n",
      "6.8386\n",
      "7.1318\n",
      "6.6538\n",
      "6.9475\n",
      "6.135\n",
      "6.9841\n",
      "6.93\n",
      "6.8631\n",
      "6.733\n",
      "7.534\n",
      "7.3543\n",
      "6.5855\n",
      "6.5663\n",
      "6.2324\n",
      "7.5731\n",
      "6.7691\n",
      "6.9891\n",
      "6.6888\n",
      "6.236\n",
      "6.2916\n",
      "6.9132\n",
      "6.539\n",
      "6.1381\n",
      "6.6145\n",
      "6.4219\n"
     ]
    },
    {
     "ename": "KeyboardInterrupt",
     "evalue": "",
     "output_type": "error",
     "traceback": [
      "\u001b[1;31m---------------------------------------------------------------------------\u001b[0m",
      "\u001b[1;31mKeyboardInterrupt\u001b[0m                         Traceback (most recent call last)",
      "Cell \u001b[1;32mIn[22], line 8\u001b[0m\n\u001b[0;32m      3\u001b[0m result \u001b[38;5;241m=\u001b[39m search(batch_size\u001b[38;5;241m=\u001b[39m\u001b[38;5;241m20\u001b[39m\n\u001b[0;32m      4\u001b[0m         )\u001b[38;5;241m.\u001b[39mselect(K\u001b[38;5;241m.\u001b[39magl_thermal_conductivity_300K\n\u001b[0;32m      5\u001b[0m         )\u001b[38;5;241m.\u001b[39mfilter(K\u001b[38;5;241m.\u001b[39mEgap \u001b[38;5;241m>\u001b[39m \u001b[38;5;241m6\u001b[39m)\u001b[38;5;241m.\u001b[39morderby(K\u001b[38;5;241m.\u001b[39magl_thermal_conductivity_300K, \u001b[38;5;28;01mTrue\u001b[39;00m)\n\u001b[0;32m      7\u001b[0m \u001b[38;5;66;03m# Now, you can just iterate over the results.\u001b[39;00m\n\u001b[1;32m----> 8\u001b[0m \u001b[38;5;28;43;01mfor\u001b[39;49;00m\u001b[43m \u001b[49m\u001b[43mentry\u001b[49m\u001b[43m \u001b[49m\u001b[38;5;129;43;01min\u001b[39;49;00m\u001b[43m \u001b[49m\u001b[43mresult\u001b[49m\u001b[43m:\u001b[49m\n\u001b[0;32m      9\u001b[0m \u001b[43m    \u001b[49m\u001b[38;5;28;43mprint\u001b[39;49m\u001b[43m(\u001b[49m\u001b[43mentry\u001b[49m\u001b[38;5;241;43m.\u001b[39;49m\u001b[43mEgap\u001b[49m\u001b[43m)\u001b[49m\n",
      "File \u001b[1;32md:\\Projects\\projects_python\\genCry\\.venv\\Lib\\site-packages\\aflow\\control.py:253\u001b[0m, in \u001b[0;36mQuery.__next__\u001b[1;34m(self)\u001b[0m\n\u001b[0;32m    251\u001b[0m \u001b[38;5;28;01mif\u001b[39;00m \u001b[38;5;28mself\u001b[39m\u001b[38;5;241m.\u001b[39m_iter \u001b[38;5;241m<\u001b[39m \u001b[38;5;28mself\u001b[39m\u001b[38;5;241m.\u001b[39mmax_N \u001b[38;5;129;01mand\u001b[39;00m n \u001b[38;5;129;01mnot\u001b[39;00m \u001b[38;5;129;01min\u001b[39;00m \u001b[38;5;28mself\u001b[39m\u001b[38;5;241m.\u001b[39mresponses:\n\u001b[0;32m    252\u001b[0m     \u001b[38;5;28mself\u001b[39m\u001b[38;5;241m.\u001b[39m_n \u001b[38;5;241m=\u001b[39m \u001b[38;5;28mabs\u001b[39m(n)\n\u001b[1;32m--> 253\u001b[0m     \u001b[38;5;28;43mself\u001b[39;49m\u001b[38;5;241;43m.\u001b[39;49m\u001b[43m_request\u001b[49m\u001b[43m(\u001b[49m\u001b[38;5;28;43mself\u001b[39;49m\u001b[38;5;241;43m.\u001b[39;49m\u001b[43mn\u001b[49m\u001b[43m,\u001b[49m\u001b[43m \u001b[49m\u001b[38;5;28;43mself\u001b[39;49m\u001b[38;5;241;43m.\u001b[39;49m\u001b[43mk\u001b[49m\u001b[43m)\u001b[49m\n\u001b[0;32m    255\u001b[0m \u001b[38;5;28;01massert\u001b[39;00m \u001b[38;5;28mlen\u001b[39m(\u001b[38;5;28mself\u001b[39m\u001b[38;5;241m.\u001b[39mresponses) \u001b[38;5;241m>\u001b[39m \u001b[38;5;241m0\u001b[39m\n\u001b[0;32m    257\u001b[0m \u001b[38;5;28;01mfrom\u001b[39;00m\u001b[38;5;250m \u001b[39m\u001b[38;5;21;01maflow\u001b[39;00m\u001b[38;5;21;01m.\u001b[39;00m\u001b[38;5;21;01mentries\u001b[39;00m\u001b[38;5;250m \u001b[39m\u001b[38;5;28;01mimport\u001b[39;00m Entry\n",
      "File \u001b[1;32md:\\Projects\\projects_python\\genCry\\.venv\\Lib\\site-packages\\aflow\\control.py:148\u001b[0m, in \u001b[0;36mQuery._request\u001b[1;34m(self, n, k)\u001b[0m\n\u001b[0;32m    145\u001b[0m urlopen \u001b[38;5;241m=\u001b[39m urllib\u001b[38;5;241m.\u001b[39mrequest\u001b[38;5;241m.\u001b[39murlopen\n\u001b[0;32m    146\u001b[0m url \u001b[38;5;241m=\u001b[39m \u001b[38;5;124m\"\u001b[39m\u001b[38;5;132;01m{0}\u001b[39;00m\u001b[38;5;132;01m{1}\u001b[39;00m\u001b[38;5;124m,\u001b[39m\u001b[38;5;132;01m{2}\u001b[39;00m\u001b[38;5;124m\"\u001b[39m\u001b[38;5;241m.\u001b[39mformat(server, \u001b[38;5;28mself\u001b[39m\u001b[38;5;241m.\u001b[39mmatchbook(),\n\u001b[0;32m    147\u001b[0m                           \u001b[38;5;28mself\u001b[39m\u001b[38;5;241m.\u001b[39m_directives(n, k))\n\u001b[1;32m--> 148\u001b[0m rawresp \u001b[38;5;241m=\u001b[39m \u001b[43murlopen\u001b[49m\u001b[43m(\u001b[49m\u001b[43murl\u001b[49m\u001b[43m)\u001b[49m\u001b[38;5;241m.\u001b[39mread()\u001b[38;5;241m.\u001b[39mdecode(\u001b[38;5;124m\"\u001b[39m\u001b[38;5;124mutf-8\u001b[39m\u001b[38;5;124m\"\u001b[39m)\n\u001b[0;32m    149\u001b[0m \u001b[38;5;28;01mtry\u001b[39;00m:\n\u001b[0;32m    150\u001b[0m     response \u001b[38;5;241m=\u001b[39m json\u001b[38;5;241m.\u001b[39mloads(rawresp)\n",
      "File \u001b[1;32mC:\\Program Files\\Python311\\Lib\\urllib\\request.py:216\u001b[0m, in \u001b[0;36murlopen\u001b[1;34m(url, data, timeout, cafile, capath, cadefault, context)\u001b[0m\n\u001b[0;32m    214\u001b[0m \u001b[38;5;28;01melse\u001b[39;00m:\n\u001b[0;32m    215\u001b[0m     opener \u001b[38;5;241m=\u001b[39m _opener\n\u001b[1;32m--> 216\u001b[0m \u001b[38;5;28;01mreturn\u001b[39;00m \u001b[43mopener\u001b[49m\u001b[38;5;241;43m.\u001b[39;49m\u001b[43mopen\u001b[49m\u001b[43m(\u001b[49m\u001b[43murl\u001b[49m\u001b[43m,\u001b[49m\u001b[43m \u001b[49m\u001b[43mdata\u001b[49m\u001b[43m,\u001b[49m\u001b[43m \u001b[49m\u001b[43mtimeout\u001b[49m\u001b[43m)\u001b[49m\n",
      "File \u001b[1;32mC:\\Program Files\\Python311\\Lib\\urllib\\request.py:519\u001b[0m, in \u001b[0;36mOpenerDirector.open\u001b[1;34m(self, fullurl, data, timeout)\u001b[0m\n\u001b[0;32m    516\u001b[0m     req \u001b[38;5;241m=\u001b[39m meth(req)\n\u001b[0;32m    518\u001b[0m sys\u001b[38;5;241m.\u001b[39maudit(\u001b[38;5;124m'\u001b[39m\u001b[38;5;124murllib.Request\u001b[39m\u001b[38;5;124m'\u001b[39m, req\u001b[38;5;241m.\u001b[39mfull_url, req\u001b[38;5;241m.\u001b[39mdata, req\u001b[38;5;241m.\u001b[39mheaders, req\u001b[38;5;241m.\u001b[39mget_method())\n\u001b[1;32m--> 519\u001b[0m response \u001b[38;5;241m=\u001b[39m \u001b[38;5;28;43mself\u001b[39;49m\u001b[38;5;241;43m.\u001b[39;49m\u001b[43m_open\u001b[49m\u001b[43m(\u001b[49m\u001b[43mreq\u001b[49m\u001b[43m,\u001b[49m\u001b[43m \u001b[49m\u001b[43mdata\u001b[49m\u001b[43m)\u001b[49m\n\u001b[0;32m    521\u001b[0m \u001b[38;5;66;03m# post-process response\u001b[39;00m\n\u001b[0;32m    522\u001b[0m meth_name \u001b[38;5;241m=\u001b[39m protocol\u001b[38;5;241m+\u001b[39m\u001b[38;5;124m\"\u001b[39m\u001b[38;5;124m_response\u001b[39m\u001b[38;5;124m\"\u001b[39m\n",
      "File \u001b[1;32mC:\\Program Files\\Python311\\Lib\\urllib\\request.py:536\u001b[0m, in \u001b[0;36mOpenerDirector._open\u001b[1;34m(self, req, data)\u001b[0m\n\u001b[0;32m    533\u001b[0m     \u001b[38;5;28;01mreturn\u001b[39;00m result\n\u001b[0;32m    535\u001b[0m protocol \u001b[38;5;241m=\u001b[39m req\u001b[38;5;241m.\u001b[39mtype\n\u001b[1;32m--> 536\u001b[0m result \u001b[38;5;241m=\u001b[39m \u001b[38;5;28;43mself\u001b[39;49m\u001b[38;5;241;43m.\u001b[39;49m\u001b[43m_call_chain\u001b[49m\u001b[43m(\u001b[49m\u001b[38;5;28;43mself\u001b[39;49m\u001b[38;5;241;43m.\u001b[39;49m\u001b[43mhandle_open\u001b[49m\u001b[43m,\u001b[49m\u001b[43m \u001b[49m\u001b[43mprotocol\u001b[49m\u001b[43m,\u001b[49m\u001b[43m \u001b[49m\u001b[43mprotocol\u001b[49m\u001b[43m \u001b[49m\u001b[38;5;241;43m+\u001b[39;49m\n\u001b[0;32m    537\u001b[0m \u001b[43m                          \u001b[49m\u001b[38;5;124;43m'\u001b[39;49m\u001b[38;5;124;43m_open\u001b[39;49m\u001b[38;5;124;43m'\u001b[39;49m\u001b[43m,\u001b[49m\u001b[43m \u001b[49m\u001b[43mreq\u001b[49m\u001b[43m)\u001b[49m\n\u001b[0;32m    538\u001b[0m \u001b[38;5;28;01mif\u001b[39;00m result:\n\u001b[0;32m    539\u001b[0m     \u001b[38;5;28;01mreturn\u001b[39;00m result\n",
      "File \u001b[1;32mC:\\Program Files\\Python311\\Lib\\urllib\\request.py:496\u001b[0m, in \u001b[0;36mOpenerDirector._call_chain\u001b[1;34m(self, chain, kind, meth_name, *args)\u001b[0m\n\u001b[0;32m    494\u001b[0m \u001b[38;5;28;01mfor\u001b[39;00m handler \u001b[38;5;129;01min\u001b[39;00m handlers:\n\u001b[0;32m    495\u001b[0m     func \u001b[38;5;241m=\u001b[39m \u001b[38;5;28mgetattr\u001b[39m(handler, meth_name)\n\u001b[1;32m--> 496\u001b[0m     result \u001b[38;5;241m=\u001b[39m \u001b[43mfunc\u001b[49m\u001b[43m(\u001b[49m\u001b[38;5;241;43m*\u001b[39;49m\u001b[43margs\u001b[49m\u001b[43m)\u001b[49m\n\u001b[0;32m    497\u001b[0m     \u001b[38;5;28;01mif\u001b[39;00m result \u001b[38;5;129;01mis\u001b[39;00m \u001b[38;5;129;01mnot\u001b[39;00m \u001b[38;5;28;01mNone\u001b[39;00m:\n\u001b[0;32m    498\u001b[0m         \u001b[38;5;28;01mreturn\u001b[39;00m result\n",
      "File \u001b[1;32mC:\\Program Files\\Python311\\Lib\\urllib\\request.py:1377\u001b[0m, in \u001b[0;36mHTTPHandler.http_open\u001b[1;34m(self, req)\u001b[0m\n\u001b[0;32m   1376\u001b[0m \u001b[38;5;28;01mdef\u001b[39;00m\u001b[38;5;250m \u001b[39m\u001b[38;5;21mhttp_open\u001b[39m(\u001b[38;5;28mself\u001b[39m, req):\n\u001b[1;32m-> 1377\u001b[0m     \u001b[38;5;28;01mreturn\u001b[39;00m \u001b[38;5;28;43mself\u001b[39;49m\u001b[38;5;241;43m.\u001b[39;49m\u001b[43mdo_open\u001b[49m\u001b[43m(\u001b[49m\u001b[43mhttp\u001b[49m\u001b[38;5;241;43m.\u001b[39;49m\u001b[43mclient\u001b[49m\u001b[38;5;241;43m.\u001b[39;49m\u001b[43mHTTPConnection\u001b[49m\u001b[43m,\u001b[49m\u001b[43m \u001b[49m\u001b[43mreq\u001b[49m\u001b[43m)\u001b[49m\n",
      "File \u001b[1;32mC:\\Program Files\\Python311\\Lib\\urllib\\request.py:1352\u001b[0m, in \u001b[0;36mAbstractHTTPHandler.do_open\u001b[1;34m(self, http_class, req, **http_conn_args)\u001b[0m\n\u001b[0;32m   1350\u001b[0m     \u001b[38;5;28;01mexcept\u001b[39;00m \u001b[38;5;167;01mOSError\u001b[39;00m \u001b[38;5;28;01mas\u001b[39;00m err: \u001b[38;5;66;03m# timeout error\u001b[39;00m\n\u001b[0;32m   1351\u001b[0m         \u001b[38;5;28;01mraise\u001b[39;00m URLError(err)\n\u001b[1;32m-> 1352\u001b[0m     r \u001b[38;5;241m=\u001b[39m \u001b[43mh\u001b[49m\u001b[38;5;241;43m.\u001b[39;49m\u001b[43mgetresponse\u001b[49m\u001b[43m(\u001b[49m\u001b[43m)\u001b[49m\n\u001b[0;32m   1353\u001b[0m \u001b[38;5;28;01mexcept\u001b[39;00m:\n\u001b[0;32m   1354\u001b[0m     h\u001b[38;5;241m.\u001b[39mclose()\n",
      "File \u001b[1;32mC:\\Program Files\\Python311\\Lib\\http\\client.py:1386\u001b[0m, in \u001b[0;36mHTTPConnection.getresponse\u001b[1;34m(self)\u001b[0m\n\u001b[0;32m   1384\u001b[0m \u001b[38;5;28;01mtry\u001b[39;00m:\n\u001b[0;32m   1385\u001b[0m     \u001b[38;5;28;01mtry\u001b[39;00m:\n\u001b[1;32m-> 1386\u001b[0m         \u001b[43mresponse\u001b[49m\u001b[38;5;241;43m.\u001b[39;49m\u001b[43mbegin\u001b[49m\u001b[43m(\u001b[49m\u001b[43m)\u001b[49m\n\u001b[0;32m   1387\u001b[0m     \u001b[38;5;28;01mexcept\u001b[39;00m \u001b[38;5;167;01mConnectionError\u001b[39;00m:\n\u001b[0;32m   1388\u001b[0m         \u001b[38;5;28mself\u001b[39m\u001b[38;5;241m.\u001b[39mclose()\n",
      "File \u001b[1;32mC:\\Program Files\\Python311\\Lib\\http\\client.py:325\u001b[0m, in \u001b[0;36mHTTPResponse.begin\u001b[1;34m(self)\u001b[0m\n\u001b[0;32m    323\u001b[0m \u001b[38;5;66;03m# read until we get a non-100 response\u001b[39;00m\n\u001b[0;32m    324\u001b[0m \u001b[38;5;28;01mwhile\u001b[39;00m \u001b[38;5;28;01mTrue\u001b[39;00m:\n\u001b[1;32m--> 325\u001b[0m     version, status, reason \u001b[38;5;241m=\u001b[39m \u001b[38;5;28;43mself\u001b[39;49m\u001b[38;5;241;43m.\u001b[39;49m\u001b[43m_read_status\u001b[49m\u001b[43m(\u001b[49m\u001b[43m)\u001b[49m\n\u001b[0;32m    326\u001b[0m     \u001b[38;5;28;01mif\u001b[39;00m status \u001b[38;5;241m!=\u001b[39m CONTINUE:\n\u001b[0;32m    327\u001b[0m         \u001b[38;5;28;01mbreak\u001b[39;00m\n",
      "File \u001b[1;32mC:\\Program Files\\Python311\\Lib\\http\\client.py:286\u001b[0m, in \u001b[0;36mHTTPResponse._read_status\u001b[1;34m(self)\u001b[0m\n\u001b[0;32m    285\u001b[0m \u001b[38;5;28;01mdef\u001b[39;00m\u001b[38;5;250m \u001b[39m\u001b[38;5;21m_read_status\u001b[39m(\u001b[38;5;28mself\u001b[39m):\n\u001b[1;32m--> 286\u001b[0m     line \u001b[38;5;241m=\u001b[39m \u001b[38;5;28mstr\u001b[39m(\u001b[38;5;28mself\u001b[39m\u001b[38;5;241m.\u001b[39mfp\u001b[38;5;241m.\u001b[39mreadline(_MAXLINE \u001b[38;5;241m+\u001b[39m \u001b[38;5;241m1\u001b[39m), \u001b[38;5;124m\"\u001b[39m\u001b[38;5;124miso-8859-1\u001b[39m\u001b[38;5;124m\"\u001b[39m)\n\u001b[0;32m    287\u001b[0m     \u001b[38;5;28;01mif\u001b[39;00m \u001b[38;5;28mlen\u001b[39m(line) \u001b[38;5;241m>\u001b[39m _MAXLINE:\n\u001b[0;32m    288\u001b[0m         \u001b[38;5;28;01mraise\u001b[39;00m LineTooLong(\u001b[38;5;124m\"\u001b[39m\u001b[38;5;124mstatus line\u001b[39m\u001b[38;5;124m\"\u001b[39m)\n",
      "File \u001b[1;32mC:\\Program Files\\Python311\\Lib\\socket.py:706\u001b[0m, in \u001b[0;36mSocketIO.readinto\u001b[1;34m(self, b)\u001b[0m\n\u001b[0;32m    704\u001b[0m \u001b[38;5;28;01mwhile\u001b[39;00m \u001b[38;5;28;01mTrue\u001b[39;00m:\n\u001b[0;32m    705\u001b[0m     \u001b[38;5;28;01mtry\u001b[39;00m:\n\u001b[1;32m--> 706\u001b[0m         \u001b[38;5;28;01mreturn\u001b[39;00m \u001b[38;5;28;43mself\u001b[39;49m\u001b[38;5;241;43m.\u001b[39;49m\u001b[43m_sock\u001b[49m\u001b[38;5;241;43m.\u001b[39;49m\u001b[43mrecv_into\u001b[49m\u001b[43m(\u001b[49m\u001b[43mb\u001b[49m\u001b[43m)\u001b[49m\n\u001b[0;32m    707\u001b[0m     \u001b[38;5;28;01mexcept\u001b[39;00m timeout:\n\u001b[0;32m    708\u001b[0m         \u001b[38;5;28mself\u001b[39m\u001b[38;5;241m.\u001b[39m_timeout_occurred \u001b[38;5;241m=\u001b[39m \u001b[38;5;28;01mTrue\u001b[39;00m\n",
      "\u001b[1;31mKeyboardInterrupt\u001b[0m: "
     ]
    }
   ],
   "source": [
    "from aflow import *\n",
    "\n",
    "result = search(batch_size=20\n",
    "        ).select(K.agl_thermal_conductivity_300K\n",
    "        ).filter(K.Egap > 6).orderby(K.agl_thermal_conductivity_300K, True)\n",
    "\n",
    "# Now, you can just iterate over the results.\n",
    "for entry in result:\n",
    "    print(entry.Egap)"
   ]
  },
  {
   "cell_type": "markdown",
   "metadata": {},
   "source": [
    "## perov_5"
   ]
  },
  {
   "cell_type": "code",
   "execution_count": 8,
   "metadata": {},
   "outputs": [
    {
     "data": {
      "text/html": [
       "<div>\n",
       "<style scoped>\n",
       "    .dataframe tbody tr th:only-of-type {\n",
       "        vertical-align: middle;\n",
       "    }\n",
       "\n",
       "    .dataframe tbody tr th {\n",
       "        vertical-align: top;\n",
       "    }\n",
       "\n",
       "    .dataframe thead th {\n",
       "        text-align: right;\n",
       "    }\n",
       "</style>\n",
       "<table border=\"1\" class=\"dataframe\">\n",
       "  <thead>\n",
       "    <tr style=\"text-align: right;\">\n",
       "      <th></th>\n",
       "      <th>Unnamed: 0</th>\n",
       "      <th>material_id</th>\n",
       "      <th>cif</th>\n",
       "      <th>formula</th>\n",
       "      <th>heat_all</th>\n",
       "      <th>heat_ref</th>\n",
       "      <th>dir_gap</th>\n",
       "      <th>ind_gap</th>\n",
       "    </tr>\n",
       "  </thead>\n",
       "  <tbody>\n",
       "    <tr>\n",
       "      <th>0</th>\n",
       "      <td>8989</td>\n",
       "      <td>6334</td>\n",
       "      <td># generated using pymatgen\\ndata_TlCoN2O\\n_sym...</td>\n",
       "      <td>CoTlON2</td>\n",
       "      <td>2.72</td>\n",
       "      <td>2.624864</td>\n",
       "      <td>0.0</td>\n",
       "      <td>0.0</td>\n",
       "    </tr>\n",
       "    <tr>\n",
       "      <th>1</th>\n",
       "      <td>4450</td>\n",
       "      <td>17313</td>\n",
       "      <td># generated using pymatgen\\ndata_CrTeN3\\n_symm...</td>\n",
       "      <td>CrTeN3</td>\n",
       "      <td>1.86</td>\n",
       "      <td>1.755497</td>\n",
       "      <td>0.0</td>\n",
       "      <td>0.0</td>\n",
       "    </tr>\n",
       "    <tr>\n",
       "      <th>2</th>\n",
       "      <td>13752</td>\n",
       "      <td>6840</td>\n",
       "      <td># generated using pymatgen\\ndata_SbTeN2O\\n_sym...</td>\n",
       "      <td>SbTeON2</td>\n",
       "      <td>1.06</td>\n",
       "      <td>1.056506</td>\n",
       "      <td>0.0</td>\n",
       "      <td>0.0</td>\n",
       "    </tr>\n",
       "    <tr>\n",
       "      <th>3</th>\n",
       "      <td>12082</td>\n",
       "      <td>11379</td>\n",
       "      <td># generated using pymatgen\\ndata_NiPtO2F\\n_sym...</td>\n",
       "      <td>PtNiO2F</td>\n",
       "      <td>1.52</td>\n",
       "      <td>1.513021</td>\n",
       "      <td>0.0</td>\n",
       "      <td>0.0</td>\n",
       "    </tr>\n",
       "    <tr>\n",
       "      <th>4</th>\n",
       "      <td>18849</td>\n",
       "      <td>16590</td>\n",
       "      <td># generated using pymatgen\\ndata_YGeN3\\n_symme...</td>\n",
       "      <td>YGeN3</td>\n",
       "      <td>0.90</td>\n",
       "      <td>0.905283</td>\n",
       "      <td>0.0</td>\n",
       "      <td>0.0</td>\n",
       "    </tr>\n",
       "    <tr>\n",
       "      <th>...</th>\n",
       "      <td>...</td>\n",
       "      <td>...</td>\n",
       "      <td>...</td>\n",
       "      <td>...</td>\n",
       "      <td>...</td>\n",
       "      <td>...</td>\n",
       "      <td>...</td>\n",
       "      <td>...</td>\n",
       "    </tr>\n",
       "    <tr>\n",
       "      <th>18923</th>\n",
       "      <td>6903</td>\n",
       "      <td>6452</td>\n",
       "      <td># generated using pymatgen\\ndata_CsNbN2O\\n_sym...</td>\n",
       "      <td>CsNbON2</td>\n",
       "      <td>1.28</td>\n",
       "      <td>0.779384</td>\n",
       "      <td>0.0</td>\n",
       "      <td>0.0</td>\n",
       "    </tr>\n",
       "    <tr>\n",
       "      <th>18924</th>\n",
       "      <td>12146</td>\n",
       "      <td>7673</td>\n",
       "      <td># generated using pymatgen\\ndata_FePbN2O\\n_sym...</td>\n",
       "      <td>PbFeON2</td>\n",
       "      <td>1.12</td>\n",
       "      <td>1.074549</td>\n",
       "      <td>0.0</td>\n",
       "      <td>0.0</td>\n",
       "    </tr>\n",
       "    <tr>\n",
       "      <th>18925</th>\n",
       "      <td>62</td>\n",
       "      <td>819</td>\n",
       "      <td># generated using pymatgen\\ndata_NaGeNO2\\n_sym...</td>\n",
       "      <td>NaGeO2N</td>\n",
       "      <td>0.74</td>\n",
       "      <td>0.731097</td>\n",
       "      <td>0.0</td>\n",
       "      <td>0.0</td>\n",
       "    </tr>\n",
       "    <tr>\n",
       "      <th>18926</th>\n",
       "      <td>5519</td>\n",
       "      <td>11261</td>\n",
       "      <td># generated using pymatgen\\ndata_TeAuO2F\\n_sym...</td>\n",
       "      <td>TeAuO2F</td>\n",
       "      <td>1.76</td>\n",
       "      <td>1.750256</td>\n",
       "      <td>0.0</td>\n",
       "      <td>0.0</td>\n",
       "    </tr>\n",
       "    <tr>\n",
       "      <th>18927</th>\n",
       "      <td>870</td>\n",
       "      <td>9424</td>\n",
       "      <td># generated using pymatgen\\ndata_CdReSO2\\n_sym...</td>\n",
       "      <td>CdReO2S</td>\n",
       "      <td>0.84</td>\n",
       "      <td>0.832068</td>\n",
       "      <td>0.0</td>\n",
       "      <td>0.0</td>\n",
       "    </tr>\n",
       "  </tbody>\n",
       "</table>\n",
       "<p>18928 rows × 8 columns</p>\n",
       "</div>"
      ],
      "text/plain": [
       "       Unnamed: 0  material_id  \\\n",
       "0            8989         6334   \n",
       "1            4450        17313   \n",
       "2           13752         6840   \n",
       "3           12082        11379   \n",
       "4           18849        16590   \n",
       "...           ...          ...   \n",
       "18923        6903         6452   \n",
       "18924       12146         7673   \n",
       "18925          62          819   \n",
       "18926        5519        11261   \n",
       "18927         870         9424   \n",
       "\n",
       "                                                     cif  formula  heat_all  \\\n",
       "0      # generated using pymatgen\\ndata_TlCoN2O\\n_sym...  CoTlON2      2.72   \n",
       "1      # generated using pymatgen\\ndata_CrTeN3\\n_symm...   CrTeN3      1.86   \n",
       "2      # generated using pymatgen\\ndata_SbTeN2O\\n_sym...  SbTeON2      1.06   \n",
       "3      # generated using pymatgen\\ndata_NiPtO2F\\n_sym...  PtNiO2F      1.52   \n",
       "4      # generated using pymatgen\\ndata_YGeN3\\n_symme...    YGeN3      0.90   \n",
       "...                                                  ...      ...       ...   \n",
       "18923  # generated using pymatgen\\ndata_CsNbN2O\\n_sym...  CsNbON2      1.28   \n",
       "18924  # generated using pymatgen\\ndata_FePbN2O\\n_sym...  PbFeON2      1.12   \n",
       "18925  # generated using pymatgen\\ndata_NaGeNO2\\n_sym...  NaGeO2N      0.74   \n",
       "18926  # generated using pymatgen\\ndata_TeAuO2F\\n_sym...  TeAuO2F      1.76   \n",
       "18927  # generated using pymatgen\\ndata_CdReSO2\\n_sym...  CdReO2S      0.84   \n",
       "\n",
       "       heat_ref  dir_gap  ind_gap  \n",
       "0      2.624864      0.0      0.0  \n",
       "1      1.755497      0.0      0.0  \n",
       "2      1.056506      0.0      0.0  \n",
       "3      1.513021      0.0      0.0  \n",
       "4      0.905283      0.0      0.0  \n",
       "...         ...      ...      ...  \n",
       "18923  0.779384      0.0      0.0  \n",
       "18924  1.074549      0.0      0.0  \n",
       "18925  0.731097      0.0      0.0  \n",
       "18926  1.750256      0.0      0.0  \n",
       "18927  0.832068      0.0      0.0  \n",
       "\n",
       "[18928 rows x 8 columns]"
      ]
     },
     "execution_count": 8,
     "metadata": {},
     "output_type": "execute_result"
    }
   ],
   "source": [
    "perov = pd.read_csv(\"perov_5\\\\perov_5_file.csv\")\n",
    "perov"
   ]
  },
  {
   "cell_type": "markdown",
   "metadata": {},
   "source": [
    "## carbon_24"
   ]
  },
  {
   "cell_type": "code",
   "execution_count": 13,
   "metadata": {},
   "outputs": [
    {
     "data": {
      "text/html": [
       "<div>\n",
       "<style scoped>\n",
       "    .dataframe tbody tr th:only-of-type {\n",
       "        vertical-align: middle;\n",
       "    }\n",
       "\n",
       "    .dataframe tbody tr th {\n",
       "        vertical-align: top;\n",
       "    }\n",
       "\n",
       "    .dataframe thead th {\n",
       "        text-align: right;\n",
       "    }\n",
       "</style>\n",
       "<table border=\"1\" class=\"dataframe\">\n",
       "  <thead>\n",
       "    <tr style=\"text-align: right;\">\n",
       "      <th></th>\n",
       "      <th>Unnamed: 0</th>\n",
       "      <th>material_id</th>\n",
       "      <th>cif</th>\n",
       "      <th>energy_per_atom</th>\n",
       "    </tr>\n",
       "  </thead>\n",
       "  <tbody>\n",
       "    <tr>\n",
       "      <th>0</th>\n",
       "      <td>9251</td>\n",
       "      <td>C-130499-1826-36</td>\n",
       "      <td># generated using pymatgen\\ndata_C\\n_symmetry_...</td>\n",
       "      <td>-154.311891</td>\n",
       "    </tr>\n",
       "    <tr>\n",
       "      <th>1</th>\n",
       "      <td>6412</td>\n",
       "      <td>C-13904-4247-31</td>\n",
       "      <td># generated using pymatgen\\ndata_C\\n_symmetry_...</td>\n",
       "      <td>-154.332183</td>\n",
       "    </tr>\n",
       "    <tr>\n",
       "      <th>2</th>\n",
       "      <td>3301</td>\n",
       "      <td>C-92138-4782-35</td>\n",
       "      <td># generated using pymatgen\\ndata_C\\n_symmetry_...</td>\n",
       "      <td>-154.178157</td>\n",
       "    </tr>\n",
       "    <tr>\n",
       "      <th>3</th>\n",
       "      <td>4777</td>\n",
       "      <td>C-192672-505-73</td>\n",
       "      <td># generated using pymatgen\\ndata_C\\n_symmetry_...</td>\n",
       "      <td>-154.309339</td>\n",
       "    </tr>\n",
       "    <tr>\n",
       "      <th>4</th>\n",
       "      <td>3764</td>\n",
       "      <td>C-193956-5355-22</td>\n",
       "      <td># generated using pymatgen\\ndata_C\\n_symmetry_...</td>\n",
       "      <td>-154.141835</td>\n",
       "    </tr>\n",
       "    <tr>\n",
       "      <th>...</th>\n",
       "      <td>...</td>\n",
       "      <td>...</td>\n",
       "      <td>...</td>\n",
       "      <td>...</td>\n",
       "    </tr>\n",
       "    <tr>\n",
       "      <th>10148</th>\n",
       "      <td>6268</td>\n",
       "      <td>C-193926-6320-8</td>\n",
       "      <td># generated using pymatgen\\ndata_C\\n_symmetry_...</td>\n",
       "      <td>-154.168573</td>\n",
       "    </tr>\n",
       "    <tr>\n",
       "      <th>10149</th>\n",
       "      <td>9375</td>\n",
       "      <td>C-13665-1988-16</td>\n",
       "      <td># generated using pymatgen\\ndata_C\\n_symmetry_...</td>\n",
       "      <td>-154.184871</td>\n",
       "    </tr>\n",
       "    <tr>\n",
       "      <th>10150</th>\n",
       "      <td>542</td>\n",
       "      <td>C-142855-9438-3</td>\n",
       "      <td># generated using pymatgen\\ndata_C\\n_symmetry_...</td>\n",
       "      <td>-154.096413</td>\n",
       "    </tr>\n",
       "    <tr>\n",
       "      <th>10151</th>\n",
       "      <td>8795</td>\n",
       "      <td>C-13640-2755-30</td>\n",
       "      <td># generated using pymatgen\\ndata_C\\n_symmetry_...</td>\n",
       "      <td>-154.119650</td>\n",
       "    </tr>\n",
       "    <tr>\n",
       "      <th>10152</th>\n",
       "      <td>3250</td>\n",
       "      <td>C-126149-3704-40</td>\n",
       "      <td># generated using pymatgen\\ndata_C\\n_symmetry_...</td>\n",
       "      <td>-154.202563</td>\n",
       "    </tr>\n",
       "  </tbody>\n",
       "</table>\n",
       "<p>10153 rows × 4 columns</p>\n",
       "</div>"
      ],
      "text/plain": [
       "       Unnamed: 0       material_id  \\\n",
       "0            9251  C-130499-1826-36   \n",
       "1            6412   C-13904-4247-31   \n",
       "2            3301   C-92138-4782-35   \n",
       "3            4777   C-192672-505-73   \n",
       "4            3764  C-193956-5355-22   \n",
       "...           ...               ...   \n",
       "10148        6268   C-193926-6320-8   \n",
       "10149        9375   C-13665-1988-16   \n",
       "10150         542   C-142855-9438-3   \n",
       "10151        8795   C-13640-2755-30   \n",
       "10152        3250  C-126149-3704-40   \n",
       "\n",
       "                                                     cif  energy_per_atom  \n",
       "0      # generated using pymatgen\\ndata_C\\n_symmetry_...      -154.311891  \n",
       "1      # generated using pymatgen\\ndata_C\\n_symmetry_...      -154.332183  \n",
       "2      # generated using pymatgen\\ndata_C\\n_symmetry_...      -154.178157  \n",
       "3      # generated using pymatgen\\ndata_C\\n_symmetry_...      -154.309339  \n",
       "4      # generated using pymatgen\\ndata_C\\n_symmetry_...      -154.141835  \n",
       "...                                                  ...              ...  \n",
       "10148  # generated using pymatgen\\ndata_C\\n_symmetry_...      -154.168573  \n",
       "10149  # generated using pymatgen\\ndata_C\\n_symmetry_...      -154.184871  \n",
       "10150  # generated using pymatgen\\ndata_C\\n_symmetry_...      -154.096413  \n",
       "10151  # generated using pymatgen\\ndata_C\\n_symmetry_...      -154.119650  \n",
       "10152  # generated using pymatgen\\ndata_C\\n_symmetry_...      -154.202563  \n",
       "\n",
       "[10153 rows x 4 columns]"
      ]
     },
     "execution_count": 13,
     "metadata": {},
     "output_type": "execute_result"
    }
   ],
   "source": [
    "carbon = pd.read_csv(\"carbon_24\\\\carbon_24_file.csv\")\n",
    "carbon"
   ]
  },
  {
   "cell_type": "code",
   "execution_count": 14,
   "metadata": {},
   "outputs": [
    {
     "name": "stdout",
     "output_type": "stream",
     "text": [
      "# generated using pymatgen\n",
      "data_C\n",
      "_symmetry_space_group_name_H-M   'P 1'\n",
      "_cell_length_a   2.48053000\n",
      "_cell_length_b   5.09056000\n",
      "_cell_length_c   4.89497000\n",
      "_cell_angle_alpha   57.97521000\n",
      "_cell_angle_beta   59.51109000\n",
      "_cell_angle_gamma   43.04559000\n",
      "_symmetry_Int_Tables_number   1\n",
      "_chemical_formula_structural   C\n",
      "_chemical_formula_sum   C6\n",
      "_cell_volume   34.99453900\n",
      "_cell_formula_units_Z   6\n",
      "loop_\n",
      " _symmetry_equiv_pos_site_id\n",
      " _symmetry_equiv_pos_as_xyz\n",
      "  1  'x, y, z'\n",
      "loop_\n",
      " _atom_site_type_symbol\n",
      " _atom_site_label\n",
      " _atom_site_symmetry_multiplicity\n",
      " _atom_site_fract_x\n",
      " _atom_site_fract_y\n",
      " _atom_site_fract_z\n",
      " _atom_site_occupancy\n",
      "  C  C0  1  1.01706897  0.71072668  0.70544499  1\n",
      "  C  C1  1  0.68025235  0.06989044  1.00318540  1\n",
      "  C  C2  1  0.14234414  0.62471612  0.20939241  1\n",
      "  C  C3  1  0.34433233  0.10871703  0.78081493  1\n",
      "  C  C4  1  -0.11663885  0.55405962  0.57440517  1\n",
      "  C  C5  1  0.00817595  0.46805771  0.07810120  1\n",
      "\n"
     ]
    }
   ],
   "source": [
    "print(carbon.iloc[0].cif)"
   ]
  },
  {
   "cell_type": "markdown",
   "metadata": {},
   "source": [
    "## mp_20"
   ]
  },
  {
   "cell_type": "code",
   "execution_count": 15,
   "metadata": {},
   "outputs": [
    {
     "data": {
      "text/html": [
       "<div>\n",
       "<style scoped>\n",
       "    .dataframe tbody tr th:only-of-type {\n",
       "        vertical-align: middle;\n",
       "    }\n",
       "\n",
       "    .dataframe tbody tr th {\n",
       "        vertical-align: top;\n",
       "    }\n",
       "\n",
       "    .dataframe thead th {\n",
       "        text-align: right;\n",
       "    }\n",
       "</style>\n",
       "<table border=\"1\" class=\"dataframe\">\n",
       "  <thead>\n",
       "    <tr style=\"text-align: right;\">\n",
       "      <th></th>\n",
       "      <th>Unnamed: 0</th>\n",
       "      <th>material_id</th>\n",
       "      <th>formation_energy_per_atom</th>\n",
       "      <th>band_gap</th>\n",
       "      <th>pretty_formula</th>\n",
       "      <th>e_above_hull</th>\n",
       "      <th>elements</th>\n",
       "      <th>cif</th>\n",
       "      <th>spacegroup.number</th>\n",
       "    </tr>\n",
       "  </thead>\n",
       "  <tbody>\n",
       "    <tr>\n",
       "      <th>0</th>\n",
       "      <td>37228</td>\n",
       "      <td>mp-1221227</td>\n",
       "      <td>-1.637460</td>\n",
       "      <td>0.2133</td>\n",
       "      <td>Na3MnCoNiO6</td>\n",
       "      <td>0.043001</td>\n",
       "      <td>['Co', 'Mn', 'Na', 'Ni', 'O']</td>\n",
       "      <td># generated using pymatgen\\ndata_Na3MnCoNiO6\\n...</td>\n",
       "      <td>8</td>\n",
       "    </tr>\n",
       "    <tr>\n",
       "      <th>1</th>\n",
       "      <td>19480</td>\n",
       "      <td>mp-974729</td>\n",
       "      <td>-0.314759</td>\n",
       "      <td>0.0000</td>\n",
       "      <td>Nd(Al2Cu)4</td>\n",
       "      <td>0.000000</td>\n",
       "      <td>['Al', 'Cu', 'Nd']</td>\n",
       "      <td># generated using pymatgen\\ndata_Nd(Al2Cu)4\\n_...</td>\n",
       "      <td>139</td>\n",
       "    </tr>\n",
       "    <tr>\n",
       "      <th>2</th>\n",
       "      <td>29624</td>\n",
       "      <td>mp-1185360</td>\n",
       "      <td>-0.193761</td>\n",
       "      <td>0.0000</td>\n",
       "      <td>LiMnIr2</td>\n",
       "      <td>0.018075</td>\n",
       "      <td>['Ir', 'Li', 'Mn']</td>\n",
       "      <td># generated using pymatgen\\ndata_LiMnIr2\\n_sym...</td>\n",
       "      <td>225</td>\n",
       "    </tr>\n",
       "    <tr>\n",
       "      <th>3</th>\n",
       "      <td>38633</td>\n",
       "      <td>mp-1188861</td>\n",
       "      <td>-0.584694</td>\n",
       "      <td>3.8556</td>\n",
       "      <td>LiCSN</td>\n",
       "      <td>0.048847</td>\n",
       "      <td>['C', 'Li', 'N', 'S']</td>\n",
       "      <td># generated using pymatgen\\ndata_LiCSN\\n_symme...</td>\n",
       "      <td>62</td>\n",
       "    </tr>\n",
       "    <tr>\n",
       "      <th>4</th>\n",
       "      <td>10889</td>\n",
       "      <td>mp-677272</td>\n",
       "      <td>-2.474759</td>\n",
       "      <td>0.4707</td>\n",
       "      <td>La2EuS4</td>\n",
       "      <td>0.000000</td>\n",
       "      <td>['Eu', 'La', 'S']</td>\n",
       "      <td># generated using pymatgen\\ndata_La2EuS4\\n_sym...</td>\n",
       "      <td>122</td>\n",
       "    </tr>\n",
       "    <tr>\n",
       "      <th>...</th>\n",
       "      <td>...</td>\n",
       "      <td>...</td>\n",
       "      <td>...</td>\n",
       "      <td>...</td>\n",
       "      <td>...</td>\n",
       "      <td>...</td>\n",
       "      <td>...</td>\n",
       "      <td>...</td>\n",
       "      <td>...</td>\n",
       "    </tr>\n",
       "    <tr>\n",
       "      <th>45224</th>\n",
       "      <td>21009</td>\n",
       "      <td>mp-1023925</td>\n",
       "      <td>-1.152798</td>\n",
       "      <td>1.6970</td>\n",
       "      <td>WS2</td>\n",
       "      <td>0.001173</td>\n",
       "      <td>['S', 'W']</td>\n",
       "      <td># generated using pymatgen\\ndata_WS2\\n_symmetr...</td>\n",
       "      <td>164</td>\n",
       "    </tr>\n",
       "    <tr>\n",
       "      <th>45225</th>\n",
       "      <td>31626</td>\n",
       "      <td>mp-1187764</td>\n",
       "      <td>-0.788772</td>\n",
       "      <td>0.0000</td>\n",
       "      <td>Y2ZnPt</td>\n",
       "      <td>0.022813</td>\n",
       "      <td>['Pt', 'Y', 'Zn']</td>\n",
       "      <td># generated using pymatgen\\ndata_Y2ZnPt\\n_symm...</td>\n",
       "      <td>225</td>\n",
       "    </tr>\n",
       "    <tr>\n",
       "      <th>45226</th>\n",
       "      <td>20673</td>\n",
       "      <td>mp-1219588</td>\n",
       "      <td>-2.910913</td>\n",
       "      <td>1.9239</td>\n",
       "      <td>RbMgCoF6</td>\n",
       "      <td>0.000710</td>\n",
       "      <td>['Co', 'F', 'Mg', 'Rb']</td>\n",
       "      <td># generated using pymatgen\\ndata_RbMgCoF6\\n_sy...</td>\n",
       "      <td>74</td>\n",
       "    </tr>\n",
       "    <tr>\n",
       "      <th>45227</th>\n",
       "      <td>5349</td>\n",
       "      <td>mp-3589</td>\n",
       "      <td>-2.764644</td>\n",
       "      <td>7.2758</td>\n",
       "      <td>BPO4</td>\n",
       "      <td>0.000000</td>\n",
       "      <td>['B', 'P', 'O']</td>\n",
       "      <td># generated using pymatgen\\ndata_BPO4\\n_symmet...</td>\n",
       "      <td>82</td>\n",
       "    </tr>\n",
       "    <tr>\n",
       "      <th>45228</th>\n",
       "      <td>34318</td>\n",
       "      <td>mp-1518304</td>\n",
       "      <td>-3.431822</td>\n",
       "      <td>2.8763</td>\n",
       "      <td>BaSrDyNbO6</td>\n",
       "      <td>0.032056</td>\n",
       "      <td>['Ba', 'Dy', 'Nb', 'O', 'Sr']</td>\n",
       "      <td># generated using pymatgen\\ndata_BaSrDyNbO6\\n_...</td>\n",
       "      <td>216</td>\n",
       "    </tr>\n",
       "  </tbody>\n",
       "</table>\n",
       "<p>45229 rows × 9 columns</p>\n",
       "</div>"
      ],
      "text/plain": [
       "       Unnamed: 0 material_id  formation_energy_per_atom  band_gap  \\\n",
       "0           37228  mp-1221227                  -1.637460    0.2133   \n",
       "1           19480   mp-974729                  -0.314759    0.0000   \n",
       "2           29624  mp-1185360                  -0.193761    0.0000   \n",
       "3           38633  mp-1188861                  -0.584694    3.8556   \n",
       "4           10889   mp-677272                  -2.474759    0.4707   \n",
       "...           ...         ...                        ...       ...   \n",
       "45224       21009  mp-1023925                  -1.152798    1.6970   \n",
       "45225       31626  mp-1187764                  -0.788772    0.0000   \n",
       "45226       20673  mp-1219588                  -2.910913    1.9239   \n",
       "45227        5349     mp-3589                  -2.764644    7.2758   \n",
       "45228       34318  mp-1518304                  -3.431822    2.8763   \n",
       "\n",
       "      pretty_formula  e_above_hull                       elements  \\\n",
       "0        Na3MnCoNiO6      0.043001  ['Co', 'Mn', 'Na', 'Ni', 'O']   \n",
       "1         Nd(Al2Cu)4      0.000000             ['Al', 'Cu', 'Nd']   \n",
       "2            LiMnIr2      0.018075             ['Ir', 'Li', 'Mn']   \n",
       "3              LiCSN      0.048847          ['C', 'Li', 'N', 'S']   \n",
       "4            La2EuS4      0.000000              ['Eu', 'La', 'S']   \n",
       "...              ...           ...                            ...   \n",
       "45224            WS2      0.001173                     ['S', 'W']   \n",
       "45225         Y2ZnPt      0.022813              ['Pt', 'Y', 'Zn']   \n",
       "45226       RbMgCoF6      0.000710        ['Co', 'F', 'Mg', 'Rb']   \n",
       "45227           BPO4      0.000000                ['B', 'P', 'O']   \n",
       "45228     BaSrDyNbO6      0.032056  ['Ba', 'Dy', 'Nb', 'O', 'Sr']   \n",
       "\n",
       "                                                     cif  spacegroup.number  \n",
       "0      # generated using pymatgen\\ndata_Na3MnCoNiO6\\n...                  8  \n",
       "1      # generated using pymatgen\\ndata_Nd(Al2Cu)4\\n_...                139  \n",
       "2      # generated using pymatgen\\ndata_LiMnIr2\\n_sym...                225  \n",
       "3      # generated using pymatgen\\ndata_LiCSN\\n_symme...                 62  \n",
       "4      # generated using pymatgen\\ndata_La2EuS4\\n_sym...                122  \n",
       "...                                                  ...                ...  \n",
       "45224  # generated using pymatgen\\ndata_WS2\\n_symmetr...                164  \n",
       "45225  # generated using pymatgen\\ndata_Y2ZnPt\\n_symm...                225  \n",
       "45226  # generated using pymatgen\\ndata_RbMgCoF6\\n_sy...                 74  \n",
       "45227  # generated using pymatgen\\ndata_BPO4\\n_symmet...                 82  \n",
       "45228  # generated using pymatgen\\ndata_BaSrDyNbO6\\n_...                216  \n",
       "\n",
       "[45229 rows x 9 columns]"
      ]
     },
     "execution_count": 15,
     "metadata": {},
     "output_type": "execute_result"
    }
   ],
   "source": [
    "mp = pd.read_csv(\"mp_20\\\\mp20_file.csv\")\n",
    "mp"
   ]
  },
  {
   "cell_type": "code",
   "execution_count": 16,
   "metadata": {},
   "outputs": [
    {
     "data": {
      "text/plain": [
       "27624"
      ]
     },
     "execution_count": 16,
     "metadata": {},
     "output_type": "execute_result"
    }
   ],
   "source": [
    "len(set(mp.material_id) & set(jarvis.reference))"
   ]
  },
  {
   "cell_type": "markdown",
   "metadata": {},
   "source": [
    "## mpts_52"
   ]
  },
  {
   "cell_type": "code",
   "execution_count": 19,
   "metadata": {},
   "outputs": [
    {
     "data": {
      "text/html": [
       "<div>\n",
       "<style scoped>\n",
       "    .dataframe tbody tr th:only-of-type {\n",
       "        vertical-align: middle;\n",
       "    }\n",
       "\n",
       "    .dataframe tbody tr th {\n",
       "        vertical-align: top;\n",
       "    }\n",
       "\n",
       "    .dataframe thead th {\n",
       "        text-align: right;\n",
       "    }\n",
       "</style>\n",
       "<table border=\"1\" class=\"dataframe\">\n",
       "  <thead>\n",
       "    <tr style=\"text-align: right;\">\n",
       "      <th></th>\n",
       "      <th>Unnamed: 0</th>\n",
       "      <th>material_id</th>\n",
       "      <th>theoretical</th>\n",
       "      <th>energy_above_hull</th>\n",
       "      <th>formation_energy_per_atom</th>\n",
       "      <th>year</th>\n",
       "      <th>cif</th>\n",
       "    </tr>\n",
       "  </thead>\n",
       "  <tbody>\n",
       "    <tr>\n",
       "      <th>0</th>\n",
       "      <td>66</td>\n",
       "      <td>mp-66</td>\n",
       "      <td>False</td>\n",
       "      <td>0.136413</td>\n",
       "      <td>0.136413</td>\n",
       "      <td>1913</td>\n",
       "      <td># generated using pymatgen\\ndata_C\\n_symmetry_...</td>\n",
       "    </tr>\n",
       "    <tr>\n",
       "      <th>1</th>\n",
       "      <td>22862</td>\n",
       "      <td>mp-22862</td>\n",
       "      <td>False</td>\n",
       "      <td>0.000000</td>\n",
       "      <td>-2.109608</td>\n",
       "      <td>1913</td>\n",
       "      <td># generated using pymatgen\\ndata_NaCl\\n_symmet...</td>\n",
       "    </tr>\n",
       "    <tr>\n",
       "      <th>2</th>\n",
       "      <td>30</td>\n",
       "      <td>mp-30</td>\n",
       "      <td>False</td>\n",
       "      <td>0.000000</td>\n",
       "      <td>0.000000</td>\n",
       "      <td>1914</td>\n",
       "      <td># generated using pymatgen\\ndata_Cu\\n_symmetry...</td>\n",
       "    </tr>\n",
       "    <tr>\n",
       "      <th>3</th>\n",
       "      <td>2741</td>\n",
       "      <td>mp-2741</td>\n",
       "      <td>False</td>\n",
       "      <td>0.000000</td>\n",
       "      <td>-4.224281</td>\n",
       "      <td>1914</td>\n",
       "      <td># generated using pymatgen\\ndata_CaF2\\n_symmet...</td>\n",
       "    </tr>\n",
       "    <tr>\n",
       "      <th>4</th>\n",
       "      <td>1455</td>\n",
       "      <td>mp-1455</td>\n",
       "      <td>False</td>\n",
       "      <td>0.110733</td>\n",
       "      <td>-0.778788</td>\n",
       "      <td>1914</td>\n",
       "      <td># generated using pymatgen\\ndata_MnS2\\n_symmet...</td>\n",
       "    </tr>\n",
       "    <tr>\n",
       "      <th>...</th>\n",
       "      <td>...</td>\n",
       "      <td>...</td>\n",
       "      <td>...</td>\n",
       "      <td>...</td>\n",
       "      <td>...</td>\n",
       "      <td>...</td>\n",
       "      <td>...</td>\n",
       "    </tr>\n",
       "    <tr>\n",
       "      <th>40471</th>\n",
       "      <td>11924</td>\n",
       "      <td>mp-11924</td>\n",
       "      <td>False</td>\n",
       "      <td>0.000000</td>\n",
       "      <td>-1.204892</td>\n",
       "      <td>2004</td>\n",
       "      <td># generated using pymatgen\\ndata_Rb2TaCuSe4\\n_...</td>\n",
       "    </tr>\n",
       "    <tr>\n",
       "      <th>40472</th>\n",
       "      <td>11775</td>\n",
       "      <td>mp-11775</td>\n",
       "      <td>False</td>\n",
       "      <td>0.000000</td>\n",
       "      <td>-3.304561</td>\n",
       "      <td>2004</td>\n",
       "      <td># generated using pymatgen\\ndata_RbUO3\\n_symme...</td>\n",
       "    </tr>\n",
       "    <tr>\n",
       "      <th>40473</th>\n",
       "      <td>31118</td>\n",
       "      <td>mp-31118</td>\n",
       "      <td>False</td>\n",
       "      <td>0.000000</td>\n",
       "      <td>-3.921264</td>\n",
       "      <td>2004</td>\n",
       "      <td># generated using pymatgen\\ndata_SmScO3\\n_symm...</td>\n",
       "    </tr>\n",
       "    <tr>\n",
       "      <th>40474</th>\n",
       "      <td>11778</td>\n",
       "      <td>mp-11778</td>\n",
       "      <td>False</td>\n",
       "      <td>0.000000</td>\n",
       "      <td>-1.492701</td>\n",
       "      <td>2004</td>\n",
       "      <td># generated using pymatgen\\ndata_ThMnSe3\\n_sym...</td>\n",
       "    </tr>\n",
       "    <tr>\n",
       "      <th>40475</th>\n",
       "      <td>11784</td>\n",
       "      <td>mp-11784</td>\n",
       "      <td>False</td>\n",
       "      <td>0.193658</td>\n",
       "      <td>-1.978805</td>\n",
       "      <td>2004</td>\n",
       "      <td># generated using pymatgen\\ndata_LaYbSe3\\n_sym...</td>\n",
       "    </tr>\n",
       "  </tbody>\n",
       "</table>\n",
       "<p>40476 rows × 7 columns</p>\n",
       "</div>"
      ],
      "text/plain": [
       "       Unnamed: 0 material_id  theoretical  energy_above_hull  \\\n",
       "0              66       mp-66        False           0.136413   \n",
       "1           22862    mp-22862        False           0.000000   \n",
       "2              30       mp-30        False           0.000000   \n",
       "3            2741     mp-2741        False           0.000000   \n",
       "4            1455     mp-1455        False           0.110733   \n",
       "...           ...         ...          ...                ...   \n",
       "40471       11924    mp-11924        False           0.000000   \n",
       "40472       11775    mp-11775        False           0.000000   \n",
       "40473       31118    mp-31118        False           0.000000   \n",
       "40474       11778    mp-11778        False           0.000000   \n",
       "40475       11784    mp-11784        False           0.193658   \n",
       "\n",
       "       formation_energy_per_atom  year  \\\n",
       "0                       0.136413  1913   \n",
       "1                      -2.109608  1913   \n",
       "2                       0.000000  1914   \n",
       "3                      -4.224281  1914   \n",
       "4                      -0.778788  1914   \n",
       "...                          ...   ...   \n",
       "40471                  -1.204892  2004   \n",
       "40472                  -3.304561  2004   \n",
       "40473                  -3.921264  2004   \n",
       "40474                  -1.492701  2004   \n",
       "40475                  -1.978805  2004   \n",
       "\n",
       "                                                     cif  \n",
       "0      # generated using pymatgen\\ndata_C\\n_symmetry_...  \n",
       "1      # generated using pymatgen\\ndata_NaCl\\n_symmet...  \n",
       "2      # generated using pymatgen\\ndata_Cu\\n_symmetry...  \n",
       "3      # generated using pymatgen\\ndata_CaF2\\n_symmet...  \n",
       "4      # generated using pymatgen\\ndata_MnS2\\n_symmet...  \n",
       "...                                                  ...  \n",
       "40471  # generated using pymatgen\\ndata_Rb2TaCuSe4\\n_...  \n",
       "40472  # generated using pymatgen\\ndata_RbUO3\\n_symme...  \n",
       "40473  # generated using pymatgen\\ndata_SmScO3\\n_symm...  \n",
       "40474  # generated using pymatgen\\ndata_ThMnSe3\\n_sym...  \n",
       "40475  # generated using pymatgen\\ndata_LaYbSe3\\n_sym...  \n",
       "\n",
       "[40476 rows x 7 columns]"
      ]
     },
     "execution_count": 19,
     "metadata": {},
     "output_type": "execute_result"
    }
   ],
   "source": [
    "mpts = pd.read_csv(\"mpts_52\\\\mpts_52.csv\")\n",
    "mpts"
   ]
  },
  {
   "cell_type": "code",
   "execution_count": 23,
   "metadata": {},
   "outputs": [
    {
     "data": {
      "text/plain": [
       "102518"
      ]
     },
     "execution_count": 23,
     "metadata": {},
     "output_type": "execute_result"
    }
   ],
   "source": [
    "len(set(mp.material_id) | set(mpts.material_id) | set(jarvis.reference))"
   ]
  },
  {
   "cell_type": "markdown",
   "metadata": {},
   "source": [
    "## Merger"
   ]
  },
  {
   "cell_type": "markdown",
   "metadata": {},
   "source": [
    "Возьмем датасеты mp_20 mpts_52 carbon_24 jarvis alex_pbe perov_5. Сделаем объединение всех датасетов в один большой, где общий признаки будут cif файл + material_id "
   ]
  },
  {
   "cell_type": "code",
   "execution_count": 70,
   "metadata": {},
   "outputs": [
    {
     "name": "stderr",
     "output_type": "stream",
     "text": [
      "C:\\Users\\user\\AppData\\Local\\Temp\\ipykernel_18248\\4050457690.py:1: DtypeWarning: Columns (14,17,26,30) have mixed types. Specify dtype option on import or set low_memory=False.\n",
      "  jarvis = pd.read_csv(\"Jarvis\\\\jarvis.csv\")\n"
     ]
    }
   ],
   "source": [
    "jarvis = pd.read_csv(\"Jarvis\\\\jarvis.csv\")\n",
    "mpts = pd.read_csv(\"mpts_52\\\\mpts_52.csv\")\n",
    "mp = pd.read_csv(\"mp_20\\\\mp20_file.csv\")\n",
    "carbon = pd.read_csv(\"carbon_24\\\\carbon_24_file.csv\")\n",
    "alex_pbe = pd.read_csv(\"alexandria\\\\convex_hull_pbe.csv\")\n",
    "perov = pd.read_csv(\"perov_5/perov_5_file.csv\")"
   ]
  },
  {
   "cell_type": "markdown",
   "metadata": {},
   "source": [
    "### jarvis -> jarvis_cry"
   ]
  },
  {
   "cell_type": "code",
   "execution_count": 71,
   "metadata": {},
   "outputs": [],
   "source": [
    "jarvis_cry = jarvis[[ \"reference\", \"cif\"]]"
   ]
  },
  {
   "cell_type": "code",
   "execution_count": 72,
   "metadata": {},
   "outputs": [],
   "source": [
    "jarvis_cry.columns = [\"material_id\", \"cif\"]"
   ]
  },
  {
   "cell_type": "code",
   "execution_count": 73,
   "metadata": {},
   "outputs": [
    {
     "data": {
      "text/html": [
       "<div>\n",
       "<style scoped>\n",
       "    .dataframe tbody tr th:only-of-type {\n",
       "        vertical-align: middle;\n",
       "    }\n",
       "\n",
       "    .dataframe tbody tr th {\n",
       "        vertical-align: top;\n",
       "    }\n",
       "\n",
       "    .dataframe thead th {\n",
       "        text-align: right;\n",
       "    }\n",
       "</style>\n",
       "<table border=\"1\" class=\"dataframe\">\n",
       "  <thead>\n",
       "    <tr style=\"text-align: right;\">\n",
       "      <th></th>\n",
       "      <th>material_id</th>\n",
       "      <th>cif</th>\n",
       "    </tr>\n",
       "  </thead>\n",
       "  <tbody>\n",
       "    <tr>\n",
       "      <th>0</th>\n",
       "      <td>mp-1080455</td>\n",
       "      <td># generated using pymatgen\\ndata_TiCuSiAs\\n_sy...</td>\n",
       "    </tr>\n",
       "    <tr>\n",
       "      <th>1</th>\n",
       "      <td>mp-568319</td>\n",
       "      <td># generated using pymatgen\\ndata_DyB6\\n_symmet...</td>\n",
       "    </tr>\n",
       "    <tr>\n",
       "      <th>2</th>\n",
       "      <td>auid-3eaf68dd483bf4f4</td>\n",
       "      <td># generated using pymatgen\\ndata_Be2OsRu\\n_sym...</td>\n",
       "    </tr>\n",
       "    <tr>\n",
       "      <th>3</th>\n",
       "      <td>mp-31104</td>\n",
       "      <td># generated using pymatgen\\ndata_KBi\\n_symmetr...</td>\n",
       "    </tr>\n",
       "    <tr>\n",
       "      <th>4</th>\n",
       "      <td>mp-694</td>\n",
       "      <td># generated using pymatgen\\ndata_VSe2\\n_symmet...</td>\n",
       "    </tr>\n",
       "    <tr>\n",
       "      <th>...</th>\n",
       "      <td>...</td>\n",
       "      <td>...</td>\n",
       "    </tr>\n",
       "    <tr>\n",
       "      <th>75988</th>\n",
       "      <td>1206834</td>\n",
       "      <td># generated using pymatgen\\ndata_Ac(RhPb)2\\n_s...</td>\n",
       "    </tr>\n",
       "    <tr>\n",
       "      <th>75989</th>\n",
       "      <td>915022</td>\n",
       "      <td># generated using pymatgen\\ndata_PrTlZn\\n_symm...</td>\n",
       "    </tr>\n",
       "    <tr>\n",
       "      <th>75990</th>\n",
       "      <td>1214095</td>\n",
       "      <td># generated using pymatgen\\ndata_Ba(InBi)2\\n_s...</td>\n",
       "    </tr>\n",
       "    <tr>\n",
       "      <th>75991</th>\n",
       "      <td>1206745</td>\n",
       "      <td># generated using pymatgen\\ndata_Tm(SiTc)2\\n_s...</td>\n",
       "    </tr>\n",
       "    <tr>\n",
       "      <th>75992</th>\n",
       "      <td>1206746</td>\n",
       "      <td># generated using pymatgen\\ndata_Th(SnRu)2\\n_s...</td>\n",
       "    </tr>\n",
       "  </tbody>\n",
       "</table>\n",
       "<p>75993 rows × 2 columns</p>\n",
       "</div>"
      ],
      "text/plain": [
       "                 material_id  \\\n",
       "0                 mp-1080455   \n",
       "1                  mp-568319   \n",
       "2      auid-3eaf68dd483bf4f4   \n",
       "3                   mp-31104   \n",
       "4                     mp-694   \n",
       "...                      ...   \n",
       "75988                1206834   \n",
       "75989                 915022   \n",
       "75990                1214095   \n",
       "75991                1206745   \n",
       "75992                1206746   \n",
       "\n",
       "                                                     cif  \n",
       "0      # generated using pymatgen\\ndata_TiCuSiAs\\n_sy...  \n",
       "1      # generated using pymatgen\\ndata_DyB6\\n_symmet...  \n",
       "2      # generated using pymatgen\\ndata_Be2OsRu\\n_sym...  \n",
       "3      # generated using pymatgen\\ndata_KBi\\n_symmetr...  \n",
       "4      # generated using pymatgen\\ndata_VSe2\\n_symmet...  \n",
       "...                                                  ...  \n",
       "75988  # generated using pymatgen\\ndata_Ac(RhPb)2\\n_s...  \n",
       "75989  # generated using pymatgen\\ndata_PrTlZn\\n_symm...  \n",
       "75990  # generated using pymatgen\\ndata_Ba(InBi)2\\n_s...  \n",
       "75991  # generated using pymatgen\\ndata_Tm(SiTc)2\\n_s...  \n",
       "75992  # generated using pymatgen\\ndata_Th(SnRu)2\\n_s...  \n",
       "\n",
       "[75993 rows x 2 columns]"
      ]
     },
     "execution_count": 73,
     "metadata": {},
     "output_type": "execute_result"
    }
   ],
   "source": [
    "jarvis_cry"
   ]
  },
  {
   "cell_type": "markdown",
   "metadata": {},
   "source": [
    "### mpts_52 -> mpts_cry"
   ]
  },
  {
   "cell_type": "code",
   "execution_count": 74,
   "metadata": {},
   "outputs": [],
   "source": [
    "mpts_cry = mpts[[\"material_id\", \"cif\"]]"
   ]
  },
  {
   "cell_type": "code",
   "execution_count": 37,
   "metadata": {},
   "outputs": [
    {
     "name": "stdout",
     "output_type": "stream",
     "text": [
      "# generated using pymatgen\n",
      "data_CaF2\n",
      "_symmetry_space_group_name_H-M   'P 1'\n",
      "_cell_length_a   3.90043777\n",
      "_cell_length_b   3.90043777\n",
      "_cell_length_c   3.90043777\n",
      "_cell_angle_alpha   60.00000000\n",
      "_cell_angle_beta   60.00000000\n",
      "_cell_angle_gamma   60.00000000\n",
      "_symmetry_Int_Tables_number   1\n",
      "_chemical_formula_structural   CaF2\n",
      "_chemical_formula_sum   'Ca1 F2'\n",
      "_cell_volume   41.95899366\n",
      "_cell_formula_units_Z   1\n",
      "loop_\n",
      " _symmetry_equiv_pos_site_id\n",
      " _symmetry_equiv_pos_as_xyz\n",
      "  1  'x, y, z'\n",
      "loop_\n",
      " _atom_site_type_symbol\n",
      " _atom_site_label\n",
      " _atom_site_symmetry_multiplicity\n",
      " _atom_site_fract_x\n",
      " _atom_site_fract_y\n",
      " _atom_site_fract_z\n",
      " _atom_site_occupancy\n",
      "  Ca  Ca0  1  0.00000000  0.00000000  0.00000000  1\n",
      "  F  F1  1  0.25000000  0.25000000  0.25000000  1\n",
      "  F  F2  1  0.75000000  0.75000000  0.75000000  1\n",
      "\n"
     ]
    }
   ],
   "source": [
    "print(mpts_cry.iloc[3].cif)"
   ]
  },
  {
   "cell_type": "markdown",
   "metadata": {},
   "source": [
    "В mpts есть кристалы, которые состоят из одного атома, это надо пофиксить"
   ]
  },
  {
   "cell_type": "markdown",
   "metadata": {},
   "source": [
    "### mp_20 -> mp_cry"
   ]
  },
  {
   "cell_type": "code",
   "execution_count": 75,
   "metadata": {},
   "outputs": [
    {
     "data": {
      "text/html": [
       "<div>\n",
       "<style scoped>\n",
       "    .dataframe tbody tr th:only-of-type {\n",
       "        vertical-align: middle;\n",
       "    }\n",
       "\n",
       "    .dataframe tbody tr th {\n",
       "        vertical-align: top;\n",
       "    }\n",
       "\n",
       "    .dataframe thead th {\n",
       "        text-align: right;\n",
       "    }\n",
       "</style>\n",
       "<table border=\"1\" class=\"dataframe\">\n",
       "  <thead>\n",
       "    <tr style=\"text-align: right;\">\n",
       "      <th></th>\n",
       "      <th>material_id</th>\n",
       "      <th>cif</th>\n",
       "    </tr>\n",
       "  </thead>\n",
       "  <tbody>\n",
       "    <tr>\n",
       "      <th>0</th>\n",
       "      <td>mp-1221227</td>\n",
       "      <td># generated using pymatgen\\ndata_Na3MnCoNiO6\\n...</td>\n",
       "    </tr>\n",
       "    <tr>\n",
       "      <th>1</th>\n",
       "      <td>mp-974729</td>\n",
       "      <td># generated using pymatgen\\ndata_Nd(Al2Cu)4\\n_...</td>\n",
       "    </tr>\n",
       "    <tr>\n",
       "      <th>2</th>\n",
       "      <td>mp-1185360</td>\n",
       "      <td># generated using pymatgen\\ndata_LiMnIr2\\n_sym...</td>\n",
       "    </tr>\n",
       "    <tr>\n",
       "      <th>3</th>\n",
       "      <td>mp-1188861</td>\n",
       "      <td># generated using pymatgen\\ndata_LiCSN\\n_symme...</td>\n",
       "    </tr>\n",
       "    <tr>\n",
       "      <th>4</th>\n",
       "      <td>mp-677272</td>\n",
       "      <td># generated using pymatgen\\ndata_La2EuS4\\n_sym...</td>\n",
       "    </tr>\n",
       "    <tr>\n",
       "      <th>...</th>\n",
       "      <td>...</td>\n",
       "      <td>...</td>\n",
       "    </tr>\n",
       "    <tr>\n",
       "      <th>45224</th>\n",
       "      <td>mp-1023925</td>\n",
       "      <td># generated using pymatgen\\ndata_WS2\\n_symmetr...</td>\n",
       "    </tr>\n",
       "    <tr>\n",
       "      <th>45225</th>\n",
       "      <td>mp-1187764</td>\n",
       "      <td># generated using pymatgen\\ndata_Y2ZnPt\\n_symm...</td>\n",
       "    </tr>\n",
       "    <tr>\n",
       "      <th>45226</th>\n",
       "      <td>mp-1219588</td>\n",
       "      <td># generated using pymatgen\\ndata_RbMgCoF6\\n_sy...</td>\n",
       "    </tr>\n",
       "    <tr>\n",
       "      <th>45227</th>\n",
       "      <td>mp-3589</td>\n",
       "      <td># generated using pymatgen\\ndata_BPO4\\n_symmet...</td>\n",
       "    </tr>\n",
       "    <tr>\n",
       "      <th>45228</th>\n",
       "      <td>mp-1518304</td>\n",
       "      <td># generated using pymatgen\\ndata_BaSrDyNbO6\\n_...</td>\n",
       "    </tr>\n",
       "  </tbody>\n",
       "</table>\n",
       "<p>45229 rows × 2 columns</p>\n",
       "</div>"
      ],
      "text/plain": [
       "      material_id                                                cif\n",
       "0      mp-1221227  # generated using pymatgen\\ndata_Na3MnCoNiO6\\n...\n",
       "1       mp-974729  # generated using pymatgen\\ndata_Nd(Al2Cu)4\\n_...\n",
       "2      mp-1185360  # generated using pymatgen\\ndata_LiMnIr2\\n_sym...\n",
       "3      mp-1188861  # generated using pymatgen\\ndata_LiCSN\\n_symme...\n",
       "4       mp-677272  # generated using pymatgen\\ndata_La2EuS4\\n_sym...\n",
       "...           ...                                                ...\n",
       "45224  mp-1023925  # generated using pymatgen\\ndata_WS2\\n_symmetr...\n",
       "45225  mp-1187764  # generated using pymatgen\\ndata_Y2ZnPt\\n_symm...\n",
       "45226  mp-1219588  # generated using pymatgen\\ndata_RbMgCoF6\\n_sy...\n",
       "45227     mp-3589  # generated using pymatgen\\ndata_BPO4\\n_symmet...\n",
       "45228  mp-1518304  # generated using pymatgen\\ndata_BaSrDyNbO6\\n_...\n",
       "\n",
       "[45229 rows x 2 columns]"
      ]
     },
     "execution_count": 75,
     "metadata": {},
     "output_type": "execute_result"
    }
   ],
   "source": [
    "mp_cry = mp[['material_id', \"cif\"]]\n",
    "mp_cry"
   ]
  },
  {
   "cell_type": "markdown",
   "metadata": {},
   "source": [
    "### carbon_24 -> carbon_cry"
   ]
  },
  {
   "cell_type": "code",
   "execution_count": 76,
   "metadata": {},
   "outputs": [],
   "source": [
    "carbon_cry = carbon.drop([\"energy_per_atom\", 'Unnamed: 0'], axis=1)"
   ]
  },
  {
   "cell_type": "code",
   "execution_count": 77,
   "metadata": {},
   "outputs": [
    {
     "data": {
      "text/html": [
       "<div>\n",
       "<style scoped>\n",
       "    .dataframe tbody tr th:only-of-type {\n",
       "        vertical-align: middle;\n",
       "    }\n",
       "\n",
       "    .dataframe tbody tr th {\n",
       "        vertical-align: top;\n",
       "    }\n",
       "\n",
       "    .dataframe thead th {\n",
       "        text-align: right;\n",
       "    }\n",
       "</style>\n",
       "<table border=\"1\" class=\"dataframe\">\n",
       "  <thead>\n",
       "    <tr style=\"text-align: right;\">\n",
       "      <th></th>\n",
       "      <th>material_id</th>\n",
       "      <th>cif</th>\n",
       "    </tr>\n",
       "  </thead>\n",
       "  <tbody>\n",
       "    <tr>\n",
       "      <th>0</th>\n",
       "      <td>C-130499-1826-36</td>\n",
       "      <td># generated using pymatgen\\ndata_C\\n_symmetry_...</td>\n",
       "    </tr>\n",
       "    <tr>\n",
       "      <th>1</th>\n",
       "      <td>C-13904-4247-31</td>\n",
       "      <td># generated using pymatgen\\ndata_C\\n_symmetry_...</td>\n",
       "    </tr>\n",
       "    <tr>\n",
       "      <th>2</th>\n",
       "      <td>C-92138-4782-35</td>\n",
       "      <td># generated using pymatgen\\ndata_C\\n_symmetry_...</td>\n",
       "    </tr>\n",
       "    <tr>\n",
       "      <th>3</th>\n",
       "      <td>C-192672-505-73</td>\n",
       "      <td># generated using pymatgen\\ndata_C\\n_symmetry_...</td>\n",
       "    </tr>\n",
       "    <tr>\n",
       "      <th>4</th>\n",
       "      <td>C-193956-5355-22</td>\n",
       "      <td># generated using pymatgen\\ndata_C\\n_symmetry_...</td>\n",
       "    </tr>\n",
       "    <tr>\n",
       "      <th>...</th>\n",
       "      <td>...</td>\n",
       "      <td>...</td>\n",
       "    </tr>\n",
       "    <tr>\n",
       "      <th>10148</th>\n",
       "      <td>C-193926-6320-8</td>\n",
       "      <td># generated using pymatgen\\ndata_C\\n_symmetry_...</td>\n",
       "    </tr>\n",
       "    <tr>\n",
       "      <th>10149</th>\n",
       "      <td>C-13665-1988-16</td>\n",
       "      <td># generated using pymatgen\\ndata_C\\n_symmetry_...</td>\n",
       "    </tr>\n",
       "    <tr>\n",
       "      <th>10150</th>\n",
       "      <td>C-142855-9438-3</td>\n",
       "      <td># generated using pymatgen\\ndata_C\\n_symmetry_...</td>\n",
       "    </tr>\n",
       "    <tr>\n",
       "      <th>10151</th>\n",
       "      <td>C-13640-2755-30</td>\n",
       "      <td># generated using pymatgen\\ndata_C\\n_symmetry_...</td>\n",
       "    </tr>\n",
       "    <tr>\n",
       "      <th>10152</th>\n",
       "      <td>C-126149-3704-40</td>\n",
       "      <td># generated using pymatgen\\ndata_C\\n_symmetry_...</td>\n",
       "    </tr>\n",
       "  </tbody>\n",
       "</table>\n",
       "<p>10153 rows × 2 columns</p>\n",
       "</div>"
      ],
      "text/plain": [
       "            material_id                                                cif\n",
       "0      C-130499-1826-36  # generated using pymatgen\\ndata_C\\n_symmetry_...\n",
       "1       C-13904-4247-31  # generated using pymatgen\\ndata_C\\n_symmetry_...\n",
       "2       C-92138-4782-35  # generated using pymatgen\\ndata_C\\n_symmetry_...\n",
       "3       C-192672-505-73  # generated using pymatgen\\ndata_C\\n_symmetry_...\n",
       "4      C-193956-5355-22  # generated using pymatgen\\ndata_C\\n_symmetry_...\n",
       "...                 ...                                                ...\n",
       "10148   C-193926-6320-8  # generated using pymatgen\\ndata_C\\n_symmetry_...\n",
       "10149   C-13665-1988-16  # generated using pymatgen\\ndata_C\\n_symmetry_...\n",
       "10150   C-142855-9438-3  # generated using pymatgen\\ndata_C\\n_symmetry_...\n",
       "10151   C-13640-2755-30  # generated using pymatgen\\ndata_C\\n_symmetry_...\n",
       "10152  C-126149-3704-40  # generated using pymatgen\\ndata_C\\n_symmetry_...\n",
       "\n",
       "[10153 rows x 2 columns]"
      ]
     },
     "execution_count": 77,
     "metadata": {},
     "output_type": "execute_result"
    }
   ],
   "source": [
    "carbon_cry"
   ]
  },
  {
   "cell_type": "markdown",
   "metadata": {},
   "source": [
    "### alexandria_pbe -> alex_pbe_cry"
   ]
  },
  {
   "cell_type": "code",
   "execution_count": 68,
   "metadata": {},
   "outputs": [],
   "source": [
    "alex_pbe_cry = alex_pbe[[\"mat_id\", \"cif\"]]"
   ]
  },
  {
   "cell_type": "code",
   "execution_count": 87,
   "metadata": {},
   "outputs": [],
   "source": [
    "alex_pbe_cry.columns = [\"material_id\", \"cif\"]"
   ]
  },
  {
   "cell_type": "code",
   "execution_count": 88,
   "metadata": {},
   "outputs": [
    {
     "data": {
      "text/html": [
       "<div>\n",
       "<style scoped>\n",
       "    .dataframe tbody tr th:only-of-type {\n",
       "        vertical-align: middle;\n",
       "    }\n",
       "\n",
       "    .dataframe tbody tr th {\n",
       "        vertical-align: top;\n",
       "    }\n",
       "\n",
       "    .dataframe thead th {\n",
       "        text-align: right;\n",
       "    }\n",
       "</style>\n",
       "<table border=\"1\" class=\"dataframe\">\n",
       "  <thead>\n",
       "    <tr style=\"text-align: right;\">\n",
       "      <th></th>\n",
       "      <th>material_id</th>\n",
       "      <th>cif</th>\n",
       "    </tr>\n",
       "  </thead>\n",
       "  <tbody>\n",
       "    <tr>\n",
       "      <th>0</th>\n",
       "      <td>agm048224876</td>\n",
       "      <td># generated using pymatgen\\ndata_Al4IrRu3\\n_sy...</td>\n",
       "    </tr>\n",
       "    <tr>\n",
       "      <th>1</th>\n",
       "      <td>agm002302240</td>\n",
       "      <td># generated using pymatgen\\ndata_EuAgTeO\\n_sym...</td>\n",
       "    </tr>\n",
       "    <tr>\n",
       "      <th>2</th>\n",
       "      <td>agm003161479</td>\n",
       "      <td># generated using pymatgen\\ndata_CaTlAg\\n_symm...</td>\n",
       "    </tr>\n",
       "    <tr>\n",
       "      <th>3</th>\n",
       "      <td>agm003330027</td>\n",
       "      <td># generated using pymatgen\\ndata_Tm3Ge3Ir2\\n_s...</td>\n",
       "    </tr>\n",
       "    <tr>\n",
       "      <th>4</th>\n",
       "      <td>agm002198109</td>\n",
       "      <td># generated using pymatgen\\ndata_EuAl4Pd\\n_sym...</td>\n",
       "    </tr>\n",
       "    <tr>\n",
       "      <th>...</th>\n",
       "      <td>...</td>\n",
       "      <td>...</td>\n",
       "    </tr>\n",
       "    <tr>\n",
       "      <th>144646</th>\n",
       "      <td>agm005618834</td>\n",
       "      <td># generated using pymatgen\\ndata_Sm3Ga2Ir7\\n_s...</td>\n",
       "    </tr>\n",
       "    <tr>\n",
       "      <th>144647</th>\n",
       "      <td>agm003208591</td>\n",
       "      <td># generated using pymatgen\\ndata_Li(Fe3Ge2)2\\n...</td>\n",
       "    </tr>\n",
       "    <tr>\n",
       "      <th>144648</th>\n",
       "      <td>agm005866520</td>\n",
       "      <td># generated using pymatgen\\ndata_Nb12Sn3W\\n_sy...</td>\n",
       "    </tr>\n",
       "    <tr>\n",
       "      <th>144649</th>\n",
       "      <td>agm003157526</td>\n",
       "      <td># generated using pymatgen\\ndata_CeP\\n_symmetr...</td>\n",
       "    </tr>\n",
       "    <tr>\n",
       "      <th>144650</th>\n",
       "      <td>agm006582485</td>\n",
       "      <td># generated using pymatgen\\ndata_Ca2H5Pt2\\n_sy...</td>\n",
       "    </tr>\n",
       "  </tbody>\n",
       "</table>\n",
       "<p>144651 rows × 2 columns</p>\n",
       "</div>"
      ],
      "text/plain": [
       "         material_id                                                cif\n",
       "0       agm048224876  # generated using pymatgen\\ndata_Al4IrRu3\\n_sy...\n",
       "1       agm002302240  # generated using pymatgen\\ndata_EuAgTeO\\n_sym...\n",
       "2       agm003161479  # generated using pymatgen\\ndata_CaTlAg\\n_symm...\n",
       "3       agm003330027  # generated using pymatgen\\ndata_Tm3Ge3Ir2\\n_s...\n",
       "4       agm002198109  # generated using pymatgen\\ndata_EuAl4Pd\\n_sym...\n",
       "...              ...                                                ...\n",
       "144646  agm005618834  # generated using pymatgen\\ndata_Sm3Ga2Ir7\\n_s...\n",
       "144647  agm003208591  # generated using pymatgen\\ndata_Li(Fe3Ge2)2\\n...\n",
       "144648  agm005866520  # generated using pymatgen\\ndata_Nb12Sn3W\\n_sy...\n",
       "144649  agm003157526  # generated using pymatgen\\ndata_CeP\\n_symmetr...\n",
       "144650  agm006582485  # generated using pymatgen\\ndata_Ca2H5Pt2\\n_sy...\n",
       "\n",
       "[144651 rows x 2 columns]"
      ]
     },
     "execution_count": 88,
     "metadata": {},
     "output_type": "execute_result"
    }
   ],
   "source": [
    "alex_pbe_cry"
   ]
  },
  {
   "cell_type": "markdown",
   "metadata": {},
   "source": [
    "### perov_5 -> perov_cry"
   ]
  },
  {
   "cell_type": "code",
   "execution_count": 80,
   "metadata": {},
   "outputs": [],
   "source": [
    "perov_cry = perov[[\"material_id\", \"cif\"]]"
   ]
  },
  {
   "cell_type": "code",
   "execution_count": 82,
   "metadata": {},
   "outputs": [
    {
     "name": "stderr",
     "output_type": "stream",
     "text": [
      "C:\\Users\\user\\AppData\\Local\\Temp\\ipykernel_18248\\2236623699.py:1: SettingWithCopyWarning: \n",
      "A value is trying to be set on a copy of a slice from a DataFrame.\n",
      "Try using .loc[row_indexer,col_indexer] = value instead\n",
      "\n",
      "See the caveats in the documentation: https://pandas.pydata.org/pandas-docs/stable/user_guide/indexing.html#returning-a-view-versus-a-copy\n",
      "  perov_cry['material_id'] = 'p-' + perov_cry['material_id'].astype(str)\n"
     ]
    }
   ],
   "source": [
    "perov_cry['material_id'] = 'p-' + perov_cry['material_id'].astype(str)"
   ]
  },
  {
   "cell_type": "code",
   "execution_count": 83,
   "metadata": {},
   "outputs": [
    {
     "data": {
      "text/html": [
       "<div>\n",
       "<style scoped>\n",
       "    .dataframe tbody tr th:only-of-type {\n",
       "        vertical-align: middle;\n",
       "    }\n",
       "\n",
       "    .dataframe tbody tr th {\n",
       "        vertical-align: top;\n",
       "    }\n",
       "\n",
       "    .dataframe thead th {\n",
       "        text-align: right;\n",
       "    }\n",
       "</style>\n",
       "<table border=\"1\" class=\"dataframe\">\n",
       "  <thead>\n",
       "    <tr style=\"text-align: right;\">\n",
       "      <th></th>\n",
       "      <th>material_id</th>\n",
       "      <th>cif</th>\n",
       "    </tr>\n",
       "  </thead>\n",
       "  <tbody>\n",
       "    <tr>\n",
       "      <th>0</th>\n",
       "      <td>p-6334</td>\n",
       "      <td># generated using pymatgen\\ndata_TlCoN2O\\n_sym...</td>\n",
       "    </tr>\n",
       "    <tr>\n",
       "      <th>1</th>\n",
       "      <td>p-17313</td>\n",
       "      <td># generated using pymatgen\\ndata_CrTeN3\\n_symm...</td>\n",
       "    </tr>\n",
       "    <tr>\n",
       "      <th>2</th>\n",
       "      <td>p-6840</td>\n",
       "      <td># generated using pymatgen\\ndata_SbTeN2O\\n_sym...</td>\n",
       "    </tr>\n",
       "    <tr>\n",
       "      <th>3</th>\n",
       "      <td>p-11379</td>\n",
       "      <td># generated using pymatgen\\ndata_NiPtO2F\\n_sym...</td>\n",
       "    </tr>\n",
       "    <tr>\n",
       "      <th>4</th>\n",
       "      <td>p-16590</td>\n",
       "      <td># generated using pymatgen\\ndata_YGeN3\\n_symme...</td>\n",
       "    </tr>\n",
       "    <tr>\n",
       "      <th>...</th>\n",
       "      <td>...</td>\n",
       "      <td>...</td>\n",
       "    </tr>\n",
       "    <tr>\n",
       "      <th>18923</th>\n",
       "      <td>p-6452</td>\n",
       "      <td># generated using pymatgen\\ndata_CsNbN2O\\n_sym...</td>\n",
       "    </tr>\n",
       "    <tr>\n",
       "      <th>18924</th>\n",
       "      <td>p-7673</td>\n",
       "      <td># generated using pymatgen\\ndata_FePbN2O\\n_sym...</td>\n",
       "    </tr>\n",
       "    <tr>\n",
       "      <th>18925</th>\n",
       "      <td>p-819</td>\n",
       "      <td># generated using pymatgen\\ndata_NaGeNO2\\n_sym...</td>\n",
       "    </tr>\n",
       "    <tr>\n",
       "      <th>18926</th>\n",
       "      <td>p-11261</td>\n",
       "      <td># generated using pymatgen\\ndata_TeAuO2F\\n_sym...</td>\n",
       "    </tr>\n",
       "    <tr>\n",
       "      <th>18927</th>\n",
       "      <td>p-9424</td>\n",
       "      <td># generated using pymatgen\\ndata_CdReSO2\\n_sym...</td>\n",
       "    </tr>\n",
       "  </tbody>\n",
       "</table>\n",
       "<p>18928 rows × 2 columns</p>\n",
       "</div>"
      ],
      "text/plain": [
       "      material_id                                                cif\n",
       "0          p-6334  # generated using pymatgen\\ndata_TlCoN2O\\n_sym...\n",
       "1         p-17313  # generated using pymatgen\\ndata_CrTeN3\\n_symm...\n",
       "2          p-6840  # generated using pymatgen\\ndata_SbTeN2O\\n_sym...\n",
       "3         p-11379  # generated using pymatgen\\ndata_NiPtO2F\\n_sym...\n",
       "4         p-16590  # generated using pymatgen\\ndata_YGeN3\\n_symme...\n",
       "...           ...                                                ...\n",
       "18923      p-6452  # generated using pymatgen\\ndata_CsNbN2O\\n_sym...\n",
       "18924      p-7673  # generated using pymatgen\\ndata_FePbN2O\\n_sym...\n",
       "18925       p-819  # generated using pymatgen\\ndata_NaGeNO2\\n_sym...\n",
       "18926     p-11261  # generated using pymatgen\\ndata_TeAuO2F\\n_sym...\n",
       "18927      p-9424  # generated using pymatgen\\ndata_CdReSO2\\n_sym...\n",
       "\n",
       "[18928 rows x 2 columns]"
      ]
     },
     "execution_count": 83,
     "metadata": {},
     "output_type": "execute_result"
    }
   ],
   "source": [
    "perov_cry"
   ]
  },
  {
   "cell_type": "markdown",
   "metadata": {},
   "source": [
    "### concat"
   ]
  },
  {
   "cell_type": "code",
   "execution_count": 92,
   "metadata": {},
   "outputs": [],
   "source": [
    "genCry = pd.concat([mp_cry, mpts_cry, jarvis_cry, alex_pbe_cry, carbon_cry, perov_cry], ignore_index=True)"
   ]
  },
  {
   "cell_type": "code",
   "execution_count": 93,
   "metadata": {},
   "outputs": [],
   "source": [
    "genCry = genCry.drop_duplicates()"
   ]
  },
  {
   "cell_type": "code",
   "execution_count": 97,
   "metadata": {},
   "outputs": [
    {
     "data": {
      "text/html": [
       "<div>\n",
       "<style scoped>\n",
       "    .dataframe tbody tr th:only-of-type {\n",
       "        vertical-align: middle;\n",
       "    }\n",
       "\n",
       "    .dataframe tbody tr th {\n",
       "        vertical-align: top;\n",
       "    }\n",
       "\n",
       "    .dataframe thead th {\n",
       "        text-align: right;\n",
       "    }\n",
       "</style>\n",
       "<table border=\"1\" class=\"dataframe\">\n",
       "  <thead>\n",
       "    <tr style=\"text-align: right;\">\n",
       "      <th></th>\n",
       "      <th>material_id</th>\n",
       "      <th>cif</th>\n",
       "    </tr>\n",
       "  </thead>\n",
       "  <tbody>\n",
       "    <tr>\n",
       "      <th>0</th>\n",
       "      <td>mp-1221227</td>\n",
       "      <td># generated using pymatgen\\ndata_Na3MnCoNiO6\\n...</td>\n",
       "    </tr>\n",
       "    <tr>\n",
       "      <th>1</th>\n",
       "      <td>mp-974729</td>\n",
       "      <td># generated using pymatgen\\ndata_Nd(Al2Cu)4\\n_...</td>\n",
       "    </tr>\n",
       "    <tr>\n",
       "      <th>2</th>\n",
       "      <td>mp-1185360</td>\n",
       "      <td># generated using pymatgen\\ndata_LiMnIr2\\n_sym...</td>\n",
       "    </tr>\n",
       "    <tr>\n",
       "      <th>3</th>\n",
       "      <td>mp-1188861</td>\n",
       "      <td># generated using pymatgen\\ndata_LiCSN\\n_symme...</td>\n",
       "    </tr>\n",
       "    <tr>\n",
       "      <th>4</th>\n",
       "      <td>mp-677272</td>\n",
       "      <td># generated using pymatgen\\ndata_La2EuS4\\n_sym...</td>\n",
       "    </tr>\n",
       "    <tr>\n",
       "      <th>...</th>\n",
       "      <td>...</td>\n",
       "      <td>...</td>\n",
       "    </tr>\n",
       "    <tr>\n",
       "      <th>315444</th>\n",
       "      <td>p-6452</td>\n",
       "      <td># generated using pymatgen\\ndata_CsNbN2O\\n_sym...</td>\n",
       "    </tr>\n",
       "    <tr>\n",
       "      <th>315445</th>\n",
       "      <td>p-7673</td>\n",
       "      <td># generated using pymatgen\\ndata_FePbN2O\\n_sym...</td>\n",
       "    </tr>\n",
       "    <tr>\n",
       "      <th>315446</th>\n",
       "      <td>p-819</td>\n",
       "      <td># generated using pymatgen\\ndata_NaGeNO2\\n_sym...</td>\n",
       "    </tr>\n",
       "    <tr>\n",
       "      <th>315447</th>\n",
       "      <td>p-11261</td>\n",
       "      <td># generated using pymatgen\\ndata_TeAuO2F\\n_sym...</td>\n",
       "    </tr>\n",
       "    <tr>\n",
       "      <th>315448</th>\n",
       "      <td>p-9424</td>\n",
       "      <td># generated using pymatgen\\ndata_CdReSO2\\n_sym...</td>\n",
       "    </tr>\n",
       "  </tbody>\n",
       "</table>\n",
       "<p>315449 rows × 2 columns</p>\n",
       "</div>"
      ],
      "text/plain": [
       "       material_id                                                cif\n",
       "0       mp-1221227  # generated using pymatgen\\ndata_Na3MnCoNiO6\\n...\n",
       "1        mp-974729  # generated using pymatgen\\ndata_Nd(Al2Cu)4\\n_...\n",
       "2       mp-1185360  # generated using pymatgen\\ndata_LiMnIr2\\n_sym...\n",
       "3       mp-1188861  # generated using pymatgen\\ndata_LiCSN\\n_symme...\n",
       "4        mp-677272  # generated using pymatgen\\ndata_La2EuS4\\n_sym...\n",
       "...            ...                                                ...\n",
       "315444      p-6452  # generated using pymatgen\\ndata_CsNbN2O\\n_sym...\n",
       "315445      p-7673  # generated using pymatgen\\ndata_FePbN2O\\n_sym...\n",
       "315446       p-819  # generated using pymatgen\\ndata_NaGeNO2\\n_sym...\n",
       "315447     p-11261  # generated using pymatgen\\ndata_TeAuO2F\\n_sym...\n",
       "315448      p-9424  # generated using pymatgen\\ndata_CdReSO2\\n_sym...\n",
       "\n",
       "[315449 rows x 2 columns]"
      ]
     },
     "execution_count": 97,
     "metadata": {},
     "output_type": "execute_result"
    }
   ],
   "source": [
    "genCry = genCry.reset_index().drop(\"index\", axis=1)\n",
    "genCry"
   ]
  },
  {
   "cell_type": "markdown",
   "metadata": {},
   "source": [
    "Так как alexandria_pbe имеет только уникальные формулы, то значит они отрелаксированные и мы можем их использовать. Значит добавим их тоже в датасет"
   ]
  },
  {
   "cell_type": "markdown",
   "metadata": {},
   "source": [
    "Тут сохраняем предварительную версию. Надо пробежаться и убрать кристаллы из одного атома"
   ]
  },
  {
   "cell_type": "code",
   "execution_count": 98,
   "metadata": {},
   "outputs": [],
   "source": [
    "genCry.to_csv(\"genCry_dataset/genCry.csv\")"
   ]
  },
  {
   "cell_type": "markdown",
   "metadata": {},
   "source": [
    "## Val"
   ]
  },
  {
   "cell_type": "code",
   "execution_count": 3,
   "metadata": {},
   "outputs": [],
   "source": [
    "genCry = pd.read_csv(\"genCry_dataset\\\\genCry.csv\")"
   ]
  },
  {
   "cell_type": "code",
   "execution_count": null,
   "metadata": {},
   "outputs": [],
   "source": [
    "from pymatgen.core.structure import Structure\n",
    "from pymatgen.io.cif import CifParser\n",
    "from io import StringIO\n",
    "\n",
    "def filter_structures_from_csv(dataframe, num_of_atoms = 2):\n",
    "    \"\"\"\n",
    "    Читает CSV файл с CIF строками, фильтрует структуры с более чем 2 атомами\n",
    "    и сохраняет результаты в новый CSV файл.\n",
    "\n",
    "    :param input_csv_path: Путь к входному CSV файлу.\n",
    "    :param output_csv_path: Путь к выходному CSV файлу.\n",
    "    \"\"\"    \n",
    "    filtered_data = []\n",
    "\n",
    "    for index, row in tqdm(dataframe.iterrows()):\n",
    "        mat_id = row[\"material_id\"]\n",
    "        cif_string = row['cif'] \n",
    "        \n",
    "        try:\n",
    "            cif_file_like = StringIO(cif_string)\n",
    "            \n",
    "            parser = CifParser(cif_file_like)\n",
    "            structure = parser.get_structures()[0]\n",
    "            \n",
    "            if len(structure) > num_of_atoms:\n",
    "                filtered_data.append({\n",
    "                    'material_id': mat_id,\n",
    "                    'cif': cif_string\n",
    "                })\n",
    "        except Exception as e:\n",
    "            print(f\"Ошибка при обработке строки {index}: {e}\")\n",
    "    \n",
    "    filtered_df = pd.DataFrame(filtered_data)\n",
    "    return filtered_df"
   ]
  },
  {
   "cell_type": "code",
   "execution_count": 8,
   "metadata": {},
   "outputs": [
    {
     "name": "stderr",
     "output_type": "stream",
     "text": [
      "0it [00:00, ?it/s]C:\\Users\\user\\AppData\\Local\\Temp\\ipykernel_14084\\2410766679.py:26: FutureWarning: get_structures is deprecated; use parse_structures in pymatgen.io.cif instead.\n",
      "The only difference is that primitive defaults to False in the new parse_structures method.So parse_structures(primitive=True) is equivalent to the old behavior of get_structures().\n",
      "  structure = parser.get_structures()[0]\n",
      "1it [00:00,  2.32it/s]d:\\Projects\\projects_python\\genCry\\.venv\\Lib\\site-packages\\pymatgen\\io\\cif.py:1347: UserWarning: Issues encountered while parsing CIF: 4 fractional coordinates rounded to ideal values to avoid issues with finite precision.\n",
      "  return self.parse_structures(*args, **kwargs)\n",
      "d:\\Projects\\projects_python\\genCry\\.venv\\Lib\\site-packages\\pymatgen\\io\\cif.py:1347: UserWarning: Issues encountered while parsing CIF: 12 fractional coordinates rounded to ideal values to avoid issues with finite precision.\n",
      "  return self.parse_structures(*args, **kwargs)\n",
      "d:\\Projects\\projects_python\\genCry\\.venv\\Lib\\site-packages\\pymatgen\\io\\cif.py:1347: UserWarning: Issues encountered while parsing CIF: 8 fractional coordinates rounded to ideal values to avoid issues with finite precision.\n",
      "  return self.parse_structures(*args, **kwargs)\n",
      "51it [00:00, 112.10it/s]d:\\Projects\\projects_python\\genCry\\.venv\\Lib\\site-packages\\pymatgen\\io\\cif.py:1347: UserWarning: Issues encountered while parsing CIF: 6 fractional coordinates rounded to ideal values to avoid issues with finite precision.\n",
      "  return self.parse_structures(*args, **kwargs)\n",
      "d:\\Projects\\projects_python\\genCry\\.venv\\Lib\\site-packages\\pymatgen\\io\\cif.py:1347: UserWarning: Issues encountered while parsing CIF: 16 fractional coordinates rounded to ideal values to avoid issues with finite precision.\n",
      "  return self.parse_structures(*args, **kwargs)\n",
      "228it [00:01, 232.04it/s]d:\\Projects\\projects_python\\genCry\\.venv\\Lib\\site-packages\\pymatgen\\io\\cif.py:1347: UserWarning: Issues encountered while parsing CIF: 2 fractional coordinates rounded to ideal values to avoid issues with finite precision.\n",
      "  return self.parse_structures(*args, **kwargs)\n",
      "334it [00:01, 246.33it/s]d:\\Projects\\projects_python\\genCry\\.venv\\Lib\\site-packages\\pymatgen\\io\\cif.py:1347: UserWarning: Issues encountered while parsing CIF: 10 fractional coordinates rounded to ideal values to avoid issues with finite precision.\n",
      "  return self.parse_structures(*args, **kwargs)\n",
      "524it [00:02, 252.58it/s]d:\\Projects\\projects_python\\genCry\\.venv\\Lib\\site-packages\\pymatgen\\io\\cif.py:1347: UserWarning: Issues encountered while parsing CIF: 24 fractional coordinates rounded to ideal values to avoid issues with finite precision.\n",
      "  return self.parse_structures(*args, **kwargs)\n",
      "604it [00:02, 232.04it/s]d:\\Projects\\projects_python\\genCry\\.venv\\Lib\\site-packages\\pymatgen\\io\\cif.py:1347: UserWarning: Issues encountered while parsing CIF: 20 fractional coordinates rounded to ideal values to avoid issues with finite precision.\n",
      "  return self.parse_structures(*args, **kwargs)\n",
      "708it [00:03, 245.40it/s]d:\\Projects\\projects_python\\genCry\\.venv\\Lib\\site-packages\\pymatgen\\io\\cif.py:1347: UserWarning: Issues encountered while parsing CIF: 1 fractional coordinates rounded to ideal values to avoid issues with finite precision.\n",
      "  return self.parse_structures(*args, **kwargs)\n",
      "810it [00:03, 240.70it/s]d:\\Projects\\projects_python\\genCry\\.venv\\Lib\\site-packages\\pymatgen\\io\\cif.py:1347: UserWarning: Issues encountered while parsing CIF: 7 fractional coordinates rounded to ideal values to avoid issues with finite precision.\n",
      "  return self.parse_structures(*args, **kwargs)\n",
      "1315it [00:05, 256.04it/s]d:\\Projects\\projects_python\\genCry\\.venv\\Lib\\site-packages\\pymatgen\\io\\cif.py:1347: UserWarning: Issues encountered while parsing CIF: 5 fractional coordinates rounded to ideal values to avoid issues with finite precision.\n",
      "  return self.parse_structures(*args, **kwargs)\n",
      "1764it [00:07, 249.15it/s]d:\\Projects\\projects_python\\genCry\\.venv\\Lib\\site-packages\\pymatgen\\io\\cif.py:1347: UserWarning: Issues encountered while parsing CIF: 3 fractional coordinates rounded to ideal values to avoid issues with finite precision.\n",
      "  return self.parse_structures(*args, **kwargs)\n",
      "4440it [00:18, 260.80it/s]d:\\Projects\\projects_python\\genCry\\.venv\\Lib\\site-packages\\pymatgen\\io\\cif.py:1347: UserWarning: Issues encountered while parsing CIF: 30 fractional coordinates rounded to ideal values to avoid issues with finite precision.\n",
      "  return self.parse_structures(*args, **kwargs)\n",
      "4943it [00:20, 248.51it/s]d:\\Projects\\projects_python\\genCry\\.venv\\Lib\\site-packages\\pymatgen\\io\\cif.py:1347: UserWarning: Issues encountered while parsing CIF: 18 fractional coordinates rounded to ideal values to avoid issues with finite precision.\n",
      "  return self.parse_structures(*args, **kwargs)\n",
      "4972it [00:20, 258.90it/s]d:\\Projects\\projects_python\\genCry\\.venv\\Lib\\site-packages\\pymatgen\\io\\cif.py:1347: UserWarning: Issues encountered while parsing CIF: 17 fractional coordinates rounded to ideal values to avoid issues with finite precision.\n",
      "  return self.parse_structures(*args, **kwargs)\n",
      "6505it [00:26, 254.77it/s]d:\\Projects\\projects_python\\genCry\\.venv\\Lib\\site-packages\\pymatgen\\io\\cif.py:1347: UserWarning: Issues encountered while parsing CIF: 28 fractional coordinates rounded to ideal values to avoid issues with finite precision.\n",
      "  return self.parse_structures(*args, **kwargs)\n",
      "7997it [00:32, 257.05it/s]d:\\Projects\\projects_python\\genCry\\.venv\\Lib\\site-packages\\pymatgen\\io\\cif.py:1347: UserWarning: Issues encountered while parsing CIF: 14 fractional coordinates rounded to ideal values to avoid issues with finite precision.\n",
      "  return self.parse_structures(*args, **kwargs)\n",
      "10187it [00:41, 256.27it/s]d:\\Projects\\projects_python\\genCry\\.venv\\Lib\\site-packages\\pymatgen\\io\\cif.py:1347: UserWarning: Issues encountered while parsing CIF: 32 fractional coordinates rounded to ideal values to avoid issues with finite precision.\n",
      "  return self.parse_structures(*args, **kwargs)\n",
      "11310it [00:45, 251.90it/s]d:\\Projects\\projects_python\\genCry\\.venv\\Lib\\site-packages\\pymatgen\\io\\cif.py:1347: UserWarning: Issues encountered while parsing CIF: 40 fractional coordinates rounded to ideal values to avoid issues with finite precision.\n",
      "  return self.parse_structures(*args, **kwargs)\n",
      "11498it [00:46, 246.49it/s]d:\\Projects\\projects_python\\genCry\\.venv\\Lib\\site-packages\\pymatgen\\io\\cif.py:1347: UserWarning: Issues encountered while parsing CIF: 26 fractional coordinates rounded to ideal values to avoid issues with finite precision.\n",
      "  return self.parse_structures(*args, **kwargs)\n",
      "14604it [00:58, 253.56it/s]d:\\Projects\\projects_python\\genCry\\.venv\\Lib\\site-packages\\pymatgen\\io\\cif.py:1347: UserWarning: Issues encountered while parsing CIF: 11 fractional coordinates rounded to ideal values to avoid issues with finite precision.\n",
      "  return self.parse_structures(*args, **kwargs)\n",
      "16788it [01:07, 258.23it/s]d:\\Projects\\projects_python\\genCry\\.venv\\Lib\\site-packages\\pymatgen\\core\\periodic_table.py:278: UserWarning: No Pauling electronegativity for He. Setting to NaN. This has no physical meaning, and is mainly done to avoid errors caused by the code expecting a float.\n",
      "  if not hasattr(other, \"X\") or not hasattr(other, \"symbol\"):\n",
      "d:\\Projects\\projects_python\\genCry\\.venv\\Lib\\site-packages\\pymatgen\\core\\periodic_table.py:281: UserWarning: No Pauling electronegativity for He. Setting to NaN. This has no physical meaning, and is mainly done to avoid errors caused by the code expecting a float.\n",
      "  x2 = float(\"inf\") if other.X != other.X else other.X\n",
      "d:\\Projects\\projects_python\\genCry\\.venv\\Lib\\site-packages\\pymatgen\\core\\periodic_table.py:280: UserWarning: No Pauling electronegativity for He. Setting to NaN. This has no physical meaning, and is mainly done to avoid errors caused by the code expecting a float.\n",
      "  x1 = float(\"inf\") if self.X != self.X else self.X\n",
      "d:\\Projects\\projects_python\\genCry\\.venv\\Lib\\site-packages\\pymatgen\\core\\composition.py:322: UserWarning: No Pauling electronegativity for He. Setting to NaN. This has no physical meaning, and is mainly done to avoid errors caused by the code expecting a float.\n",
      "  return sum((el.X * abs(amt) for el, amt in self.items())) / self.num_atoms\n",
      "20124it [01:20, 254.96it/s]d:\\Projects\\projects_python\\genCry\\.venv\\Lib\\site-packages\\pymatgen\\io\\cif.py:1347: UserWarning: Issues encountered while parsing CIF: 9 fractional coordinates rounded to ideal values to avoid issues with finite precision.\n",
      "  return self.parse_structures(*args, **kwargs)\n",
      "34052it [02:14, 235.85it/s]d:\\Projects\\projects_python\\genCry\\.venv\\Lib\\site-packages\\pymatgen\\core\\composition.py:322: UserWarning: No Pauling electronegativity for Ar. Setting to NaN. This has no physical meaning, and is mainly done to avoid errors caused by the code expecting a float.\n",
      "  return sum((el.X * abs(amt) for el, amt in self.items())) / self.num_atoms\n",
      "45985it [03:04, 105.49it/s]d:\\Projects\\projects_python\\genCry\\.venv\\Lib\\site-packages\\pymatgen\\io\\cif.py:1347: UserWarning: Issues encountered while parsing CIF: 52 fractional coordinates rounded to ideal values to avoid issues with finite precision.\n",
      "  return self.parse_structures(*args, **kwargs)\n",
      "46702it [03:10, 149.59it/s]d:\\Projects\\projects_python\\genCry\\.venv\\Lib\\site-packages\\pymatgen\\io\\cif.py:1347: UserWarning: Issues encountered while parsing CIF: 44 fractional coordinates rounded to ideal values to avoid issues with finite precision.\n",
      "  return self.parse_structures(*args, **kwargs)\n",
      "47097it [03:13, 138.32it/s]d:\\Projects\\projects_python\\genCry\\.venv\\Lib\\site-packages\\pymatgen\\io\\cif.py:1347: UserWarning: Issues encountered while parsing CIF: 54 fractional coordinates rounded to ideal values to avoid issues with finite precision.\n",
      "  return self.parse_structures(*args, **kwargs)\n",
      "47699it [03:17, 122.69it/s]d:\\Projects\\projects_python\\genCry\\.venv\\Lib\\site-packages\\pymatgen\\io\\cif.py:1347: UserWarning: Issues encountered while parsing CIF: 72 fractional coordinates rounded to ideal values to avoid issues with finite precision.\n",
      "  return self.parse_structures(*args, **kwargs)\n",
      "47775it [03:18, 111.65it/s]d:\\Projects\\projects_python\\genCry\\.venv\\Lib\\site-packages\\pymatgen\\io\\cif.py:1347: UserWarning: Issues encountered while parsing CIF: 62 fractional coordinates rounded to ideal values to avoid issues with finite precision.\n",
      "  return self.parse_structures(*args, **kwargs)\n",
      "47836it [03:19, 111.80it/s]d:\\Projects\\projects_python\\genCry\\.venv\\Lib\\site-packages\\pymatgen\\io\\cif.py:1347: UserWarning: Issues encountered while parsing CIF: 36 fractional coordinates rounded to ideal values to avoid issues with finite precision.\n",
      "  return self.parse_structures(*args, **kwargs)\n",
      "47848it [03:19, 109.51it/s]d:\\Projects\\projects_python\\genCry\\.venv\\Lib\\site-packages\\pymatgen\\io\\cif.py:1347: UserWarning: Issues encountered while parsing CIF: 56 fractional coordinates rounded to ideal values to avoid issues with finite precision.\n",
      "  return self.parse_structures(*args, **kwargs)\n",
      "47905it [03:19, 104.47it/s]d:\\Projects\\projects_python\\genCry\\.venv\\Lib\\site-packages\\pymatgen\\io\\cif.py:1347: UserWarning: Issues encountered while parsing CIF: 25 fractional coordinates rounded to ideal values to avoid issues with finite precision.\n",
      "  return self.parse_structures(*args, **kwargs)\n",
      "47957it [03:20, 110.56it/s]d:\\Projects\\projects_python\\genCry\\.venv\\Lib\\site-packages\\pymatgen\\io\\cif.py:1347: UserWarning: Issues encountered while parsing CIF: 66 fractional coordinates rounded to ideal values to avoid issues with finite precision.\n",
      "  return self.parse_structures(*args, **kwargs)\n",
      "48016it [03:21, 98.93it/s] d:\\Projects\\projects_python\\genCry\\.venv\\Lib\\site-packages\\pymatgen\\io\\cif.py:1347: UserWarning: Issues encountered while parsing CIF: 70 fractional coordinates rounded to ideal values to avoid issues with finite precision.\n",
      "  return self.parse_structures(*args, **kwargs)\n",
      "48310it [03:23, 122.55it/s]d:\\Projects\\projects_python\\genCry\\.venv\\Lib\\site-packages\\pymatgen\\io\\cif.py:1347: UserWarning: Issues encountered while parsing CIF: 60 fractional coordinates rounded to ideal values to avoid issues with finite precision.\n",
      "  return self.parse_structures(*args, **kwargs)\n",
      "48359it [03:24, 87.23it/s] d:\\Projects\\projects_python\\genCry\\.venv\\Lib\\site-packages\\pymatgen\\io\\cif.py:1347: UserWarning: Issues encountered while parsing CIF: 68 fractional coordinates rounded to ideal values to avoid issues with finite precision.\n",
      "  return self.parse_structures(*args, **kwargs)\n",
      "48374it [03:24, 97.24it/s]d:\\Projects\\projects_python\\genCry\\.venv\\Lib\\site-packages\\pymatgen\\io\\cif.py:1347: UserWarning: Issues encountered while parsing CIF: 64 fractional coordinates rounded to ideal values to avoid issues with finite precision.\n",
      "  return self.parse_structures(*args, **kwargs)\n",
      "50344it [03:41, 111.94it/s]d:\\Projects\\projects_python\\genCry\\.venv\\Lib\\site-packages\\pymatgen\\io\\cif.py:1347: UserWarning: Issues encountered while parsing CIF: 48 fractional coordinates rounded to ideal values to avoid issues with finite precision.\n",
      "  return self.parse_structures(*args, **kwargs)\n",
      "51547it [03:51, 109.80it/s]d:\\Projects\\projects_python\\genCry\\.venv\\Lib\\site-packages\\pymatgen\\io\\cif.py:1347: UserWarning: Issues encountered while parsing CIF: 38 fractional coordinates rounded to ideal values to avoid issues with finite precision.\n",
      "  return self.parse_structures(*args, **kwargs)\n",
      "52411it [04:00, 101.70it/s]d:\\Projects\\projects_python\\genCry\\.venv\\Lib\\site-packages\\pymatgen\\io\\cif.py:1347: UserWarning: Issues encountered while parsing CIF: 50 fractional coordinates rounded to ideal values to avoid issues with finite precision.\n",
      "  return self.parse_structures(*args, **kwargs)\n",
      "52446it [04:00, 95.04it/s] d:\\Projects\\projects_python\\genCry\\.venv\\Lib\\site-packages\\pymatgen\\io\\cif.py:1347: UserWarning: Issues encountered while parsing CIF: 42 fractional coordinates rounded to ideal values to avoid issues with finite precision.\n",
      "  return self.parse_structures(*args, **kwargs)\n",
      "52478it [04:00, 91.30it/s]d:\\Projects\\projects_python\\genCry\\.venv\\Lib\\site-packages\\pymatgen\\io\\cif.py:1347: UserWarning: Issues encountered while parsing CIF: 46 fractional coordinates rounded to ideal values to avoid issues with finite precision.\n",
      "  return self.parse_structures(*args, **kwargs)\n",
      "52879it [04:04, 101.04it/s]d:\\Projects\\projects_python\\genCry\\.venv\\Lib\\site-packages\\pymatgen\\io\\cif.py:1347: UserWarning: Issues encountered while parsing CIF: 58 fractional coordinates rounded to ideal values to avoid issues with finite precision.\n",
      "  return self.parse_structures(*args, **kwargs)\n",
      "74230it [06:38, 313.63it/s]d:\\Projects\\projects_python\\genCry\\.venv\\Lib\\site-packages\\pymatgen\\io\\cif.py:1312: UserWarning: Some occupancies ([2.0]) sum to > 1! If they are within the occupancy_tolerance, they will be rescaled. The current occupancy_tolerance is set to: 1.0\n",
      "  if struct := self._get_structure(data, primitive, symmetrized, check_occu=check_occu):\n",
      "d:\\Projects\\projects_python\\genCry\\.venv\\Lib\\site-packages\\pymatgen\\io\\cif.py:1347: UserWarning: No structure parsed for section 1 in CIF.\n",
      "Occupancy 2.0 exceeded tolerance.\n",
      "  return self.parse_structures(*args, **kwargs)\n",
      "d:\\Projects\\projects_python\\genCry\\.venv\\Lib\\site-packages\\pymatgen\\io\\cif.py:1347: UserWarning: Issues encountered while parsing CIF: Some occupancies ([2.0]) sum to > 1! If they are within the occupancy_tolerance, they will be rescaled. The current occupancy_tolerance is set to: 1.0\n",
      "No structure parsed for section 1 in CIF.\n",
      "Occupancy 2.0 exceeded tolerance.\n",
      "  return self.parse_structures(*args, **kwargs)\n",
      "74299it [06:38, 321.87it/s]"
     ]
    },
    {
     "name": "stdout",
     "output_type": "stream",
     "text": [
      "Ошибка при обработке строки 74238: Invalid CIF file with no structures!\n"
     ]
    },
    {
     "name": "stderr",
     "output_type": "stream",
     "text": [
      "98866it [08:06, 272.79it/s]"
     ]
    },
    {
     "name": "stdout",
     "output_type": "stream",
     "text": [
      "Ошибка при обработке строки 98821: Invalid CIF file with no structures!\n"
     ]
    },
    {
     "name": "stderr",
     "output_type": "stream",
     "text": [
      "102152it [08:17, 336.41it/s]d:\\Projects\\projects_python\\genCry\\.venv\\Lib\\site-packages\\pymatgen\\io\\cif.py:1312: UserWarning: Some occupancies ([2.0, 2.0]) sum to > 1! If they are within the occupancy_tolerance, they will be rescaled. The current occupancy_tolerance is set to: 1.0\n",
      "  if struct := self._get_structure(data, primitive, symmetrized, check_occu=check_occu):\n",
      "d:\\Projects\\projects_python\\genCry\\.venv\\Lib\\site-packages\\pymatgen\\io\\cif.py:1347: UserWarning: Issues encountered while parsing CIF: Some occupancies ([2.0, 2.0]) sum to > 1! If they are within the occupancy_tolerance, they will be rescaled. The current occupancy_tolerance is set to: 1.0\n",
      "No structure parsed for section 1 in CIF.\n",
      "Occupancy 2.0 exceeded tolerance.\n",
      "  return self.parse_structures(*args, **kwargs)\n",
      "102187it [08:17, 335.05it/s]"
     ]
    },
    {
     "name": "stdout",
     "output_type": "stream",
     "text": [
      "Ошибка при обработке строки 102157: Invalid CIF file with no structures!\n"
     ]
    },
    {
     "name": "stderr",
     "output_type": "stream",
     "text": [
      "104242it [08:26, 217.67it/s]"
     ]
    },
    {
     "name": "stdout",
     "output_type": "stream",
     "text": [
      "Ошибка при обработке строки 104211: Invalid CIF file with no structures!\n"
     ]
    },
    {
     "name": "stderr",
     "output_type": "stream",
     "text": [
      "106996it [08:38, 259.94it/s]"
     ]
    },
    {
     "name": "stdout",
     "output_type": "stream",
     "text": [
      "Ошибка при обработке строки 106965: Invalid CIF file with no structures!\n"
     ]
    },
    {
     "name": "stderr",
     "output_type": "stream",
     "text": [
      "107209it [08:39, 246.07it/s]"
     ]
    },
    {
     "name": "stdout",
     "output_type": "stream",
     "text": [
      "Ошибка при обработке строки 107160: Invalid CIF file with no structures!\n"
     ]
    },
    {
     "name": "stderr",
     "output_type": "stream",
     "text": [
      "108856it [08:46, 249.29it/s]d:\\Projects\\projects_python\\genCry\\.venv\\Lib\\site-packages\\pymatgen\\io\\cif.py:1312: UserWarning: Some occupancies ([3.0, 3.0, 3.0, 3.0, 3.0, 3.0, 3.0, 3.0]) sum to > 1! If they are within the occupancy_tolerance, they will be rescaled. The current occupancy_tolerance is set to: 1.0\n",
      "  if struct := self._get_structure(data, primitive, symmetrized, check_occu=check_occu):\n",
      "d:\\Projects\\projects_python\\genCry\\.venv\\Lib\\site-packages\\pymatgen\\io\\cif.py:1347: UserWarning: No structure parsed for section 1 in CIF.\n",
      "Occupancy 3.0 exceeded tolerance.\n",
      "  return self.parse_structures(*args, **kwargs)\n",
      "d:\\Projects\\projects_python\\genCry\\.venv\\Lib\\site-packages\\pymatgen\\io\\cif.py:1347: UserWarning: Issues encountered while parsing CIF: Some occupancies ([3.0, 3.0, 3.0, 3.0, 3.0, 3.0, 3.0, 3.0]) sum to > 1! If they are within the occupancy_tolerance, they will be rescaled. The current occupancy_tolerance is set to: 1.0\n",
      "No structure parsed for section 1 in CIF.\n",
      "Occupancy 3.0 exceeded tolerance.\n",
      "  return self.parse_structures(*args, **kwargs)\n",
      "108907it [08:46, 232.44it/s]"
     ]
    },
    {
     "name": "stdout",
     "output_type": "stream",
     "text": [
      "Ошибка при обработке строки 108875: Invalid CIF file with no structures!\n"
     ]
    },
    {
     "name": "stderr",
     "output_type": "stream",
     "text": [
      "120651it [09:35, 281.01it/s]d:\\Projects\\projects_python\\genCry\\.venv\\Lib\\site-packages\\pymatgen\\core\\periodic_table.py:280: UserWarning: No Pauling electronegativity for Ar. Setting to NaN. This has no physical meaning, and is mainly done to avoid errors caused by the code expecting a float.\n",
      "  x1 = float(\"inf\") if self.X != self.X else self.X\n",
      "120887it [09:36, 336.44it/s]d:\\Projects\\projects_python\\genCry\\.venv\\Lib\\site-packages\\pymatgen\\core\\periodic_table.py:280: UserWarning: No Pauling electronegativity for Ne. Setting to NaN. This has no physical meaning, and is mainly done to avoid errors caused by the code expecting a float.\n",
      "  x1 = float(\"inf\") if self.X != self.X else self.X\n",
      "d:\\Projects\\projects_python\\genCry\\.venv\\Lib\\site-packages\\pymatgen\\core\\composition.py:322: UserWarning: No Pauling electronegativity for Ne. Setting to NaN. This has no physical meaning, and is mainly done to avoid errors caused by the code expecting a float.\n",
      "  return sum((el.X * abs(amt) for el, amt in self.items())) / self.num_atoms\n",
      "121028it [09:37, 321.90it/s]d:\\Projects\\projects_python\\genCry\\.venv\\Lib\\site-packages\\pymatgen\\core\\periodic_table.py:278: UserWarning: No Pauling electronegativity for Ar. Setting to NaN. This has no physical meaning, and is mainly done to avoid errors caused by the code expecting a float.\n",
      "  if not hasattr(other, \"X\") or not hasattr(other, \"symbol\"):\n",
      "d:\\Projects\\projects_python\\genCry\\.venv\\Lib\\site-packages\\pymatgen\\core\\periodic_table.py:281: UserWarning: No Pauling electronegativity for Ar. Setting to NaN. This has no physical meaning, and is mainly done to avoid errors caused by the code expecting a float.\n",
      "  x2 = float(\"inf\") if other.X != other.X else other.X\n",
      "121100it [09:37, 338.02it/s]d:\\Projects\\projects_python\\genCry\\.venv\\Lib\\site-packages\\pymatgen\\core\\periodic_table.py:278: UserWarning: No Pauling electronegativity for Ne. Setting to NaN. This has no physical meaning, and is mainly done to avoid errors caused by the code expecting a float.\n",
      "  if not hasattr(other, \"X\") or not hasattr(other, \"symbol\"):\n",
      "d:\\Projects\\projects_python\\genCry\\.venv\\Lib\\site-packages\\pymatgen\\core\\periodic_table.py:281: UserWarning: No Pauling electronegativity for Ne. Setting to NaN. This has no physical meaning, and is mainly done to avoid errors caused by the code expecting a float.\n",
      "  x2 = float(\"inf\") if other.X != other.X else other.X\n",
      "122516it [09:42, 373.62it/s]"
     ]
    },
    {
     "name": "stdout",
     "output_type": "stream",
     "text": [
      "Ошибка при обработке строки 122458: Invalid CIF file with no structures!\n"
     ]
    },
    {
     "name": "stderr",
     "output_type": "stream",
     "text": [
      "123073it [09:43, 385.90it/s]d:\\Projects\\projects_python\\genCry\\.venv\\Lib\\site-packages\\pymatgen\\io\\cif.py:1312: UserWarning: Some occupancies ([4.0]) sum to > 1! If they are within the occupancy_tolerance, they will be rescaled. The current occupancy_tolerance is set to: 1.0\n",
      "  if struct := self._get_structure(data, primitive, symmetrized, check_occu=check_occu):\n",
      "d:\\Projects\\projects_python\\genCry\\.venv\\Lib\\site-packages\\pymatgen\\io\\cif.py:1347: UserWarning: No structure parsed for section 1 in CIF.\n",
      "Occupancy 4.0 exceeded tolerance.\n",
      "  return self.parse_structures(*args, **kwargs)\n",
      "d:\\Projects\\projects_python\\genCry\\.venv\\Lib\\site-packages\\pymatgen\\io\\cif.py:1347: UserWarning: Issues encountered while parsing CIF: Some occupancies ([4.0]) sum to > 1! If they are within the occupancy_tolerance, they will be rescaled. The current occupancy_tolerance is set to: 1.0\n",
      "No structure parsed for section 1 in CIF.\n",
      "Occupancy 4.0 exceeded tolerance.\n",
      "  return self.parse_structures(*args, **kwargs)\n",
      "123150it [09:43, 360.04it/s]"
     ]
    },
    {
     "name": "stdout",
     "output_type": "stream",
     "text": [
      "Ошибка при обработке строки 123100: Invalid CIF file with no structures!\n"
     ]
    },
    {
     "name": "stderr",
     "output_type": "stream",
     "text": [
      "127402it [09:58, 247.14it/s]d:\\Projects\\projects_python\\genCry\\.venv\\Lib\\site-packages\\pymatgen\\io\\cif.py:1312: UserWarning: Some occupancies ([5.0]) sum to > 1! If they are within the occupancy_tolerance, they will be rescaled. The current occupancy_tolerance is set to: 1.0\n",
      "  if struct := self._get_structure(data, primitive, symmetrized, check_occu=check_occu):\n",
      "d:\\Projects\\projects_python\\genCry\\.venv\\Lib\\site-packages\\pymatgen\\io\\cif.py:1347: UserWarning: No structure parsed for section 1 in CIF.\n",
      "Occupancy 5.0 exceeded tolerance.\n",
      "  return self.parse_structures(*args, **kwargs)\n",
      "d:\\Projects\\projects_python\\genCry\\.venv\\Lib\\site-packages\\pymatgen\\io\\cif.py:1347: UserWarning: Issues encountered while parsing CIF: Some occupancies ([5.0]) sum to > 1! If they are within the occupancy_tolerance, they will be rescaled. The current occupancy_tolerance is set to: 1.0\n",
      "No structure parsed for section 1 in CIF.\n",
      "Occupancy 5.0 exceeded tolerance.\n",
      "  return self.parse_structures(*args, **kwargs)\n",
      "127459it [09:59, 245.55it/s]"
     ]
    },
    {
     "name": "stdout",
     "output_type": "stream",
     "text": [
      "Ошибка при обработке строки 127427: Invalid CIF file with no structures!\n"
     ]
    },
    {
     "name": "stderr",
     "output_type": "stream",
     "text": [
      "137275it [10:39, 229.79it/s]"
     ]
    },
    {
     "name": "stdout",
     "output_type": "stream",
     "text": [
      "Ошибка при обработке строки 137235: Invalid CIF file with no structures!\n"
     ]
    },
    {
     "name": "stderr",
     "output_type": "stream",
     "text": [
      "138425it [10:44, 221.20it/s]"
     ]
    },
    {
     "name": "stdout",
     "output_type": "stream",
     "text": [
      "Ошибка при обработке строки 138405: Invalid CIF file with no structures!\n"
     ]
    },
    {
     "name": "stderr",
     "output_type": "stream",
     "text": [
      "138683it [10:45, 225.55it/s]"
     ]
    },
    {
     "name": "stdout",
     "output_type": "stream",
     "text": [
      "Ошибка при обработке строки 138634: Invalid CIF file with no structures!\n"
     ]
    },
    {
     "name": "stderr",
     "output_type": "stream",
     "text": [
      "144845it [11:17, 191.71it/s]"
     ]
    },
    {
     "name": "stdout",
     "output_type": "stream",
     "text": [
      "Ошибка при обработке строки 144825: Invalid CIF file with no structures!\n"
     ]
    },
    {
     "name": "stderr",
     "output_type": "stream",
     "text": [
      "146577it [11:25, 192.11it/s]"
     ]
    },
    {
     "name": "stdout",
     "output_type": "stream",
     "text": [
      "Ошибка при обработке строки 146554: Invalid CIF file with no structures!\n"
     ]
    },
    {
     "name": "stderr",
     "output_type": "stream",
     "text": [
      "146878it [11:27, 192.99it/s]"
     ]
    },
    {
     "name": "stdout",
     "output_type": "stream",
     "text": [
      "Ошибка при обработке строки 146858: Invalid CIF file with no structures!\n"
     ]
    },
    {
     "name": "stderr",
     "output_type": "stream",
     "text": [
      "147271it [11:29, 197.79it/s]"
     ]
    },
    {
     "name": "stdout",
     "output_type": "stream",
     "text": [
      "Ошибка при обработке строки 147244: Invalid CIF file with no structures!\n"
     ]
    },
    {
     "name": "stderr",
     "output_type": "stream",
     "text": [
      "149936it [11:44, 98.66it/s] "
     ]
    },
    {
     "name": "stdout",
     "output_type": "stream",
     "text": [
      "Ошибка при обработке строки 149923: Invalid CIF file with no structures!\n"
     ]
    },
    {
     "name": "stderr",
     "output_type": "stream",
     "text": [
      "151166it [11:52, 213.10it/s]"
     ]
    },
    {
     "name": "stdout",
     "output_type": "stream",
     "text": [
      "Ошибка при обработке строки 151140: Invalid CIF file with no structures!\n"
     ]
    },
    {
     "name": "stderr",
     "output_type": "stream",
     "text": [
      "153502it [12:04, 151.82it/s]"
     ]
    },
    {
     "name": "stdout",
     "output_type": "stream",
     "text": [
      "Ошибка при обработке строки 153482: Invalid CIF file with no structures!\n"
     ]
    },
    {
     "name": "stderr",
     "output_type": "stream",
     "text": [
      "155439it [12:15, 218.60it/s]"
     ]
    },
    {
     "name": "stdout",
     "output_type": "stream",
     "text": [
      "Ошибка при обработке строки 155407: Invalid CIF file with no structures!\n"
     ]
    },
    {
     "name": "stderr",
     "output_type": "stream",
     "text": [
      "158501it [12:34, 180.55it/s]"
     ]
    },
    {
     "name": "stdout",
     "output_type": "stream",
     "text": [
      "Ошибка при обработке строки 158472: Invalid CIF file with no structures!\n"
     ]
    },
    {
     "name": "stderr",
     "output_type": "stream",
     "text": [
      "159943it [12:44, 166.88it/s]d:\\Projects\\projects_python\\genCry\\.venv\\Lib\\site-packages\\pymatgen\\io\\cif.py:1312: UserWarning: Some occupancies ([3.0]) sum to > 1! If they are within the occupancy_tolerance, they will be rescaled. The current occupancy_tolerance is set to: 1.0\n",
      "  if struct := self._get_structure(data, primitive, symmetrized, check_occu=check_occu):\n",
      "d:\\Projects\\projects_python\\genCry\\.venv\\Lib\\site-packages\\pymatgen\\io\\cif.py:1347: UserWarning: Issues encountered while parsing CIF: Some occupancies ([3.0]) sum to > 1! If they are within the occupancy_tolerance, they will be rescaled. The current occupancy_tolerance is set to: 1.0\n",
      "No structure parsed for section 1 in CIF.\n",
      "Occupancy 3.0 exceeded tolerance.\n",
      "  return self.parse_structures(*args, **kwargs)\n",
      "159985it [12:44, 187.92it/s]"
     ]
    },
    {
     "name": "stdout",
     "output_type": "stream",
     "text": [
      "Ошибка при обработке строки 159948: Invalid CIF file with no structures!\n"
     ]
    },
    {
     "name": "stderr",
     "output_type": "stream",
     "text": [
      "160976it [12:50, 195.49it/s]"
     ]
    },
    {
     "name": "stdout",
     "output_type": "stream",
     "text": [
      "Ошибка при обработке строки 160956: Invalid CIF file with no structures!\n"
     ]
    },
    {
     "name": "stderr",
     "output_type": "stream",
     "text": [
      "163566it [13:08, 144.44it/s]"
     ]
    },
    {
     "name": "stdout",
     "output_type": "stream",
     "text": [
      "Ошибка при обработке строки 163546: Invalid CIF file with no structures!\n"
     ]
    },
    {
     "name": "stderr",
     "output_type": "stream",
     "text": [
      "166464it [13:23, 192.51it/s]"
     ]
    },
    {
     "name": "stdout",
     "output_type": "stream",
     "text": [
      "Ошибка при обработке строки 166442: Invalid CIF file with no structures!\n"
     ]
    },
    {
     "name": "stderr",
     "output_type": "stream",
     "text": [
      "167035it [13:25, 225.68it/s]"
     ]
    },
    {
     "name": "stdout",
     "output_type": "stream",
     "text": [
      "Ошибка при обработке строки 167000: Invalid CIF file with no structures!\n"
     ]
    },
    {
     "name": "stderr",
     "output_type": "stream",
     "text": [
      "167276it [13:27, 206.66it/s]d:\\Projects\\projects_python\\genCry\\.venv\\Lib\\site-packages\\pymatgen\\io\\cif.py:1312: UserWarning: Some occupancies ([2.0, 2.0, 2.0]) sum to > 1! If they are within the occupancy_tolerance, they will be rescaled. The current occupancy_tolerance is set to: 1.0\n",
      "  if struct := self._get_structure(data, primitive, symmetrized, check_occu=check_occu):\n",
      "d:\\Projects\\projects_python\\genCry\\.venv\\Lib\\site-packages\\pymatgen\\io\\cif.py:1347: UserWarning: Issues encountered while parsing CIF: Some occupancies ([2.0, 2.0, 2.0]) sum to > 1! If they are within the occupancy_tolerance, they will be rescaled. The current occupancy_tolerance is set to: 1.0\n",
      "No structure parsed for section 1 in CIF.\n",
      "Occupancy 2.0 exceeded tolerance.\n",
      "  return self.parse_structures(*args, **kwargs)\n",
      "167324it [13:27, 215.07it/s]"
     ]
    },
    {
     "name": "stdout",
     "output_type": "stream",
     "text": [
      "Ошибка при обработке строки 167294: Invalid CIF file with no structures!\n"
     ]
    },
    {
     "name": "stderr",
     "output_type": "stream",
     "text": [
      "167947it [13:30, 217.88it/s]"
     ]
    },
    {
     "name": "stdout",
     "output_type": "stream",
     "text": [
      "Ошибка при обработке строки 167910: Invalid CIF file with no structures!\n"
     ]
    },
    {
     "name": "stderr",
     "output_type": "stream",
     "text": [
      "170058it [13:41, 228.02it/s]"
     ]
    },
    {
     "name": "stdout",
     "output_type": "stream",
     "text": [
      "Ошибка при обработке строки 170026: Invalid CIF file with no structures!\n"
     ]
    },
    {
     "name": "stderr",
     "output_type": "stream",
     "text": [
      "174994it [14:10, 148.82it/s]"
     ]
    },
    {
     "name": "stdout",
     "output_type": "stream",
     "text": [
      "Ошибка при обработке строки 174977: Invalid CIF file with no structures!\n"
     ]
    },
    {
     "name": "stderr",
     "output_type": "stream",
     "text": [
      "176433it [14:20, 169.74it/s]"
     ]
    },
    {
     "name": "stdout",
     "output_type": "stream",
     "text": [
      "Ошибка при обработке строки 176420: Invalid CIF file with no structures!\n"
     ]
    },
    {
     "name": "stderr",
     "output_type": "stream",
     "text": [
      "182179it [14:55, 167.19it/s]"
     ]
    },
    {
     "name": "stdout",
     "output_type": "stream",
     "text": [
      "Ошибка при обработке строки 182150: Invalid CIF file with no structures!\n"
     ]
    },
    {
     "name": "stderr",
     "output_type": "stream",
     "text": [
      "183543it [15:03, 228.88it/s]"
     ]
    },
    {
     "name": "stdout",
     "output_type": "stream",
     "text": [
      "Ошибка при обработке строки 183491: Invalid CIF file with no structures!\n"
     ]
    },
    {
     "name": "stderr",
     "output_type": "stream",
     "text": [
      "185619it [15:12, 222.90it/s]"
     ]
    },
    {
     "name": "stdout",
     "output_type": "stream",
     "text": [
      "Ошибка при обработке строки 185584: Invalid CIF file with no structures!\n"
     ]
    },
    {
     "name": "stderr",
     "output_type": "stream",
     "text": [
      "188606it [15:25, 213.86it/s]d:\\Projects\\projects_python\\genCry\\.venv\\Lib\\site-packages\\pymatgen\\io\\cif.py:1312: UserWarning: Some occupancies ([2.0, 2.0, 2.0, 2.0]) sum to > 1! If they are within the occupancy_tolerance, they will be rescaled. The current occupancy_tolerance is set to: 1.0\n",
      "  if struct := self._get_structure(data, primitive, symmetrized, check_occu=check_occu):\n",
      "d:\\Projects\\projects_python\\genCry\\.venv\\Lib\\site-packages\\pymatgen\\io\\cif.py:1347: UserWarning: Issues encountered while parsing CIF: Some occupancies ([2.0, 2.0, 2.0, 2.0]) sum to > 1! If they are within the occupancy_tolerance, they will be rescaled. The current occupancy_tolerance is set to: 1.0\n",
      "No structure parsed for section 1 in CIF.\n",
      "Occupancy 2.0 exceeded tolerance.\n",
      "  return self.parse_structures(*args, **kwargs)\n",
      "188628it [15:25, 198.57it/s]"
     ]
    },
    {
     "name": "stdout",
     "output_type": "stream",
     "text": [
      "Ошибка при обработке строки 188609: Invalid CIF file with no structures!\n"
     ]
    },
    {
     "name": "stderr",
     "output_type": "stream",
     "text": [
      "192695it [15:50, 128.22it/s]"
     ]
    },
    {
     "name": "stdout",
     "output_type": "stream",
     "text": [
      "Ошибка при обработке строки 192684: Invalid CIF file with no structures!\n"
     ]
    },
    {
     "name": "stderr",
     "output_type": "stream",
     "text": [
      "192912it [15:52, 90.20it/s] "
     ]
    },
    {
     "name": "stdout",
     "output_type": "stream",
     "text": [
      "Ошибка при обработке строки 192902: Invalid CIF file with no structures!\n"
     ]
    },
    {
     "name": "stderr",
     "output_type": "stream",
     "text": [
      "193328it [15:55, 173.43it/s]"
     ]
    },
    {
     "name": "stdout",
     "output_type": "stream",
     "text": [
      "Ошибка при обработке строки 193308: Invalid CIF file with no structures!\n"
     ]
    },
    {
     "name": "stderr",
     "output_type": "stream",
     "text": [
      "195174it [16:06, 197.69it/s]"
     ]
    },
    {
     "name": "stdout",
     "output_type": "stream",
     "text": [
      "Ошибка при обработке строки 195139: Invalid CIF file with no structures!\n"
     ]
    },
    {
     "name": "stderr",
     "output_type": "stream",
     "text": [
      "196363it [16:12, 171.55it/s]"
     ]
    },
    {
     "name": "stdout",
     "output_type": "stream",
     "text": [
      "Ошибка при обработке строки 196340: Invalid CIF file with no structures!\n"
     ]
    },
    {
     "name": "stderr",
     "output_type": "stream",
     "text": [
      "199068it [16:27, 182.47it/s]"
     ]
    },
    {
     "name": "stdout",
     "output_type": "stream",
     "text": [
      "Ошибка при обработке строки 199031: Invalid CIF file with no structures!\n"
     ]
    },
    {
     "name": "stderr",
     "output_type": "stream",
     "text": [
      "199234it [16:28, 151.64it/s]d:\\Projects\\projects_python\\genCry\\.venv\\Lib\\site-packages\\pymatgen\\io\\cif.py:1312: UserWarning: Some occupancies ([3.0, 3.0]) sum to > 1! If they are within the occupancy_tolerance, they will be rescaled. The current occupancy_tolerance is set to: 1.0\n",
      "  if struct := self._get_structure(data, primitive, symmetrized, check_occu=check_occu):\n",
      "d:\\Projects\\projects_python\\genCry\\.venv\\Lib\\site-packages\\pymatgen\\io\\cif.py:1347: UserWarning: Issues encountered while parsing CIF: Some occupancies ([3.0, 3.0]) sum to > 1! If they are within the occupancy_tolerance, they will be rescaled. The current occupancy_tolerance is set to: 1.0\n",
      "No structure parsed for section 1 in CIF.\n",
      "Occupancy 3.0 exceeded tolerance.\n",
      "  return self.parse_structures(*args, **kwargs)\n",
      "199289it [16:28, 168.81it/s]"
     ]
    },
    {
     "name": "stdout",
     "output_type": "stream",
     "text": [
      "Ошибка при обработке строки 199248: Invalid CIF file with no structures!\n"
     ]
    },
    {
     "name": "stderr",
     "output_type": "stream",
     "text": [
      "202011it [16:46, 174.83it/s]"
     ]
    },
    {
     "name": "stdout",
     "output_type": "stream",
     "text": [
      "Ошибка при обработке строки 201984: Invalid CIF file with no structures!\n"
     ]
    },
    {
     "name": "stderr",
     "output_type": "stream",
     "text": [
      "204888it [17:03, 171.59it/s]"
     ]
    },
    {
     "name": "stdout",
     "output_type": "stream",
     "text": [
      "Ошибка при обработке строки 204858: Invalid CIF file with no structures!\n"
     ]
    },
    {
     "name": "stderr",
     "output_type": "stream",
     "text": [
      "206527it [17:12, 197.84it/s]"
     ]
    },
    {
     "name": "stdout",
     "output_type": "stream",
     "text": [
      "Ошибка при обработке строки 206495: Invalid CIF file with no structures!\n"
     ]
    },
    {
     "name": "stderr",
     "output_type": "stream",
     "text": [
      "206693it [17:13, 132.62it/s]"
     ]
    },
    {
     "name": "stdout",
     "output_type": "stream",
     "text": [
      "Ошибка при обработке строки 206680: Invalid CIF file with no structures!\n"
     ]
    },
    {
     "name": "stderr",
     "output_type": "stream",
     "text": [
      "211565it [17:41, 219.90it/s]"
     ]
    },
    {
     "name": "stdout",
     "output_type": "stream",
     "text": [
      "Ошибка при обработке строки 211519: Invalid CIF file with no structures!\n"
     ]
    },
    {
     "name": "stderr",
     "output_type": "stream",
     "text": [
      "216736it [18:08, 170.28it/s]"
     ]
    },
    {
     "name": "stdout",
     "output_type": "stream",
     "text": [
      "Ошибка при обработке строки 216720: Invalid CIF file with no structures!\n"
     ]
    },
    {
     "name": "stderr",
     "output_type": "stream",
     "text": [
      "217956it [18:15, 159.76it/s]"
     ]
    },
    {
     "name": "stdout",
     "output_type": "stream",
     "text": [
      "Ошибка при обработке строки 217940: Invalid CIF file with no structures!\n",
      "Ошибка при обработке строки 217955: Invalid CIF file with no structures!\n"
     ]
    },
    {
     "name": "stderr",
     "output_type": "stream",
     "text": [
      "219264it [18:22, 143.40it/s]"
     ]
    },
    {
     "name": "stdout",
     "output_type": "stream",
     "text": [
      "Ошибка при обработке строки 219240: Invalid CIF file with no structures!\n"
     ]
    },
    {
     "name": "stderr",
     "output_type": "stream",
     "text": [
      "220663it [18:30, 164.91it/s]"
     ]
    },
    {
     "name": "stdout",
     "output_type": "stream",
     "text": [
      "Ошибка при обработке строки 220649: Invalid CIF file with no structures!\n"
     ]
    },
    {
     "name": "stderr",
     "output_type": "stream",
     "text": [
      "220875it [18:32, 200.95it/s]"
     ]
    },
    {
     "name": "stdout",
     "output_type": "stream",
     "text": [
      "Ошибка при обработке строки 220823: Invalid CIF file with no structures!\n"
     ]
    },
    {
     "name": "stderr",
     "output_type": "stream",
     "text": [
      "224700it [18:54, 175.37it/s]"
     ]
    },
    {
     "name": "stdout",
     "output_type": "stream",
     "text": [
      "Ошибка при обработке строки 224668: Invalid CIF file with no structures!\n"
     ]
    },
    {
     "name": "stderr",
     "output_type": "stream",
     "text": [
      "225053it [18:56, 150.15it/s]"
     ]
    },
    {
     "name": "stdout",
     "output_type": "stream",
     "text": [
      "Ошибка при обработке строки 225024: Invalid CIF file with no structures!\n"
     ]
    },
    {
     "name": "stderr",
     "output_type": "stream",
     "text": [
      "225733it [19:00, 190.52it/s]"
     ]
    },
    {
     "name": "stdout",
     "output_type": "stream",
     "text": [
      "Ошибка при обработке строки 225693: Invalid CIF file with no structures!\n"
     ]
    },
    {
     "name": "stderr",
     "output_type": "stream",
     "text": [
      "227720it [19:13, 191.43it/s]"
     ]
    },
    {
     "name": "stdout",
     "output_type": "stream",
     "text": [
      "Ошибка при обработке строки 227685: Invalid CIF file with no structures!\n"
     ]
    },
    {
     "name": "stderr",
     "output_type": "stream",
     "text": [
      "228685it [19:18, 211.67it/s]"
     ]
    },
    {
     "name": "stdout",
     "output_type": "stream",
     "text": [
      "Ошибка при обработке строки 228652: Invalid CIF file with no structures!\n"
     ]
    },
    {
     "name": "stderr",
     "output_type": "stream",
     "text": [
      "231321it [19:32, 163.95it/s]"
     ]
    },
    {
     "name": "stdout",
     "output_type": "stream",
     "text": [
      "Ошибка при обработке строки 231291: Invalid CIF file with no structures!\n"
     ]
    },
    {
     "name": "stderr",
     "output_type": "stream",
     "text": [
      "234381it [19:47, 220.68it/s]"
     ]
    },
    {
     "name": "stdout",
     "output_type": "stream",
     "text": [
      "Ошибка при обработке строки 234348: Invalid CIF file with no structures!\n"
     ]
    },
    {
     "name": "stderr",
     "output_type": "stream",
     "text": [
      "235019it [19:50, 194.90it/s]"
     ]
    },
    {
     "name": "stdout",
     "output_type": "stream",
     "text": [
      "Ошибка при обработке строки 235002: Invalid CIF file with no structures!\n"
     ]
    },
    {
     "name": "stderr",
     "output_type": "stream",
     "text": [
      "242454it [20:28, 164.26it/s]d:\\Projects\\projects_python\\genCry\\.venv\\Lib\\site-packages\\pymatgen\\io\\cif.py:1312: UserWarning: Some occupancies ([3.0, 3.0, 3.0, 3.0]) sum to > 1! If they are within the occupancy_tolerance, they will be rescaled. The current occupancy_tolerance is set to: 1.0\n",
      "  if struct := self._get_structure(data, primitive, symmetrized, check_occu=check_occu):\n",
      "d:\\Projects\\projects_python\\genCry\\.venv\\Lib\\site-packages\\pymatgen\\io\\cif.py:1347: UserWarning: Issues encountered while parsing CIF: Some occupancies ([3.0, 3.0, 3.0, 3.0]) sum to > 1! If they are within the occupancy_tolerance, they will be rescaled. The current occupancy_tolerance is set to: 1.0\n",
      "No structure parsed for section 1 in CIF.\n",
      "Occupancy 3.0 exceeded tolerance.\n",
      "  return self.parse_structures(*args, **kwargs)\n",
      "242472it [20:28, 158.10it/s]"
     ]
    },
    {
     "name": "stdout",
     "output_type": "stream",
     "text": [
      "Ошибка при обработке строки 242455: Invalid CIF file with no structures!\n"
     ]
    },
    {
     "name": "stderr",
     "output_type": "stream",
     "text": [
      "243845it [20:34, 230.37it/s]"
     ]
    },
    {
     "name": "stdout",
     "output_type": "stream",
     "text": [
      "Ошибка при обработке строки 243814: Invalid CIF file with no structures!\n"
     ]
    },
    {
     "name": "stderr",
     "output_type": "stream",
     "text": [
      "244790it [20:39, 218.21it/s]"
     ]
    },
    {
     "name": "stdout",
     "output_type": "stream",
     "text": [
      "Ошибка при обработке строки 244761: Invalid CIF file with no structures!\n"
     ]
    },
    {
     "name": "stderr",
     "output_type": "stream",
     "text": [
      "251994it [21:14, 216.77it/s]"
     ]
    },
    {
     "name": "stdout",
     "output_type": "stream",
     "text": [
      "Ошибка при обработке строки 251971: Invalid CIF file with no structures!\n"
     ]
    },
    {
     "name": "stderr",
     "output_type": "stream",
     "text": [
      "252937it [21:19, 197.90it/s]"
     ]
    },
    {
     "name": "stdout",
     "output_type": "stream",
     "text": [
      "Ошибка при обработке строки 252916: Invalid CIF file with no structures!\n"
     ]
    },
    {
     "name": "stderr",
     "output_type": "stream",
     "text": [
      "254494it [21:27, 176.25it/s]"
     ]
    },
    {
     "name": "stdout",
     "output_type": "stream",
     "text": [
      "Ошибка при обработке строки 254472: Invalid CIF file with no structures!\n"
     ]
    },
    {
     "name": "stderr",
     "output_type": "stream",
     "text": [
      "255635it [21:33, 197.90it/s]"
     ]
    },
    {
     "name": "stdout",
     "output_type": "stream",
     "text": [
      "Ошибка при обработке строки 255619: Invalid CIF file with no structures!\n"
     ]
    },
    {
     "name": "stderr",
     "output_type": "stream",
     "text": [
      "259789it [21:57, 182.54it/s]"
     ]
    },
    {
     "name": "stdout",
     "output_type": "stream",
     "text": [
      "Ошибка при обработке строки 259756: Invalid CIF file with no structures!\n"
     ]
    },
    {
     "name": "stderr",
     "output_type": "stream",
     "text": [
      "260228it [22:01, 123.44it/s]"
     ]
    },
    {
     "name": "stdout",
     "output_type": "stream",
     "text": [
      "Ошибка при обработке строки 260210: Invalid CIF file with no structures!\n"
     ]
    },
    {
     "name": "stderr",
     "output_type": "stream",
     "text": [
      "261284it [22:09, 154.54it/s]"
     ]
    },
    {
     "name": "stdout",
     "output_type": "stream",
     "text": [
      "Ошибка при обработке строки 261260: Invalid CIF file with no structures!\n"
     ]
    },
    {
     "name": "stderr",
     "output_type": "stream",
     "text": [
      "262298it [22:18, 105.51it/s]"
     ]
    },
    {
     "name": "stdout",
     "output_type": "stream",
     "text": [
      "Ошибка при обработке строки 262279: Invalid CIF file with no structures!\n"
     ]
    },
    {
     "name": "stderr",
     "output_type": "stream",
     "text": [
      "264141it [22:33, 122.99it/s]"
     ]
    },
    {
     "name": "stdout",
     "output_type": "stream",
     "text": [
      "Ошибка при обработке строки 264123: Invalid CIF file with no structures!\n"
     ]
    },
    {
     "name": "stderr",
     "output_type": "stream",
     "text": [
      "264422it [22:35, 119.82it/s]"
     ]
    },
    {
     "name": "stdout",
     "output_type": "stream",
     "text": [
      "Ошибка при обработке строки 264410: Invalid CIF file with no structures!\n"
     ]
    },
    {
     "name": "stderr",
     "output_type": "stream",
     "text": [
      "266443it [22:48, 214.74it/s]"
     ]
    },
    {
     "name": "stdout",
     "output_type": "stream",
     "text": [
      "Ошибка при обработке строки 266397: Invalid CIF file with no structures!\n"
     ]
    },
    {
     "name": "stderr",
     "output_type": "stream",
     "text": [
      "266844it [22:50, 207.10it/s]"
     ]
    },
    {
     "name": "stdout",
     "output_type": "stream",
     "text": [
      "Ошибка при обработке строки 266799: Invalid CIF file with no structures!\n"
     ]
    },
    {
     "name": "stderr",
     "output_type": "stream",
     "text": [
      "268567it [22:59, 201.72it/s]"
     ]
    },
    {
     "name": "stdout",
     "output_type": "stream",
     "text": [
      "Ошибка при обработке строки 268534: Invalid CIF file with no structures!\n"
     ]
    },
    {
     "name": "stderr",
     "output_type": "stream",
     "text": [
      "269077it [23:01, 238.37it/s]"
     ]
    },
    {
     "name": "stdout",
     "output_type": "stream",
     "text": [
      "Ошибка при обработке строки 269038: Invalid CIF file with no structures!\n"
     ]
    },
    {
     "name": "stderr",
     "output_type": "stream",
     "text": [
      "270820it [23:10, 179.90it/s]"
     ]
    },
    {
     "name": "stdout",
     "output_type": "stream",
     "text": [
      "Ошибка при обработке строки 270779: Invalid CIF file with no structures!\n"
     ]
    },
    {
     "name": "stderr",
     "output_type": "stream",
     "text": [
      "271859it [23:15, 210.85it/s]"
     ]
    },
    {
     "name": "stdout",
     "output_type": "stream",
     "text": [
      "Ошибка при обработке строки 271817: Invalid CIF file with no structures!\n"
     ]
    },
    {
     "name": "stderr",
     "output_type": "stream",
     "text": [
      "274708it [23:32, 198.11it/s]"
     ]
    },
    {
     "name": "stdout",
     "output_type": "stream",
     "text": [
      "Ошибка при обработке строки 274687: Invalid CIF file with no structures!\n"
     ]
    },
    {
     "name": "stderr",
     "output_type": "stream",
     "text": [
      "275965it [23:38, 174.65it/s]"
     ]
    },
    {
     "name": "stdout",
     "output_type": "stream",
     "text": [
      "Ошибка при обработке строки 275946: Invalid CIF file with no structures!\n"
     ]
    },
    {
     "name": "stderr",
     "output_type": "stream",
     "text": [
      "276520it [23:41, 182.10it/s]"
     ]
    },
    {
     "name": "stdout",
     "output_type": "stream",
     "text": [
      "Ошибка при обработке строки 276490: Invalid CIF file with no structures!\n"
     ]
    },
    {
     "name": "stderr",
     "output_type": "stream",
     "text": [
      "277103it [23:45, 183.57it/s]"
     ]
    },
    {
     "name": "stdout",
     "output_type": "stream",
     "text": [
      "Ошибка при обработке строки 277059: Invalid CIF file with no structures!\n"
     ]
    },
    {
     "name": "stderr",
     "output_type": "stream",
     "text": [
      "279053it [23:56, 197.84it/s]"
     ]
    },
    {
     "name": "stdout",
     "output_type": "stream",
     "text": [
      "Ошибка при обработке строки 279024: Invalid CIF file with no structures!\n"
     ]
    },
    {
     "name": "stderr",
     "output_type": "stream",
     "text": [
      "282816it [24:15, 198.06it/s]"
     ]
    },
    {
     "name": "stdout",
     "output_type": "stream",
     "text": [
      "Ошибка при обработке строки 282787: Invalid CIF file with no structures!\n"
     ]
    },
    {
     "name": "stderr",
     "output_type": "stream",
     "text": [
      "315449it [26:37, 197.44it/s]\n"
     ]
    }
   ],
   "source": [
    "genCry_small = filter_structures_from_csv(genCry)"
   ]
  },
  {
   "cell_type": "code",
   "execution_count": 10,
   "metadata": {},
   "outputs": [],
   "source": [
    "genCry_small.to_csv(\"genCry_dataset\\\\genCry_s.csv\")"
   ]
  },
  {
   "cell_type": "code",
   "execution_count": 11,
   "metadata": {},
   "outputs": [
    {
     "data": {
      "text/html": [
       "<div>\n",
       "<style scoped>\n",
       "    .dataframe tbody tr th:only-of-type {\n",
       "        vertical-align: middle;\n",
       "    }\n",
       "\n",
       "    .dataframe tbody tr th {\n",
       "        vertical-align: top;\n",
       "    }\n",
       "\n",
       "    .dataframe thead th {\n",
       "        text-align: right;\n",
       "    }\n",
       "</style>\n",
       "<table border=\"1\" class=\"dataframe\">\n",
       "  <thead>\n",
       "    <tr style=\"text-align: right;\">\n",
       "      <th></th>\n",
       "      <th>material_id</th>\n",
       "      <th>cif</th>\n",
       "    </tr>\n",
       "  </thead>\n",
       "  <tbody>\n",
       "    <tr>\n",
       "      <th>0</th>\n",
       "      <td>mp-1221227</td>\n",
       "      <td># generated using pymatgen\\ndata_Na3MnCoNiO6\\n...</td>\n",
       "    </tr>\n",
       "    <tr>\n",
       "      <th>1</th>\n",
       "      <td>mp-974729</td>\n",
       "      <td># generated using pymatgen\\ndata_Nd(Al2Cu)4\\n_...</td>\n",
       "    </tr>\n",
       "    <tr>\n",
       "      <th>2</th>\n",
       "      <td>mp-1185360</td>\n",
       "      <td># generated using pymatgen\\ndata_LiMnIr2\\n_sym...</td>\n",
       "    </tr>\n",
       "    <tr>\n",
       "      <th>3</th>\n",
       "      <td>mp-1188861</td>\n",
       "      <td># generated using pymatgen\\ndata_LiCSN\\n_symme...</td>\n",
       "    </tr>\n",
       "    <tr>\n",
       "      <th>4</th>\n",
       "      <td>mp-677272</td>\n",
       "      <td># generated using pymatgen\\ndata_La2EuS4\\n_sym...</td>\n",
       "    </tr>\n",
       "    <tr>\n",
       "      <th>...</th>\n",
       "      <td>...</td>\n",
       "      <td>...</td>\n",
       "    </tr>\n",
       "    <tr>\n",
       "      <th>308226</th>\n",
       "      <td>p-6452</td>\n",
       "      <td># generated using pymatgen\\ndata_CsNbN2O\\n_sym...</td>\n",
       "    </tr>\n",
       "    <tr>\n",
       "      <th>308227</th>\n",
       "      <td>p-7673</td>\n",
       "      <td># generated using pymatgen\\ndata_FePbN2O\\n_sym...</td>\n",
       "    </tr>\n",
       "    <tr>\n",
       "      <th>308228</th>\n",
       "      <td>p-819</td>\n",
       "      <td># generated using pymatgen\\ndata_NaGeNO2\\n_sym...</td>\n",
       "    </tr>\n",
       "    <tr>\n",
       "      <th>308229</th>\n",
       "      <td>p-11261</td>\n",
       "      <td># generated using pymatgen\\ndata_TeAuO2F\\n_sym...</td>\n",
       "    </tr>\n",
       "    <tr>\n",
       "      <th>308230</th>\n",
       "      <td>p-9424</td>\n",
       "      <td># generated using pymatgen\\ndata_CdReSO2\\n_sym...</td>\n",
       "    </tr>\n",
       "  </tbody>\n",
       "</table>\n",
       "<p>308231 rows × 2 columns</p>\n",
       "</div>"
      ],
      "text/plain": [
       "       material_id                                                cif\n",
       "0       mp-1221227  # generated using pymatgen\\ndata_Na3MnCoNiO6\\n...\n",
       "1        mp-974729  # generated using pymatgen\\ndata_Nd(Al2Cu)4\\n_...\n",
       "2       mp-1185360  # generated using pymatgen\\ndata_LiMnIr2\\n_sym...\n",
       "3       mp-1188861  # generated using pymatgen\\ndata_LiCSN\\n_symme...\n",
       "4        mp-677272  # generated using pymatgen\\ndata_La2EuS4\\n_sym...\n",
       "...            ...                                                ...\n",
       "308226      p-6452  # generated using pymatgen\\ndata_CsNbN2O\\n_sym...\n",
       "308227      p-7673  # generated using pymatgen\\ndata_FePbN2O\\n_sym...\n",
       "308228       p-819  # generated using pymatgen\\ndata_NaGeNO2\\n_sym...\n",
       "308229     p-11261  # generated using pymatgen\\ndata_TeAuO2F\\n_sym...\n",
       "308230      p-9424  # generated using pymatgen\\ndata_CdReSO2\\n_sym...\n",
       "\n",
       "[308231 rows x 2 columns]"
      ]
     },
     "execution_count": 11,
     "metadata": {},
     "output_type": "execute_result"
    }
   ],
   "source": [
    "genCry_small"
   ]
  }
 ],
 "metadata": {
  "kernelspec": {
   "display_name": ".venv",
   "language": "python",
   "name": "python3"
  },
  "language_info": {
   "codemirror_mode": {
    "name": "ipython",
    "version": 3
   },
   "file_extension": ".py",
   "mimetype": "text/x-python",
   "name": "python",
   "nbconvert_exporter": "python",
   "pygments_lexer": "ipython3",
   "version": "3.11.7"
  }
 },
 "nbformat": 4,
 "nbformat_minor": 2
}
