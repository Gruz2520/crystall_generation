{
 "cells": [
  {
   "cell_type": "markdown",
   "metadata": {},
   "source": [
    "import necessary libs"
   ]
  },
  {
   "cell_type": "code",
   "execution_count": null,
   "metadata": {},
   "outputs": [],
   "source": [
    "from pymatgen.core import Structure, Lattice\n",
    "from pymatgen.entries.computed_entries import ComputedStructureEntry\n",
    "import json \n",
    "import pandas as pd\n",
    "from tqdm import tqdm\n",
    "import os\n",
    "from typing import Dict, Tuple\n",
    "import shutil\n",
    "import warnings"
   ]
  },
  {
   "cell_type": "markdown",
   "metadata": {},
   "source": [
    "Next, I process each dataset from their source file into the type I require"
   ]
  },
  {
   "cell_type": "markdown",
   "metadata": {},
   "source": [
    "## Alexandria"
   ]
  },
  {
   "cell_type": "markdown",
   "metadata": {},
   "source": [
    "---"
   ]
  },
  {
   "cell_type": "code",
   "execution_count": null,
   "metadata": {},
   "outputs": [],
   "source": [
    "def move_files(source_directory: str, destination_directory: str) -> None:\n",
    "    \"\"\"\n",
    "    Moves all files from the source directory to the destination directory.\n",
    "    If the destination directory does not exist, it will be created.\n",
    "\n",
    "    :param source_directory: Path to the source directory containing the files to be moved.\n",
    "    :param destination_directory: Path to the destination directory where files will be moved.\n",
    "    \"\"\"\n",
    "    # Create the destination directory if it doesn't exist\n",
    "    os.makedirs(destination_directory, exist_ok=True)\n",
    "\n",
    "    # Walk through the source directory\n",
    "    for root, dirs, files in os.walk(source_directory):\n",
    "        for file in files:\n",
    "            # Construct the full path of the source file\n",
    "            source_file_path = os.path.join(root, file)\n",
    "            # Construct the full path of the destination file\n",
    "            destination_file_path = os.path.join(destination_directory, file)\n",
    "\n",
    "            # Move the file from the source to the destination\n",
    "            shutil.move(source_file_path, destination_file_path)\n",
    "            print(f\"Moved file: {source_file_path} -> {destination_file_path}\")\n",
    "\n",
    "source_directory = 'alexandria\\\\1'\n",
    "destination_directory = 'alexandria\\\\'\n",
    "\n",
    "move_files(source_directory, destination_directory)"
   ]
  },
  {
   "cell_type": "code",
   "execution_count": null,
   "metadata": {},
   "outputs": [],
   "source": [
    "def open_json(path: str):\n",
    "    with open(path) as file:\n",
    "        data = json.load(file)\n",
    "    return data['entries']"
   ]
  },
  {
   "cell_type": "code",
   "execution_count": null,
   "metadata": {},
   "outputs": [],
   "source": [
    "def from_entry_to_cif_energy(data: Dict) -> Tuple[str, Dict]:\n",
    "    \"\"\"\n",
    "    Converts a dictionary containing structure and energy data into a CIF string and energy-related data.\n",
    "\n",
    "    :param data: A dictionary containing structure and energy information. Expected keys:\n",
    "                 - 'structure': A dictionary with 'lattice' and 'sites' data.\n",
    "                 - 'energy': The energy value of the structure.\n",
    "                 - 'correction': Energy correction value.\n",
    "                 - 'entry_id': Unique identifier for the entry.\n",
    "                 - 'parameters': Additional parameters.\n",
    "                 - 'composition': Composition of the structure.\n",
    "                 - 'data': Additional data.\n",
    "    :return: A tuple containing:\n",
    "             - CIF string representation of the structure.\n",
    "             - A dictionary with energy-related data.\n",
    "    \"\"\"\n",
    "    # Extract lattice information and create a Lattice object\n",
    "    lattice = Lattice(data['structure']['lattice']['matrix'])\n",
    "\n",
    "    # Extract species and coordinates from the structure data\n",
    "    species = []\n",
    "    coords = []\n",
    "    for site in data['structure']['sites']:\n",
    "        for specie in site['species']:\n",
    "            species.append(specie['element'])\n",
    "            coords.append(site['xyz'])\n",
    "\n",
    "    # Create a Structure object using the lattice, species, and coordinates\n",
    "    structure = Structure(lattice, species, coords)\n",
    "\n",
    "    # Create a ComputedStructureEntry object to store structure and energy data\n",
    "    entry = ComputedStructureEntry(\n",
    "        structure=structure,\n",
    "        energy=data['energy'],\n",
    "        correction=data['correction'],\n",
    "        entry_id=data['entry_id'],\n",
    "        parameters=data['parameters'],\n",
    "        composition=data['composition'],\n",
    "        data=data['data']\n",
    "    )\n",
    "\n",
    "    # Convert the structure to a CIF string\n",
    "    cif_string = structure.to(fmt='cif')\n",
    "\n",
    "    # Return the CIF string and the energy-related data\n",
    "    return cif_string, entry.data"
   ]
  },
  {
   "cell_type": "code",
   "execution_count": null,
   "metadata": {},
   "outputs": [],
   "source": [
    "def create_dataframe(files: list, path_to_callback: str):\n",
    "    cifs_for_dataframe = []\n",
    "    data_for_dataframe = []\n",
    "    for file in tqdm(files):\n",
    "        entrys = open_json(file)\n",
    "        cifs_for_callback = []\n",
    "        data_for_callback = []\n",
    "        \n",
    "        for entry in entrys:\n",
    "            cif, entry_data = from_entry_to_cif_energy(entry)\n",
    "            cifs_for_callback.append(cif)\n",
    "            data_for_callback.append(entry_data)\n",
    "        \n",
    "        callback_df = pd.concat([pd.DataFrame(data_for_callback), pd.DataFrame({\"cif\": cifs_for_callback})], axis=1)\n",
    "        callback_df.to_csv(path_to_callback + os.path.basename(file)[:-5] + \".csv\")\n",
    "        \n",
    "        data_for_dataframe += data_for_callback\n",
    "        cifs_for_dataframe += cifs_for_callback\n",
    "            \n",
    "    df_entry_data = pd.DataFrame(data_for_dataframe)\n",
    "    df_cif = pd.DataFrame({\"cif\": cifs_for_dataframe})\n",
    "    \n",
    "    final_df = pd.concat([df_entry_data, df_cif], axis=1)\n",
    "    \n",
    "    return final_df            \n",
    "        "
   ]
  },
  {
   "cell_type": "code",
   "execution_count": null,
   "metadata": {},
   "outputs": [],
   "source": [
    "directory_path = 'alexandria\\\\jsons\\\\'\n",
    "\n",
    "files = [os.path.join(directory_path, f) for f in os.listdir(directory_path) if os.path.isfile(os.path.join(directory_path, f))]"
   ]
  },
  {
   "cell_type": "code",
   "execution_count": null,
   "metadata": {},
   "outputs": [],
   "source": [
    "alexandria_dataframe = create_dataframe([\"\\\\alexandria\\convex_hull_pbe.json\"], \"alexandria\\\\callbacks\\\\\")"
   ]
  },
  {
   "cell_type": "code",
   "execution_count": null,
   "metadata": {},
   "outputs": [],
   "source": [
    "directory_path = 'alexandria\\callbacks'\n",
    "output_file_path = 'alexandria\\\\alexandria_full.csv'\n",
    "\n",
    "csv_files = [f for f in os.listdir(directory_path) if f.endswith('.csv')]\n",
    "\n",
    "dataframes = []\n",
    "\n",
    "for csv_file in csv_files:\n",
    "    file_path = os.path.join(directory_path, csv_file)  \n",
    "    df = pd.read_csv(file_path)\n",
    "    dataframes.append(df)  \n",
    "\n",
    "combined_df = pd.concat(dataframes, ignore_index=True)\n",
    "\n",
    "combined_df.to_csv(output_file_path, index=False)\n",
    "\n",
    "print(f\"Все файлы объединены в: {output_file_path}\")"
   ]
  },
  {
   "cell_type": "code",
   "execution_count": null,
   "metadata": {},
   "outputs": [],
   "source": [
    "data = pd.read_csv(\"alexandria\\\\alexandria_full.csv\")"
   ]
  },
  {
   "cell_type": "code",
   "execution_count": null,
   "metadata": {},
   "outputs": [],
   "source": [
    "len(data.formula.unique())"
   ]
  },
  {
   "cell_type": "code",
   "execution_count": null,
   "metadata": {},
   "outputs": [],
   "source": [
    "alex_pbe = pd.read_csv(\"alexandria/convex_hull_pbe.csv\")"
   ]
  },
  {
   "cell_type": "code",
   "execution_count": null,
   "metadata": {},
   "outputs": [],
   "source": [
    "len(alex_pbe.formula.unique())"
   ]
  },
  {
   "cell_type": "code",
   "execution_count": null,
   "metadata": {},
   "outputs": [],
   "source": [
    "alex_pbe.columns"
   ]
  },
  {
   "cell_type": "markdown",
   "metadata": {},
   "source": [
    "## Jarvis"
   ]
  },
  {
   "cell_type": "code",
   "execution_count": null,
   "metadata": {},
   "outputs": [],
   "source": [
    "from jarvis.db.figshare import data\n",
    "\n",
    "dft_3d = data('dft_3d')"
   ]
  },
  {
   "cell_type": "code",
   "execution_count": null,
   "metadata": {},
   "outputs": [],
   "source": [
    "df = pd.DataFrame(dft_3d)"
   ]
  },
  {
   "cell_type": "code",
   "execution_count": null,
   "metadata": {},
   "outputs": [],
   "source": [
    "def create_structure_from_data(data):\n",
    "    \"\"\"\n",
    "    Создает объект Structure из предоставленных данных.\n",
    "\n",
    "    :param data: dict, содержащий данные для создания структуры\n",
    "    :return: pymatgen Structure\n",
    "    \"\"\"\n",
    "    lattice_mat = data['lattice_mat']\n",
    "    coords = data['coords']\n",
    "    elements = data['elements']\n",
    "\n",
    "    lattice = Lattice(lattice_mat)\n",
    "\n",
    "    structure = Structure(lattice=lattice, species=elements, coords=coords)\n",
    "\n",
    "    return structure"
   ]
  },
  {
   "cell_type": "code",
   "execution_count": null,
   "metadata": {},
   "outputs": [],
   "source": [
    "atoms = df['atoms']\n",
    "cifs_for_dataset = []\n",
    "for atom in tqdm(atoms):\n",
    "    cifs_for_dataset.append(create_structure_from_data(atom).to_file(fmt='cif'))"
   ]
  },
  {
   "cell_type": "code",
   "execution_count": null,
   "metadata": {},
   "outputs": [],
   "source": [
    "df_cif = pd.DataFrame({\"cif\": cifs_for_dataset})\n",
    "final_df = pd.concat([df, df_cif], axis=1)\n",
    "final_df.to_csv('Jarvis/jarvis.csv')"
   ]
  },
  {
   "cell_type": "code",
   "execution_count": null,
   "metadata": {},
   "outputs": [],
   "source": [
    "jarvis = pd.read_csv(\"Jarvis\\\\jarvis.csv\")"
   ]
  },
  {
   "cell_type": "code",
   "execution_count": null,
   "metadata": {},
   "outputs": [],
   "source": [
    "jarvis"
   ]
  },
  {
   "cell_type": "code",
   "execution_count": null,
   "metadata": {},
   "outputs": [],
   "source": [
    "jarvis.columns"
   ]
  },
  {
   "cell_type": "markdown",
   "metadata": {},
   "source": [
    "## AFlow"
   ]
  },
  {
   "cell_type": "code",
   "execution_count": null,
   "metadata": {},
   "outputs": [],
   "source": [
    "import json\n",
    "from urllib.request import urlopen\n",
    "from urllib.error import URLError, HTTPError\n",
    "\n",
    "API = 'http://aflow.org/API/aflux/'\n",
    "MATCHBOOK = 'species(Metals)'\n",
    "DIRECTIVE = '$paging(1)'\n",
    "REQUEST = API + '?' + MATCHBOOK + ',' + DIRECTIVE\n",
    "\n",
    "try:\n",
    "    with urlopen(REQUEST) as response:\n",
    "        data = response.read().decode('utf-8')\n",
    "        if data:\n",
    "            response_json = json.loads(data)\n",
    "            print(response_json)\n",
    "        else:\n",
    "            print(\"Пустой ответ от сервера\")\n",
    "except HTTPError as e:\n",
    "    print(f\"HTTP ошибка: {e.code} - {e.reason}\")\n",
    "except URLError as e:\n",
    "    print(f\"Ошибка URL: {e.reason}\")\n",
    "except json.JSONDecodeError as e:\n",
    "    print(f\"Ошибка декодирования JSON: {e}\")"
   ]
  },
  {
   "cell_type": "code",
   "execution_count": null,
   "metadata": {},
   "outputs": [],
   "source": [
    "response_json"
   ]
  },
  {
   "cell_type": "markdown",
   "metadata": {},
   "source": [
    "## perov_5"
   ]
  },
  {
   "cell_type": "code",
   "execution_count": null,
   "metadata": {},
   "outputs": [],
   "source": [
    "perov = pd.read_csv(\"perov_5\\\\perov_5_file.csv\")\n",
    "perov"
   ]
  },
  {
   "cell_type": "markdown",
   "metadata": {},
   "source": [
    "## carbon_24"
   ]
  },
  {
   "cell_type": "code",
   "execution_count": null,
   "metadata": {},
   "outputs": [],
   "source": [
    "carbon = pd.read_csv(\"carbon_24\\\\carbon_24_file.csv\")\n",
    "carbon"
   ]
  },
  {
   "cell_type": "code",
   "execution_count": null,
   "metadata": {},
   "outputs": [],
   "source": [
    "print(carbon.iloc[0].cif)"
   ]
  },
  {
   "cell_type": "markdown",
   "metadata": {},
   "source": [
    "## mp_20"
   ]
  },
  {
   "cell_type": "code",
   "execution_count": null,
   "metadata": {},
   "outputs": [],
   "source": [
    "mp = pd.read_csv(\"mp_20\\\\mp20_file.csv\")\n",
    "mp"
   ]
  },
  {
   "cell_type": "code",
   "execution_count": null,
   "metadata": {},
   "outputs": [],
   "source": [
    "len(set(mp.material_id) & set(jarvis.reference))"
   ]
  },
  {
   "cell_type": "markdown",
   "metadata": {},
   "source": [
    "## mpts_52"
   ]
  },
  {
   "cell_type": "code",
   "execution_count": null,
   "metadata": {},
   "outputs": [],
   "source": [
    "mpts = pd.read_csv(\"mpts_52\\\\mpts_52.csv\")\n",
    "mpts"
   ]
  },
  {
   "cell_type": "code",
   "execution_count": null,
   "metadata": {},
   "outputs": [],
   "source": [
    "len(set(mp.material_id) | set(mpts.material_id) | set(jarvis.reference))"
   ]
  },
  {
   "cell_type": "markdown",
   "metadata": {},
   "source": [
    "## Merger"
   ]
  },
  {
   "cell_type": "markdown",
   "metadata": {},
   "source": [
    "let's merge all correct dataset in one big dataset with union pack of columns (material_id, cif, ref). List of datasets: alexandria_pbe, carbon_24, Jarvis, mp_20, mpts_52, perov_5"
   ]
  },
  {
   "cell_type": "code",
   "execution_count": 28,
   "metadata": {},
   "outputs": [
    {
     "name": "stderr",
     "output_type": "stream",
     "text": [
      "C:\\Users\\user\\AppData\\Local\\Temp\\ipykernel_15744\\267735639.py:1: DtypeWarning: Columns (14,17,26,30) have mixed types. Specify dtype option on import or set low_memory=False.\n",
      "  jarvis = pd.read_csv(\"../data/Jarvis/jarvis.csv\")\n"
     ]
    }
   ],
   "source": [
    "jarvis = pd.read_csv(\"../data/Jarvis/jarvis.csv\")\n",
    "mpts = pd.read_csv(\"../data/mpts_52/mpts_52.csv\")\n",
    "mp = pd.read_csv(\"../data/mp_20/mp_20.csv\")\n",
    "carbon = pd.read_csv(\"../data/carbon_24/carbon_24.csv\")\n",
    "alex_pbe = pd.read_csv(\"../data/alexandria/alexandria_pbe.csv\")\n",
    "perov = pd.read_csv(\"../data/perov_5/perov_5.csv\")"
   ]
  },
  {
   "cell_type": "markdown",
   "metadata": {},
   "source": [
    "### jarvis -> jarvis_cry"
   ]
  },
  {
   "cell_type": "code",
   "execution_count": 29,
   "metadata": {},
   "outputs": [],
   "source": [
    "jarvis_cry = jarvis[[ \"reference\", \"cif\"]]"
   ]
  },
  {
   "cell_type": "code",
   "execution_count": 30,
   "metadata": {},
   "outputs": [],
   "source": [
    "jarvis_cry.columns = [\"material_id\", \"cif\"]"
   ]
  },
  {
   "cell_type": "code",
   "execution_count": 31,
   "metadata": {},
   "outputs": [
    {
     "name": "stderr",
     "output_type": "stream",
     "text": [
      "C:\\Users\\user\\AppData\\Local\\Temp\\ipykernel_15744\\940680558.py:1: SettingWithCopyWarning: \n",
      "A value is trying to be set on a copy of a slice from a DataFrame.\n",
      "Try using .loc[row_indexer,col_indexer] = value instead\n",
      "\n",
      "See the caveats in the documentation: https://pandas.pydata.org/pandas-docs/stable/user_guide/indexing.html#returning-a-view-versus-a-copy\n",
      "  jarvis_cry['ref'] = 'jarvis'\n"
     ]
    },
    {
     "data": {
      "text/html": [
       "<div>\n",
       "<style scoped>\n",
       "    .dataframe tbody tr th:only-of-type {\n",
       "        vertical-align: middle;\n",
       "    }\n",
       "\n",
       "    .dataframe tbody tr th {\n",
       "        vertical-align: top;\n",
       "    }\n",
       "\n",
       "    .dataframe thead th {\n",
       "        text-align: right;\n",
       "    }\n",
       "</style>\n",
       "<table border=\"1\" class=\"dataframe\">\n",
       "  <thead>\n",
       "    <tr style=\"text-align: right;\">\n",
       "      <th></th>\n",
       "      <th>material_id</th>\n",
       "      <th>cif</th>\n",
       "      <th>ref</th>\n",
       "    </tr>\n",
       "  </thead>\n",
       "  <tbody>\n",
       "    <tr>\n",
       "      <th>0</th>\n",
       "      <td>mp-1080455</td>\n",
       "      <td># generated using pymatgen\\ndata_TiCuSiAs\\n_sy...</td>\n",
       "      <td>jarvis</td>\n",
       "    </tr>\n",
       "    <tr>\n",
       "      <th>1</th>\n",
       "      <td>mp-568319</td>\n",
       "      <td># generated using pymatgen\\ndata_DyB6\\n_symmet...</td>\n",
       "      <td>jarvis</td>\n",
       "    </tr>\n",
       "    <tr>\n",
       "      <th>2</th>\n",
       "      <td>auid-3eaf68dd483bf4f4</td>\n",
       "      <td># generated using pymatgen\\ndata_Be2OsRu\\n_sym...</td>\n",
       "      <td>jarvis</td>\n",
       "    </tr>\n",
       "    <tr>\n",
       "      <th>3</th>\n",
       "      <td>mp-31104</td>\n",
       "      <td># generated using pymatgen\\ndata_KBi\\n_symmetr...</td>\n",
       "      <td>jarvis</td>\n",
       "    </tr>\n",
       "    <tr>\n",
       "      <th>4</th>\n",
       "      <td>mp-694</td>\n",
       "      <td># generated using pymatgen\\ndata_VSe2\\n_symmet...</td>\n",
       "      <td>jarvis</td>\n",
       "    </tr>\n",
       "    <tr>\n",
       "      <th>...</th>\n",
       "      <td>...</td>\n",
       "      <td>...</td>\n",
       "      <td>...</td>\n",
       "    </tr>\n",
       "    <tr>\n",
       "      <th>75988</th>\n",
       "      <td>1206834</td>\n",
       "      <td># generated using pymatgen\\ndata_Ac(RhPb)2\\n_s...</td>\n",
       "      <td>jarvis</td>\n",
       "    </tr>\n",
       "    <tr>\n",
       "      <th>75989</th>\n",
       "      <td>915022</td>\n",
       "      <td># generated using pymatgen\\ndata_PrTlZn\\n_symm...</td>\n",
       "      <td>jarvis</td>\n",
       "    </tr>\n",
       "    <tr>\n",
       "      <th>75990</th>\n",
       "      <td>1214095</td>\n",
       "      <td># generated using pymatgen\\ndata_Ba(InBi)2\\n_s...</td>\n",
       "      <td>jarvis</td>\n",
       "    </tr>\n",
       "    <tr>\n",
       "      <th>75991</th>\n",
       "      <td>1206745</td>\n",
       "      <td># generated using pymatgen\\ndata_Tm(SiTc)2\\n_s...</td>\n",
       "      <td>jarvis</td>\n",
       "    </tr>\n",
       "    <tr>\n",
       "      <th>75992</th>\n",
       "      <td>1206746</td>\n",
       "      <td># generated using pymatgen\\ndata_Th(SnRu)2\\n_s...</td>\n",
       "      <td>jarvis</td>\n",
       "    </tr>\n",
       "  </tbody>\n",
       "</table>\n",
       "<p>75993 rows × 3 columns</p>\n",
       "</div>"
      ],
      "text/plain": [
       "                 material_id  \\\n",
       "0                 mp-1080455   \n",
       "1                  mp-568319   \n",
       "2      auid-3eaf68dd483bf4f4   \n",
       "3                   mp-31104   \n",
       "4                     mp-694   \n",
       "...                      ...   \n",
       "75988                1206834   \n",
       "75989                 915022   \n",
       "75990                1214095   \n",
       "75991                1206745   \n",
       "75992                1206746   \n",
       "\n",
       "                                                     cif     ref  \n",
       "0      # generated using pymatgen\\ndata_TiCuSiAs\\n_sy...  jarvis  \n",
       "1      # generated using pymatgen\\ndata_DyB6\\n_symmet...  jarvis  \n",
       "2      # generated using pymatgen\\ndata_Be2OsRu\\n_sym...  jarvis  \n",
       "3      # generated using pymatgen\\ndata_KBi\\n_symmetr...  jarvis  \n",
       "4      # generated using pymatgen\\ndata_VSe2\\n_symmet...  jarvis  \n",
       "...                                                  ...     ...  \n",
       "75988  # generated using pymatgen\\ndata_Ac(RhPb)2\\n_s...  jarvis  \n",
       "75989  # generated using pymatgen\\ndata_PrTlZn\\n_symm...  jarvis  \n",
       "75990  # generated using pymatgen\\ndata_Ba(InBi)2\\n_s...  jarvis  \n",
       "75991  # generated using pymatgen\\ndata_Tm(SiTc)2\\n_s...  jarvis  \n",
       "75992  # generated using pymatgen\\ndata_Th(SnRu)2\\n_s...  jarvis  \n",
       "\n",
       "[75993 rows x 3 columns]"
      ]
     },
     "execution_count": 31,
     "metadata": {},
     "output_type": "execute_result"
    }
   ],
   "source": [
    "jarvis_cry['ref'] = 'jarvis'\n",
    "jarvis_cry"
   ]
  },
  {
   "cell_type": "markdown",
   "metadata": {},
   "source": [
    "In Jarvis 3 type of datasets with different prefixes\n",
    "\n",
    "- Material Project with prefix 'mp-'\n",
    "- Aflow with prefix 'auid'\n",
    "- Uniq Jarvis without prefix"
   ]
  },
  {
   "cell_type": "markdown",
   "metadata": {},
   "source": [
    "### mpts_52 -> mpts_cry"
   ]
  },
  {
   "cell_type": "code",
   "execution_count": 32,
   "metadata": {},
   "outputs": [],
   "source": [
    "mpts_cry = mpts[[\"material_id\", \"cif\"]]"
   ]
  },
  {
   "cell_type": "code",
   "execution_count": 33,
   "metadata": {},
   "outputs": [
    {
     "name": "stderr",
     "output_type": "stream",
     "text": [
      "C:\\Users\\user\\AppData\\Local\\Temp\\ipykernel_15744\\4020229141.py:1: SettingWithCopyWarning: \n",
      "A value is trying to be set on a copy of a slice from a DataFrame.\n",
      "Try using .loc[row_indexer,col_indexer] = value instead\n",
      "\n",
      "See the caveats in the documentation: https://pandas.pydata.org/pandas-docs/stable/user_guide/indexing.html#returning-a-view-versus-a-copy\n",
      "  mpts_cry['ref'] = 'mpts_52'\n"
     ]
    },
    {
     "data": {
      "text/html": [
       "<div>\n",
       "<style scoped>\n",
       "    .dataframe tbody tr th:only-of-type {\n",
       "        vertical-align: middle;\n",
       "    }\n",
       "\n",
       "    .dataframe tbody tr th {\n",
       "        vertical-align: top;\n",
       "    }\n",
       "\n",
       "    .dataframe thead th {\n",
       "        text-align: right;\n",
       "    }\n",
       "</style>\n",
       "<table border=\"1\" class=\"dataframe\">\n",
       "  <thead>\n",
       "    <tr style=\"text-align: right;\">\n",
       "      <th></th>\n",
       "      <th>material_id</th>\n",
       "      <th>cif</th>\n",
       "      <th>ref</th>\n",
       "    </tr>\n",
       "  </thead>\n",
       "  <tbody>\n",
       "    <tr>\n",
       "      <th>0</th>\n",
       "      <td>mp-66</td>\n",
       "      <td># generated using pymatgen\\ndata_C\\n_symmetry_...</td>\n",
       "      <td>mpts_52</td>\n",
       "    </tr>\n",
       "    <tr>\n",
       "      <th>1</th>\n",
       "      <td>mp-22862</td>\n",
       "      <td># generated using pymatgen\\ndata_NaCl\\n_symmet...</td>\n",
       "      <td>mpts_52</td>\n",
       "    </tr>\n",
       "    <tr>\n",
       "      <th>2</th>\n",
       "      <td>mp-30</td>\n",
       "      <td># generated using pymatgen\\ndata_Cu\\n_symmetry...</td>\n",
       "      <td>mpts_52</td>\n",
       "    </tr>\n",
       "    <tr>\n",
       "      <th>3</th>\n",
       "      <td>mp-2741</td>\n",
       "      <td># generated using pymatgen\\ndata_CaF2\\n_symmet...</td>\n",
       "      <td>mpts_52</td>\n",
       "    </tr>\n",
       "    <tr>\n",
       "      <th>4</th>\n",
       "      <td>mp-1455</td>\n",
       "      <td># generated using pymatgen\\ndata_MnS2\\n_symmet...</td>\n",
       "      <td>mpts_52</td>\n",
       "    </tr>\n",
       "    <tr>\n",
       "      <th>...</th>\n",
       "      <td>...</td>\n",
       "      <td>...</td>\n",
       "      <td>...</td>\n",
       "    </tr>\n",
       "    <tr>\n",
       "      <th>40471</th>\n",
       "      <td>mp-11924</td>\n",
       "      <td># generated using pymatgen\\ndata_Rb2TaCuSe4\\n_...</td>\n",
       "      <td>mpts_52</td>\n",
       "    </tr>\n",
       "    <tr>\n",
       "      <th>40472</th>\n",
       "      <td>mp-11775</td>\n",
       "      <td># generated using pymatgen\\ndata_RbUO3\\n_symme...</td>\n",
       "      <td>mpts_52</td>\n",
       "    </tr>\n",
       "    <tr>\n",
       "      <th>40473</th>\n",
       "      <td>mp-31118</td>\n",
       "      <td># generated using pymatgen\\ndata_SmScO3\\n_symm...</td>\n",
       "      <td>mpts_52</td>\n",
       "    </tr>\n",
       "    <tr>\n",
       "      <th>40474</th>\n",
       "      <td>mp-11778</td>\n",
       "      <td># generated using pymatgen\\ndata_ThMnSe3\\n_sym...</td>\n",
       "      <td>mpts_52</td>\n",
       "    </tr>\n",
       "    <tr>\n",
       "      <th>40475</th>\n",
       "      <td>mp-11784</td>\n",
       "      <td># generated using pymatgen\\ndata_LaYbSe3\\n_sym...</td>\n",
       "      <td>mpts_52</td>\n",
       "    </tr>\n",
       "  </tbody>\n",
       "</table>\n",
       "<p>40476 rows × 3 columns</p>\n",
       "</div>"
      ],
      "text/plain": [
       "      material_id                                                cif      ref\n",
       "0           mp-66  # generated using pymatgen\\ndata_C\\n_symmetry_...  mpts_52\n",
       "1        mp-22862  # generated using pymatgen\\ndata_NaCl\\n_symmet...  mpts_52\n",
       "2           mp-30  # generated using pymatgen\\ndata_Cu\\n_symmetry...  mpts_52\n",
       "3         mp-2741  # generated using pymatgen\\ndata_CaF2\\n_symmet...  mpts_52\n",
       "4         mp-1455  # generated using pymatgen\\ndata_MnS2\\n_symmet...  mpts_52\n",
       "...           ...                                                ...      ...\n",
       "40471    mp-11924  # generated using pymatgen\\ndata_Rb2TaCuSe4\\n_...  mpts_52\n",
       "40472    mp-11775  # generated using pymatgen\\ndata_RbUO3\\n_symme...  mpts_52\n",
       "40473    mp-31118  # generated using pymatgen\\ndata_SmScO3\\n_symm...  mpts_52\n",
       "40474    mp-11778  # generated using pymatgen\\ndata_ThMnSe3\\n_sym...  mpts_52\n",
       "40475    mp-11784  # generated using pymatgen\\ndata_LaYbSe3\\n_sym...  mpts_52\n",
       "\n",
       "[40476 rows x 3 columns]"
      ]
     },
     "execution_count": 33,
     "metadata": {},
     "output_type": "execute_result"
    }
   ],
   "source": [
    "mpts_cry['ref'] = 'mpts_52'\n",
    "mpts_cry"
   ]
  },
  {
   "cell_type": "markdown",
   "metadata": {},
   "source": [
    "### mp_20 -> mp_cry"
   ]
  },
  {
   "cell_type": "code",
   "execution_count": 35,
   "metadata": {},
   "outputs": [
    {
     "name": "stderr",
     "output_type": "stream",
     "text": [
      "C:\\Users\\user\\AppData\\Local\\Temp\\ipykernel_15744\\3588085306.py:2: SettingWithCopyWarning: \n",
      "A value is trying to be set on a copy of a slice from a DataFrame.\n",
      "Try using .loc[row_indexer,col_indexer] = value instead\n",
      "\n",
      "See the caveats in the documentation: https://pandas.pydata.org/pandas-docs/stable/user_guide/indexing.html#returning-a-view-versus-a-copy\n",
      "  mp_cry['ref'] = 'mp_20'\n"
     ]
    },
    {
     "data": {
      "text/html": [
       "<div>\n",
       "<style scoped>\n",
       "    .dataframe tbody tr th:only-of-type {\n",
       "        vertical-align: middle;\n",
       "    }\n",
       "\n",
       "    .dataframe tbody tr th {\n",
       "        vertical-align: top;\n",
       "    }\n",
       "\n",
       "    .dataframe thead th {\n",
       "        text-align: right;\n",
       "    }\n",
       "</style>\n",
       "<table border=\"1\" class=\"dataframe\">\n",
       "  <thead>\n",
       "    <tr style=\"text-align: right;\">\n",
       "      <th></th>\n",
       "      <th>material_id</th>\n",
       "      <th>cif</th>\n",
       "      <th>ref</th>\n",
       "    </tr>\n",
       "  </thead>\n",
       "  <tbody>\n",
       "    <tr>\n",
       "      <th>0</th>\n",
       "      <td>mp-1221227</td>\n",
       "      <td># generated using pymatgen\\ndata_Na3MnCoNiO6\\n...</td>\n",
       "      <td>mp_20</td>\n",
       "    </tr>\n",
       "    <tr>\n",
       "      <th>1</th>\n",
       "      <td>mp-974729</td>\n",
       "      <td># generated using pymatgen\\ndata_Nd(Al2Cu)4\\n_...</td>\n",
       "      <td>mp_20</td>\n",
       "    </tr>\n",
       "    <tr>\n",
       "      <th>2</th>\n",
       "      <td>mp-1185360</td>\n",
       "      <td># generated using pymatgen\\ndata_LiMnIr2\\n_sym...</td>\n",
       "      <td>mp_20</td>\n",
       "    </tr>\n",
       "    <tr>\n",
       "      <th>3</th>\n",
       "      <td>mp-1188861</td>\n",
       "      <td># generated using pymatgen\\ndata_LiCSN\\n_symme...</td>\n",
       "      <td>mp_20</td>\n",
       "    </tr>\n",
       "    <tr>\n",
       "      <th>4</th>\n",
       "      <td>mp-677272</td>\n",
       "      <td># generated using pymatgen\\ndata_La2EuS4\\n_sym...</td>\n",
       "      <td>mp_20</td>\n",
       "    </tr>\n",
       "    <tr>\n",
       "      <th>...</th>\n",
       "      <td>...</td>\n",
       "      <td>...</td>\n",
       "      <td>...</td>\n",
       "    </tr>\n",
       "    <tr>\n",
       "      <th>45224</th>\n",
       "      <td>mp-1023925</td>\n",
       "      <td># generated using pymatgen\\ndata_WS2\\n_symmetr...</td>\n",
       "      <td>mp_20</td>\n",
       "    </tr>\n",
       "    <tr>\n",
       "      <th>45225</th>\n",
       "      <td>mp-1187764</td>\n",
       "      <td># generated using pymatgen\\ndata_Y2ZnPt\\n_symm...</td>\n",
       "      <td>mp_20</td>\n",
       "    </tr>\n",
       "    <tr>\n",
       "      <th>45226</th>\n",
       "      <td>mp-1219588</td>\n",
       "      <td># generated using pymatgen\\ndata_RbMgCoF6\\n_sy...</td>\n",
       "      <td>mp_20</td>\n",
       "    </tr>\n",
       "    <tr>\n",
       "      <th>45227</th>\n",
       "      <td>mp-3589</td>\n",
       "      <td># generated using pymatgen\\ndata_BPO4\\n_symmet...</td>\n",
       "      <td>mp_20</td>\n",
       "    </tr>\n",
       "    <tr>\n",
       "      <th>45228</th>\n",
       "      <td>mp-1518304</td>\n",
       "      <td># generated using pymatgen\\ndata_BaSrDyNbO6\\n_...</td>\n",
       "      <td>mp_20</td>\n",
       "    </tr>\n",
       "  </tbody>\n",
       "</table>\n",
       "<p>45229 rows × 3 columns</p>\n",
       "</div>"
      ],
      "text/plain": [
       "      material_id                                                cif    ref\n",
       "0      mp-1221227  # generated using pymatgen\\ndata_Na3MnCoNiO6\\n...  mp_20\n",
       "1       mp-974729  # generated using pymatgen\\ndata_Nd(Al2Cu)4\\n_...  mp_20\n",
       "2      mp-1185360  # generated using pymatgen\\ndata_LiMnIr2\\n_sym...  mp_20\n",
       "3      mp-1188861  # generated using pymatgen\\ndata_LiCSN\\n_symme...  mp_20\n",
       "4       mp-677272  # generated using pymatgen\\ndata_La2EuS4\\n_sym...  mp_20\n",
       "...           ...                                                ...    ...\n",
       "45224  mp-1023925  # generated using pymatgen\\ndata_WS2\\n_symmetr...  mp_20\n",
       "45225  mp-1187764  # generated using pymatgen\\ndata_Y2ZnPt\\n_symm...  mp_20\n",
       "45226  mp-1219588  # generated using pymatgen\\ndata_RbMgCoF6\\n_sy...  mp_20\n",
       "45227     mp-3589  # generated using pymatgen\\ndata_BPO4\\n_symmet...  mp_20\n",
       "45228  mp-1518304  # generated using pymatgen\\ndata_BaSrDyNbO6\\n_...  mp_20\n",
       "\n",
       "[45229 rows x 3 columns]"
      ]
     },
     "execution_count": 35,
     "metadata": {},
     "output_type": "execute_result"
    }
   ],
   "source": [
    "mp_cry = mp[['material_id', \"cif\"]]\n",
    "mp_cry['ref'] = 'mp_20'\n",
    "mp_cry"
   ]
  },
  {
   "cell_type": "markdown",
   "metadata": {},
   "source": [
    "### carbon_24 -> carbon_cry"
   ]
  },
  {
   "cell_type": "code",
   "execution_count": 36,
   "metadata": {},
   "outputs": [],
   "source": [
    "carbon_cry = carbon.drop([\"energy_per_atom\", 'Unnamed: 0'], axis=1)"
   ]
  },
  {
   "cell_type": "code",
   "execution_count": 37,
   "metadata": {},
   "outputs": [
    {
     "data": {
      "text/html": [
       "<div>\n",
       "<style scoped>\n",
       "    .dataframe tbody tr th:only-of-type {\n",
       "        vertical-align: middle;\n",
       "    }\n",
       "\n",
       "    .dataframe tbody tr th {\n",
       "        vertical-align: top;\n",
       "    }\n",
       "\n",
       "    .dataframe thead th {\n",
       "        text-align: right;\n",
       "    }\n",
       "</style>\n",
       "<table border=\"1\" class=\"dataframe\">\n",
       "  <thead>\n",
       "    <tr style=\"text-align: right;\">\n",
       "      <th></th>\n",
       "      <th>material_id</th>\n",
       "      <th>cif</th>\n",
       "      <th>ref</th>\n",
       "    </tr>\n",
       "  </thead>\n",
       "  <tbody>\n",
       "    <tr>\n",
       "      <th>0</th>\n",
       "      <td>C-130499-1826-36</td>\n",
       "      <td># generated using pymatgen\\ndata_C\\n_symmetry_...</td>\n",
       "      <td>carbon_24</td>\n",
       "    </tr>\n",
       "    <tr>\n",
       "      <th>1</th>\n",
       "      <td>C-13904-4247-31</td>\n",
       "      <td># generated using pymatgen\\ndata_C\\n_symmetry_...</td>\n",
       "      <td>carbon_24</td>\n",
       "    </tr>\n",
       "    <tr>\n",
       "      <th>2</th>\n",
       "      <td>C-92138-4782-35</td>\n",
       "      <td># generated using pymatgen\\ndata_C\\n_symmetry_...</td>\n",
       "      <td>carbon_24</td>\n",
       "    </tr>\n",
       "    <tr>\n",
       "      <th>3</th>\n",
       "      <td>C-192672-505-73</td>\n",
       "      <td># generated using pymatgen\\ndata_C\\n_symmetry_...</td>\n",
       "      <td>carbon_24</td>\n",
       "    </tr>\n",
       "    <tr>\n",
       "      <th>4</th>\n",
       "      <td>C-193956-5355-22</td>\n",
       "      <td># generated using pymatgen\\ndata_C\\n_symmetry_...</td>\n",
       "      <td>carbon_24</td>\n",
       "    </tr>\n",
       "    <tr>\n",
       "      <th>...</th>\n",
       "      <td>...</td>\n",
       "      <td>...</td>\n",
       "      <td>...</td>\n",
       "    </tr>\n",
       "    <tr>\n",
       "      <th>10148</th>\n",
       "      <td>C-193926-6320-8</td>\n",
       "      <td># generated using pymatgen\\ndata_C\\n_symmetry_...</td>\n",
       "      <td>carbon_24</td>\n",
       "    </tr>\n",
       "    <tr>\n",
       "      <th>10149</th>\n",
       "      <td>C-13665-1988-16</td>\n",
       "      <td># generated using pymatgen\\ndata_C\\n_symmetry_...</td>\n",
       "      <td>carbon_24</td>\n",
       "    </tr>\n",
       "    <tr>\n",
       "      <th>10150</th>\n",
       "      <td>C-142855-9438-3</td>\n",
       "      <td># generated using pymatgen\\ndata_C\\n_symmetry_...</td>\n",
       "      <td>carbon_24</td>\n",
       "    </tr>\n",
       "    <tr>\n",
       "      <th>10151</th>\n",
       "      <td>C-13640-2755-30</td>\n",
       "      <td># generated using pymatgen\\ndata_C\\n_symmetry_...</td>\n",
       "      <td>carbon_24</td>\n",
       "    </tr>\n",
       "    <tr>\n",
       "      <th>10152</th>\n",
       "      <td>C-126149-3704-40</td>\n",
       "      <td># generated using pymatgen\\ndata_C\\n_symmetry_...</td>\n",
       "      <td>carbon_24</td>\n",
       "    </tr>\n",
       "  </tbody>\n",
       "</table>\n",
       "<p>10153 rows × 3 columns</p>\n",
       "</div>"
      ],
      "text/plain": [
       "            material_id                                                cif  \\\n",
       "0      C-130499-1826-36  # generated using pymatgen\\ndata_C\\n_symmetry_...   \n",
       "1       C-13904-4247-31  # generated using pymatgen\\ndata_C\\n_symmetry_...   \n",
       "2       C-92138-4782-35  # generated using pymatgen\\ndata_C\\n_symmetry_...   \n",
       "3       C-192672-505-73  # generated using pymatgen\\ndata_C\\n_symmetry_...   \n",
       "4      C-193956-5355-22  # generated using pymatgen\\ndata_C\\n_symmetry_...   \n",
       "...                 ...                                                ...   \n",
       "10148   C-193926-6320-8  # generated using pymatgen\\ndata_C\\n_symmetry_...   \n",
       "10149   C-13665-1988-16  # generated using pymatgen\\ndata_C\\n_symmetry_...   \n",
       "10150   C-142855-9438-3  # generated using pymatgen\\ndata_C\\n_symmetry_...   \n",
       "10151   C-13640-2755-30  # generated using pymatgen\\ndata_C\\n_symmetry_...   \n",
       "10152  C-126149-3704-40  # generated using pymatgen\\ndata_C\\n_symmetry_...   \n",
       "\n",
       "             ref  \n",
       "0      carbon_24  \n",
       "1      carbon_24  \n",
       "2      carbon_24  \n",
       "3      carbon_24  \n",
       "4      carbon_24  \n",
       "...          ...  \n",
       "10148  carbon_24  \n",
       "10149  carbon_24  \n",
       "10150  carbon_24  \n",
       "10151  carbon_24  \n",
       "10152  carbon_24  \n",
       "\n",
       "[10153 rows x 3 columns]"
      ]
     },
     "execution_count": 37,
     "metadata": {},
     "output_type": "execute_result"
    }
   ],
   "source": [
    "carbon_cry['ref'] = 'carbon_24'\n",
    "carbon_cry"
   ]
  },
  {
   "cell_type": "markdown",
   "metadata": {},
   "source": [
    "### alexandria_pbe -> alex_pbe_cry"
   ]
  },
  {
   "cell_type": "code",
   "execution_count": 38,
   "metadata": {},
   "outputs": [],
   "source": [
    "alex_pbe_cry = alex_pbe[[\"mat_id\", \"cif\"]]"
   ]
  },
  {
   "cell_type": "code",
   "execution_count": 39,
   "metadata": {},
   "outputs": [],
   "source": [
    "alex_pbe_cry.columns = [\"material_id\", \"cif\"]"
   ]
  },
  {
   "cell_type": "code",
   "execution_count": 40,
   "metadata": {},
   "outputs": [
    {
     "name": "stderr",
     "output_type": "stream",
     "text": [
      "C:\\Users\\user\\AppData\\Local\\Temp\\ipykernel_15744\\496001735.py:1: SettingWithCopyWarning: \n",
      "A value is trying to be set on a copy of a slice from a DataFrame.\n",
      "Try using .loc[row_indexer,col_indexer] = value instead\n",
      "\n",
      "See the caveats in the documentation: https://pandas.pydata.org/pandas-docs/stable/user_guide/indexing.html#returning-a-view-versus-a-copy\n",
      "  alex_pbe_cry['ref'] = 'alex_pbe'\n"
     ]
    },
    {
     "data": {
      "text/html": [
       "<div>\n",
       "<style scoped>\n",
       "    .dataframe tbody tr th:only-of-type {\n",
       "        vertical-align: middle;\n",
       "    }\n",
       "\n",
       "    .dataframe tbody tr th {\n",
       "        vertical-align: top;\n",
       "    }\n",
       "\n",
       "    .dataframe thead th {\n",
       "        text-align: right;\n",
       "    }\n",
       "</style>\n",
       "<table border=\"1\" class=\"dataframe\">\n",
       "  <thead>\n",
       "    <tr style=\"text-align: right;\">\n",
       "      <th></th>\n",
       "      <th>material_id</th>\n",
       "      <th>cif</th>\n",
       "      <th>ref</th>\n",
       "    </tr>\n",
       "  </thead>\n",
       "  <tbody>\n",
       "    <tr>\n",
       "      <th>0</th>\n",
       "      <td>agm048224876</td>\n",
       "      <td># generated using pymatgen\\ndata_Al4IrRu3\\n_sy...</td>\n",
       "      <td>alex_pbe</td>\n",
       "    </tr>\n",
       "    <tr>\n",
       "      <th>1</th>\n",
       "      <td>agm002302240</td>\n",
       "      <td># generated using pymatgen\\ndata_EuAgTeO\\n_sym...</td>\n",
       "      <td>alex_pbe</td>\n",
       "    </tr>\n",
       "    <tr>\n",
       "      <th>2</th>\n",
       "      <td>agm003161479</td>\n",
       "      <td># generated using pymatgen\\ndata_CaTlAg\\n_symm...</td>\n",
       "      <td>alex_pbe</td>\n",
       "    </tr>\n",
       "    <tr>\n",
       "      <th>3</th>\n",
       "      <td>agm003330027</td>\n",
       "      <td># generated using pymatgen\\ndata_Tm3Ge3Ir2\\n_s...</td>\n",
       "      <td>alex_pbe</td>\n",
       "    </tr>\n",
       "    <tr>\n",
       "      <th>4</th>\n",
       "      <td>agm002198109</td>\n",
       "      <td># generated using pymatgen\\ndata_EuAl4Pd\\n_sym...</td>\n",
       "      <td>alex_pbe</td>\n",
       "    </tr>\n",
       "    <tr>\n",
       "      <th>...</th>\n",
       "      <td>...</td>\n",
       "      <td>...</td>\n",
       "      <td>...</td>\n",
       "    </tr>\n",
       "    <tr>\n",
       "      <th>144646</th>\n",
       "      <td>agm005618834</td>\n",
       "      <td># generated using pymatgen\\ndata_Sm3Ga2Ir7\\n_s...</td>\n",
       "      <td>alex_pbe</td>\n",
       "    </tr>\n",
       "    <tr>\n",
       "      <th>144647</th>\n",
       "      <td>agm003208591</td>\n",
       "      <td># generated using pymatgen\\ndata_Li(Fe3Ge2)2\\n...</td>\n",
       "      <td>alex_pbe</td>\n",
       "    </tr>\n",
       "    <tr>\n",
       "      <th>144648</th>\n",
       "      <td>agm005866520</td>\n",
       "      <td># generated using pymatgen\\ndata_Nb12Sn3W\\n_sy...</td>\n",
       "      <td>alex_pbe</td>\n",
       "    </tr>\n",
       "    <tr>\n",
       "      <th>144649</th>\n",
       "      <td>agm003157526</td>\n",
       "      <td># generated using pymatgen\\ndata_CeP\\n_symmetr...</td>\n",
       "      <td>alex_pbe</td>\n",
       "    </tr>\n",
       "    <tr>\n",
       "      <th>144650</th>\n",
       "      <td>agm006582485</td>\n",
       "      <td># generated using pymatgen\\ndata_Ca2H5Pt2\\n_sy...</td>\n",
       "      <td>alex_pbe</td>\n",
       "    </tr>\n",
       "  </tbody>\n",
       "</table>\n",
       "<p>144651 rows × 3 columns</p>\n",
       "</div>"
      ],
      "text/plain": [
       "         material_id                                                cif  \\\n",
       "0       agm048224876  # generated using pymatgen\\ndata_Al4IrRu3\\n_sy...   \n",
       "1       agm002302240  # generated using pymatgen\\ndata_EuAgTeO\\n_sym...   \n",
       "2       agm003161479  # generated using pymatgen\\ndata_CaTlAg\\n_symm...   \n",
       "3       agm003330027  # generated using pymatgen\\ndata_Tm3Ge3Ir2\\n_s...   \n",
       "4       agm002198109  # generated using pymatgen\\ndata_EuAl4Pd\\n_sym...   \n",
       "...              ...                                                ...   \n",
       "144646  agm005618834  # generated using pymatgen\\ndata_Sm3Ga2Ir7\\n_s...   \n",
       "144647  agm003208591  # generated using pymatgen\\ndata_Li(Fe3Ge2)2\\n...   \n",
       "144648  agm005866520  # generated using pymatgen\\ndata_Nb12Sn3W\\n_sy...   \n",
       "144649  agm003157526  # generated using pymatgen\\ndata_CeP\\n_symmetr...   \n",
       "144650  agm006582485  # generated using pymatgen\\ndata_Ca2H5Pt2\\n_sy...   \n",
       "\n",
       "             ref  \n",
       "0       alex_pbe  \n",
       "1       alex_pbe  \n",
       "2       alex_pbe  \n",
       "3       alex_pbe  \n",
       "4       alex_pbe  \n",
       "...          ...  \n",
       "144646  alex_pbe  \n",
       "144647  alex_pbe  \n",
       "144648  alex_pbe  \n",
       "144649  alex_pbe  \n",
       "144650  alex_pbe  \n",
       "\n",
       "[144651 rows x 3 columns]"
      ]
     },
     "execution_count": 40,
     "metadata": {},
     "output_type": "execute_result"
    }
   ],
   "source": [
    "alex_pbe_cry['ref'] = 'alex_pbe'\n",
    "alex_pbe_cry"
   ]
  },
  {
   "cell_type": "markdown",
   "metadata": {},
   "source": [
    "### perov_5 -> perov_cry"
   ]
  },
  {
   "cell_type": "code",
   "execution_count": 41,
   "metadata": {},
   "outputs": [],
   "source": [
    "perov_cry = perov[[\"material_id\", \"cif\"]]"
   ]
  },
  {
   "cell_type": "markdown",
   "metadata": {},
   "source": [
    "for understand diff between Jarvis and perov_5 datasets let's add prefix 'p-' for perov srtuctures"
   ]
  },
  {
   "cell_type": "code",
   "execution_count": 42,
   "metadata": {},
   "outputs": [
    {
     "name": "stderr",
     "output_type": "stream",
     "text": [
      "C:\\Users\\user\\AppData\\Local\\Temp\\ipykernel_15744\\2236623699.py:1: SettingWithCopyWarning: \n",
      "A value is trying to be set on a copy of a slice from a DataFrame.\n",
      "Try using .loc[row_indexer,col_indexer] = value instead\n",
      "\n",
      "See the caveats in the documentation: https://pandas.pydata.org/pandas-docs/stable/user_guide/indexing.html#returning-a-view-versus-a-copy\n",
      "  perov_cry['material_id'] = 'p-' + perov_cry['material_id'].astype(str)\n"
     ]
    }
   ],
   "source": [
    "perov_cry['material_id'] = 'p-' + perov_cry['material_id'].astype(str)"
   ]
  },
  {
   "cell_type": "code",
   "execution_count": 43,
   "metadata": {},
   "outputs": [
    {
     "name": "stderr",
     "output_type": "stream",
     "text": [
      "C:\\Users\\user\\AppData\\Local\\Temp\\ipykernel_15744\\1754439102.py:1: SettingWithCopyWarning: \n",
      "A value is trying to be set on a copy of a slice from a DataFrame.\n",
      "Try using .loc[row_indexer,col_indexer] = value instead\n",
      "\n",
      "See the caveats in the documentation: https://pandas.pydata.org/pandas-docs/stable/user_guide/indexing.html#returning-a-view-versus-a-copy\n",
      "  perov_cry['ref'] = 'perov_5'\n"
     ]
    },
    {
     "data": {
      "text/html": [
       "<div>\n",
       "<style scoped>\n",
       "    .dataframe tbody tr th:only-of-type {\n",
       "        vertical-align: middle;\n",
       "    }\n",
       "\n",
       "    .dataframe tbody tr th {\n",
       "        vertical-align: top;\n",
       "    }\n",
       "\n",
       "    .dataframe thead th {\n",
       "        text-align: right;\n",
       "    }\n",
       "</style>\n",
       "<table border=\"1\" class=\"dataframe\">\n",
       "  <thead>\n",
       "    <tr style=\"text-align: right;\">\n",
       "      <th></th>\n",
       "      <th>material_id</th>\n",
       "      <th>cif</th>\n",
       "      <th>ref</th>\n",
       "    </tr>\n",
       "  </thead>\n",
       "  <tbody>\n",
       "    <tr>\n",
       "      <th>0</th>\n",
       "      <td>p-6334</td>\n",
       "      <td># generated using pymatgen\\ndata_TlCoN2O\\n_sym...</td>\n",
       "      <td>perov_5</td>\n",
       "    </tr>\n",
       "    <tr>\n",
       "      <th>1</th>\n",
       "      <td>p-17313</td>\n",
       "      <td># generated using pymatgen\\ndata_CrTeN3\\n_symm...</td>\n",
       "      <td>perov_5</td>\n",
       "    </tr>\n",
       "    <tr>\n",
       "      <th>2</th>\n",
       "      <td>p-6840</td>\n",
       "      <td># generated using pymatgen\\ndata_SbTeN2O\\n_sym...</td>\n",
       "      <td>perov_5</td>\n",
       "    </tr>\n",
       "    <tr>\n",
       "      <th>3</th>\n",
       "      <td>p-11379</td>\n",
       "      <td># generated using pymatgen\\ndata_NiPtO2F\\n_sym...</td>\n",
       "      <td>perov_5</td>\n",
       "    </tr>\n",
       "    <tr>\n",
       "      <th>4</th>\n",
       "      <td>p-16590</td>\n",
       "      <td># generated using pymatgen\\ndata_YGeN3\\n_symme...</td>\n",
       "      <td>perov_5</td>\n",
       "    </tr>\n",
       "    <tr>\n",
       "      <th>...</th>\n",
       "      <td>...</td>\n",
       "      <td>...</td>\n",
       "      <td>...</td>\n",
       "    </tr>\n",
       "    <tr>\n",
       "      <th>18923</th>\n",
       "      <td>p-6452</td>\n",
       "      <td># generated using pymatgen\\ndata_CsNbN2O\\n_sym...</td>\n",
       "      <td>perov_5</td>\n",
       "    </tr>\n",
       "    <tr>\n",
       "      <th>18924</th>\n",
       "      <td>p-7673</td>\n",
       "      <td># generated using pymatgen\\ndata_FePbN2O\\n_sym...</td>\n",
       "      <td>perov_5</td>\n",
       "    </tr>\n",
       "    <tr>\n",
       "      <th>18925</th>\n",
       "      <td>p-819</td>\n",
       "      <td># generated using pymatgen\\ndata_NaGeNO2\\n_sym...</td>\n",
       "      <td>perov_5</td>\n",
       "    </tr>\n",
       "    <tr>\n",
       "      <th>18926</th>\n",
       "      <td>p-11261</td>\n",
       "      <td># generated using pymatgen\\ndata_TeAuO2F\\n_sym...</td>\n",
       "      <td>perov_5</td>\n",
       "    </tr>\n",
       "    <tr>\n",
       "      <th>18927</th>\n",
       "      <td>p-9424</td>\n",
       "      <td># generated using pymatgen\\ndata_CdReSO2\\n_sym...</td>\n",
       "      <td>perov_5</td>\n",
       "    </tr>\n",
       "  </tbody>\n",
       "</table>\n",
       "<p>18928 rows × 3 columns</p>\n",
       "</div>"
      ],
      "text/plain": [
       "      material_id                                                cif      ref\n",
       "0          p-6334  # generated using pymatgen\\ndata_TlCoN2O\\n_sym...  perov_5\n",
       "1         p-17313  # generated using pymatgen\\ndata_CrTeN3\\n_symm...  perov_5\n",
       "2          p-6840  # generated using pymatgen\\ndata_SbTeN2O\\n_sym...  perov_5\n",
       "3         p-11379  # generated using pymatgen\\ndata_NiPtO2F\\n_sym...  perov_5\n",
       "4         p-16590  # generated using pymatgen\\ndata_YGeN3\\n_symme...  perov_5\n",
       "...           ...                                                ...      ...\n",
       "18923      p-6452  # generated using pymatgen\\ndata_CsNbN2O\\n_sym...  perov_5\n",
       "18924      p-7673  # generated using pymatgen\\ndata_FePbN2O\\n_sym...  perov_5\n",
       "18925       p-819  # generated using pymatgen\\ndata_NaGeNO2\\n_sym...  perov_5\n",
       "18926     p-11261  # generated using pymatgen\\ndata_TeAuO2F\\n_sym...  perov_5\n",
       "18927      p-9424  # generated using pymatgen\\ndata_CdReSO2\\n_sym...  perov_5\n",
       "\n",
       "[18928 rows x 3 columns]"
      ]
     },
     "execution_count": 43,
     "metadata": {},
     "output_type": "execute_result"
    }
   ],
   "source": [
    "perov_cry['ref'] = 'perov_5'\n",
    "perov_cry"
   ]
  },
  {
   "cell_type": "markdown",
   "metadata": {},
   "source": [
    "### concat"
   ]
  },
  {
   "cell_type": "code",
   "execution_count": 44,
   "metadata": {},
   "outputs": [],
   "source": [
    "genCry = pd.concat([mp_cry, mpts_cry, jarvis_cry, alex_pbe_cry, carbon_cry, perov_cry], ignore_index=True)"
   ]
  },
  {
   "cell_type": "markdown",
   "metadata": {},
   "source": [
    "Jarvis, mp_20 and mpts_52 have crystalls from material project, so necessary to drop duplicates of this structures"
   ]
  },
  {
   "cell_type": "code",
   "execution_count": 45,
   "metadata": {},
   "outputs": [],
   "source": [
    "genCry = genCry.drop_duplicates(subset=['material_id', 'cif'])"
   ]
  },
  {
   "cell_type": "code",
   "execution_count": 46,
   "metadata": {},
   "outputs": [
    {
     "data": {
      "text/html": [
       "<div>\n",
       "<style scoped>\n",
       "    .dataframe tbody tr th:only-of-type {\n",
       "        vertical-align: middle;\n",
       "    }\n",
       "\n",
       "    .dataframe tbody tr th {\n",
       "        vertical-align: top;\n",
       "    }\n",
       "\n",
       "    .dataframe thead th {\n",
       "        text-align: right;\n",
       "    }\n",
       "</style>\n",
       "<table border=\"1\" class=\"dataframe\">\n",
       "  <thead>\n",
       "    <tr style=\"text-align: right;\">\n",
       "      <th></th>\n",
       "      <th>material_id</th>\n",
       "      <th>cif</th>\n",
       "      <th>ref</th>\n",
       "    </tr>\n",
       "  </thead>\n",
       "  <tbody>\n",
       "    <tr>\n",
       "      <th>0</th>\n",
       "      <td>mp-1221227</td>\n",
       "      <td># generated using pymatgen\\ndata_Na3MnCoNiO6\\n...</td>\n",
       "      <td>mp_20</td>\n",
       "    </tr>\n",
       "    <tr>\n",
       "      <th>1</th>\n",
       "      <td>mp-974729</td>\n",
       "      <td># generated using pymatgen\\ndata_Nd(Al2Cu)4\\n_...</td>\n",
       "      <td>mp_20</td>\n",
       "    </tr>\n",
       "    <tr>\n",
       "      <th>2</th>\n",
       "      <td>mp-1185360</td>\n",
       "      <td># generated using pymatgen\\ndata_LiMnIr2\\n_sym...</td>\n",
       "      <td>mp_20</td>\n",
       "    </tr>\n",
       "    <tr>\n",
       "      <th>3</th>\n",
       "      <td>mp-1188861</td>\n",
       "      <td># generated using pymatgen\\ndata_LiCSN\\n_symme...</td>\n",
       "      <td>mp_20</td>\n",
       "    </tr>\n",
       "    <tr>\n",
       "      <th>4</th>\n",
       "      <td>mp-677272</td>\n",
       "      <td># generated using pymatgen\\ndata_La2EuS4\\n_sym...</td>\n",
       "      <td>mp_20</td>\n",
       "    </tr>\n",
       "    <tr>\n",
       "      <th>...</th>\n",
       "      <td>...</td>\n",
       "      <td>...</td>\n",
       "      <td>...</td>\n",
       "    </tr>\n",
       "    <tr>\n",
       "      <th>315444</th>\n",
       "      <td>p-6452</td>\n",
       "      <td># generated using pymatgen\\ndata_CsNbN2O\\n_sym...</td>\n",
       "      <td>perov_5</td>\n",
       "    </tr>\n",
       "    <tr>\n",
       "      <th>315445</th>\n",
       "      <td>p-7673</td>\n",
       "      <td># generated using pymatgen\\ndata_FePbN2O\\n_sym...</td>\n",
       "      <td>perov_5</td>\n",
       "    </tr>\n",
       "    <tr>\n",
       "      <th>315446</th>\n",
       "      <td>p-819</td>\n",
       "      <td># generated using pymatgen\\ndata_NaGeNO2\\n_sym...</td>\n",
       "      <td>perov_5</td>\n",
       "    </tr>\n",
       "    <tr>\n",
       "      <th>315447</th>\n",
       "      <td>p-11261</td>\n",
       "      <td># generated using pymatgen\\ndata_TeAuO2F\\n_sym...</td>\n",
       "      <td>perov_5</td>\n",
       "    </tr>\n",
       "    <tr>\n",
       "      <th>315448</th>\n",
       "      <td>p-9424</td>\n",
       "      <td># generated using pymatgen\\ndata_CdReSO2\\n_sym...</td>\n",
       "      <td>perov_5</td>\n",
       "    </tr>\n",
       "  </tbody>\n",
       "</table>\n",
       "<p>315449 rows × 3 columns</p>\n",
       "</div>"
      ],
      "text/plain": [
       "       material_id                                                cif      ref\n",
       "0       mp-1221227  # generated using pymatgen\\ndata_Na3MnCoNiO6\\n...    mp_20\n",
       "1        mp-974729  # generated using pymatgen\\ndata_Nd(Al2Cu)4\\n_...    mp_20\n",
       "2       mp-1185360  # generated using pymatgen\\ndata_LiMnIr2\\n_sym...    mp_20\n",
       "3       mp-1188861  # generated using pymatgen\\ndata_LiCSN\\n_symme...    mp_20\n",
       "4        mp-677272  # generated using pymatgen\\ndata_La2EuS4\\n_sym...    mp_20\n",
       "...            ...                                                ...      ...\n",
       "315444      p-6452  # generated using pymatgen\\ndata_CsNbN2O\\n_sym...  perov_5\n",
       "315445      p-7673  # generated using pymatgen\\ndata_FePbN2O\\n_sym...  perov_5\n",
       "315446       p-819  # generated using pymatgen\\ndata_NaGeNO2\\n_sym...  perov_5\n",
       "315447     p-11261  # generated using pymatgen\\ndata_TeAuO2F\\n_sym...  perov_5\n",
       "315448      p-9424  # generated using pymatgen\\ndata_CdReSO2\\n_sym...  perov_5\n",
       "\n",
       "[315449 rows x 3 columns]"
      ]
     },
     "execution_count": 46,
     "metadata": {},
     "output_type": "execute_result"
    }
   ],
   "source": [
    "genCry = genCry.reset_index().drop(\"index\", axis=1)\n",
    "genCry"
   ]
  },
  {
   "cell_type": "code",
   "execution_count": 47,
   "metadata": {},
   "outputs": [],
   "source": [
    "genCry.to_csv(\"../data/genCry.csv\")"
   ]
  },
  {
   "cell_type": "markdown",
   "metadata": {},
   "source": [
    "## Val"
   ]
  },
  {
   "cell_type": "code",
   "execution_count": 48,
   "metadata": {},
   "outputs": [],
   "source": [
    "genCry = pd.read_csv(\"../data/genCry.csv\")"
   ]
  },
  {
   "cell_type": "markdown",
   "metadata": {},
   "source": [
    "mpts_cry have some structures with 1-2 atoms and we need to drop it & some cifs can be broken"
   ]
  },
  {
   "cell_type": "code",
   "execution_count": 56,
   "metadata": {},
   "outputs": [],
   "source": [
    "from pymatgen.core.structure import Structure\n",
    "from pymatgen.io.cif import CifParser\n",
    "from io import StringIO\n",
    "from typing import List, Optional\n",
    "\n",
    "def filter_structures_from_dataframe(\n",
    "    dataframe: pd.DataFrame,\n",
    "    cif_column: str = \"cif\",\n",
    "    material_id_column: str = \"material_id\",\n",
    "    ref_column: str = \"ref\",\n",
    "    num_of_atoms: int = 2,\n",
    "    output_file: Optional[str] = None\n",
    ") -> pd.DataFrame:\n",
    "    \"\"\"\n",
    "    Filters structures from a DataFrame containing CIF strings based on the number of atoms.\n",
    "    Returns a new DataFrame with only the structures that have more than the specified number of atoms.\n",
    "\n",
    "    :param dataframe: Input DataFrame containing CIF strings and material IDs.\n",
    "    :param cif_column: Name of the column in the DataFrame that contains the CIF strings. Default is \"cif\".\n",
    "    :param material_id_column: Name of the column in the DataFrame that contains the material IDs. Default is \"material_id\".\n",
    "    :param num_of_atoms: Minimum number of atoms a structure must have to be included in the result. Default is 2.\n",
    "    :param ref_column: Name of the column in the DataFrame that contains reference data. Default is \"ref\".\n",
    "    :param output_file: Path to the file where the filtered DataFrame will be saved. If None, the file is not saved.\n",
    "    :return: A DataFrame containing the filtered structures with their material IDs and CIF strings.\n",
    "    \"\"\"\n",
    "    warnings.filterwarnings(\"ignore\", category=UserWarning)\n",
    "    \n",
    "    filtered_data = []\n",
    "\n",
    "    for index, row in tqdm(dataframe.iterrows(), total=len(dataframe)):\n",
    "        mat_id = row[material_id_column]\n",
    "        cif_string = row[cif_column]\n",
    "        ref = row[ref_column]\n",
    "\n",
    "        try:\n",
    "            # Convert the CIF string into a file-like object for parsing\n",
    "            cif_file_like = StringIO(cif_string)\n",
    "\n",
    "            # Parse the CIF string into a pymatgen Structure object\n",
    "            parser = CifParser(cif_file_like)\n",
    "            structure = parser.get_structures()[0]\n",
    "\n",
    "            # Check if the structure has more than the specified number of atoms\n",
    "            if len(structure) > num_of_atoms:\n",
    "                filtered_data.append({\n",
    "                    material_id_column: mat_id,\n",
    "                    cif_column: cif_string,\n",
    "                    ref_column: ref\n",
    "                })\n",
    "        except Exception as e:\n",
    "            print(f\"Error processing row {index}: {e}\")\n",
    "\n",
    "    filtered_df = pd.DataFrame(filtered_data).reset_index().drop(\"index\", axis=1)\n",
    "    \n",
    "    if output_file:\n",
    "        filtered_df.to_csv(output_file, index=False)\n",
    "        print(f\"Filtered data saved to file: {output_file}\")\n",
    "    \n",
    "    return filtered_df"
   ]
  },
  {
   "cell_type": "code",
   "execution_count": 57,
   "metadata": {},
   "outputs": [
    {
     "name": "stderr",
     "output_type": "stream",
     "text": [
      "  0%|          | 0/315449 [00:00<?, ?it/s]C:\\Users\\user\\AppData\\Local\\Temp\\ipykernel_15744\\2600575588.py:41: FutureWarning: get_structures is deprecated; use parse_structures in pymatgen.io.cif instead.\n",
      "The only difference is that primitive defaults to False in the new parse_structures method.So parse_structures(primitive=True) is equivalent to the old behavior of get_structures().\n",
      "  structure = parser.get_structures()[0]\n",
      " 24%|██▎       | 74315/315449 [04:56<09:28, 424.36it/s]"
     ]
    },
    {
     "name": "stdout",
     "output_type": "stream",
     "text": [
      "Error processing row 74238: Invalid CIF file with no structures!\n"
     ]
    },
    {
     "name": "stderr",
     "output_type": "stream",
     "text": [
      " 31%|███▏      | 98861/315449 [06:03<09:46, 369.02it/s]"
     ]
    },
    {
     "name": "stdout",
     "output_type": "stream",
     "text": [
      "Error processing row 98821: Invalid CIF file with no structures!\n"
     ]
    },
    {
     "name": "stderr",
     "output_type": "stream",
     "text": [
      " 32%|███▏      | 102217/315449 [06:11<08:12, 433.13it/s]"
     ]
    },
    {
     "name": "stdout",
     "output_type": "stream",
     "text": [
      "Error processing row 102157: Invalid CIF file with no structures!\n"
     ]
    },
    {
     "name": "stderr",
     "output_type": "stream",
     "text": [
      " 33%|███▎      | 104257/315449 [06:17<12:09, 289.44it/s]"
     ]
    },
    {
     "name": "stdout",
     "output_type": "stream",
     "text": [
      "Error processing row 104211: Invalid CIF file with no structures!\n"
     ]
    },
    {
     "name": "stderr",
     "output_type": "stream",
     "text": [
      " 34%|███▍      | 107022/315449 [06:27<10:30, 330.67it/s]"
     ]
    },
    {
     "name": "stdout",
     "output_type": "stream",
     "text": [
      "Error processing row 106965: Invalid CIF file with no structures!\n"
     ]
    },
    {
     "name": "stderr",
     "output_type": "stream",
     "text": [
      " 34%|███▍      | 107195/315449 [06:27<10:22, 334.66it/s]"
     ]
    },
    {
     "name": "stdout",
     "output_type": "stream",
     "text": [
      "Error processing row 107160: Invalid CIF file with no structures!\n"
     ]
    },
    {
     "name": "stderr",
     "output_type": "stream",
     "text": [
      " 35%|███▍      | 108931/315449 [06:33<10:55, 314.87it/s]"
     ]
    },
    {
     "name": "stdout",
     "output_type": "stream",
     "text": [
      "Error processing row 108875: Invalid CIF file with no structures!\n"
     ]
    },
    {
     "name": "stderr",
     "output_type": "stream",
     "text": [
      " 39%|███▉      | 122516/315449 [07:14<06:52, 468.21it/s]"
     ]
    },
    {
     "name": "stdout",
     "output_type": "stream",
     "text": [
      "Error processing row 122458: Invalid CIF file with no structures!\n"
     ]
    },
    {
     "name": "stderr",
     "output_type": "stream",
     "text": [
      " 39%|███▉      | 123161/315449 [07:15<06:58, 459.44it/s]"
     ]
    },
    {
     "name": "stdout",
     "output_type": "stream",
     "text": [
      "Error processing row 123100: Invalid CIF file with no structures!\n"
     ]
    },
    {
     "name": "stderr",
     "output_type": "stream",
     "text": [
      " 40%|████      | 127475/315449 [07:27<09:17, 337.23it/s]"
     ]
    },
    {
     "name": "stdout",
     "output_type": "stream",
     "text": [
      "Error processing row 127427: Invalid CIF file with no structures!\n"
     ]
    },
    {
     "name": "stderr",
     "output_type": "stream",
     "text": [
      " 44%|████▎     | 137275/315449 [07:58<09:44, 304.64it/s]"
     ]
    },
    {
     "name": "stdout",
     "output_type": "stream",
     "text": [
      "Error processing row 137235: Invalid CIF file with no structures!\n"
     ]
    },
    {
     "name": "stderr",
     "output_type": "stream",
     "text": [
      " 44%|████▍     | 138468/315449 [08:01<09:38, 305.97it/s]"
     ]
    },
    {
     "name": "stdout",
     "output_type": "stream",
     "text": [
      "Error processing row 138405: Invalid CIF file with no structures!\n"
     ]
    },
    {
     "name": "stderr",
     "output_type": "stream",
     "text": [
      " 44%|████▍     | 138687/315449 [08:02<09:41, 303.77it/s]"
     ]
    },
    {
     "name": "stdout",
     "output_type": "stream",
     "text": [
      "Error processing row 138634: Invalid CIF file with no structures!\n"
     ]
    },
    {
     "name": "stderr",
     "output_type": "stream",
     "text": [
      " 46%|████▌     | 144844/315449 [08:26<11:14, 253.08it/s]"
     ]
    },
    {
     "name": "stdout",
     "output_type": "stream",
     "text": [
      "Error processing row 144825: Invalid CIF file with no structures!\n"
     ]
    },
    {
     "name": "stderr",
     "output_type": "stream",
     "text": [
      " 46%|████▋     | 146576/315449 [08:33<11:12, 251.22it/s]"
     ]
    },
    {
     "name": "stdout",
     "output_type": "stream",
     "text": [
      "Error processing row 146554: Invalid CIF file with no structures!\n"
     ]
    },
    {
     "name": "stderr",
     "output_type": "stream",
     "text": [
      " 47%|████▋     | 146902/315449 [08:34<11:14, 249.86it/s]"
     ]
    },
    {
     "name": "stdout",
     "output_type": "stream",
     "text": [
      "Error processing row 146858: Invalid CIF file with no structures!\n"
     ]
    },
    {
     "name": "stderr",
     "output_type": "stream",
     "text": [
      " 47%|████▋     | 147282/315449 [08:35<11:24, 245.75it/s]"
     ]
    },
    {
     "name": "stdout",
     "output_type": "stream",
     "text": [
      "Error processing row 147244: Invalid CIF file with no structures!\n"
     ]
    },
    {
     "name": "stderr",
     "output_type": "stream",
     "text": [
      " 48%|████▊     | 149938/315449 [08:48<22:07, 124.71it/s]"
     ]
    },
    {
     "name": "stdout",
     "output_type": "stream",
     "text": [
      "Error processing row 149923: Invalid CIF file with no structures!\n"
     ]
    },
    {
     "name": "stderr",
     "output_type": "stream",
     "text": [
      " 48%|████▊     | 151163/315449 [08:53<10:14, 267.29it/s]"
     ]
    },
    {
     "name": "stdout",
     "output_type": "stream",
     "text": [
      "Error processing row 151140: Invalid CIF file with no structures!\n"
     ]
    },
    {
     "name": "stderr",
     "output_type": "stream",
     "text": [
      " 49%|████▊     | 153504/315449 [09:03<13:02, 207.00it/s]"
     ]
    },
    {
     "name": "stdout",
     "output_type": "stream",
     "text": [
      "Error processing row 153482: Invalid CIF file with no structures!\n"
     ]
    },
    {
     "name": "stderr",
     "output_type": "stream",
     "text": [
      " 49%|████▉     | 155461/315449 [09:11<09:31, 279.78it/s]"
     ]
    },
    {
     "name": "stdout",
     "output_type": "stream",
     "text": [
      "Error processing row 155407: Invalid CIF file with no structures!\n"
     ]
    },
    {
     "name": "stderr",
     "output_type": "stream",
     "text": [
      " 50%|█████     | 158497/315449 [09:26<10:28, 249.61it/s]"
     ]
    },
    {
     "name": "stdout",
     "output_type": "stream",
     "text": [
      "Error processing row 158472: Invalid CIF file with no structures!\n"
     ]
    },
    {
     "name": "stderr",
     "output_type": "stream",
     "text": [
      " 51%|█████     | 159988/315449 [09:33<10:37, 243.97it/s]"
     ]
    },
    {
     "name": "stdout",
     "output_type": "stream",
     "text": [
      "Error processing row 159948: Invalid CIF file with no structures!\n"
     ]
    },
    {
     "name": "stderr",
     "output_type": "stream",
     "text": [
      " 51%|█████     | 160992/315449 [09:38<10:25, 246.75it/s]"
     ]
    },
    {
     "name": "stdout",
     "output_type": "stream",
     "text": [
      "Error processing row 160956: Invalid CIF file with no structures!\n"
     ]
    },
    {
     "name": "stderr",
     "output_type": "stream",
     "text": [
      " 52%|█████▏    | 163586/315449 [09:51<13:09, 192.35it/s]"
     ]
    },
    {
     "name": "stdout",
     "output_type": "stream",
     "text": [
      "Error processing row 163546: Invalid CIF file with no structures!\n"
     ]
    },
    {
     "name": "stderr",
     "output_type": "stream",
     "text": [
      " 53%|█████▎    | 166488/315449 [10:03<10:13, 242.99it/s]"
     ]
    },
    {
     "name": "stdout",
     "output_type": "stream",
     "text": [
      "Error processing row 166442: Invalid CIF file with no structures!\n"
     ]
    },
    {
     "name": "stderr",
     "output_type": "stream",
     "text": [
      " 53%|█████▎    | 167059/315449 [10:05<08:27, 292.55it/s]"
     ]
    },
    {
     "name": "stdout",
     "output_type": "stream",
     "text": [
      "Error processing row 167000: Invalid CIF file with no structures!\n"
     ]
    },
    {
     "name": "stderr",
     "output_type": "stream",
     "text": [
      " 53%|█████▎    | 167347/315449 [10:06<08:29, 290.48it/s]"
     ]
    },
    {
     "name": "stdout",
     "output_type": "stream",
     "text": [
      "Error processing row 167294: Invalid CIF file with no structures!\n"
     ]
    },
    {
     "name": "stderr",
     "output_type": "stream",
     "text": [
      " 53%|█████▎    | 167953/315449 [10:08<08:42, 282.23it/s]"
     ]
    },
    {
     "name": "stdout",
     "output_type": "stream",
     "text": [
      "Error processing row 167910: Invalid CIF file with no structures!\n"
     ]
    },
    {
     "name": "stderr",
     "output_type": "stream",
     "text": [
      " 54%|█████▍    | 170080/315449 [10:16<07:50, 309.17it/s]"
     ]
    },
    {
     "name": "stdout",
     "output_type": "stream",
     "text": [
      "Error processing row 170026: Invalid CIF file with no structures!\n"
     ]
    },
    {
     "name": "stderr",
     "output_type": "stream",
     "text": [
      " 55%|█████▌    | 175009/315449 [10:38<12:20, 189.65it/s]"
     ]
    },
    {
     "name": "stdout",
     "output_type": "stream",
     "text": [
      "Error processing row 174977: Invalid CIF file with no structures!\n"
     ]
    },
    {
     "name": "stderr",
     "output_type": "stream",
     "text": [
      " 56%|█████▌    | 176447/315449 [10:46<10:51, 213.44it/s]"
     ]
    },
    {
     "name": "stdout",
     "output_type": "stream",
     "text": [
      "Error processing row 176420: Invalid CIF file with no structures!\n"
     ]
    },
    {
     "name": "stderr",
     "output_type": "stream",
     "text": [
      " 58%|█████▊    | 182187/315449 [11:13<10:30, 211.50it/s]"
     ]
    },
    {
     "name": "stdout",
     "output_type": "stream",
     "text": [
      "Error processing row 182150: Invalid CIF file with no structures!\n"
     ]
    },
    {
     "name": "stderr",
     "output_type": "stream",
     "text": [
      " 58%|█████▊    | 183552/315449 [11:18<07:17, 301.16it/s]"
     ]
    },
    {
     "name": "stdout",
     "output_type": "stream",
     "text": [
      "Error processing row 183491: Invalid CIF file with no structures!\n"
     ]
    },
    {
     "name": "stderr",
     "output_type": "stream",
     "text": [
      " 59%|█████▉    | 185628/315449 [11:26<07:05, 304.85it/s]"
     ]
    },
    {
     "name": "stdout",
     "output_type": "stream",
     "text": [
      "Error processing row 185584: Invalid CIF file with no structures!\n"
     ]
    },
    {
     "name": "stderr",
     "output_type": "stream",
     "text": [
      " 60%|█████▉    | 188653/315449 [11:35<07:46, 271.59it/s]"
     ]
    },
    {
     "name": "stdout",
     "output_type": "stream",
     "text": [
      "Error processing row 188609: Invalid CIF file with no structures!\n"
     ]
    },
    {
     "name": "stderr",
     "output_type": "stream",
     "text": [
      " 61%|██████    | 192696/315449 [11:53<12:19, 165.95it/s]"
     ]
    },
    {
     "name": "stdout",
     "output_type": "stream",
     "text": [
      "Error processing row 192684: Invalid CIF file with no structures!\n"
     ]
    },
    {
     "name": "stderr",
     "output_type": "stream",
     "text": [
      " 61%|██████    | 192915/315449 [11:55<18:08, 112.52it/s]"
     ]
    },
    {
     "name": "stdout",
     "output_type": "stream",
     "text": [
      "Error processing row 192902: Invalid CIF file with no structures!\n"
     ]
    },
    {
     "name": "stderr",
     "output_type": "stream",
     "text": [
      " 61%|██████▏   | 193325/315449 [11:57<08:57, 227.29it/s]"
     ]
    },
    {
     "name": "stdout",
     "output_type": "stream",
     "text": [
      "Error processing row 193308: Invalid CIF file with no structures!\n"
     ]
    },
    {
     "name": "stderr",
     "output_type": "stream",
     "text": [
      " 62%|██████▏   | 195164/315449 [12:06<08:04, 248.05it/s]"
     ]
    },
    {
     "name": "stdout",
     "output_type": "stream",
     "text": [
      "Error processing row 195139: Invalid CIF file with no structures!\n"
     ]
    },
    {
     "name": "stderr",
     "output_type": "stream",
     "text": [
      " 62%|██████▏   | 196357/315449 [12:10<08:31, 233.01it/s]"
     ]
    },
    {
     "name": "stdout",
     "output_type": "stream",
     "text": [
      "Error processing row 196340: Invalid CIF file with no structures!\n"
     ]
    },
    {
     "name": "stderr",
     "output_type": "stream",
     "text": [
      " 63%|██████▎   | 199056/315449 [12:21<08:34, 226.43it/s]"
     ]
    },
    {
     "name": "stdout",
     "output_type": "stream",
     "text": [
      "Error processing row 199031: Invalid CIF file with no structures!\n"
     ]
    },
    {
     "name": "stderr",
     "output_type": "stream",
     "text": [
      " 63%|██████▎   | 199297/315449 [12:22<08:31, 226.93it/s]"
     ]
    },
    {
     "name": "stdout",
     "output_type": "stream",
     "text": [
      "Error processing row 199248: Invalid CIF file with no structures!\n"
     ]
    },
    {
     "name": "stderr",
     "output_type": "stream",
     "text": [
      " 64%|██████▍   | 202017/315449 [12:36<08:36, 219.44it/s]"
     ]
    },
    {
     "name": "stdout",
     "output_type": "stream",
     "text": [
      "Error processing row 201984: Invalid CIF file with no structures!\n"
     ]
    },
    {
     "name": "stderr",
     "output_type": "stream",
     "text": [
      " 65%|██████▍   | 204897/315449 [12:49<08:09, 225.84it/s]"
     ]
    },
    {
     "name": "stdout",
     "output_type": "stream",
     "text": [
      "Error processing row 204858: Invalid CIF file with no structures!\n"
     ]
    },
    {
     "name": "stderr",
     "output_type": "stream",
     "text": [
      " 65%|██████▌   | 206532/315449 [12:56<07:07, 254.75it/s]"
     ]
    },
    {
     "name": "stdout",
     "output_type": "stream",
     "text": [
      "Error processing row 206495: Invalid CIF file with no structures!\n"
     ]
    },
    {
     "name": "stderr",
     "output_type": "stream",
     "text": [
      " 66%|██████▌   | 206686/315449 [12:57<10:04, 179.85it/s]"
     ]
    },
    {
     "name": "stdout",
     "output_type": "stream",
     "text": [
      "Error processing row 206680: Invalid CIF file with no structures!\n"
     ]
    },
    {
     "name": "stderr",
     "output_type": "stream",
     "text": [
      " 67%|██████▋   | 211558/315449 [13:19<06:30, 266.24it/s]"
     ]
    },
    {
     "name": "stdout",
     "output_type": "stream",
     "text": [
      "Error processing row 211519: Invalid CIF file with no structures!\n"
     ]
    },
    {
     "name": "stderr",
     "output_type": "stream",
     "text": [
      " 69%|██████▊   | 216752/315449 [13:40<07:20, 224.20it/s]"
     ]
    },
    {
     "name": "stdout",
     "output_type": "stream",
     "text": [
      "Error processing row 216720: Invalid CIF file with no structures!\n"
     ]
    },
    {
     "name": "stderr",
     "output_type": "stream",
     "text": [
      " 69%|██████▉   | 217981/315449 [13:45<07:16, 223.23it/s]"
     ]
    },
    {
     "name": "stdout",
     "output_type": "stream",
     "text": [
      "Error processing row 217940: Invalid CIF file with no structures!\n",
      "Error processing row 217955: Invalid CIF file with no structures!\n"
     ]
    },
    {
     "name": "stderr",
     "output_type": "stream",
     "text": [
      " 70%|██████▉   | 219268/315449 [13:51<09:02, 177.42it/s]"
     ]
    },
    {
     "name": "stdout",
     "output_type": "stream",
     "text": [
      "Error processing row 219240: Invalid CIF file with no structures!\n"
     ]
    },
    {
     "name": "stderr",
     "output_type": "stream",
     "text": [
      " 70%|██████▉   | 220669/315449 [13:57<07:34, 208.32it/s]"
     ]
    },
    {
     "name": "stdout",
     "output_type": "stream",
     "text": [
      "Error processing row 220649: Invalid CIF file with no structures!\n"
     ]
    },
    {
     "name": "stderr",
     "output_type": "stream",
     "text": [
      " 70%|███████   | 220868/315449 [13:58<06:37, 237.79it/s]"
     ]
    },
    {
     "name": "stdout",
     "output_type": "stream",
     "text": [
      "Error processing row 220823: Invalid CIF file with no structures!\n"
     ]
    },
    {
     "name": "stderr",
     "output_type": "stream",
     "text": [
      " 71%|███████   | 224712/315449 [14:16<06:39, 227.04it/s]"
     ]
    },
    {
     "name": "stdout",
     "output_type": "stream",
     "text": [
      "Error processing row 224668: Invalid CIF file with no structures!\n"
     ]
    },
    {
     "name": "stderr",
     "output_type": "stream",
     "text": [
      " 71%|███████▏  | 225045/315449 [14:17<07:52, 191.23it/s]"
     ]
    },
    {
     "name": "stdout",
     "output_type": "stream",
     "text": [
      "Error processing row 225024: Invalid CIF file with no structures!\n"
     ]
    },
    {
     "name": "stderr",
     "output_type": "stream",
     "text": [
      " 72%|███████▏  | 225749/315449 [14:20<05:47, 257.77it/s]"
     ]
    },
    {
     "name": "stdout",
     "output_type": "stream",
     "text": [
      "Error processing row 225693: Invalid CIF file with no structures!\n"
     ]
    },
    {
     "name": "stderr",
     "output_type": "stream",
     "text": [
      " 72%|███████▏  | 227723/315449 [14:31<06:01, 242.92it/s]"
     ]
    },
    {
     "name": "stdout",
     "output_type": "stream",
     "text": [
      "Error processing row 227685: Invalid CIF file with no structures!\n"
     ]
    },
    {
     "name": "stderr",
     "output_type": "stream",
     "text": [
      " 72%|███████▏  | 228690/315449 [14:34<05:02, 286.66it/s]"
     ]
    },
    {
     "name": "stdout",
     "output_type": "stream",
     "text": [
      "Error processing row 228652: Invalid CIF file with no structures!\n"
     ]
    },
    {
     "name": "stderr",
     "output_type": "stream",
     "text": [
      " 73%|███████▎  | 231313/315449 [14:46<06:44, 207.81it/s]"
     ]
    },
    {
     "name": "stdout",
     "output_type": "stream",
     "text": [
      "Error processing row 231291: Invalid CIF file with no structures!\n"
     ]
    },
    {
     "name": "stderr",
     "output_type": "stream",
     "text": [
      " 74%|███████▍  | 234403/315449 [14:57<04:31, 298.88it/s]"
     ]
    },
    {
     "name": "stdout",
     "output_type": "stream",
     "text": [
      "Error processing row 234348: Invalid CIF file with no structures!\n"
     ]
    },
    {
     "name": "stderr",
     "output_type": "stream",
     "text": [
      " 75%|███████▍  | 235036/315449 [15:00<05:06, 261.96it/s]"
     ]
    },
    {
     "name": "stdout",
     "output_type": "stream",
     "text": [
      "Error processing row 235002: Invalid CIF file with no structures!\n"
     ]
    },
    {
     "name": "stderr",
     "output_type": "stream",
     "text": [
      " 77%|███████▋  | 242503/315449 [15:28<05:12, 233.41it/s]"
     ]
    },
    {
     "name": "stdout",
     "output_type": "stream",
     "text": [
      "Error processing row 242455: Invalid CIF file with no structures!\n"
     ]
    },
    {
     "name": "stderr",
     "output_type": "stream",
     "text": [
      " 77%|███████▋  | 243874/315449 [15:33<03:59, 299.06it/s]"
     ]
    },
    {
     "name": "stdout",
     "output_type": "stream",
     "text": [
      "Error processing row 243814: Invalid CIF file with no structures!\n"
     ]
    },
    {
     "name": "stderr",
     "output_type": "stream",
     "text": [
      " 78%|███████▊  | 244794/315449 [15:37<04:03, 290.20it/s]"
     ]
    },
    {
     "name": "stdout",
     "output_type": "stream",
     "text": [
      "Error processing row 244761: Invalid CIF file with no structures!\n"
     ]
    },
    {
     "name": "stderr",
     "output_type": "stream",
     "text": [
      " 80%|███████▉  | 251994/315449 [16:04<03:50, 275.64it/s]"
     ]
    },
    {
     "name": "stdout",
     "output_type": "stream",
     "text": [
      "Error processing row 251971: Invalid CIF file with no structures!\n"
     ]
    },
    {
     "name": "stderr",
     "output_type": "stream",
     "text": [
      " 80%|████████  | 252943/315449 [16:08<04:09, 250.82it/s]"
     ]
    },
    {
     "name": "stdout",
     "output_type": "stream",
     "text": [
      "Error processing row 252916: Invalid CIF file with no structures!\n"
     ]
    },
    {
     "name": "stderr",
     "output_type": "stream",
     "text": [
      " 81%|████████  | 254511/315449 [16:15<03:59, 254.88it/s]"
     ]
    },
    {
     "name": "stdout",
     "output_type": "stream",
     "text": [
      "Error processing row 254472: Invalid CIF file with no structures!\n"
     ]
    },
    {
     "name": "stderr",
     "output_type": "stream",
     "text": [
      " 81%|████████  | 255652/315449 [16:20<04:13, 236.04it/s]"
     ]
    },
    {
     "name": "stdout",
     "output_type": "stream",
     "text": [
      "Error processing row 255619: Invalid CIF file with no structures!\n"
     ]
    },
    {
     "name": "stderr",
     "output_type": "stream",
     "text": [
      " 82%|████████▏ | 259786/315449 [16:38<03:55, 236.07it/s]"
     ]
    },
    {
     "name": "stdout",
     "output_type": "stream",
     "text": [
      "Error processing row 259756: Invalid CIF file with no structures!\n"
     ]
    },
    {
     "name": "stderr",
     "output_type": "stream",
     "text": [
      " 82%|████████▏ | 260235/315449 [16:42<05:55, 155.37it/s]"
     ]
    },
    {
     "name": "stdout",
     "output_type": "stream",
     "text": [
      "Error processing row 260210: Invalid CIF file with no structures!\n"
     ]
    },
    {
     "name": "stderr",
     "output_type": "stream",
     "text": [
      " 83%|████████▎ | 261269/315449 [16:48<04:01, 224.71it/s]"
     ]
    },
    {
     "name": "stdout",
     "output_type": "stream",
     "text": [
      "Error processing row 261260: Invalid CIF file with no structures!\n"
     ]
    },
    {
     "name": "stderr",
     "output_type": "stream",
     "text": [
      " 83%|████████▎ | 262303/315449 [16:55<06:49, 129.80it/s]"
     ]
    },
    {
     "name": "stdout",
     "output_type": "stream",
     "text": [
      "Error processing row 262279: Invalid CIF file with no structures!\n"
     ]
    },
    {
     "name": "stderr",
     "output_type": "stream",
     "text": [
      " 84%|████████▎ | 264145/315449 [17:07<05:34, 153.35it/s]"
     ]
    },
    {
     "name": "stdout",
     "output_type": "stream",
     "text": [
      "Error processing row 264123: Invalid CIF file with no structures!\n"
     ]
    },
    {
     "name": "stderr",
     "output_type": "stream",
     "text": [
      " 84%|████████▍ | 264437/315449 [17:08<05:25, 156.78it/s]"
     ]
    },
    {
     "name": "stdout",
     "output_type": "stream",
     "text": [
      "Error processing row 264410: Invalid CIF file with no structures!\n"
     ]
    },
    {
     "name": "stderr",
     "output_type": "stream",
     "text": [
      " 84%|████████▍ | 266455/315449 [17:18<02:57, 275.51it/s]"
     ]
    },
    {
     "name": "stdout",
     "output_type": "stream",
     "text": [
      "Error processing row 266397: Invalid CIF file with no structures!\n"
     ]
    },
    {
     "name": "stderr",
     "output_type": "stream",
     "text": [
      " 85%|████████▍ | 266846/315449 [17:20<02:58, 271.81it/s]"
     ]
    },
    {
     "name": "stdout",
     "output_type": "stream",
     "text": [
      "Error processing row 266799: Invalid CIF file with no structures!\n"
     ]
    },
    {
     "name": "stderr",
     "output_type": "stream",
     "text": [
      " 85%|████████▌ | 268589/315449 [17:27<02:52, 271.89it/s]"
     ]
    },
    {
     "name": "stdout",
     "output_type": "stream",
     "text": [
      "Error processing row 268534: Invalid CIF file with no structures!\n"
     ]
    },
    {
     "name": "stderr",
     "output_type": "stream",
     "text": [
      " 85%|████████▌ | 269081/315449 [17:28<02:28, 312.43it/s]"
     ]
    },
    {
     "name": "stdout",
     "output_type": "stream",
     "text": [
      "Error processing row 269038: Invalid CIF file with no structures!\n"
     ]
    },
    {
     "name": "stderr",
     "output_type": "stream",
     "text": [
      " 86%|████████▌ | 270815/315449 [17:35<03:13, 231.01it/s]"
     ]
    },
    {
     "name": "stdout",
     "output_type": "stream",
     "text": [
      "Error processing row 270779: Invalid CIF file with no structures!\n"
     ]
    },
    {
     "name": "stderr",
     "output_type": "stream",
     "text": [
      " 86%|████████▌ | 271884/315449 [17:40<02:35, 280.94it/s]"
     ]
    },
    {
     "name": "stdout",
     "output_type": "stream",
     "text": [
      "Error processing row 271817: Invalid CIF file with no structures!\n"
     ]
    },
    {
     "name": "stderr",
     "output_type": "stream",
     "text": [
      " 87%|████████▋ | 274733/315449 [17:53<02:36, 259.75it/s]"
     ]
    },
    {
     "name": "stdout",
     "output_type": "stream",
     "text": [
      "Error processing row 274687: Invalid CIF file with no structures!\n"
     ]
    },
    {
     "name": "stderr",
     "output_type": "stream",
     "text": [
      " 87%|████████▋ | 275962/315449 [17:58<02:45, 238.43it/s]"
     ]
    },
    {
     "name": "stdout",
     "output_type": "stream",
     "text": [
      "Error processing row 275946: Invalid CIF file with no structures!\n"
     ]
    },
    {
     "name": "stderr",
     "output_type": "stream",
     "text": [
      " 88%|████████▊ | 276515/315449 [18:00<02:44, 237.11it/s]"
     ]
    },
    {
     "name": "stdout",
     "output_type": "stream",
     "text": [
      "Error processing row 276490: Invalid CIF file with no structures!\n"
     ]
    },
    {
     "name": "stderr",
     "output_type": "stream",
     "text": [
      " 88%|████████▊ | 277107/315449 [18:03<02:44, 233.08it/s]"
     ]
    },
    {
     "name": "stdout",
     "output_type": "stream",
     "text": [
      "Error processing row 277059: Invalid CIF file with no structures!\n"
     ]
    },
    {
     "name": "stderr",
     "output_type": "stream",
     "text": [
      " 88%|████████▊ | 279051/315449 [18:11<02:22, 255.28it/s]"
     ]
    },
    {
     "name": "stdout",
     "output_type": "stream",
     "text": [
      "Error processing row 279024: Invalid CIF file with no structures!\n"
     ]
    },
    {
     "name": "stderr",
     "output_type": "stream",
     "text": [
      " 90%|████████▉ | 282836/315449 [18:27<02:06, 257.80it/s]"
     ]
    },
    {
     "name": "stdout",
     "output_type": "stream",
     "text": [
      "Error processing row 282787: Invalid CIF file with no structures!\n"
     ]
    },
    {
     "name": "stderr",
     "output_type": "stream",
     "text": [
      "100%|██████████| 315449/315449 [20:00<00:00, 262.77it/s]\n"
     ]
    },
    {
     "name": "stdout",
     "output_type": "stream",
     "text": [
      "Filtered data saved to file: ../data/genCry_f.csv\n"
     ]
    }
   ],
   "source": [
    "genCry_filtered = filter_structures_from_dataframe(genCry, output_file=\"../data/genCry_f.csv\")"
   ]
  },
  {
   "cell_type": "code",
   "execution_count": 58,
   "metadata": {},
   "outputs": [
    {
     "data": {
      "text/html": [
       "<div>\n",
       "<style scoped>\n",
       "    .dataframe tbody tr th:only-of-type {\n",
       "        vertical-align: middle;\n",
       "    }\n",
       "\n",
       "    .dataframe tbody tr th {\n",
       "        vertical-align: top;\n",
       "    }\n",
       "\n",
       "    .dataframe thead th {\n",
       "        text-align: right;\n",
       "    }\n",
       "</style>\n",
       "<table border=\"1\" class=\"dataframe\">\n",
       "  <thead>\n",
       "    <tr style=\"text-align: right;\">\n",
       "      <th></th>\n",
       "      <th>material_id</th>\n",
       "      <th>cif</th>\n",
       "      <th>ref</th>\n",
       "    </tr>\n",
       "  </thead>\n",
       "  <tbody>\n",
       "    <tr>\n",
       "      <th>0</th>\n",
       "      <td>mp-1221227</td>\n",
       "      <td># generated using pymatgen\\ndata_Na3MnCoNiO6\\n...</td>\n",
       "      <td>mp_20</td>\n",
       "    </tr>\n",
       "    <tr>\n",
       "      <th>1</th>\n",
       "      <td>mp-974729</td>\n",
       "      <td># generated using pymatgen\\ndata_Nd(Al2Cu)4\\n_...</td>\n",
       "      <td>mp_20</td>\n",
       "    </tr>\n",
       "    <tr>\n",
       "      <th>2</th>\n",
       "      <td>mp-1185360</td>\n",
       "      <td># generated using pymatgen\\ndata_LiMnIr2\\n_sym...</td>\n",
       "      <td>mp_20</td>\n",
       "    </tr>\n",
       "    <tr>\n",
       "      <th>3</th>\n",
       "      <td>mp-1188861</td>\n",
       "      <td># generated using pymatgen\\ndata_LiCSN\\n_symme...</td>\n",
       "      <td>mp_20</td>\n",
       "    </tr>\n",
       "    <tr>\n",
       "      <th>4</th>\n",
       "      <td>mp-677272</td>\n",
       "      <td># generated using pymatgen\\ndata_La2EuS4\\n_sym...</td>\n",
       "      <td>mp_20</td>\n",
       "    </tr>\n",
       "    <tr>\n",
       "      <th>...</th>\n",
       "      <td>...</td>\n",
       "      <td>...</td>\n",
       "      <td>...</td>\n",
       "    </tr>\n",
       "    <tr>\n",
       "      <th>308226</th>\n",
       "      <td>p-6452</td>\n",
       "      <td># generated using pymatgen\\ndata_CsNbN2O\\n_sym...</td>\n",
       "      <td>perov_5</td>\n",
       "    </tr>\n",
       "    <tr>\n",
       "      <th>308227</th>\n",
       "      <td>p-7673</td>\n",
       "      <td># generated using pymatgen\\ndata_FePbN2O\\n_sym...</td>\n",
       "      <td>perov_5</td>\n",
       "    </tr>\n",
       "    <tr>\n",
       "      <th>308228</th>\n",
       "      <td>p-819</td>\n",
       "      <td># generated using pymatgen\\ndata_NaGeNO2\\n_sym...</td>\n",
       "      <td>perov_5</td>\n",
       "    </tr>\n",
       "    <tr>\n",
       "      <th>308229</th>\n",
       "      <td>p-11261</td>\n",
       "      <td># generated using pymatgen\\ndata_TeAuO2F\\n_sym...</td>\n",
       "      <td>perov_5</td>\n",
       "    </tr>\n",
       "    <tr>\n",
       "      <th>308230</th>\n",
       "      <td>p-9424</td>\n",
       "      <td># generated using pymatgen\\ndata_CdReSO2\\n_sym...</td>\n",
       "      <td>perov_5</td>\n",
       "    </tr>\n",
       "  </tbody>\n",
       "</table>\n",
       "<p>308231 rows × 3 columns</p>\n",
       "</div>"
      ],
      "text/plain": [
       "       material_id                                                cif      ref\n",
       "0       mp-1221227  # generated using pymatgen\\ndata_Na3MnCoNiO6\\n...    mp_20\n",
       "1        mp-974729  # generated using pymatgen\\ndata_Nd(Al2Cu)4\\n_...    mp_20\n",
       "2       mp-1185360  # generated using pymatgen\\ndata_LiMnIr2\\n_sym...    mp_20\n",
       "3       mp-1188861  # generated using pymatgen\\ndata_LiCSN\\n_symme...    mp_20\n",
       "4        mp-677272  # generated using pymatgen\\ndata_La2EuS4\\n_sym...    mp_20\n",
       "...            ...                                                ...      ...\n",
       "308226      p-6452  # generated using pymatgen\\ndata_CsNbN2O\\n_sym...  perov_5\n",
       "308227      p-7673  # generated using pymatgen\\ndata_FePbN2O\\n_sym...  perov_5\n",
       "308228       p-819  # generated using pymatgen\\ndata_NaGeNO2\\n_sym...  perov_5\n",
       "308229     p-11261  # generated using pymatgen\\ndata_TeAuO2F\\n_sym...  perov_5\n",
       "308230      p-9424  # generated using pymatgen\\ndata_CdReSO2\\n_sym...  perov_5\n",
       "\n",
       "[308231 rows x 3 columns]"
      ]
     },
     "execution_count": 58,
     "metadata": {},
     "output_type": "execute_result"
    }
   ],
   "source": [
    "genCry_filtered"
   ]
  },
  {
   "cell_type": "code",
   "execution_count": null,
   "metadata": {},
   "outputs": [
    {
     "data": {
      "image/png": "[encoded data removed]",
      "text/plain": [
       "<Figure size 800x800 with 1 Axes>"
      ]
     },
     "metadata": {},
     "output_type": "display_data"
    }
   ],
   "source": [
    "import matplotlib.pyplot as plt\n",
    "ref_counts = genCry_filtered['ref'].value_counts()\n",
    "plt.figure(figsize=(8, 8))\n",
    "plt.pie(ref_counts, labels=ref_counts.index, autopct='%1.1f%%', startangle=140)\n",
    "plt.title('Proportion of datasets')\n",
    "plt.axis('equal') \n",
    "plt.show()"
   ]
  },
  {
   "cell_type": "code",
   "execution_count": null,
   "metadata": {},
   "outputs": [
    {
     "data": {
      "text/plain": [
       "array(['mp'], dtype=object)"
      ]
     },
     "execution_count": 63,
     "metadata": {},
     "output_type": "execute_result"
    }
   ],
   "source": [
    "genCry_filtered['prefix'] = genCry_filtered['material_id'].str[:2]\n",
    "\n",
    "unique_prefixes = genCry_filtered[genCry_filtered['ref']=='mpts_52']['prefix'].unique()\n",
    "unique_prefixes"
   ]
  }
 ],
 "metadata": {
  "kernelspec": {
   "display_name": ".venv",
   "language": "python",
   "name": "python3"
  },
  "language_info": {
   "codemirror_mode": {
    "name": "ipython",
    "version": 3
   },
   "file_extension": ".py",
   "mimetype": "text/x-python",
   "name": "python",
   "nbconvert_exporter": "python",
   "pygments_lexer": "ipython3",
   "version": "3.11.7"
  }
 },
 "nbformat": 4,
 "nbformat_minor": 2
}
